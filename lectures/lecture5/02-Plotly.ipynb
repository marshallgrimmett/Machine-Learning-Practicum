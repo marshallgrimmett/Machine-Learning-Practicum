{
 "cells": [
  {
   "cell_type": "markdown",
   "metadata": {},
   "source": [
    "# Plotly and Cufflinks"
   ]
  },
  {
   "cell_type": "markdown",
   "metadata": {},
   "source": [
    "Plotly is a library that allows you to create interactive plots that you can use in dashboards or websites (you can save them as html files or static images).\n",
    "\n",
    "## Installation\n",
    "\n",
    "You'll need to install plotly and cufflinks to call plots directly off of a pandas dataframe. These libraries are not currently available through **conda** but are available through **pip**. Install the libraries at your command line/terminal using:\n",
    "\n",
    "    pip install plotly\n",
    "    pip install cufflinks\n",
    "\n",
    "**NOTE: Make sure you only have one installation of Python on your computer when you do this, otherwise the installation may not work.**\n",
    "\n",
    "## Imports and Set-up"
   ]
  },
  {
   "cell_type": "code",
   "execution_count": 2,
   "metadata": {},
   "outputs": [],
   "source": [
    "import pandas as pd\n",
    "import numpy as np\n",
    "%matplotlib inline"
   ]
  },
  {
   "cell_type": "code",
   "execution_count": 3,
   "metadata": {},
   "outputs": [
    {
     "name": "stdout",
     "output_type": "stream",
     "text": [
      "4.10.0\n"
     ]
    }
   ],
   "source": [
    "from plotly import __version__\n",
    "\n",
    "# import modules to work with data visualization offline\n",
    "from plotly.offline import download_plotlyjs, init_notebook_mode, plot, iplot\n",
    "\n",
    "# ensure plotly version is newer than 1.9\n",
    "print(__version__) # requires version >= 1.9.0"
   ]
  },
  {
   "cell_type": "code",
   "execution_count": 4,
   "metadata": {},
   "outputs": [],
   "source": [
    "# import the cufflinks library\n",
    "import cufflinks as cf"
   ]
  },
  {
   "cell_type": "code",
   "execution_count": 5,
   "metadata": {},
   "outputs": [
    {
     "data": {
      "text/html": [
       "        <script type=\"text/javascript\">\n",
       "        window.PlotlyConfig = {MathJaxConfig: 'local'};\n",
       "        if (window.MathJax) {MathJax.Hub.Config({SVG: {font: \"STIX-Web\"}});}\n",
       "        if (typeof require !== 'undefined') {\n",
       "        require.undef(\"plotly\");\n",
       "        requirejs.config({\n",
       "            paths: {\n",
       "                'plotly': ['https://cdn.plot.ly/plotly-latest.min']\n",
       "            }\n",
       "        });\n",
       "        require(['plotly'], function(Plotly) {\n",
       "            window._Plotly = Plotly;\n",
       "        });\n",
       "        }\n",
       "        </script>\n",
       "        "
      ]
     },
     "metadata": {},
     "output_type": "display_data"
    }
   ],
   "source": [
    "# connect Javascript to the notebook with the init_notebook_mode()\n",
    "init_notebook_mode(connected=True)"
   ]
  },
  {
   "cell_type": "code",
   "execution_count": 6,
   "metadata": {},
   "outputs": [
    {
     "data": {
      "text/html": [
       "        <script type=\"text/javascript\">\n",
       "        window.PlotlyConfig = {MathJaxConfig: 'local'};\n",
       "        if (window.MathJax) {MathJax.Hub.Config({SVG: {font: \"STIX-Web\"}});}\n",
       "        if (typeof require !== 'undefined') {\n",
       "        require.undef(\"plotly\");\n",
       "        requirejs.config({\n",
       "            paths: {\n",
       "                'plotly': ['https://cdn.plot.ly/plotly-latest.min']\n",
       "            }\n",
       "        });\n",
       "        require(['plotly'], function(Plotly) {\n",
       "            window._Plotly = Plotly;\n",
       "        });\n",
       "        }\n",
       "        </script>\n",
       "        "
      ]
     },
     "metadata": {},
     "output_type": "display_data"
    }
   ],
   "source": [
    "# Update to use cufflinks offline\n",
    "cf.go_offline()"
   ]
  },
  {
   "cell_type": "markdown",
   "metadata": {},
   "source": [
    "### Synthetic Data"
   ]
  },
  {
   "cell_type": "code",
   "execution_count": 7,
   "metadata": {},
   "outputs": [
    {
     "data": {
      "text/html": [
       "<div>\n",
       "<style scoped>\n",
       "    .dataframe tbody tr th:only-of-type {\n",
       "        vertical-align: middle;\n",
       "    }\n",
       "\n",
       "    .dataframe tbody tr th {\n",
       "        vertical-align: top;\n",
       "    }\n",
       "\n",
       "    .dataframe thead th {\n",
       "        text-align: right;\n",
       "    }\n",
       "</style>\n",
       "<table border=\"1\" class=\"dataframe\">\n",
       "  <thead>\n",
       "    <tr style=\"text-align: right;\">\n",
       "      <th></th>\n",
       "      <th>A</th>\n",
       "      <th>B</th>\n",
       "      <th>C</th>\n",
       "      <th>D</th>\n",
       "    </tr>\n",
       "  </thead>\n",
       "  <tbody>\n",
       "    <tr>\n",
       "      <th>0</th>\n",
       "      <td>-1.813929</td>\n",
       "      <td>0.066075</td>\n",
       "      <td>-0.630102</td>\n",
       "      <td>-1.011188</td>\n",
       "    </tr>\n",
       "    <tr>\n",
       "      <th>1</th>\n",
       "      <td>-0.274329</td>\n",
       "      <td>-1.528108</td>\n",
       "      <td>0.435730</td>\n",
       "      <td>-2.316364</td>\n",
       "    </tr>\n",
       "    <tr>\n",
       "      <th>2</th>\n",
       "      <td>0.625302</td>\n",
       "      <td>-0.041633</td>\n",
       "      <td>-0.175123</td>\n",
       "      <td>-1.624289</td>\n",
       "    </tr>\n",
       "    <tr>\n",
       "      <th>3</th>\n",
       "      <td>-1.455487</td>\n",
       "      <td>-0.770648</td>\n",
       "      <td>-0.331721</td>\n",
       "      <td>-0.851712</td>\n",
       "    </tr>\n",
       "    <tr>\n",
       "      <th>4</th>\n",
       "      <td>3.132855</td>\n",
       "      <td>0.911796</td>\n",
       "      <td>1.086027</td>\n",
       "      <td>0.531461</td>\n",
       "    </tr>\n",
       "    <tr>\n",
       "      <th>5</th>\n",
       "      <td>0.583075</td>\n",
       "      <td>0.316033</td>\n",
       "      <td>1.557810</td>\n",
       "      <td>-0.805405</td>\n",
       "    </tr>\n",
       "    <tr>\n",
       "      <th>6</th>\n",
       "      <td>-1.002052</td>\n",
       "      <td>-0.352143</td>\n",
       "      <td>0.109210</td>\n",
       "      <td>1.036499</td>\n",
       "    </tr>\n",
       "    <tr>\n",
       "      <th>7</th>\n",
       "      <td>0.806417</td>\n",
       "      <td>-0.026186</td>\n",
       "      <td>0.479757</td>\n",
       "      <td>1.563519</td>\n",
       "    </tr>\n",
       "    <tr>\n",
       "      <th>8</th>\n",
       "      <td>0.581193</td>\n",
       "      <td>1.264450</td>\n",
       "      <td>0.686849</td>\n",
       "      <td>0.620682</td>\n",
       "    </tr>\n",
       "    <tr>\n",
       "      <th>9</th>\n",
       "      <td>-0.994444</td>\n",
       "      <td>-0.906819</td>\n",
       "      <td>0.813937</td>\n",
       "      <td>0.275637</td>\n",
       "    </tr>\n",
       "  </tbody>\n",
       "</table>\n",
       "</div>"
      ],
      "text/plain": [
       "          A         B         C         D\n",
       "0 -1.813929  0.066075 -0.630102 -1.011188\n",
       "1 -0.274329 -1.528108  0.435730 -2.316364\n",
       "2  0.625302 -0.041633 -0.175123 -1.624289\n",
       "3 -1.455487 -0.770648 -0.331721 -0.851712\n",
       "4  3.132855  0.911796  1.086027  0.531461\n",
       "5  0.583075  0.316033  1.557810 -0.805405\n",
       "6 -1.002052 -0.352143  0.109210  1.036499\n",
       "7  0.806417 -0.026186  0.479757  1.563519\n",
       "8  0.581193  1.264450  0.686849  0.620682\n",
       "9 -0.994444 -0.906819  0.813937  0.275637"
      ]
     },
     "execution_count": 7,
     "metadata": {},
     "output_type": "execute_result"
    }
   ],
   "source": [
    "df = pd.DataFrame(np.random.randn(100,4),columns='A, B, C, D'.split(','))  # split()  separate by whitespace\n",
    "df.head(10)"
   ]
  },
  {
   "cell_type": "code",
   "execution_count": 8,
   "metadata": {},
   "outputs": [],
   "source": [
    "# use pandas to create a dictionary generated Dataframe 2\n",
    "pp = {'Category':['A','B','C'],'Values':[32,43,50]}\n",
    "df2 = pd.DataFrame(pp)"
   ]
  },
  {
   "cell_type": "code",
   "execution_count": 9,
   "metadata": {},
   "outputs": [
    {
     "data": {
      "text/html": [
       "<div>\n",
       "<style scoped>\n",
       "    .dataframe tbody tr th:only-of-type {\n",
       "        vertical-align: middle;\n",
       "    }\n",
       "\n",
       "    .dataframe tbody tr th {\n",
       "        vertical-align: top;\n",
       "    }\n",
       "\n",
       "    .dataframe thead th {\n",
       "        text-align: right;\n",
       "    }\n",
       "</style>\n",
       "<table border=\"1\" class=\"dataframe\">\n",
       "  <thead>\n",
       "    <tr style=\"text-align: right;\">\n",
       "      <th></th>\n",
       "      <th>Category</th>\n",
       "      <th>Values</th>\n",
       "    </tr>\n",
       "  </thead>\n",
       "  <tbody>\n",
       "    <tr>\n",
       "      <th>0</th>\n",
       "      <td>A</td>\n",
       "      <td>32</td>\n",
       "    </tr>\n",
       "    <tr>\n",
       "      <th>1</th>\n",
       "      <td>B</td>\n",
       "      <td>43</td>\n",
       "    </tr>\n",
       "    <tr>\n",
       "      <th>2</th>\n",
       "      <td>C</td>\n",
       "      <td>50</td>\n",
       "    </tr>\n",
       "  </tbody>\n",
       "</table>\n",
       "</div>"
      ],
      "text/plain": [
       "  Category  Values\n",
       "0        A      32\n",
       "1        B      43\n",
       "2        C      50"
      ]
     },
     "execution_count": 9,
     "metadata": {},
     "output_type": "execute_result"
    }
   ],
   "source": [
    "df2"
   ]
  },
  {
   "cell_type": "markdown",
   "metadata": {},
   "source": [
    "# Line plots\n",
    "\n",
    "Use the **.iplot()** method to generate a line plot with the dataset. This plot allows us to click on the elements in the legend to hide and display context which is pretty neat. The cursor to the top right of the plot to observe the various features of the plot. We can also use the zoom feature of specific areas of the plot."
   ]
  },
  {
   "cell_type": "markdown",
   "metadata": {},
   "source": [
    "## Using Cufflinks and iplot()\n",
    "\n",
    "* scatter\n",
    "* bar\n",
    "* box\n",
    "* spread\n",
    "* ratio\n",
    "* heatmap\n",
    "* surface\n",
    "* histogram\n",
    "* bubble"
   ]
  },
  {
   "cell_type": "markdown",
   "metadata": {},
   "source": [
    "## Line plots\n",
    "\n",
    "Use the **.iplot()** method to generate a line plot with the dataset. This plot allows us to click on the elements in the legend to hide and display context which is pretty neat. The cursor to the top right of the plot to observe the various features of the plot. We can also use the zoom feature of specific areas of the plot."
   ]
  },
  {
   "cell_type": "code",
   "execution_count": 10,
   "metadata": {},
   "outputs": [
    {
     "data": {
      "text/html": [
       "<div>\n",
       "<style scoped>\n",
       "    .dataframe tbody tr th:only-of-type {\n",
       "        vertical-align: middle;\n",
       "    }\n",
       "\n",
       "    .dataframe tbody tr th {\n",
       "        vertical-align: top;\n",
       "    }\n",
       "\n",
       "    .dataframe thead th {\n",
       "        text-align: right;\n",
       "    }\n",
       "</style>\n",
       "<table border=\"1\" class=\"dataframe\">\n",
       "  <thead>\n",
       "    <tr style=\"text-align: right;\">\n",
       "      <th></th>\n",
       "      <th>A</th>\n",
       "      <th>B</th>\n",
       "      <th>C</th>\n",
       "      <th>D</th>\n",
       "    </tr>\n",
       "  </thead>\n",
       "  <tbody>\n",
       "    <tr>\n",
       "      <th>0</th>\n",
       "      <td>-1.813929</td>\n",
       "      <td>0.066075</td>\n",
       "      <td>-0.630102</td>\n",
       "      <td>-1.011188</td>\n",
       "    </tr>\n",
       "    <tr>\n",
       "      <th>1</th>\n",
       "      <td>-0.274329</td>\n",
       "      <td>-1.528108</td>\n",
       "      <td>0.435730</td>\n",
       "      <td>-2.316364</td>\n",
       "    </tr>\n",
       "    <tr>\n",
       "      <th>2</th>\n",
       "      <td>0.625302</td>\n",
       "      <td>-0.041633</td>\n",
       "      <td>-0.175123</td>\n",
       "      <td>-1.624289</td>\n",
       "    </tr>\n",
       "    <tr>\n",
       "      <th>3</th>\n",
       "      <td>-1.455487</td>\n",
       "      <td>-0.770648</td>\n",
       "      <td>-0.331721</td>\n",
       "      <td>-0.851712</td>\n",
       "    </tr>\n",
       "    <tr>\n",
       "      <th>4</th>\n",
       "      <td>3.132855</td>\n",
       "      <td>0.911796</td>\n",
       "      <td>1.086027</td>\n",
       "      <td>0.531461</td>\n",
       "    </tr>\n",
       "    <tr>\n",
       "      <th>...</th>\n",
       "      <td>...</td>\n",
       "      <td>...</td>\n",
       "      <td>...</td>\n",
       "      <td>...</td>\n",
       "    </tr>\n",
       "    <tr>\n",
       "      <th>95</th>\n",
       "      <td>0.790519</td>\n",
       "      <td>0.414697</td>\n",
       "      <td>0.552252</td>\n",
       "      <td>-0.697892</td>\n",
       "    </tr>\n",
       "    <tr>\n",
       "      <th>96</th>\n",
       "      <td>-1.448122</td>\n",
       "      <td>-0.105886</td>\n",
       "      <td>-0.533866</td>\n",
       "      <td>-0.561039</td>\n",
       "    </tr>\n",
       "    <tr>\n",
       "      <th>97</th>\n",
       "      <td>1.054877</td>\n",
       "      <td>-0.961029</td>\n",
       "      <td>-0.763568</td>\n",
       "      <td>-0.738045</td>\n",
       "    </tr>\n",
       "    <tr>\n",
       "      <th>98</th>\n",
       "      <td>-0.688087</td>\n",
       "      <td>1.712704</td>\n",
       "      <td>-1.310234</td>\n",
       "      <td>0.252366</td>\n",
       "    </tr>\n",
       "    <tr>\n",
       "      <th>99</th>\n",
       "      <td>0.832101</td>\n",
       "      <td>-1.096321</td>\n",
       "      <td>-0.303832</td>\n",
       "      <td>-0.268100</td>\n",
       "    </tr>\n",
       "  </tbody>\n",
       "</table>\n",
       "<p>100 rows × 4 columns</p>\n",
       "</div>"
      ],
      "text/plain": [
       "           A         B         C         D\n",
       "0  -1.813929  0.066075 -0.630102 -1.011188\n",
       "1  -0.274329 -1.528108  0.435730 -2.316364\n",
       "2   0.625302 -0.041633 -0.175123 -1.624289\n",
       "3  -1.455487 -0.770648 -0.331721 -0.851712\n",
       "4   3.132855  0.911796  1.086027  0.531461\n",
       "..       ...       ...       ...       ...\n",
       "95  0.790519  0.414697  0.552252 -0.697892\n",
       "96 -1.448122 -0.105886 -0.533866 -0.561039\n",
       "97  1.054877 -0.961029 -0.763568 -0.738045\n",
       "98 -0.688087  1.712704 -1.310234  0.252366\n",
       "99  0.832101 -1.096321 -0.303832 -0.268100\n",
       "\n",
       "[100 rows x 4 columns]"
      ]
     },
     "execution_count": 10,
     "metadata": {},
     "output_type": "execute_result"
    }
   ],
   "source": [
    "df"
   ]
  },
  {
   "cell_type": "code",
   "execution_count": 11,
   "metadata": {},
   "outputs": [
    {
     "data": {
      "application/vnd.plotly.v1+json": {
       "config": {
        "linkText": "Export to plot.ly",
        "plotlyServerURL": "https://plot.ly",
        "showLink": true
       },
       "data": [
        {
         "line": {
          "color": "rgba(255, 153, 51, 1.0)",
          "dash": "solid",
          "shape": "linear",
          "width": 1.3
         },
         "mode": "lines",
         "name": "A",
         "text": "",
         "type": "scatter",
         "x": [
          0,
          1,
          2,
          3,
          4,
          5,
          6,
          7,
          8,
          9,
          10,
          11,
          12,
          13,
          14,
          15,
          16,
          17,
          18,
          19,
          20,
          21,
          22,
          23,
          24,
          25,
          26,
          27,
          28,
          29,
          30,
          31,
          32,
          33,
          34,
          35,
          36,
          37,
          38,
          39,
          40,
          41,
          42,
          43,
          44,
          45,
          46,
          47,
          48,
          49,
          50,
          51,
          52,
          53,
          54,
          55,
          56,
          57,
          58,
          59,
          60,
          61,
          62,
          63,
          64,
          65,
          66,
          67,
          68,
          69,
          70,
          71,
          72,
          73,
          74,
          75,
          76,
          77,
          78,
          79,
          80,
          81,
          82,
          83,
          84,
          85,
          86,
          87,
          88,
          89,
          90,
          91,
          92,
          93,
          94,
          95,
          96,
          97,
          98,
          99
         ],
         "y": [
          -1.813928762203615,
          -0.27432866383219695,
          0.6253015850617543,
          -1.4554873129592596,
          3.1328551351380627,
          0.5830754004780817,
          -1.0020516684184995,
          0.8064168386351752,
          0.5811933408652084,
          -0.9944438998596266,
          0.4275666091292003,
          0.6662959061293554,
          -1.238164143354905,
          0.9090650323908503,
          -0.49040851975783545,
          -0.7393550945325827,
          -0.7793251281906282,
          -0.05941256700603647,
          0.9388278444558112,
          0.3935996182797066,
          0.16843035826535743,
          -0.012388439012577619,
          0.7395802840689866,
          -0.19026779482997197,
          0.4230286270538319,
          1.8825534628198763,
          0.6792062135611023,
          -0.7283045371389388,
          0.331562460056705,
          0.2224405058905905,
          -1.3799354855474406,
          -0.3385234291662567,
          -0.9601730674482541,
          0.9781186597538379,
          -0.36014012323212297,
          1.6657581634486944,
          -0.4060458883211332,
          -0.3437873974775657,
          -0.3159735282471693,
          0.2856169914812245,
          0.5356232663163358,
          1.7209794482450487,
          0.7695983815039918,
          -0.3502530607639093,
          1.4561969592276458,
          -1.2192118463452706,
          -1.8439425232876443,
          -0.16185314773537718,
          -2.2584691292426995,
          0.20668409063634077,
          0.10523795995373263,
          -0.5332600333840517,
          0.10144869460873746,
          0.07483099737369392,
          1.0004006969285233,
          2.0963567904539984,
          0.891356549589474,
          0.18357909269892975,
          0.5205225909418235,
          -3.585299735690124,
          2.0977439105921447,
          -1.2955859707208526,
          -0.9584729751445248,
          0.7526828628622835,
          0.054739649265246625,
          1.3611975574860573,
          -0.6097708748596224,
          -0.9643502021589745,
          0.5368043250165858,
          0.13875449188853514,
          -0.5876092434989054,
          -1.2344018269686825,
          1.0504571633296549,
          -0.2204388885957174,
          0.7711069197105281,
          0.46146549667245335,
          0.7573989338187541,
          -0.7355093559491815,
          -1.3541977713653937,
          0.6750110906973829,
          -0.43262585616148436,
          -1.0891328225541235,
          2.7954380383382986,
          0.302944404393466,
          -1.2646747787997918,
          -1.0217711184638374,
          0.8318181316682784,
          1.9247298626545357,
          -0.8125340582765815,
          1.4342509413347753,
          0.001182431893759971,
          0.635324691438933,
          -1.7232327742362592,
          -0.16876474281444187,
          -0.7611152815666171,
          0.7905192080046453,
          -1.4481216932674335,
          1.0548770968980319,
          -0.6880870636604127,
          0.832100967986984
         ]
        }
       ],
       "layout": {
        "legend": {
         "bgcolor": "#F5F6F9",
         "font": {
          "color": "#4D5663"
         }
        },
        "paper_bgcolor": "#F5F6F9",
        "plot_bgcolor": "#F5F6F9",
        "template": {
         "data": {
          "bar": [
           {
            "error_x": {
             "color": "#2a3f5f"
            },
            "error_y": {
             "color": "#2a3f5f"
            },
            "marker": {
             "line": {
              "color": "#E5ECF6",
              "width": 0.5
             }
            },
            "type": "bar"
           }
          ],
          "barpolar": [
           {
            "marker": {
             "line": {
              "color": "#E5ECF6",
              "width": 0.5
             }
            },
            "type": "barpolar"
           }
          ],
          "carpet": [
           {
            "aaxis": {
             "endlinecolor": "#2a3f5f",
             "gridcolor": "white",
             "linecolor": "white",
             "minorgridcolor": "white",
             "startlinecolor": "#2a3f5f"
            },
            "baxis": {
             "endlinecolor": "#2a3f5f",
             "gridcolor": "white",
             "linecolor": "white",
             "minorgridcolor": "white",
             "startlinecolor": "#2a3f5f"
            },
            "type": "carpet"
           }
          ],
          "choropleth": [
           {
            "colorbar": {
             "outlinewidth": 0,
             "ticks": ""
            },
            "type": "choropleth"
           }
          ],
          "contour": [
           {
            "colorbar": {
             "outlinewidth": 0,
             "ticks": ""
            },
            "colorscale": [
             [
              0,
              "#0d0887"
             ],
             [
              0.1111111111111111,
              "#46039f"
             ],
             [
              0.2222222222222222,
              "#7201a8"
             ],
             [
              0.3333333333333333,
              "#9c179e"
             ],
             [
              0.4444444444444444,
              "#bd3786"
             ],
             [
              0.5555555555555556,
              "#d8576b"
             ],
             [
              0.6666666666666666,
              "#ed7953"
             ],
             [
              0.7777777777777778,
              "#fb9f3a"
             ],
             [
              0.8888888888888888,
              "#fdca26"
             ],
             [
              1,
              "#f0f921"
             ]
            ],
            "type": "contour"
           }
          ],
          "contourcarpet": [
           {
            "colorbar": {
             "outlinewidth": 0,
             "ticks": ""
            },
            "type": "contourcarpet"
           }
          ],
          "heatmap": [
           {
            "colorbar": {
             "outlinewidth": 0,
             "ticks": ""
            },
            "colorscale": [
             [
              0,
              "#0d0887"
             ],
             [
              0.1111111111111111,
              "#46039f"
             ],
             [
              0.2222222222222222,
              "#7201a8"
             ],
             [
              0.3333333333333333,
              "#9c179e"
             ],
             [
              0.4444444444444444,
              "#bd3786"
             ],
             [
              0.5555555555555556,
              "#d8576b"
             ],
             [
              0.6666666666666666,
              "#ed7953"
             ],
             [
              0.7777777777777778,
              "#fb9f3a"
             ],
             [
              0.8888888888888888,
              "#fdca26"
             ],
             [
              1,
              "#f0f921"
             ]
            ],
            "type": "heatmap"
           }
          ],
          "heatmapgl": [
           {
            "colorbar": {
             "outlinewidth": 0,
             "ticks": ""
            },
            "colorscale": [
             [
              0,
              "#0d0887"
             ],
             [
              0.1111111111111111,
              "#46039f"
             ],
             [
              0.2222222222222222,
              "#7201a8"
             ],
             [
              0.3333333333333333,
              "#9c179e"
             ],
             [
              0.4444444444444444,
              "#bd3786"
             ],
             [
              0.5555555555555556,
              "#d8576b"
             ],
             [
              0.6666666666666666,
              "#ed7953"
             ],
             [
              0.7777777777777778,
              "#fb9f3a"
             ],
             [
              0.8888888888888888,
              "#fdca26"
             ],
             [
              1,
              "#f0f921"
             ]
            ],
            "type": "heatmapgl"
           }
          ],
          "histogram": [
           {
            "marker": {
             "colorbar": {
              "outlinewidth": 0,
              "ticks": ""
             }
            },
            "type": "histogram"
           }
          ],
          "histogram2d": [
           {
            "colorbar": {
             "outlinewidth": 0,
             "ticks": ""
            },
            "colorscale": [
             [
              0,
              "#0d0887"
             ],
             [
              0.1111111111111111,
              "#46039f"
             ],
             [
              0.2222222222222222,
              "#7201a8"
             ],
             [
              0.3333333333333333,
              "#9c179e"
             ],
             [
              0.4444444444444444,
              "#bd3786"
             ],
             [
              0.5555555555555556,
              "#d8576b"
             ],
             [
              0.6666666666666666,
              "#ed7953"
             ],
             [
              0.7777777777777778,
              "#fb9f3a"
             ],
             [
              0.8888888888888888,
              "#fdca26"
             ],
             [
              1,
              "#f0f921"
             ]
            ],
            "type": "histogram2d"
           }
          ],
          "histogram2dcontour": [
           {
            "colorbar": {
             "outlinewidth": 0,
             "ticks": ""
            },
            "colorscale": [
             [
              0,
              "#0d0887"
             ],
             [
              0.1111111111111111,
              "#46039f"
             ],
             [
              0.2222222222222222,
              "#7201a8"
             ],
             [
              0.3333333333333333,
              "#9c179e"
             ],
             [
              0.4444444444444444,
              "#bd3786"
             ],
             [
              0.5555555555555556,
              "#d8576b"
             ],
             [
              0.6666666666666666,
              "#ed7953"
             ],
             [
              0.7777777777777778,
              "#fb9f3a"
             ],
             [
              0.8888888888888888,
              "#fdca26"
             ],
             [
              1,
              "#f0f921"
             ]
            ],
            "type": "histogram2dcontour"
           }
          ],
          "mesh3d": [
           {
            "colorbar": {
             "outlinewidth": 0,
             "ticks": ""
            },
            "type": "mesh3d"
           }
          ],
          "parcoords": [
           {
            "line": {
             "colorbar": {
              "outlinewidth": 0,
              "ticks": ""
             }
            },
            "type": "parcoords"
           }
          ],
          "pie": [
           {
            "automargin": true,
            "type": "pie"
           }
          ],
          "scatter": [
           {
            "marker": {
             "colorbar": {
              "outlinewidth": 0,
              "ticks": ""
             }
            },
            "type": "scatter"
           }
          ],
          "scatter3d": [
           {
            "line": {
             "colorbar": {
              "outlinewidth": 0,
              "ticks": ""
             }
            },
            "marker": {
             "colorbar": {
              "outlinewidth": 0,
              "ticks": ""
             }
            },
            "type": "scatter3d"
           }
          ],
          "scattercarpet": [
           {
            "marker": {
             "colorbar": {
              "outlinewidth": 0,
              "ticks": ""
             }
            },
            "type": "scattercarpet"
           }
          ],
          "scattergeo": [
           {
            "marker": {
             "colorbar": {
              "outlinewidth": 0,
              "ticks": ""
             }
            },
            "type": "scattergeo"
           }
          ],
          "scattergl": [
           {
            "marker": {
             "colorbar": {
              "outlinewidth": 0,
              "ticks": ""
             }
            },
            "type": "scattergl"
           }
          ],
          "scattermapbox": [
           {
            "marker": {
             "colorbar": {
              "outlinewidth": 0,
              "ticks": ""
             }
            },
            "type": "scattermapbox"
           }
          ],
          "scatterpolar": [
           {
            "marker": {
             "colorbar": {
              "outlinewidth": 0,
              "ticks": ""
             }
            },
            "type": "scatterpolar"
           }
          ],
          "scatterpolargl": [
           {
            "marker": {
             "colorbar": {
              "outlinewidth": 0,
              "ticks": ""
             }
            },
            "type": "scatterpolargl"
           }
          ],
          "scatterternary": [
           {
            "marker": {
             "colorbar": {
              "outlinewidth": 0,
              "ticks": ""
             }
            },
            "type": "scatterternary"
           }
          ],
          "surface": [
           {
            "colorbar": {
             "outlinewidth": 0,
             "ticks": ""
            },
            "colorscale": [
             [
              0,
              "#0d0887"
             ],
             [
              0.1111111111111111,
              "#46039f"
             ],
             [
              0.2222222222222222,
              "#7201a8"
             ],
             [
              0.3333333333333333,
              "#9c179e"
             ],
             [
              0.4444444444444444,
              "#bd3786"
             ],
             [
              0.5555555555555556,
              "#d8576b"
             ],
             [
              0.6666666666666666,
              "#ed7953"
             ],
             [
              0.7777777777777778,
              "#fb9f3a"
             ],
             [
              0.8888888888888888,
              "#fdca26"
             ],
             [
              1,
              "#f0f921"
             ]
            ],
            "type": "surface"
           }
          ],
          "table": [
           {
            "cells": {
             "fill": {
              "color": "#EBF0F8"
             },
             "line": {
              "color": "white"
             }
            },
            "header": {
             "fill": {
              "color": "#C8D4E3"
             },
             "line": {
              "color": "white"
             }
            },
            "type": "table"
           }
          ]
         },
         "layout": {
          "annotationdefaults": {
           "arrowcolor": "#2a3f5f",
           "arrowhead": 0,
           "arrowwidth": 1
          },
          "coloraxis": {
           "colorbar": {
            "outlinewidth": 0,
            "ticks": ""
           }
          },
          "colorscale": {
           "diverging": [
            [
             0,
             "#8e0152"
            ],
            [
             0.1,
             "#c51b7d"
            ],
            [
             0.2,
             "#de77ae"
            ],
            [
             0.3,
             "#f1b6da"
            ],
            [
             0.4,
             "#fde0ef"
            ],
            [
             0.5,
             "#f7f7f7"
            ],
            [
             0.6,
             "#e6f5d0"
            ],
            [
             0.7,
             "#b8e186"
            ],
            [
             0.8,
             "#7fbc41"
            ],
            [
             0.9,
             "#4d9221"
            ],
            [
             1,
             "#276419"
            ]
           ],
           "sequential": [
            [
             0,
             "#0d0887"
            ],
            [
             0.1111111111111111,
             "#46039f"
            ],
            [
             0.2222222222222222,
             "#7201a8"
            ],
            [
             0.3333333333333333,
             "#9c179e"
            ],
            [
             0.4444444444444444,
             "#bd3786"
            ],
            [
             0.5555555555555556,
             "#d8576b"
            ],
            [
             0.6666666666666666,
             "#ed7953"
            ],
            [
             0.7777777777777778,
             "#fb9f3a"
            ],
            [
             0.8888888888888888,
             "#fdca26"
            ],
            [
             1,
             "#f0f921"
            ]
           ],
           "sequentialminus": [
            [
             0,
             "#0d0887"
            ],
            [
             0.1111111111111111,
             "#46039f"
            ],
            [
             0.2222222222222222,
             "#7201a8"
            ],
            [
             0.3333333333333333,
             "#9c179e"
            ],
            [
             0.4444444444444444,
             "#bd3786"
            ],
            [
             0.5555555555555556,
             "#d8576b"
            ],
            [
             0.6666666666666666,
             "#ed7953"
            ],
            [
             0.7777777777777778,
             "#fb9f3a"
            ],
            [
             0.8888888888888888,
             "#fdca26"
            ],
            [
             1,
             "#f0f921"
            ]
           ]
          },
          "colorway": [
           "#636efa",
           "#EF553B",
           "#00cc96",
           "#ab63fa",
           "#FFA15A",
           "#19d3f3",
           "#FF6692",
           "#B6E880",
           "#FF97FF",
           "#FECB52"
          ],
          "font": {
           "color": "#2a3f5f"
          },
          "geo": {
           "bgcolor": "white",
           "lakecolor": "white",
           "landcolor": "#E5ECF6",
           "showlakes": true,
           "showland": true,
           "subunitcolor": "white"
          },
          "hoverlabel": {
           "align": "left"
          },
          "hovermode": "closest",
          "mapbox": {
           "style": "light"
          },
          "paper_bgcolor": "white",
          "plot_bgcolor": "#E5ECF6",
          "polar": {
           "angularaxis": {
            "gridcolor": "white",
            "linecolor": "white",
            "ticks": ""
           },
           "bgcolor": "#E5ECF6",
           "radialaxis": {
            "gridcolor": "white",
            "linecolor": "white",
            "ticks": ""
           }
          },
          "scene": {
           "xaxis": {
            "backgroundcolor": "#E5ECF6",
            "gridcolor": "white",
            "gridwidth": 2,
            "linecolor": "white",
            "showbackground": true,
            "ticks": "",
            "zerolinecolor": "white"
           },
           "yaxis": {
            "backgroundcolor": "#E5ECF6",
            "gridcolor": "white",
            "gridwidth": 2,
            "linecolor": "white",
            "showbackground": true,
            "ticks": "",
            "zerolinecolor": "white"
           },
           "zaxis": {
            "backgroundcolor": "#E5ECF6",
            "gridcolor": "white",
            "gridwidth": 2,
            "linecolor": "white",
            "showbackground": true,
            "ticks": "",
            "zerolinecolor": "white"
           }
          },
          "shapedefaults": {
           "line": {
            "color": "#2a3f5f"
           }
          },
          "ternary": {
           "aaxis": {
            "gridcolor": "white",
            "linecolor": "white",
            "ticks": ""
           },
           "baxis": {
            "gridcolor": "white",
            "linecolor": "white",
            "ticks": ""
           },
           "bgcolor": "#E5ECF6",
           "caxis": {
            "gridcolor": "white",
            "linecolor": "white",
            "ticks": ""
           }
          },
          "title": {
           "x": 0.05
          },
          "xaxis": {
           "automargin": true,
           "gridcolor": "white",
           "linecolor": "white",
           "ticks": "",
           "title": {
            "standoff": 15
           },
           "zerolinecolor": "white",
           "zerolinewidth": 2
          },
          "yaxis": {
           "automargin": true,
           "gridcolor": "white",
           "linecolor": "white",
           "ticks": "",
           "title": {
            "standoff": 15
           },
           "zerolinecolor": "white",
           "zerolinewidth": 2
          }
         }
        },
        "title": {
         "font": {
          "color": "#4D5663"
         }
        },
        "xaxis": {
         "gridcolor": "#E1E5ED",
         "showgrid": true,
         "tickfont": {
          "color": "#4D5663"
         },
         "title": {
          "font": {
           "color": "#4D5663"
          },
          "text": ""
         },
         "zerolinecolor": "#E1E5ED"
        },
        "yaxis": {
         "gridcolor": "#E1E5ED",
         "showgrid": true,
         "tickfont": {
          "color": "#4D5663"
         },
         "title": {
          "font": {
           "color": "#4D5663"
          },
          "text": ""
         },
         "zerolinecolor": "#E1E5ED"
        }
       }
      },
      "text/html": [
       "<div>                            <div id=\"6d53bc06-6ebc-4123-90d0-2c599b9e5529\" class=\"plotly-graph-div\" style=\"height:525px; width:100%;\"></div>            <script type=\"text/javascript\">                require([\"plotly\"], function(Plotly) {                    window.PLOTLYENV=window.PLOTLYENV || {};\n",
       "                    window.PLOTLYENV.BASE_URL='https://plot.ly';                                    if (document.getElementById(\"6d53bc06-6ebc-4123-90d0-2c599b9e5529\")) {                    Plotly.newPlot(                        \"6d53bc06-6ebc-4123-90d0-2c599b9e5529\",                        [{\"line\": {\"color\": \"rgba(255, 153, 51, 1.0)\", \"dash\": \"solid\", \"shape\": \"linear\", \"width\": 1.3}, \"mode\": \"lines\", \"name\": \"A\", \"text\": \"\", \"type\": \"scatter\", \"x\": [0, 1, 2, 3, 4, 5, 6, 7, 8, 9, 10, 11, 12, 13, 14, 15, 16, 17, 18, 19, 20, 21, 22, 23, 24, 25, 26, 27, 28, 29, 30, 31, 32, 33, 34, 35, 36, 37, 38, 39, 40, 41, 42, 43, 44, 45, 46, 47, 48, 49, 50, 51, 52, 53, 54, 55, 56, 57, 58, 59, 60, 61, 62, 63, 64, 65, 66, 67, 68, 69, 70, 71, 72, 73, 74, 75, 76, 77, 78, 79, 80, 81, 82, 83, 84, 85, 86, 87, 88, 89, 90, 91, 92, 93, 94, 95, 96, 97, 98, 99], \"y\": [-1.813928762203615, -0.27432866383219695, 0.6253015850617543, -1.4554873129592596, 3.1328551351380627, 0.5830754004780817, -1.0020516684184995, 0.8064168386351752, 0.5811933408652084, -0.9944438998596266, 0.4275666091292003, 0.6662959061293554, -1.238164143354905, 0.9090650323908503, -0.49040851975783545, -0.7393550945325827, -0.7793251281906282, -0.05941256700603647, 0.9388278444558112, 0.3935996182797066, 0.16843035826535743, -0.012388439012577619, 0.7395802840689866, -0.19026779482997197, 0.4230286270538319, 1.8825534628198763, 0.6792062135611023, -0.7283045371389388, 0.331562460056705, 0.2224405058905905, -1.3799354855474406, -0.3385234291662567, -0.9601730674482541, 0.9781186597538379, -0.36014012323212297, 1.6657581634486944, -0.4060458883211332, -0.3437873974775657, -0.3159735282471693, 0.2856169914812245, 0.5356232663163358, 1.7209794482450487, 0.7695983815039918, -0.3502530607639093, 1.4561969592276458, -1.2192118463452706, -1.8439425232876443, -0.16185314773537718, -2.2584691292426995, 0.20668409063634077, 0.10523795995373263, -0.5332600333840517, 0.10144869460873746, 0.07483099737369392, 1.0004006969285233, 2.0963567904539984, 0.891356549589474, 0.18357909269892975, 0.5205225909418235, -3.585299735690124, 2.0977439105921447, -1.2955859707208526, -0.9584729751445248, 0.7526828628622835, 0.054739649265246625, 1.3611975574860573, -0.6097708748596224, -0.9643502021589745, 0.5368043250165858, 0.13875449188853514, -0.5876092434989054, -1.2344018269686825, 1.0504571633296549, -0.2204388885957174, 0.7711069197105281, 0.46146549667245335, 0.7573989338187541, -0.7355093559491815, -1.3541977713653937, 0.6750110906973829, -0.43262585616148436, -1.0891328225541235, 2.7954380383382986, 0.302944404393466, -1.2646747787997918, -1.0217711184638374, 0.8318181316682784, 1.9247298626545357, -0.8125340582765815, 1.4342509413347753, 0.001182431893759971, 0.635324691438933, -1.7232327742362592, -0.16876474281444187, -0.7611152815666171, 0.7905192080046453, -1.4481216932674335, 1.0548770968980319, -0.6880870636604127, 0.832100967986984]}],                        {\"legend\": {\"bgcolor\": \"#F5F6F9\", \"font\": {\"color\": \"#4D5663\"}}, \"paper_bgcolor\": \"#F5F6F9\", \"plot_bgcolor\": \"#F5F6F9\", \"template\": {\"data\": {\"bar\": [{\"error_x\": {\"color\": \"#2a3f5f\"}, \"error_y\": {\"color\": \"#2a3f5f\"}, \"marker\": {\"line\": {\"color\": \"#E5ECF6\", \"width\": 0.5}}, \"type\": \"bar\"}], \"barpolar\": [{\"marker\": {\"line\": {\"color\": \"#E5ECF6\", \"width\": 0.5}}, \"type\": \"barpolar\"}], \"carpet\": [{\"aaxis\": {\"endlinecolor\": \"#2a3f5f\", \"gridcolor\": \"white\", \"linecolor\": \"white\", \"minorgridcolor\": \"white\", \"startlinecolor\": \"#2a3f5f\"}, \"baxis\": {\"endlinecolor\": \"#2a3f5f\", \"gridcolor\": \"white\", \"linecolor\": \"white\", \"minorgridcolor\": \"white\", \"startlinecolor\": \"#2a3f5f\"}, \"type\": \"carpet\"}], \"choropleth\": [{\"colorbar\": {\"outlinewidth\": 0, \"ticks\": \"\"}, \"type\": \"choropleth\"}], \"contour\": [{\"colorbar\": {\"outlinewidth\": 0, \"ticks\": \"\"}, \"colorscale\": [[0.0, \"#0d0887\"], [0.1111111111111111, \"#46039f\"], [0.2222222222222222, \"#7201a8\"], [0.3333333333333333, \"#9c179e\"], [0.4444444444444444, \"#bd3786\"], [0.5555555555555556, \"#d8576b\"], [0.6666666666666666, \"#ed7953\"], [0.7777777777777778, \"#fb9f3a\"], [0.8888888888888888, \"#fdca26\"], [1.0, \"#f0f921\"]], \"type\": \"contour\"}], \"contourcarpet\": [{\"colorbar\": {\"outlinewidth\": 0, \"ticks\": \"\"}, \"type\": \"contourcarpet\"}], \"heatmap\": [{\"colorbar\": {\"outlinewidth\": 0, \"ticks\": \"\"}, \"colorscale\": [[0.0, \"#0d0887\"], [0.1111111111111111, \"#46039f\"], [0.2222222222222222, \"#7201a8\"], [0.3333333333333333, \"#9c179e\"], [0.4444444444444444, \"#bd3786\"], [0.5555555555555556, \"#d8576b\"], [0.6666666666666666, \"#ed7953\"], [0.7777777777777778, \"#fb9f3a\"], [0.8888888888888888, \"#fdca26\"], [1.0, \"#f0f921\"]], \"type\": \"heatmap\"}], \"heatmapgl\": [{\"colorbar\": {\"outlinewidth\": 0, \"ticks\": \"\"}, \"colorscale\": [[0.0, \"#0d0887\"], [0.1111111111111111, \"#46039f\"], [0.2222222222222222, \"#7201a8\"], [0.3333333333333333, \"#9c179e\"], [0.4444444444444444, \"#bd3786\"], [0.5555555555555556, \"#d8576b\"], [0.6666666666666666, \"#ed7953\"], [0.7777777777777778, \"#fb9f3a\"], [0.8888888888888888, \"#fdca26\"], [1.0, \"#f0f921\"]], \"type\": \"heatmapgl\"}], \"histogram\": [{\"marker\": {\"colorbar\": {\"outlinewidth\": 0, \"ticks\": \"\"}}, \"type\": \"histogram\"}], \"histogram2d\": [{\"colorbar\": {\"outlinewidth\": 0, \"ticks\": \"\"}, \"colorscale\": [[0.0, \"#0d0887\"], [0.1111111111111111, \"#46039f\"], [0.2222222222222222, \"#7201a8\"], [0.3333333333333333, \"#9c179e\"], [0.4444444444444444, \"#bd3786\"], [0.5555555555555556, \"#d8576b\"], [0.6666666666666666, \"#ed7953\"], [0.7777777777777778, \"#fb9f3a\"], [0.8888888888888888, \"#fdca26\"], [1.0, \"#f0f921\"]], \"type\": \"histogram2d\"}], \"histogram2dcontour\": [{\"colorbar\": {\"outlinewidth\": 0, \"ticks\": \"\"}, \"colorscale\": [[0.0, \"#0d0887\"], [0.1111111111111111, \"#46039f\"], [0.2222222222222222, \"#7201a8\"], [0.3333333333333333, \"#9c179e\"], [0.4444444444444444, \"#bd3786\"], [0.5555555555555556, \"#d8576b\"], [0.6666666666666666, \"#ed7953\"], [0.7777777777777778, \"#fb9f3a\"], [0.8888888888888888, \"#fdca26\"], [1.0, \"#f0f921\"]], \"type\": \"histogram2dcontour\"}], \"mesh3d\": [{\"colorbar\": {\"outlinewidth\": 0, \"ticks\": \"\"}, \"type\": \"mesh3d\"}], \"parcoords\": [{\"line\": {\"colorbar\": {\"outlinewidth\": 0, \"ticks\": \"\"}}, \"type\": \"parcoords\"}], \"pie\": [{\"automargin\": true, \"type\": \"pie\"}], \"scatter\": [{\"marker\": {\"colorbar\": {\"outlinewidth\": 0, \"ticks\": \"\"}}, \"type\": \"scatter\"}], \"scatter3d\": [{\"line\": {\"colorbar\": {\"outlinewidth\": 0, \"ticks\": \"\"}}, \"marker\": {\"colorbar\": {\"outlinewidth\": 0, \"ticks\": \"\"}}, \"type\": \"scatter3d\"}], \"scattercarpet\": [{\"marker\": {\"colorbar\": {\"outlinewidth\": 0, \"ticks\": \"\"}}, \"type\": \"scattercarpet\"}], \"scattergeo\": [{\"marker\": {\"colorbar\": {\"outlinewidth\": 0, \"ticks\": \"\"}}, \"type\": \"scattergeo\"}], \"scattergl\": [{\"marker\": {\"colorbar\": {\"outlinewidth\": 0, \"ticks\": \"\"}}, \"type\": \"scattergl\"}], \"scattermapbox\": [{\"marker\": {\"colorbar\": {\"outlinewidth\": 0, \"ticks\": \"\"}}, \"type\": \"scattermapbox\"}], \"scatterpolar\": [{\"marker\": {\"colorbar\": {\"outlinewidth\": 0, \"ticks\": \"\"}}, \"type\": \"scatterpolar\"}], \"scatterpolargl\": [{\"marker\": {\"colorbar\": {\"outlinewidth\": 0, \"ticks\": \"\"}}, \"type\": \"scatterpolargl\"}], \"scatterternary\": [{\"marker\": {\"colorbar\": {\"outlinewidth\": 0, \"ticks\": \"\"}}, \"type\": \"scatterternary\"}], \"surface\": [{\"colorbar\": {\"outlinewidth\": 0, \"ticks\": \"\"}, \"colorscale\": [[0.0, \"#0d0887\"], [0.1111111111111111, \"#46039f\"], [0.2222222222222222, \"#7201a8\"], [0.3333333333333333, \"#9c179e\"], [0.4444444444444444, \"#bd3786\"], [0.5555555555555556, \"#d8576b\"], [0.6666666666666666, \"#ed7953\"], [0.7777777777777778, \"#fb9f3a\"], [0.8888888888888888, \"#fdca26\"], [1.0, \"#f0f921\"]], \"type\": \"surface\"}], \"table\": [{\"cells\": {\"fill\": {\"color\": \"#EBF0F8\"}, \"line\": {\"color\": \"white\"}}, \"header\": {\"fill\": {\"color\": \"#C8D4E3\"}, \"line\": {\"color\": \"white\"}}, \"type\": \"table\"}]}, \"layout\": {\"annotationdefaults\": {\"arrowcolor\": \"#2a3f5f\", \"arrowhead\": 0, \"arrowwidth\": 1}, \"coloraxis\": {\"colorbar\": {\"outlinewidth\": 0, \"ticks\": \"\"}}, \"colorscale\": {\"diverging\": [[0, \"#8e0152\"], [0.1, \"#c51b7d\"], [0.2, \"#de77ae\"], [0.3, \"#f1b6da\"], [0.4, \"#fde0ef\"], [0.5, \"#f7f7f7\"], [0.6, \"#e6f5d0\"], [0.7, \"#b8e186\"], [0.8, \"#7fbc41\"], [0.9, \"#4d9221\"], [1, \"#276419\"]], \"sequential\": [[0.0, \"#0d0887\"], [0.1111111111111111, \"#46039f\"], [0.2222222222222222, \"#7201a8\"], [0.3333333333333333, \"#9c179e\"], [0.4444444444444444, \"#bd3786\"], [0.5555555555555556, \"#d8576b\"], [0.6666666666666666, \"#ed7953\"], [0.7777777777777778, \"#fb9f3a\"], [0.8888888888888888, \"#fdca26\"], [1.0, \"#f0f921\"]], \"sequentialminus\": [[0.0, \"#0d0887\"], [0.1111111111111111, \"#46039f\"], [0.2222222222222222, \"#7201a8\"], [0.3333333333333333, \"#9c179e\"], [0.4444444444444444, \"#bd3786\"], [0.5555555555555556, \"#d8576b\"], [0.6666666666666666, \"#ed7953\"], [0.7777777777777778, \"#fb9f3a\"], [0.8888888888888888, \"#fdca26\"], [1.0, \"#f0f921\"]]}, \"colorway\": [\"#636efa\", \"#EF553B\", \"#00cc96\", \"#ab63fa\", \"#FFA15A\", \"#19d3f3\", \"#FF6692\", \"#B6E880\", \"#FF97FF\", \"#FECB52\"], \"font\": {\"color\": \"#2a3f5f\"}, \"geo\": {\"bgcolor\": \"white\", \"lakecolor\": \"white\", \"landcolor\": \"#E5ECF6\", \"showlakes\": true, \"showland\": true, \"subunitcolor\": \"white\"}, \"hoverlabel\": {\"align\": \"left\"}, \"hovermode\": \"closest\", \"mapbox\": {\"style\": \"light\"}, \"paper_bgcolor\": \"white\", \"plot_bgcolor\": \"#E5ECF6\", \"polar\": {\"angularaxis\": {\"gridcolor\": \"white\", \"linecolor\": \"white\", \"ticks\": \"\"}, \"bgcolor\": \"#E5ECF6\", \"radialaxis\": {\"gridcolor\": \"white\", \"linecolor\": \"white\", \"ticks\": \"\"}}, \"scene\": {\"xaxis\": {\"backgroundcolor\": \"#E5ECF6\", \"gridcolor\": \"white\", \"gridwidth\": 2, \"linecolor\": \"white\", \"showbackground\": true, \"ticks\": \"\", \"zerolinecolor\": \"white\"}, \"yaxis\": {\"backgroundcolor\": \"#E5ECF6\", \"gridcolor\": \"white\", \"gridwidth\": 2, \"linecolor\": \"white\", \"showbackground\": true, \"ticks\": \"\", \"zerolinecolor\": \"white\"}, \"zaxis\": {\"backgroundcolor\": \"#E5ECF6\", \"gridcolor\": \"white\", \"gridwidth\": 2, \"linecolor\": \"white\", \"showbackground\": true, \"ticks\": \"\", \"zerolinecolor\": \"white\"}}, \"shapedefaults\": {\"line\": {\"color\": \"#2a3f5f\"}}, \"ternary\": {\"aaxis\": {\"gridcolor\": \"white\", \"linecolor\": \"white\", \"ticks\": \"\"}, \"baxis\": {\"gridcolor\": \"white\", \"linecolor\": \"white\", \"ticks\": \"\"}, \"bgcolor\": \"#E5ECF6\", \"caxis\": {\"gridcolor\": \"white\", \"linecolor\": \"white\", \"ticks\": \"\"}}, \"title\": {\"x\": 0.05}, \"xaxis\": {\"automargin\": true, \"gridcolor\": \"white\", \"linecolor\": \"white\", \"ticks\": \"\", \"title\": {\"standoff\": 15}, \"zerolinecolor\": \"white\", \"zerolinewidth\": 2}, \"yaxis\": {\"automargin\": true, \"gridcolor\": \"white\", \"linecolor\": \"white\", \"ticks\": \"\", \"title\": {\"standoff\": 15}, \"zerolinecolor\": \"white\", \"zerolinewidth\": 2}}}, \"title\": {\"font\": {\"color\": \"#4D5663\"}}, \"xaxis\": {\"gridcolor\": \"#E1E5ED\", \"showgrid\": true, \"tickfont\": {\"color\": \"#4D5663\"}, \"title\": {\"font\": {\"color\": \"#4D5663\"}, \"text\": \"\"}, \"zerolinecolor\": \"#E1E5ED\"}, \"yaxis\": {\"gridcolor\": \"#E1E5ED\", \"showgrid\": true, \"tickfont\": {\"color\": \"#4D5663\"}, \"title\": {\"font\": {\"color\": \"#4D5663\"}, \"text\": \"\"}, \"zerolinecolor\": \"#E1E5ED\"}},                        {\"showLink\": true, \"linkText\": \"Export to plot.ly\", \"plotlyServerURL\": \"https://plot.ly\", \"responsive\": true}                    ).then(function(){\n",
       "                            \n",
       "var gd = document.getElementById('6d53bc06-6ebc-4123-90d0-2c599b9e5529');\n",
       "var x = new MutationObserver(function (mutations, observer) {{\n",
       "        var display = window.getComputedStyle(gd).display;\n",
       "        if (!display || display === 'none') {{\n",
       "            console.log([gd, 'removed!']);\n",
       "            Plotly.purge(gd);\n",
       "            observer.disconnect();\n",
       "        }}\n",
       "}});\n",
       "\n",
       "// Listen for the removal of the full notebook cells\n",
       "var notebookContainer = gd.closest('#notebook-container');\n",
       "if (notebookContainer) {{\n",
       "    x.observe(notebookContainer, {childList: true});\n",
       "}}\n",
       "\n",
       "// Listen for the clearing of the current output cell\n",
       "var outputEl = gd.closest('.output');\n",
       "if (outputEl) {{\n",
       "    x.observe(outputEl, {childList: true});\n",
       "}}\n",
       "\n",
       "                        })                };                });            </script>        </div>"
      ]
     },
     "metadata": {},
     "output_type": "display_data"
    }
   ],
   "source": [
    "df['A'].iplot()"
   ]
  },
  {
   "cell_type": "markdown",
   "metadata": {},
   "source": [
    "## Scatter\n",
    "\n",
    "Use the .iplot() method with arguments kind (plot type), x (x-axis variable), y (y-axis variable), and mode argument removes the line connections setup by default with plotly. The plot can be zoomed in or out depending on need."
   ]
  },
  {
   "cell_type": "code",
   "execution_count": 12,
   "metadata": {},
   "outputs": [
    {
     "ename": "KeyError",
     "evalue": "'C'",
     "output_type": "error",
     "traceback": [
      "\u001b[0;31m---------------------------------------------------------------------------\u001b[0m",
      "\u001b[0;31mKeyError\u001b[0m                                  Traceback (most recent call last)",
      "\u001b[0;32m/opt/miniconda3/lib/python3.8/site-packages/pandas/core/indexes/base.py\u001b[0m in \u001b[0;36mget_loc\u001b[0;34m(self, key, method, tolerance)\u001b[0m\n\u001b[1;32m   2888\u001b[0m             \u001b[0;32mtry\u001b[0m\u001b[0;34m:\u001b[0m\u001b[0;34m\u001b[0m\u001b[0;34m\u001b[0m\u001b[0m\n\u001b[0;32m-> 2889\u001b[0;31m                 \u001b[0;32mreturn\u001b[0m \u001b[0mself\u001b[0m\u001b[0;34m.\u001b[0m\u001b[0m_engine\u001b[0m\u001b[0;34m.\u001b[0m\u001b[0mget_loc\u001b[0m\u001b[0;34m(\u001b[0m\u001b[0mcasted_key\u001b[0m\u001b[0;34m)\u001b[0m\u001b[0;34m\u001b[0m\u001b[0;34m\u001b[0m\u001b[0m\n\u001b[0m\u001b[1;32m   2890\u001b[0m             \u001b[0;32mexcept\u001b[0m \u001b[0mKeyError\u001b[0m \u001b[0;32mas\u001b[0m \u001b[0merr\u001b[0m\u001b[0;34m:\u001b[0m\u001b[0;34m\u001b[0m\u001b[0;34m\u001b[0m\u001b[0m\n",
      "\u001b[0;32mpandas/_libs/index.pyx\u001b[0m in \u001b[0;36mpandas._libs.index.IndexEngine.get_loc\u001b[0;34m()\u001b[0m\n",
      "\u001b[0;32mpandas/_libs/index.pyx\u001b[0m in \u001b[0;36mpandas._libs.index.IndexEngine.get_loc\u001b[0;34m()\u001b[0m\n",
      "\u001b[0;32mpandas/_libs/hashtable_class_helper.pxi\u001b[0m in \u001b[0;36mpandas._libs.hashtable.PyObjectHashTable.get_item\u001b[0;34m()\u001b[0m\n",
      "\u001b[0;32mpandas/_libs/hashtable_class_helper.pxi\u001b[0m in \u001b[0;36mpandas._libs.hashtable.PyObjectHashTable.get_item\u001b[0;34m()\u001b[0m\n",
      "\u001b[0;31mKeyError\u001b[0m: 'C'",
      "\nThe above exception was the direct cause of the following exception:\n",
      "\u001b[0;31mKeyError\u001b[0m                                  Traceback (most recent call last)",
      "\u001b[0;32m<ipython-input-12-d23ac9aebbe2>\u001b[0m in \u001b[0;36m<module>\u001b[0;34m\u001b[0m\n\u001b[1;32m      4\u001b[0m \u001b[0;31m# y (y-axis variable)\u001b[0m\u001b[0;34m\u001b[0m\u001b[0;34m\u001b[0m\u001b[0;34m\u001b[0m\u001b[0m\n\u001b[1;32m      5\u001b[0m \u001b[0;31m# mode argument removes the line connections setup by default by plotly\u001b[0m\u001b[0;34m\u001b[0m\u001b[0;34m\u001b[0m\u001b[0;34m\u001b[0m\u001b[0m\n\u001b[0;32m----> 6\u001b[0;31m \u001b[0mdf\u001b[0m\u001b[0;34m.\u001b[0m\u001b[0miplot\u001b[0m\u001b[0;34m(\u001b[0m\u001b[0mkind\u001b[0m\u001b[0;34m=\u001b[0m\u001b[0;34m'scatter'\u001b[0m\u001b[0;34m,\u001b[0m\u001b[0mx\u001b[0m\u001b[0;34m=\u001b[0m\u001b[0;34m'A'\u001b[0m\u001b[0;34m,\u001b[0m\u001b[0my\u001b[0m\u001b[0;34m=\u001b[0m\u001b[0;34m'C'\u001b[0m\u001b[0;34m,\u001b[0m\u001b[0mmode\u001b[0m\u001b[0;34m=\u001b[0m\u001b[0;34m'markers'\u001b[0m\u001b[0;34m,\u001b[0m\u001b[0msize\u001b[0m\u001b[0;34m=\u001b[0m\u001b[0;36m10\u001b[0m\u001b[0;34m)\u001b[0m\u001b[0;34m\u001b[0m\u001b[0;34m\u001b[0m\u001b[0m\n\u001b[0m",
      "\u001b[0;32m/opt/miniconda3/lib/python3.8/site-packages/cufflinks/plotlytools.py\u001b[0m in \u001b[0;36m_iplot\u001b[0;34m(self, kind, data, layout, filename, sharing, title, xTitle, yTitle, zTitle, theme, colors, colorscale, fill, width, dash, mode, interpolation, symbol, size, barmode, sortbars, bargap, bargroupgap, bins, histnorm, histfunc, orientation, boxpoints, annotations, keys, bestfit, bestfit_colors, mean, mean_colors, categories, x, y, z, text, gridcolor, zerolinecolor, margin, labels, values, secondary_y, secondary_y_title, subplots, shape, error_x, error_y, error_type, locations, lon, lat, asFrame, asDates, asFigure, asImage, dimensions, asPlot, asUrl, online, **kwargs)\u001b[0m\n\u001b[1;32m    830\u001b[0m                                         \u001b[0mdf\u001b[0m\u001b[0;34m=\u001b[0m\u001b[0mdf\u001b[0m\u001b[0;34m[\u001b[0m\u001b[0m_y\u001b[0m \u001b[0;34m+\u001b[0m \u001b[0m_secondary_y\u001b[0m\u001b[0;34m]\u001b[0m\u001b[0;34m\u001b[0m\u001b[0;34m\u001b[0m\u001b[0m\n\u001b[1;32m    831\u001b[0m                                 \u001b[0;32melif\u001b[0m \u001b[0my\u001b[0m\u001b[0;34m:\u001b[0m\u001b[0;34m\u001b[0m\u001b[0;34m\u001b[0m\u001b[0m\n\u001b[0;32m--> 832\u001b[0;31m                                         \u001b[0mdf\u001b[0m\u001b[0;34m=\u001b[0m\u001b[0mdf\u001b[0m\u001b[0;34m[\u001b[0m\u001b[0my\u001b[0m\u001b[0;34m]\u001b[0m\u001b[0;34m\u001b[0m\u001b[0;34m\u001b[0m\u001b[0m\n\u001b[0m\u001b[1;32m    833\u001b[0m                                 \u001b[0;32mif\u001b[0m \u001b[0mkind\u001b[0m\u001b[0;34m==\u001b[0m\u001b[0;34m'area'\u001b[0m\u001b[0;34m:\u001b[0m\u001b[0;34m\u001b[0m\u001b[0;34m\u001b[0m\u001b[0m\n\u001b[1;32m    834\u001b[0m                                         \u001b[0mdf\u001b[0m\u001b[0;34m=\u001b[0m\u001b[0mdf\u001b[0m\u001b[0;34m.\u001b[0m\u001b[0mtranspose\u001b[0m\u001b[0;34m(\u001b[0m\u001b[0;34m)\u001b[0m\u001b[0;34m.\u001b[0m\u001b[0mfillna\u001b[0m\u001b[0;34m(\u001b[0m\u001b[0;36m0\u001b[0m\u001b[0;34m)\u001b[0m\u001b[0;34m.\u001b[0m\u001b[0mcumsum\u001b[0m\u001b[0;34m(\u001b[0m\u001b[0;34m)\u001b[0m\u001b[0;34m.\u001b[0m\u001b[0mtranspose\u001b[0m\u001b[0;34m(\u001b[0m\u001b[0;34m)\u001b[0m\u001b[0;34m\u001b[0m\u001b[0;34m\u001b[0m\u001b[0m\n",
      "\u001b[0;32m/opt/miniconda3/lib/python3.8/site-packages/pandas/core/frame.py\u001b[0m in \u001b[0;36m__getitem__\u001b[0;34m(self, key)\u001b[0m\n\u001b[1;32m   2897\u001b[0m             \u001b[0;32mif\u001b[0m \u001b[0mself\u001b[0m\u001b[0;34m.\u001b[0m\u001b[0mcolumns\u001b[0m\u001b[0;34m.\u001b[0m\u001b[0mnlevels\u001b[0m \u001b[0;34m>\u001b[0m \u001b[0;36m1\u001b[0m\u001b[0;34m:\u001b[0m\u001b[0;34m\u001b[0m\u001b[0;34m\u001b[0m\u001b[0m\n\u001b[1;32m   2898\u001b[0m                 \u001b[0;32mreturn\u001b[0m \u001b[0mself\u001b[0m\u001b[0;34m.\u001b[0m\u001b[0m_getitem_multilevel\u001b[0m\u001b[0;34m(\u001b[0m\u001b[0mkey\u001b[0m\u001b[0;34m)\u001b[0m\u001b[0;34m\u001b[0m\u001b[0;34m\u001b[0m\u001b[0m\n\u001b[0;32m-> 2899\u001b[0;31m             \u001b[0mindexer\u001b[0m \u001b[0;34m=\u001b[0m \u001b[0mself\u001b[0m\u001b[0;34m.\u001b[0m\u001b[0mcolumns\u001b[0m\u001b[0;34m.\u001b[0m\u001b[0mget_loc\u001b[0m\u001b[0;34m(\u001b[0m\u001b[0mkey\u001b[0m\u001b[0;34m)\u001b[0m\u001b[0;34m\u001b[0m\u001b[0;34m\u001b[0m\u001b[0m\n\u001b[0m\u001b[1;32m   2900\u001b[0m             \u001b[0;32mif\u001b[0m \u001b[0mis_integer\u001b[0m\u001b[0;34m(\u001b[0m\u001b[0mindexer\u001b[0m\u001b[0;34m)\u001b[0m\u001b[0;34m:\u001b[0m\u001b[0;34m\u001b[0m\u001b[0;34m\u001b[0m\u001b[0m\n\u001b[1;32m   2901\u001b[0m                 \u001b[0mindexer\u001b[0m \u001b[0;34m=\u001b[0m \u001b[0;34m[\u001b[0m\u001b[0mindexer\u001b[0m\u001b[0;34m]\u001b[0m\u001b[0;34m\u001b[0m\u001b[0;34m\u001b[0m\u001b[0m\n",
      "\u001b[0;32m/opt/miniconda3/lib/python3.8/site-packages/pandas/core/indexes/base.py\u001b[0m in \u001b[0;36mget_loc\u001b[0;34m(self, key, method, tolerance)\u001b[0m\n\u001b[1;32m   2889\u001b[0m                 \u001b[0;32mreturn\u001b[0m \u001b[0mself\u001b[0m\u001b[0;34m.\u001b[0m\u001b[0m_engine\u001b[0m\u001b[0;34m.\u001b[0m\u001b[0mget_loc\u001b[0m\u001b[0;34m(\u001b[0m\u001b[0mcasted_key\u001b[0m\u001b[0;34m)\u001b[0m\u001b[0;34m\u001b[0m\u001b[0;34m\u001b[0m\u001b[0m\n\u001b[1;32m   2890\u001b[0m             \u001b[0;32mexcept\u001b[0m \u001b[0mKeyError\u001b[0m \u001b[0;32mas\u001b[0m \u001b[0merr\u001b[0m\u001b[0;34m:\u001b[0m\u001b[0;34m\u001b[0m\u001b[0;34m\u001b[0m\u001b[0m\n\u001b[0;32m-> 2891\u001b[0;31m                 \u001b[0;32mraise\u001b[0m \u001b[0mKeyError\u001b[0m\u001b[0;34m(\u001b[0m\u001b[0mkey\u001b[0m\u001b[0;34m)\u001b[0m \u001b[0;32mfrom\u001b[0m \u001b[0merr\u001b[0m\u001b[0;34m\u001b[0m\u001b[0;34m\u001b[0m\u001b[0m\n\u001b[0m\u001b[1;32m   2892\u001b[0m \u001b[0;34m\u001b[0m\u001b[0m\n\u001b[1;32m   2893\u001b[0m         \u001b[0;32mif\u001b[0m \u001b[0mtolerance\u001b[0m \u001b[0;32mis\u001b[0m \u001b[0;32mnot\u001b[0m \u001b[0;32mNone\u001b[0m\u001b[0;34m:\u001b[0m\u001b[0;34m\u001b[0m\u001b[0;34m\u001b[0m\u001b[0m\n",
      "\u001b[0;31mKeyError\u001b[0m: 'C'"
     ]
    }
   ],
   "source": [
    "# use the .iplot() method with arguments\n",
    "# kind arguments determines the plot type \n",
    "# x (x-axis variable)\n",
    "# y (y-axis variable)\n",
    "# mode argument removes the line connections setup by default by plotly\n",
    "df.iplot(kind='scatter',x='A',y='C',mode='markers',size=10)"
   ]
  },
  {
   "cell_type": "markdown",
   "metadata": {},
   "source": [
    "## Bar Plots"
   ]
  },
  {
   "cell_type": "code",
   "execution_count": 13,
   "metadata": {},
   "outputs": [
    {
     "data": {
      "text/html": [
       "<div>\n",
       "<style scoped>\n",
       "    .dataframe tbody tr th:only-of-type {\n",
       "        vertical-align: middle;\n",
       "    }\n",
       "\n",
       "    .dataframe tbody tr th {\n",
       "        vertical-align: top;\n",
       "    }\n",
       "\n",
       "    .dataframe thead th {\n",
       "        text-align: right;\n",
       "    }\n",
       "</style>\n",
       "<table border=\"1\" class=\"dataframe\">\n",
       "  <thead>\n",
       "    <tr style=\"text-align: right;\">\n",
       "      <th></th>\n",
       "      <th>Category</th>\n",
       "      <th>Values</th>\n",
       "    </tr>\n",
       "  </thead>\n",
       "  <tbody>\n",
       "    <tr>\n",
       "      <th>0</th>\n",
       "      <td>A</td>\n",
       "      <td>32</td>\n",
       "    </tr>\n",
       "    <tr>\n",
       "      <th>1</th>\n",
       "      <td>B</td>\n",
       "      <td>43</td>\n",
       "    </tr>\n",
       "    <tr>\n",
       "      <th>2</th>\n",
       "      <td>C</td>\n",
       "      <td>50</td>\n",
       "    </tr>\n",
       "  </tbody>\n",
       "</table>\n",
       "</div>"
      ],
      "text/plain": [
       "  Category  Values\n",
       "0        A      32\n",
       "1        B      43\n",
       "2        C      50"
      ]
     },
     "execution_count": 13,
     "metadata": {},
     "output_type": "execute_result"
    }
   ],
   "source": [
    "df2"
   ]
  },
  {
   "cell_type": "code",
   "execution_count": 14,
   "metadata": {},
   "outputs": [
    {
     "data": {
      "application/vnd.plotly.v1+json": {
       "config": {
        "linkText": "Export to plot.ly",
        "plotlyServerURL": "https://plot.ly",
        "showLink": true
       },
       "data": [
        {
         "marker": {
          "color": "rgba(255, 153, 51, 0.6)",
          "line": {
           "color": "rgba(255, 153, 51, 1.0)",
           "width": 1
          }
         },
         "name": "Values",
         "orientation": "v",
         "text": "",
         "type": "bar",
         "x": [
          "A",
          "B",
          "C"
         ],
         "y": [
          32,
          43,
          50
         ]
        }
       ],
       "layout": {
        "legend": {
         "bgcolor": "#F5F6F9",
         "font": {
          "color": "#4D5663"
         }
        },
        "paper_bgcolor": "#F5F6F9",
        "plot_bgcolor": "#F5F6F9",
        "template": {
         "data": {
          "bar": [
           {
            "error_x": {
             "color": "#2a3f5f"
            },
            "error_y": {
             "color": "#2a3f5f"
            },
            "marker": {
             "line": {
              "color": "#E5ECF6",
              "width": 0.5
             }
            },
            "type": "bar"
           }
          ],
          "barpolar": [
           {
            "marker": {
             "line": {
              "color": "#E5ECF6",
              "width": 0.5
             }
            },
            "type": "barpolar"
           }
          ],
          "carpet": [
           {
            "aaxis": {
             "endlinecolor": "#2a3f5f",
             "gridcolor": "white",
             "linecolor": "white",
             "minorgridcolor": "white",
             "startlinecolor": "#2a3f5f"
            },
            "baxis": {
             "endlinecolor": "#2a3f5f",
             "gridcolor": "white",
             "linecolor": "white",
             "minorgridcolor": "white",
             "startlinecolor": "#2a3f5f"
            },
            "type": "carpet"
           }
          ],
          "choropleth": [
           {
            "colorbar": {
             "outlinewidth": 0,
             "ticks": ""
            },
            "type": "choropleth"
           }
          ],
          "contour": [
           {
            "colorbar": {
             "outlinewidth": 0,
             "ticks": ""
            },
            "colorscale": [
             [
              0,
              "#0d0887"
             ],
             [
              0.1111111111111111,
              "#46039f"
             ],
             [
              0.2222222222222222,
              "#7201a8"
             ],
             [
              0.3333333333333333,
              "#9c179e"
             ],
             [
              0.4444444444444444,
              "#bd3786"
             ],
             [
              0.5555555555555556,
              "#d8576b"
             ],
             [
              0.6666666666666666,
              "#ed7953"
             ],
             [
              0.7777777777777778,
              "#fb9f3a"
             ],
             [
              0.8888888888888888,
              "#fdca26"
             ],
             [
              1,
              "#f0f921"
             ]
            ],
            "type": "contour"
           }
          ],
          "contourcarpet": [
           {
            "colorbar": {
             "outlinewidth": 0,
             "ticks": ""
            },
            "type": "contourcarpet"
           }
          ],
          "heatmap": [
           {
            "colorbar": {
             "outlinewidth": 0,
             "ticks": ""
            },
            "colorscale": [
             [
              0,
              "#0d0887"
             ],
             [
              0.1111111111111111,
              "#46039f"
             ],
             [
              0.2222222222222222,
              "#7201a8"
             ],
             [
              0.3333333333333333,
              "#9c179e"
             ],
             [
              0.4444444444444444,
              "#bd3786"
             ],
             [
              0.5555555555555556,
              "#d8576b"
             ],
             [
              0.6666666666666666,
              "#ed7953"
             ],
             [
              0.7777777777777778,
              "#fb9f3a"
             ],
             [
              0.8888888888888888,
              "#fdca26"
             ],
             [
              1,
              "#f0f921"
             ]
            ],
            "type": "heatmap"
           }
          ],
          "heatmapgl": [
           {
            "colorbar": {
             "outlinewidth": 0,
             "ticks": ""
            },
            "colorscale": [
             [
              0,
              "#0d0887"
             ],
             [
              0.1111111111111111,
              "#46039f"
             ],
             [
              0.2222222222222222,
              "#7201a8"
             ],
             [
              0.3333333333333333,
              "#9c179e"
             ],
             [
              0.4444444444444444,
              "#bd3786"
             ],
             [
              0.5555555555555556,
              "#d8576b"
             ],
             [
              0.6666666666666666,
              "#ed7953"
             ],
             [
              0.7777777777777778,
              "#fb9f3a"
             ],
             [
              0.8888888888888888,
              "#fdca26"
             ],
             [
              1,
              "#f0f921"
             ]
            ],
            "type": "heatmapgl"
           }
          ],
          "histogram": [
           {
            "marker": {
             "colorbar": {
              "outlinewidth": 0,
              "ticks": ""
             }
            },
            "type": "histogram"
           }
          ],
          "histogram2d": [
           {
            "colorbar": {
             "outlinewidth": 0,
             "ticks": ""
            },
            "colorscale": [
             [
              0,
              "#0d0887"
             ],
             [
              0.1111111111111111,
              "#46039f"
             ],
             [
              0.2222222222222222,
              "#7201a8"
             ],
             [
              0.3333333333333333,
              "#9c179e"
             ],
             [
              0.4444444444444444,
              "#bd3786"
             ],
             [
              0.5555555555555556,
              "#d8576b"
             ],
             [
              0.6666666666666666,
              "#ed7953"
             ],
             [
              0.7777777777777778,
              "#fb9f3a"
             ],
             [
              0.8888888888888888,
              "#fdca26"
             ],
             [
              1,
              "#f0f921"
             ]
            ],
            "type": "histogram2d"
           }
          ],
          "histogram2dcontour": [
           {
            "colorbar": {
             "outlinewidth": 0,
             "ticks": ""
            },
            "colorscale": [
             [
              0,
              "#0d0887"
             ],
             [
              0.1111111111111111,
              "#46039f"
             ],
             [
              0.2222222222222222,
              "#7201a8"
             ],
             [
              0.3333333333333333,
              "#9c179e"
             ],
             [
              0.4444444444444444,
              "#bd3786"
             ],
             [
              0.5555555555555556,
              "#d8576b"
             ],
             [
              0.6666666666666666,
              "#ed7953"
             ],
             [
              0.7777777777777778,
              "#fb9f3a"
             ],
             [
              0.8888888888888888,
              "#fdca26"
             ],
             [
              1,
              "#f0f921"
             ]
            ],
            "type": "histogram2dcontour"
           }
          ],
          "mesh3d": [
           {
            "colorbar": {
             "outlinewidth": 0,
             "ticks": ""
            },
            "type": "mesh3d"
           }
          ],
          "parcoords": [
           {
            "line": {
             "colorbar": {
              "outlinewidth": 0,
              "ticks": ""
             }
            },
            "type": "parcoords"
           }
          ],
          "pie": [
           {
            "automargin": true,
            "type": "pie"
           }
          ],
          "scatter": [
           {
            "marker": {
             "colorbar": {
              "outlinewidth": 0,
              "ticks": ""
             }
            },
            "type": "scatter"
           }
          ],
          "scatter3d": [
           {
            "line": {
             "colorbar": {
              "outlinewidth": 0,
              "ticks": ""
             }
            },
            "marker": {
             "colorbar": {
              "outlinewidth": 0,
              "ticks": ""
             }
            },
            "type": "scatter3d"
           }
          ],
          "scattercarpet": [
           {
            "marker": {
             "colorbar": {
              "outlinewidth": 0,
              "ticks": ""
             }
            },
            "type": "scattercarpet"
           }
          ],
          "scattergeo": [
           {
            "marker": {
             "colorbar": {
              "outlinewidth": 0,
              "ticks": ""
             }
            },
            "type": "scattergeo"
           }
          ],
          "scattergl": [
           {
            "marker": {
             "colorbar": {
              "outlinewidth": 0,
              "ticks": ""
             }
            },
            "type": "scattergl"
           }
          ],
          "scattermapbox": [
           {
            "marker": {
             "colorbar": {
              "outlinewidth": 0,
              "ticks": ""
             }
            },
            "type": "scattermapbox"
           }
          ],
          "scatterpolar": [
           {
            "marker": {
             "colorbar": {
              "outlinewidth": 0,
              "ticks": ""
             }
            },
            "type": "scatterpolar"
           }
          ],
          "scatterpolargl": [
           {
            "marker": {
             "colorbar": {
              "outlinewidth": 0,
              "ticks": ""
             }
            },
            "type": "scatterpolargl"
           }
          ],
          "scatterternary": [
           {
            "marker": {
             "colorbar": {
              "outlinewidth": 0,
              "ticks": ""
             }
            },
            "type": "scatterternary"
           }
          ],
          "surface": [
           {
            "colorbar": {
             "outlinewidth": 0,
             "ticks": ""
            },
            "colorscale": [
             [
              0,
              "#0d0887"
             ],
             [
              0.1111111111111111,
              "#46039f"
             ],
             [
              0.2222222222222222,
              "#7201a8"
             ],
             [
              0.3333333333333333,
              "#9c179e"
             ],
             [
              0.4444444444444444,
              "#bd3786"
             ],
             [
              0.5555555555555556,
              "#d8576b"
             ],
             [
              0.6666666666666666,
              "#ed7953"
             ],
             [
              0.7777777777777778,
              "#fb9f3a"
             ],
             [
              0.8888888888888888,
              "#fdca26"
             ],
             [
              1,
              "#f0f921"
             ]
            ],
            "type": "surface"
           }
          ],
          "table": [
           {
            "cells": {
             "fill": {
              "color": "#EBF0F8"
             },
             "line": {
              "color": "white"
             }
            },
            "header": {
             "fill": {
              "color": "#C8D4E3"
             },
             "line": {
              "color": "white"
             }
            },
            "type": "table"
           }
          ]
         },
         "layout": {
          "annotationdefaults": {
           "arrowcolor": "#2a3f5f",
           "arrowhead": 0,
           "arrowwidth": 1
          },
          "coloraxis": {
           "colorbar": {
            "outlinewidth": 0,
            "ticks": ""
           }
          },
          "colorscale": {
           "diverging": [
            [
             0,
             "#8e0152"
            ],
            [
             0.1,
             "#c51b7d"
            ],
            [
             0.2,
             "#de77ae"
            ],
            [
             0.3,
             "#f1b6da"
            ],
            [
             0.4,
             "#fde0ef"
            ],
            [
             0.5,
             "#f7f7f7"
            ],
            [
             0.6,
             "#e6f5d0"
            ],
            [
             0.7,
             "#b8e186"
            ],
            [
             0.8,
             "#7fbc41"
            ],
            [
             0.9,
             "#4d9221"
            ],
            [
             1,
             "#276419"
            ]
           ],
           "sequential": [
            [
             0,
             "#0d0887"
            ],
            [
             0.1111111111111111,
             "#46039f"
            ],
            [
             0.2222222222222222,
             "#7201a8"
            ],
            [
             0.3333333333333333,
             "#9c179e"
            ],
            [
             0.4444444444444444,
             "#bd3786"
            ],
            [
             0.5555555555555556,
             "#d8576b"
            ],
            [
             0.6666666666666666,
             "#ed7953"
            ],
            [
             0.7777777777777778,
             "#fb9f3a"
            ],
            [
             0.8888888888888888,
             "#fdca26"
            ],
            [
             1,
             "#f0f921"
            ]
           ],
           "sequentialminus": [
            [
             0,
             "#0d0887"
            ],
            [
             0.1111111111111111,
             "#46039f"
            ],
            [
             0.2222222222222222,
             "#7201a8"
            ],
            [
             0.3333333333333333,
             "#9c179e"
            ],
            [
             0.4444444444444444,
             "#bd3786"
            ],
            [
             0.5555555555555556,
             "#d8576b"
            ],
            [
             0.6666666666666666,
             "#ed7953"
            ],
            [
             0.7777777777777778,
             "#fb9f3a"
            ],
            [
             0.8888888888888888,
             "#fdca26"
            ],
            [
             1,
             "#f0f921"
            ]
           ]
          },
          "colorway": [
           "#636efa",
           "#EF553B",
           "#00cc96",
           "#ab63fa",
           "#FFA15A",
           "#19d3f3",
           "#FF6692",
           "#B6E880",
           "#FF97FF",
           "#FECB52"
          ],
          "font": {
           "color": "#2a3f5f"
          },
          "geo": {
           "bgcolor": "white",
           "lakecolor": "white",
           "landcolor": "#E5ECF6",
           "showlakes": true,
           "showland": true,
           "subunitcolor": "white"
          },
          "hoverlabel": {
           "align": "left"
          },
          "hovermode": "closest",
          "mapbox": {
           "style": "light"
          },
          "paper_bgcolor": "white",
          "plot_bgcolor": "#E5ECF6",
          "polar": {
           "angularaxis": {
            "gridcolor": "white",
            "linecolor": "white",
            "ticks": ""
           },
           "bgcolor": "#E5ECF6",
           "radialaxis": {
            "gridcolor": "white",
            "linecolor": "white",
            "ticks": ""
           }
          },
          "scene": {
           "xaxis": {
            "backgroundcolor": "#E5ECF6",
            "gridcolor": "white",
            "gridwidth": 2,
            "linecolor": "white",
            "showbackground": true,
            "ticks": "",
            "zerolinecolor": "white"
           },
           "yaxis": {
            "backgroundcolor": "#E5ECF6",
            "gridcolor": "white",
            "gridwidth": 2,
            "linecolor": "white",
            "showbackground": true,
            "ticks": "",
            "zerolinecolor": "white"
           },
           "zaxis": {
            "backgroundcolor": "#E5ECF6",
            "gridcolor": "white",
            "gridwidth": 2,
            "linecolor": "white",
            "showbackground": true,
            "ticks": "",
            "zerolinecolor": "white"
           }
          },
          "shapedefaults": {
           "line": {
            "color": "#2a3f5f"
           }
          },
          "ternary": {
           "aaxis": {
            "gridcolor": "white",
            "linecolor": "white",
            "ticks": ""
           },
           "baxis": {
            "gridcolor": "white",
            "linecolor": "white",
            "ticks": ""
           },
           "bgcolor": "#E5ECF6",
           "caxis": {
            "gridcolor": "white",
            "linecolor": "white",
            "ticks": ""
           }
          },
          "title": {
           "x": 0.05
          },
          "xaxis": {
           "automargin": true,
           "gridcolor": "white",
           "linecolor": "white",
           "ticks": "",
           "title": {
            "standoff": 15
           },
           "zerolinecolor": "white",
           "zerolinewidth": 2
          },
          "yaxis": {
           "automargin": true,
           "gridcolor": "white",
           "linecolor": "white",
           "ticks": "",
           "title": {
            "standoff": 15
           },
           "zerolinecolor": "white",
           "zerolinewidth": 2
          }
         }
        },
        "title": {
         "font": {
          "color": "#4D5663"
         }
        },
        "xaxis": {
         "gridcolor": "#E1E5ED",
         "showgrid": true,
         "tickfont": {
          "color": "#4D5663"
         },
         "title": {
          "font": {
           "color": "#4D5663"
          },
          "text": ""
         },
         "zerolinecolor": "#E1E5ED"
        },
        "yaxis": {
         "gridcolor": "#E1E5ED",
         "showgrid": true,
         "tickfont": {
          "color": "#4D5663"
         },
         "title": {
          "font": {
           "color": "#4D5663"
          },
          "text": ""
         },
         "zerolinecolor": "#E1E5ED"
        }
       }
      },
      "text/html": [
       "<div>                            <div id=\"6e522bf5-a5b9-4931-851b-cccd13021dc3\" class=\"plotly-graph-div\" style=\"height:525px; width:100%;\"></div>            <script type=\"text/javascript\">                require([\"plotly\"], function(Plotly) {                    window.PLOTLYENV=window.PLOTLYENV || {};\n",
       "                    window.PLOTLYENV.BASE_URL='https://plot.ly';                                    if (document.getElementById(\"6e522bf5-a5b9-4931-851b-cccd13021dc3\")) {                    Plotly.newPlot(                        \"6e522bf5-a5b9-4931-851b-cccd13021dc3\",                        [{\"marker\": {\"color\": \"rgba(255, 153, 51, 0.6)\", \"line\": {\"color\": \"rgba(255, 153, 51, 1.0)\", \"width\": 1}}, \"name\": \"Values\", \"orientation\": \"v\", \"text\": \"\", \"type\": \"bar\", \"x\": [\"A\", \"B\", \"C\"], \"y\": [32, 43, 50]}],                        {\"legend\": {\"bgcolor\": \"#F5F6F9\", \"font\": {\"color\": \"#4D5663\"}}, \"paper_bgcolor\": \"#F5F6F9\", \"plot_bgcolor\": \"#F5F6F9\", \"template\": {\"data\": {\"bar\": [{\"error_x\": {\"color\": \"#2a3f5f\"}, \"error_y\": {\"color\": \"#2a3f5f\"}, \"marker\": {\"line\": {\"color\": \"#E5ECF6\", \"width\": 0.5}}, \"type\": \"bar\"}], \"barpolar\": [{\"marker\": {\"line\": {\"color\": \"#E5ECF6\", \"width\": 0.5}}, \"type\": \"barpolar\"}], \"carpet\": [{\"aaxis\": {\"endlinecolor\": \"#2a3f5f\", \"gridcolor\": \"white\", \"linecolor\": \"white\", \"minorgridcolor\": \"white\", \"startlinecolor\": \"#2a3f5f\"}, \"baxis\": {\"endlinecolor\": \"#2a3f5f\", \"gridcolor\": \"white\", \"linecolor\": \"white\", \"minorgridcolor\": \"white\", \"startlinecolor\": \"#2a3f5f\"}, \"type\": \"carpet\"}], \"choropleth\": [{\"colorbar\": {\"outlinewidth\": 0, \"ticks\": \"\"}, \"type\": \"choropleth\"}], \"contour\": [{\"colorbar\": {\"outlinewidth\": 0, \"ticks\": \"\"}, \"colorscale\": [[0.0, \"#0d0887\"], [0.1111111111111111, \"#46039f\"], [0.2222222222222222, \"#7201a8\"], [0.3333333333333333, \"#9c179e\"], [0.4444444444444444, \"#bd3786\"], [0.5555555555555556, \"#d8576b\"], [0.6666666666666666, \"#ed7953\"], [0.7777777777777778, \"#fb9f3a\"], [0.8888888888888888, \"#fdca26\"], [1.0, \"#f0f921\"]], \"type\": \"contour\"}], \"contourcarpet\": [{\"colorbar\": {\"outlinewidth\": 0, \"ticks\": \"\"}, \"type\": \"contourcarpet\"}], \"heatmap\": [{\"colorbar\": {\"outlinewidth\": 0, \"ticks\": \"\"}, \"colorscale\": [[0.0, \"#0d0887\"], [0.1111111111111111, \"#46039f\"], [0.2222222222222222, \"#7201a8\"], [0.3333333333333333, \"#9c179e\"], [0.4444444444444444, \"#bd3786\"], [0.5555555555555556, \"#d8576b\"], [0.6666666666666666, \"#ed7953\"], [0.7777777777777778, \"#fb9f3a\"], [0.8888888888888888, \"#fdca26\"], [1.0, \"#f0f921\"]], \"type\": \"heatmap\"}], \"heatmapgl\": [{\"colorbar\": {\"outlinewidth\": 0, \"ticks\": \"\"}, \"colorscale\": [[0.0, \"#0d0887\"], [0.1111111111111111, \"#46039f\"], [0.2222222222222222, \"#7201a8\"], [0.3333333333333333, \"#9c179e\"], [0.4444444444444444, \"#bd3786\"], [0.5555555555555556, \"#d8576b\"], [0.6666666666666666, \"#ed7953\"], [0.7777777777777778, \"#fb9f3a\"], [0.8888888888888888, \"#fdca26\"], [1.0, \"#f0f921\"]], \"type\": \"heatmapgl\"}], \"histogram\": [{\"marker\": {\"colorbar\": {\"outlinewidth\": 0, \"ticks\": \"\"}}, \"type\": \"histogram\"}], \"histogram2d\": [{\"colorbar\": {\"outlinewidth\": 0, \"ticks\": \"\"}, \"colorscale\": [[0.0, \"#0d0887\"], [0.1111111111111111, \"#46039f\"], [0.2222222222222222, \"#7201a8\"], [0.3333333333333333, \"#9c179e\"], [0.4444444444444444, \"#bd3786\"], [0.5555555555555556, \"#d8576b\"], [0.6666666666666666, \"#ed7953\"], [0.7777777777777778, \"#fb9f3a\"], [0.8888888888888888, \"#fdca26\"], [1.0, \"#f0f921\"]], \"type\": \"histogram2d\"}], \"histogram2dcontour\": [{\"colorbar\": {\"outlinewidth\": 0, \"ticks\": \"\"}, \"colorscale\": [[0.0, \"#0d0887\"], [0.1111111111111111, \"#46039f\"], [0.2222222222222222, \"#7201a8\"], [0.3333333333333333, \"#9c179e\"], [0.4444444444444444, \"#bd3786\"], [0.5555555555555556, \"#d8576b\"], [0.6666666666666666, \"#ed7953\"], [0.7777777777777778, \"#fb9f3a\"], [0.8888888888888888, \"#fdca26\"], [1.0, \"#f0f921\"]], \"type\": \"histogram2dcontour\"}], \"mesh3d\": [{\"colorbar\": {\"outlinewidth\": 0, \"ticks\": \"\"}, \"type\": \"mesh3d\"}], \"parcoords\": [{\"line\": {\"colorbar\": {\"outlinewidth\": 0, \"ticks\": \"\"}}, \"type\": \"parcoords\"}], \"pie\": [{\"automargin\": true, \"type\": \"pie\"}], \"scatter\": [{\"marker\": {\"colorbar\": {\"outlinewidth\": 0, \"ticks\": \"\"}}, \"type\": \"scatter\"}], \"scatter3d\": [{\"line\": {\"colorbar\": {\"outlinewidth\": 0, \"ticks\": \"\"}}, \"marker\": {\"colorbar\": {\"outlinewidth\": 0, \"ticks\": \"\"}}, \"type\": \"scatter3d\"}], \"scattercarpet\": [{\"marker\": {\"colorbar\": {\"outlinewidth\": 0, \"ticks\": \"\"}}, \"type\": \"scattercarpet\"}], \"scattergeo\": [{\"marker\": {\"colorbar\": {\"outlinewidth\": 0, \"ticks\": \"\"}}, \"type\": \"scattergeo\"}], \"scattergl\": [{\"marker\": {\"colorbar\": {\"outlinewidth\": 0, \"ticks\": \"\"}}, \"type\": \"scattergl\"}], \"scattermapbox\": [{\"marker\": {\"colorbar\": {\"outlinewidth\": 0, \"ticks\": \"\"}}, \"type\": \"scattermapbox\"}], \"scatterpolar\": [{\"marker\": {\"colorbar\": {\"outlinewidth\": 0, \"ticks\": \"\"}}, \"type\": \"scatterpolar\"}], \"scatterpolargl\": [{\"marker\": {\"colorbar\": {\"outlinewidth\": 0, \"ticks\": \"\"}}, \"type\": \"scatterpolargl\"}], \"scatterternary\": [{\"marker\": {\"colorbar\": {\"outlinewidth\": 0, \"ticks\": \"\"}}, \"type\": \"scatterternary\"}], \"surface\": [{\"colorbar\": {\"outlinewidth\": 0, \"ticks\": \"\"}, \"colorscale\": [[0.0, \"#0d0887\"], [0.1111111111111111, \"#46039f\"], [0.2222222222222222, \"#7201a8\"], [0.3333333333333333, \"#9c179e\"], [0.4444444444444444, \"#bd3786\"], [0.5555555555555556, \"#d8576b\"], [0.6666666666666666, \"#ed7953\"], [0.7777777777777778, \"#fb9f3a\"], [0.8888888888888888, \"#fdca26\"], [1.0, \"#f0f921\"]], \"type\": \"surface\"}], \"table\": [{\"cells\": {\"fill\": {\"color\": \"#EBF0F8\"}, \"line\": {\"color\": \"white\"}}, \"header\": {\"fill\": {\"color\": \"#C8D4E3\"}, \"line\": {\"color\": \"white\"}}, \"type\": \"table\"}]}, \"layout\": {\"annotationdefaults\": {\"arrowcolor\": \"#2a3f5f\", \"arrowhead\": 0, \"arrowwidth\": 1}, \"coloraxis\": {\"colorbar\": {\"outlinewidth\": 0, \"ticks\": \"\"}}, \"colorscale\": {\"diverging\": [[0, \"#8e0152\"], [0.1, \"#c51b7d\"], [0.2, \"#de77ae\"], [0.3, \"#f1b6da\"], [0.4, \"#fde0ef\"], [0.5, \"#f7f7f7\"], [0.6, \"#e6f5d0\"], [0.7, \"#b8e186\"], [0.8, \"#7fbc41\"], [0.9, \"#4d9221\"], [1, \"#276419\"]], \"sequential\": [[0.0, \"#0d0887\"], [0.1111111111111111, \"#46039f\"], [0.2222222222222222, \"#7201a8\"], [0.3333333333333333, \"#9c179e\"], [0.4444444444444444, \"#bd3786\"], [0.5555555555555556, \"#d8576b\"], [0.6666666666666666, \"#ed7953\"], [0.7777777777777778, \"#fb9f3a\"], [0.8888888888888888, \"#fdca26\"], [1.0, \"#f0f921\"]], \"sequentialminus\": [[0.0, \"#0d0887\"], [0.1111111111111111, \"#46039f\"], [0.2222222222222222, \"#7201a8\"], [0.3333333333333333, \"#9c179e\"], [0.4444444444444444, \"#bd3786\"], [0.5555555555555556, \"#d8576b\"], [0.6666666666666666, \"#ed7953\"], [0.7777777777777778, \"#fb9f3a\"], [0.8888888888888888, \"#fdca26\"], [1.0, \"#f0f921\"]]}, \"colorway\": [\"#636efa\", \"#EF553B\", \"#00cc96\", \"#ab63fa\", \"#FFA15A\", \"#19d3f3\", \"#FF6692\", \"#B6E880\", \"#FF97FF\", \"#FECB52\"], \"font\": {\"color\": \"#2a3f5f\"}, \"geo\": {\"bgcolor\": \"white\", \"lakecolor\": \"white\", \"landcolor\": \"#E5ECF6\", \"showlakes\": true, \"showland\": true, \"subunitcolor\": \"white\"}, \"hoverlabel\": {\"align\": \"left\"}, \"hovermode\": \"closest\", \"mapbox\": {\"style\": \"light\"}, \"paper_bgcolor\": \"white\", \"plot_bgcolor\": \"#E5ECF6\", \"polar\": {\"angularaxis\": {\"gridcolor\": \"white\", \"linecolor\": \"white\", \"ticks\": \"\"}, \"bgcolor\": \"#E5ECF6\", \"radialaxis\": {\"gridcolor\": \"white\", \"linecolor\": \"white\", \"ticks\": \"\"}}, \"scene\": {\"xaxis\": {\"backgroundcolor\": \"#E5ECF6\", \"gridcolor\": \"white\", \"gridwidth\": 2, \"linecolor\": \"white\", \"showbackground\": true, \"ticks\": \"\", \"zerolinecolor\": \"white\"}, \"yaxis\": {\"backgroundcolor\": \"#E5ECF6\", \"gridcolor\": \"white\", \"gridwidth\": 2, \"linecolor\": \"white\", \"showbackground\": true, \"ticks\": \"\", \"zerolinecolor\": \"white\"}, \"zaxis\": {\"backgroundcolor\": \"#E5ECF6\", \"gridcolor\": \"white\", \"gridwidth\": 2, \"linecolor\": \"white\", \"showbackground\": true, \"ticks\": \"\", \"zerolinecolor\": \"white\"}}, \"shapedefaults\": {\"line\": {\"color\": \"#2a3f5f\"}}, \"ternary\": {\"aaxis\": {\"gridcolor\": \"white\", \"linecolor\": \"white\", \"ticks\": \"\"}, \"baxis\": {\"gridcolor\": \"white\", \"linecolor\": \"white\", \"ticks\": \"\"}, \"bgcolor\": \"#E5ECF6\", \"caxis\": {\"gridcolor\": \"white\", \"linecolor\": \"white\", \"ticks\": \"\"}}, \"title\": {\"x\": 0.05}, \"xaxis\": {\"automargin\": true, \"gridcolor\": \"white\", \"linecolor\": \"white\", \"ticks\": \"\", \"title\": {\"standoff\": 15}, \"zerolinecolor\": \"white\", \"zerolinewidth\": 2}, \"yaxis\": {\"automargin\": true, \"gridcolor\": \"white\", \"linecolor\": \"white\", \"ticks\": \"\", \"title\": {\"standoff\": 15}, \"zerolinecolor\": \"white\", \"zerolinewidth\": 2}}}, \"title\": {\"font\": {\"color\": \"#4D5663\"}}, \"xaxis\": {\"gridcolor\": \"#E1E5ED\", \"showgrid\": true, \"tickfont\": {\"color\": \"#4D5663\"}, \"title\": {\"font\": {\"color\": \"#4D5663\"}, \"text\": \"\"}, \"zerolinecolor\": \"#E1E5ED\"}, \"yaxis\": {\"gridcolor\": \"#E1E5ED\", \"showgrid\": true, \"tickfont\": {\"color\": \"#4D5663\"}, \"title\": {\"font\": {\"color\": \"#4D5663\"}, \"text\": \"\"}, \"zerolinecolor\": \"#E1E5ED\"}},                        {\"showLink\": true, \"linkText\": \"Export to plot.ly\", \"plotlyServerURL\": \"https://plot.ly\", \"responsive\": true}                    ).then(function(){\n",
       "                            \n",
       "var gd = document.getElementById('6e522bf5-a5b9-4931-851b-cccd13021dc3');\n",
       "var x = new MutationObserver(function (mutations, observer) {{\n",
       "        var display = window.getComputedStyle(gd).display;\n",
       "        if (!display || display === 'none') {{\n",
       "            console.log([gd, 'removed!']);\n",
       "            Plotly.purge(gd);\n",
       "            observer.disconnect();\n",
       "        }}\n",
       "}});\n",
       "\n",
       "// Listen for the removal of the full notebook cells\n",
       "var notebookContainer = gd.closest('#notebook-container');\n",
       "if (notebookContainer) {{\n",
       "    x.observe(notebookContainer, {childList: true});\n",
       "}}\n",
       "\n",
       "// Listen for the clearing of the current output cell\n",
       "var outputEl = gd.closest('.output');\n",
       "if (outputEl) {{\n",
       "    x.observe(outputEl, {childList: true});\n",
       "}}\n",
       "\n",
       "                        })                };                });            </script>        </div>"
      ]
     },
     "metadata": {},
     "output_type": "display_data"
    }
   ],
   "source": [
    "df2.iplot(kind='bar',x='Category',y='Values')"
   ]
  },
  {
   "cell_type": "code",
   "execution_count": 15,
   "metadata": {},
   "outputs": [
    {
     "data": {
      "text/html": [
       "<div>\n",
       "<style scoped>\n",
       "    .dataframe tbody tr th:only-of-type {\n",
       "        vertical-align: middle;\n",
       "    }\n",
       "\n",
       "    .dataframe tbody tr th {\n",
       "        vertical-align: top;\n",
       "    }\n",
       "\n",
       "    .dataframe thead th {\n",
       "        text-align: right;\n",
       "    }\n",
       "</style>\n",
       "<table border=\"1\" class=\"dataframe\">\n",
       "  <thead>\n",
       "    <tr style=\"text-align: right;\">\n",
       "      <th></th>\n",
       "      <th>A</th>\n",
       "      <th>B</th>\n",
       "      <th>C</th>\n",
       "      <th>D</th>\n",
       "    </tr>\n",
       "  </thead>\n",
       "  <tbody>\n",
       "    <tr>\n",
       "      <th>0</th>\n",
       "      <td>-1.813929</td>\n",
       "      <td>0.066075</td>\n",
       "      <td>-0.630102</td>\n",
       "      <td>-1.011188</td>\n",
       "    </tr>\n",
       "    <tr>\n",
       "      <th>1</th>\n",
       "      <td>-0.274329</td>\n",
       "      <td>-1.528108</td>\n",
       "      <td>0.435730</td>\n",
       "      <td>-2.316364</td>\n",
       "    </tr>\n",
       "    <tr>\n",
       "      <th>2</th>\n",
       "      <td>0.625302</td>\n",
       "      <td>-0.041633</td>\n",
       "      <td>-0.175123</td>\n",
       "      <td>-1.624289</td>\n",
       "    </tr>\n",
       "    <tr>\n",
       "      <th>3</th>\n",
       "      <td>-1.455487</td>\n",
       "      <td>-0.770648</td>\n",
       "      <td>-0.331721</td>\n",
       "      <td>-0.851712</td>\n",
       "    </tr>\n",
       "    <tr>\n",
       "      <th>4</th>\n",
       "      <td>3.132855</td>\n",
       "      <td>0.911796</td>\n",
       "      <td>1.086027</td>\n",
       "      <td>0.531461</td>\n",
       "    </tr>\n",
       "    <tr>\n",
       "      <th>...</th>\n",
       "      <td>...</td>\n",
       "      <td>...</td>\n",
       "      <td>...</td>\n",
       "      <td>...</td>\n",
       "    </tr>\n",
       "    <tr>\n",
       "      <th>95</th>\n",
       "      <td>0.790519</td>\n",
       "      <td>0.414697</td>\n",
       "      <td>0.552252</td>\n",
       "      <td>-0.697892</td>\n",
       "    </tr>\n",
       "    <tr>\n",
       "      <th>96</th>\n",
       "      <td>-1.448122</td>\n",
       "      <td>-0.105886</td>\n",
       "      <td>-0.533866</td>\n",
       "      <td>-0.561039</td>\n",
       "    </tr>\n",
       "    <tr>\n",
       "      <th>97</th>\n",
       "      <td>1.054877</td>\n",
       "      <td>-0.961029</td>\n",
       "      <td>-0.763568</td>\n",
       "      <td>-0.738045</td>\n",
       "    </tr>\n",
       "    <tr>\n",
       "      <th>98</th>\n",
       "      <td>-0.688087</td>\n",
       "      <td>1.712704</td>\n",
       "      <td>-1.310234</td>\n",
       "      <td>0.252366</td>\n",
       "    </tr>\n",
       "    <tr>\n",
       "      <th>99</th>\n",
       "      <td>0.832101</td>\n",
       "      <td>-1.096321</td>\n",
       "      <td>-0.303832</td>\n",
       "      <td>-0.268100</td>\n",
       "    </tr>\n",
       "  </tbody>\n",
       "</table>\n",
       "<p>100 rows × 4 columns</p>\n",
       "</div>"
      ],
      "text/plain": [
       "           A         B         C         D\n",
       "0  -1.813929  0.066075 -0.630102 -1.011188\n",
       "1  -0.274329 -1.528108  0.435730 -2.316364\n",
       "2   0.625302 -0.041633 -0.175123 -1.624289\n",
       "3  -1.455487 -0.770648 -0.331721 -0.851712\n",
       "4   3.132855  0.911796  1.086027  0.531461\n",
       "..       ...       ...       ...       ...\n",
       "95  0.790519  0.414697  0.552252 -0.697892\n",
       "96 -1.448122 -0.105886 -0.533866 -0.561039\n",
       "97  1.054877 -0.961029 -0.763568 -0.738045\n",
       "98 -0.688087  1.712704 -1.310234  0.252366\n",
       "99  0.832101 -1.096321 -0.303832 -0.268100\n",
       "\n",
       "[100 rows x 4 columns]"
      ]
     },
     "execution_count": 15,
     "metadata": {},
     "output_type": "execute_result"
    }
   ],
   "source": [
    "df"
   ]
  },
  {
   "cell_type": "code",
   "execution_count": 16,
   "metadata": {},
   "outputs": [
    {
     "data": {
      "application/vnd.plotly.v1+json": {
       "config": {
        "linkText": "Export to plot.ly",
        "plotlyServerURL": "https://plot.ly",
        "showLink": true
       },
       "data": [
        {
         "marker": {
          "color": "rgba(255, 153, 51, 0.6)",
          "line": {
           "color": "rgba(255, 153, 51, 1.0)",
           "width": 1
          }
         },
         "name": "A",
         "orientation": "v",
         "text": "",
         "type": "bar",
         "x": [
          0,
          1,
          2,
          3,
          4,
          5,
          6,
          7,
          8,
          9,
          10,
          11,
          12,
          13,
          14,
          15,
          16,
          17,
          18,
          19,
          20,
          21,
          22,
          23,
          24,
          25,
          26,
          27,
          28,
          29,
          30,
          31,
          32,
          33,
          34,
          35,
          36,
          37,
          38,
          39,
          40,
          41,
          42,
          43,
          44,
          45,
          46,
          47,
          48,
          49,
          50,
          51,
          52,
          53,
          54,
          55,
          56,
          57,
          58,
          59,
          60,
          61,
          62,
          63,
          64,
          65,
          66,
          67,
          68,
          69,
          70,
          71,
          72,
          73,
          74,
          75,
          76,
          77,
          78,
          79,
          80,
          81,
          82,
          83,
          84,
          85,
          86,
          87,
          88,
          89,
          90,
          91,
          92,
          93,
          94,
          95,
          96,
          97,
          98,
          99
         ],
         "y": [
          -1.813928762203615,
          -0.27432866383219695,
          0.6253015850617543,
          -1.4554873129592596,
          3.1328551351380627,
          0.5830754004780817,
          -1.0020516684184995,
          0.8064168386351752,
          0.5811933408652084,
          -0.9944438998596266,
          0.4275666091292003,
          0.6662959061293554,
          -1.238164143354905,
          0.9090650323908503,
          -0.49040851975783545,
          -0.7393550945325827,
          -0.7793251281906282,
          -0.05941256700603647,
          0.9388278444558112,
          0.3935996182797066,
          0.16843035826535743,
          -0.012388439012577619,
          0.7395802840689866,
          -0.19026779482997197,
          0.4230286270538319,
          1.8825534628198763,
          0.6792062135611023,
          -0.7283045371389388,
          0.331562460056705,
          0.2224405058905905,
          -1.3799354855474406,
          -0.3385234291662567,
          -0.9601730674482541,
          0.9781186597538379,
          -0.36014012323212297,
          1.6657581634486944,
          -0.4060458883211332,
          -0.3437873974775657,
          -0.3159735282471693,
          0.2856169914812245,
          0.5356232663163358,
          1.7209794482450487,
          0.7695983815039918,
          -0.3502530607639093,
          1.4561969592276458,
          -1.2192118463452706,
          -1.8439425232876443,
          -0.16185314773537718,
          -2.2584691292426995,
          0.20668409063634077,
          0.10523795995373263,
          -0.5332600333840517,
          0.10144869460873746,
          0.07483099737369392,
          1.0004006969285233,
          2.0963567904539984,
          0.891356549589474,
          0.18357909269892975,
          0.5205225909418235,
          -3.585299735690124,
          2.0977439105921447,
          -1.2955859707208526,
          -0.9584729751445248,
          0.7526828628622835,
          0.054739649265246625,
          1.3611975574860573,
          -0.6097708748596224,
          -0.9643502021589745,
          0.5368043250165858,
          0.13875449188853514,
          -0.5876092434989054,
          -1.2344018269686825,
          1.0504571633296549,
          -0.2204388885957174,
          0.7711069197105281,
          0.46146549667245335,
          0.7573989338187541,
          -0.7355093559491815,
          -1.3541977713653937,
          0.6750110906973829,
          -0.43262585616148436,
          -1.0891328225541235,
          2.7954380383382986,
          0.302944404393466,
          -1.2646747787997918,
          -1.0217711184638374,
          0.8318181316682784,
          1.9247298626545357,
          -0.8125340582765815,
          1.4342509413347753,
          0.001182431893759971,
          0.635324691438933,
          -1.7232327742362592,
          -0.16876474281444187,
          -0.7611152815666171,
          0.7905192080046453,
          -1.4481216932674335,
          1.0548770968980319,
          -0.6880870636604127,
          0.832100967986984
         ]
        },
        {
         "marker": {
          "color": "rgba(55, 128, 191, 0.6)",
          "line": {
           "color": "rgba(55, 128, 191, 1.0)",
           "width": 1
          }
         },
         "name": " B",
         "orientation": "v",
         "text": "",
         "type": "bar",
         "x": [
          0,
          1,
          2,
          3,
          4,
          5,
          6,
          7,
          8,
          9,
          10,
          11,
          12,
          13,
          14,
          15,
          16,
          17,
          18,
          19,
          20,
          21,
          22,
          23,
          24,
          25,
          26,
          27,
          28,
          29,
          30,
          31,
          32,
          33,
          34,
          35,
          36,
          37,
          38,
          39,
          40,
          41,
          42,
          43,
          44,
          45,
          46,
          47,
          48,
          49,
          50,
          51,
          52,
          53,
          54,
          55,
          56,
          57,
          58,
          59,
          60,
          61,
          62,
          63,
          64,
          65,
          66,
          67,
          68,
          69,
          70,
          71,
          72,
          73,
          74,
          75,
          76,
          77,
          78,
          79,
          80,
          81,
          82,
          83,
          84,
          85,
          86,
          87,
          88,
          89,
          90,
          91,
          92,
          93,
          94,
          95,
          96,
          97,
          98,
          99
         ],
         "y": [
          0.06607532805502836,
          -1.528107619816387,
          -0.04163283728633416,
          -0.7706475003863795,
          0.9117964511744421,
          0.3160333209024703,
          -0.35214282642480327,
          -0.02618612096949382,
          1.2644498870723055,
          -0.9068185773780801,
          0.26288614614799716,
          -0.046467821091040175,
          0.8743018075416046,
          -0.7564220582153313,
          0.12929642753160087,
          -0.5260854771844939,
          0.33084348980602923,
          0.7677227514050637,
          1.2504745084602207,
          -1.12519028900167,
          1.1569042524778639,
          -1.3643697767185698,
          1.9983462969915011,
          -0.33738753487230166,
          -1.1738900363908473,
          0.7543558294633994,
          -1.5238288699068767,
          0.29533625365104715,
          -0.3169414908707511,
          0.15711619258173296,
          1.1279733827821372,
          0.11585759561734126,
          -0.30801522068031384,
          -0.6222482817949655,
          -0.3803606723353231,
          -0.29783834100175244,
          0.7184755759569819,
          0.28609133401980774,
          0.3200915982775872,
          -0.5714930573842417,
          -0.40998012069775264,
          1.589973849516675,
          -1.1412128315552295,
          1.5284836561360375,
          -1.544062949051292,
          -0.6189456408291336,
          -1.1231535097289305,
          -0.31839251610440555,
          0.8108866683209592,
          -0.1701237199131937,
          -0.5196808094388915,
          -0.4288547611657743,
          2.6267961784086635,
          0.21741621305649667,
          -0.8847238274333918,
          0.907266637127421,
          -0.29826398630860534,
          0.038733439291478364,
          -0.6781679634579276,
          0.6794258877045709,
          1.578962557356742,
          0.9520780745187442,
          0.10848531705538965,
          0.2634018037947715,
          -1.8730495843445816,
          -1.1007852572841281,
          0.15383669021895283,
          0.13561515920475276,
          1.4338663853394957,
          -1.3051253146135118,
          -0.4903038089102943,
          -0.9346612641078509,
          0.18248454238271847,
          -0.5139251929810493,
          0.019680515568265725,
          2.3324306208343457,
          1.3331545733934835,
          0.9131709172490181,
          -0.6188639852879898,
          -0.5237469044309213,
          0.006220082237387996,
          0.9867711580632222,
          0.13666481023886567,
          -0.43524612435870697,
          -1.9834319923093768,
          0.19897435654520884,
          0.8066107472903946,
          -0.19016463079348656,
          -1.2068849207989825,
          1.1407873095783347,
          0.07039659499669877,
          -1.9172967095502897,
          -0.7571867403676952,
          -0.08664896456696335,
          -1.7491323657818165,
          0.4146967883813452,
          -0.10588621508014771,
          -0.9610291029588819,
          1.7127042146628901,
          -1.0963214697248111
         ]
        },
        {
         "marker": {
          "color": "rgba(50, 171, 96, 0.6)",
          "line": {
           "color": "rgba(50, 171, 96, 1.0)",
           "width": 1
          }
         },
         "name": " C",
         "orientation": "v",
         "text": "",
         "type": "bar",
         "x": [
          0,
          1,
          2,
          3,
          4,
          5,
          6,
          7,
          8,
          9,
          10,
          11,
          12,
          13,
          14,
          15,
          16,
          17,
          18,
          19,
          20,
          21,
          22,
          23,
          24,
          25,
          26,
          27,
          28,
          29,
          30,
          31,
          32,
          33,
          34,
          35,
          36,
          37,
          38,
          39,
          40,
          41,
          42,
          43,
          44,
          45,
          46,
          47,
          48,
          49,
          50,
          51,
          52,
          53,
          54,
          55,
          56,
          57,
          58,
          59,
          60,
          61,
          62,
          63,
          64,
          65,
          66,
          67,
          68,
          69,
          70,
          71,
          72,
          73,
          74,
          75,
          76,
          77,
          78,
          79,
          80,
          81,
          82,
          83,
          84,
          85,
          86,
          87,
          88,
          89,
          90,
          91,
          92,
          93,
          94,
          95,
          96,
          97,
          98,
          99
         ],
         "y": [
          -0.6301023794246419,
          0.4357301707875016,
          -0.17512327177059372,
          -0.33172139359948627,
          1.0860270374182082,
          1.5578102790077577,
          0.10921000039291086,
          0.47975672651862417,
          0.6868488945369972,
          0.8139370383956844,
          0.7041243679282764,
          1.0182379460052986,
          -2.0607927949573766,
          1.1484535038356947,
          1.226120837709135,
          -0.16986108807994096,
          0.1193689944403312,
          -0.5063444170002459,
          -0.9377748263718966,
          -1.7399253090209923,
          -1.3161030842439596,
          0.18373574237172444,
          0.426982946146418,
          -0.10311223535014125,
          -0.5403719663905288,
          1.9131963736181625,
          -0.5533099493738904,
          -1.1679167579893213,
          0.634576597947057,
          0.6993786461780146,
          -0.6049603633496771,
          0.21311781236826713,
          0.2856350325594933,
          -0.11575715142326716,
          -1.5554357845325049,
          -1.093183391527334,
          1.3257323392062614,
          -0.4658454404651565,
          -1.5785122787164738,
          -0.2146295936329527,
          -0.9416923218868847,
          -1.021628369660526,
          0.3885976066961738,
          -0.6723468516557422,
          -1.676589938526112,
          0.13688789753714625,
          -0.6573754867078802,
          0.1493839743995519,
          0.5489453703430955,
          0.3084909962884788,
          0.9068358189202446,
          0.3909748834936724,
          -0.21585111542729296,
          0.34475189310976895,
          0.29749765571024417,
          -0.13524800231558745,
          -1.397619551883165,
          -0.5084538843051116,
          -0.48312186514783134,
          0.7540747410064647,
          0.5897196669393377,
          0.7153842703988478,
          -1.2387017678255814,
          0.85333000326993,
          1.5469625924019812,
          0.7283883813034016,
          0.8933380474417769,
          1.730083091312605,
          0.8249676590941966,
          -0.8570759473768227,
          -0.7959583476157124,
          1.0039673183761177,
          -0.4262475039524332,
          1.0493957346735698,
          0.3775692521125136,
          0.17101173494734248,
          0.6964575629993139,
          0.7114741067829303,
          -0.04069724778587497,
          1.0686053190552376,
          0.43997290954924634,
          -0.23720792965727225,
          -1.2901923390848837,
          0.8594694988318241,
          0.27480140708485706,
          1.1062215108815179,
          1.2528812041929058,
          -0.23652497216148818,
          1.1973812223151674,
          0.4532822614972701,
          0.5834143414906299,
          -1.315740314559659,
          -0.48167782873832066,
          0.150135513770157,
          1.2319465710128106,
          0.5522519083646604,
          -0.5338655721071706,
          -0.7635684141689963,
          -1.3102337741489998,
          -0.30383153629702575
         ]
        },
        {
         "marker": {
          "color": "rgba(128, 0, 128, 0.6)",
          "line": {
           "color": "rgba(128, 0, 128, 1.0)",
           "width": 1
          }
         },
         "name": " D",
         "orientation": "v",
         "text": "",
         "type": "bar",
         "x": [
          0,
          1,
          2,
          3,
          4,
          5,
          6,
          7,
          8,
          9,
          10,
          11,
          12,
          13,
          14,
          15,
          16,
          17,
          18,
          19,
          20,
          21,
          22,
          23,
          24,
          25,
          26,
          27,
          28,
          29,
          30,
          31,
          32,
          33,
          34,
          35,
          36,
          37,
          38,
          39,
          40,
          41,
          42,
          43,
          44,
          45,
          46,
          47,
          48,
          49,
          50,
          51,
          52,
          53,
          54,
          55,
          56,
          57,
          58,
          59,
          60,
          61,
          62,
          63,
          64,
          65,
          66,
          67,
          68,
          69,
          70,
          71,
          72,
          73,
          74,
          75,
          76,
          77,
          78,
          79,
          80,
          81,
          82,
          83,
          84,
          85,
          86,
          87,
          88,
          89,
          90,
          91,
          92,
          93,
          94,
          95,
          96,
          97,
          98,
          99
         ],
         "y": [
          -1.0111881336476827,
          -2.3163642741808976,
          -1.6242892532443898,
          -0.85171202192699,
          0.5314609362901468,
          -0.8054047142149638,
          1.0364985282419623,
          1.5635193435105705,
          0.6206817485758173,
          0.2756368034527986,
          -0.1737124221327595,
          -0.23558793628397254,
          0.5679243551712196,
          -0.20391101279697646,
          -0.9294755501458969,
          1.353156192616572,
          0.6345161578133833,
          -1.3029005148488537,
          1.5996677674531206,
          0.08893310230288523,
          0.5732958293162396,
          -1.4670888886934,
          -0.049286913059220804,
          -0.627996360713206,
          -0.13953479606322342,
          0.8739104888850101,
          1.344693689161325,
          -1.4018411611919517,
          0.9072288551781152,
          0.6696668827316609,
          -1.3002324717324911,
          -1.7479824763912857,
          -1.0720144723465794,
          1.059518095328356,
          1.0510786698599441,
          2.1673649971260094,
          -0.2911702836960015,
          1.8401885855797404,
          0.1677856413168417,
          0.33830508477062143,
          -1.1871823390417775,
          -1.1091586195733587,
          -0.17581813832481047,
          0.000986193119753664,
          1.1553532909714417,
          2.2943625445845526,
          -0.7393572074255726,
          -1.5315098527944657,
          -0.34205909703296106,
          -1.6578285948662244,
          -0.2950538760753234,
          0.859233146913893,
          -0.020052072490140616,
          -1.112421079649855,
          0.5883000662099853,
          0.4102130015609327,
          -0.3079881880171699,
          0.8190615763049187,
          0.8060204911786644,
          2.5036767763396393,
          -0.8882312407234086,
          0.1101172389324017,
          0.08797666417577613,
          -2.2383501635404692,
          0.3431889382789355,
          -1.177437472212664,
          -0.22876817041248756,
          0.9364838140376062,
          -0.4654796893414677,
          0.8889137378778441,
          0.28918487562390827,
          -0.3996793698595338,
          1.4950027594407642,
          0.06175020430779271,
          0.14320008148478522,
          1.283205841430638,
          1.4906324894179084,
          -0.24221475029695208,
          -1.0919648502834551,
          0.39621700365672047,
          1.1170820442854807,
          -1.0383512035368567,
          1.8134937382295007,
          -1.3418474262186975,
          1.4776674959004732,
          -0.1024557653379954,
          -0.8976193002385285,
          0.7137023706291123,
          -0.6689425018961035,
          -0.891101907070919,
          -0.2464645593268506,
          -1.3180457516254374,
          1.029808663199537,
          -0.699840965278621,
          1.5532383641913334,
          -0.6978917960754214,
          -0.5610392279456416,
          -0.7380446706303554,
          0.25236638022887264,
          -0.2681004477533865
         ]
        }
       ],
       "layout": {
        "legend": {
         "bgcolor": "#F5F6F9",
         "font": {
          "color": "#4D5663"
         }
        },
        "paper_bgcolor": "#F5F6F9",
        "plot_bgcolor": "#F5F6F9",
        "template": {
         "data": {
          "bar": [
           {
            "error_x": {
             "color": "#2a3f5f"
            },
            "error_y": {
             "color": "#2a3f5f"
            },
            "marker": {
             "line": {
              "color": "#E5ECF6",
              "width": 0.5
             }
            },
            "type": "bar"
           }
          ],
          "barpolar": [
           {
            "marker": {
             "line": {
              "color": "#E5ECF6",
              "width": 0.5
             }
            },
            "type": "barpolar"
           }
          ],
          "carpet": [
           {
            "aaxis": {
             "endlinecolor": "#2a3f5f",
             "gridcolor": "white",
             "linecolor": "white",
             "minorgridcolor": "white",
             "startlinecolor": "#2a3f5f"
            },
            "baxis": {
             "endlinecolor": "#2a3f5f",
             "gridcolor": "white",
             "linecolor": "white",
             "minorgridcolor": "white",
             "startlinecolor": "#2a3f5f"
            },
            "type": "carpet"
           }
          ],
          "choropleth": [
           {
            "colorbar": {
             "outlinewidth": 0,
             "ticks": ""
            },
            "type": "choropleth"
           }
          ],
          "contour": [
           {
            "colorbar": {
             "outlinewidth": 0,
             "ticks": ""
            },
            "colorscale": [
             [
              0,
              "#0d0887"
             ],
             [
              0.1111111111111111,
              "#46039f"
             ],
             [
              0.2222222222222222,
              "#7201a8"
             ],
             [
              0.3333333333333333,
              "#9c179e"
             ],
             [
              0.4444444444444444,
              "#bd3786"
             ],
             [
              0.5555555555555556,
              "#d8576b"
             ],
             [
              0.6666666666666666,
              "#ed7953"
             ],
             [
              0.7777777777777778,
              "#fb9f3a"
             ],
             [
              0.8888888888888888,
              "#fdca26"
             ],
             [
              1,
              "#f0f921"
             ]
            ],
            "type": "contour"
           }
          ],
          "contourcarpet": [
           {
            "colorbar": {
             "outlinewidth": 0,
             "ticks": ""
            },
            "type": "contourcarpet"
           }
          ],
          "heatmap": [
           {
            "colorbar": {
             "outlinewidth": 0,
             "ticks": ""
            },
            "colorscale": [
             [
              0,
              "#0d0887"
             ],
             [
              0.1111111111111111,
              "#46039f"
             ],
             [
              0.2222222222222222,
              "#7201a8"
             ],
             [
              0.3333333333333333,
              "#9c179e"
             ],
             [
              0.4444444444444444,
              "#bd3786"
             ],
             [
              0.5555555555555556,
              "#d8576b"
             ],
             [
              0.6666666666666666,
              "#ed7953"
             ],
             [
              0.7777777777777778,
              "#fb9f3a"
             ],
             [
              0.8888888888888888,
              "#fdca26"
             ],
             [
              1,
              "#f0f921"
             ]
            ],
            "type": "heatmap"
           }
          ],
          "heatmapgl": [
           {
            "colorbar": {
             "outlinewidth": 0,
             "ticks": ""
            },
            "colorscale": [
             [
              0,
              "#0d0887"
             ],
             [
              0.1111111111111111,
              "#46039f"
             ],
             [
              0.2222222222222222,
              "#7201a8"
             ],
             [
              0.3333333333333333,
              "#9c179e"
             ],
             [
              0.4444444444444444,
              "#bd3786"
             ],
             [
              0.5555555555555556,
              "#d8576b"
             ],
             [
              0.6666666666666666,
              "#ed7953"
             ],
             [
              0.7777777777777778,
              "#fb9f3a"
             ],
             [
              0.8888888888888888,
              "#fdca26"
             ],
             [
              1,
              "#f0f921"
             ]
            ],
            "type": "heatmapgl"
           }
          ],
          "histogram": [
           {
            "marker": {
             "colorbar": {
              "outlinewidth": 0,
              "ticks": ""
             }
            },
            "type": "histogram"
           }
          ],
          "histogram2d": [
           {
            "colorbar": {
             "outlinewidth": 0,
             "ticks": ""
            },
            "colorscale": [
             [
              0,
              "#0d0887"
             ],
             [
              0.1111111111111111,
              "#46039f"
             ],
             [
              0.2222222222222222,
              "#7201a8"
             ],
             [
              0.3333333333333333,
              "#9c179e"
             ],
             [
              0.4444444444444444,
              "#bd3786"
             ],
             [
              0.5555555555555556,
              "#d8576b"
             ],
             [
              0.6666666666666666,
              "#ed7953"
             ],
             [
              0.7777777777777778,
              "#fb9f3a"
             ],
             [
              0.8888888888888888,
              "#fdca26"
             ],
             [
              1,
              "#f0f921"
             ]
            ],
            "type": "histogram2d"
           }
          ],
          "histogram2dcontour": [
           {
            "colorbar": {
             "outlinewidth": 0,
             "ticks": ""
            },
            "colorscale": [
             [
              0,
              "#0d0887"
             ],
             [
              0.1111111111111111,
              "#46039f"
             ],
             [
              0.2222222222222222,
              "#7201a8"
             ],
             [
              0.3333333333333333,
              "#9c179e"
             ],
             [
              0.4444444444444444,
              "#bd3786"
             ],
             [
              0.5555555555555556,
              "#d8576b"
             ],
             [
              0.6666666666666666,
              "#ed7953"
             ],
             [
              0.7777777777777778,
              "#fb9f3a"
             ],
             [
              0.8888888888888888,
              "#fdca26"
             ],
             [
              1,
              "#f0f921"
             ]
            ],
            "type": "histogram2dcontour"
           }
          ],
          "mesh3d": [
           {
            "colorbar": {
             "outlinewidth": 0,
             "ticks": ""
            },
            "type": "mesh3d"
           }
          ],
          "parcoords": [
           {
            "line": {
             "colorbar": {
              "outlinewidth": 0,
              "ticks": ""
             }
            },
            "type": "parcoords"
           }
          ],
          "pie": [
           {
            "automargin": true,
            "type": "pie"
           }
          ],
          "scatter": [
           {
            "marker": {
             "colorbar": {
              "outlinewidth": 0,
              "ticks": ""
             }
            },
            "type": "scatter"
           }
          ],
          "scatter3d": [
           {
            "line": {
             "colorbar": {
              "outlinewidth": 0,
              "ticks": ""
             }
            },
            "marker": {
             "colorbar": {
              "outlinewidth": 0,
              "ticks": ""
             }
            },
            "type": "scatter3d"
           }
          ],
          "scattercarpet": [
           {
            "marker": {
             "colorbar": {
              "outlinewidth": 0,
              "ticks": ""
             }
            },
            "type": "scattercarpet"
           }
          ],
          "scattergeo": [
           {
            "marker": {
             "colorbar": {
              "outlinewidth": 0,
              "ticks": ""
             }
            },
            "type": "scattergeo"
           }
          ],
          "scattergl": [
           {
            "marker": {
             "colorbar": {
              "outlinewidth": 0,
              "ticks": ""
             }
            },
            "type": "scattergl"
           }
          ],
          "scattermapbox": [
           {
            "marker": {
             "colorbar": {
              "outlinewidth": 0,
              "ticks": ""
             }
            },
            "type": "scattermapbox"
           }
          ],
          "scatterpolar": [
           {
            "marker": {
             "colorbar": {
              "outlinewidth": 0,
              "ticks": ""
             }
            },
            "type": "scatterpolar"
           }
          ],
          "scatterpolargl": [
           {
            "marker": {
             "colorbar": {
              "outlinewidth": 0,
              "ticks": ""
             }
            },
            "type": "scatterpolargl"
           }
          ],
          "scatterternary": [
           {
            "marker": {
             "colorbar": {
              "outlinewidth": 0,
              "ticks": ""
             }
            },
            "type": "scatterternary"
           }
          ],
          "surface": [
           {
            "colorbar": {
             "outlinewidth": 0,
             "ticks": ""
            },
            "colorscale": [
             [
              0,
              "#0d0887"
             ],
             [
              0.1111111111111111,
              "#46039f"
             ],
             [
              0.2222222222222222,
              "#7201a8"
             ],
             [
              0.3333333333333333,
              "#9c179e"
             ],
             [
              0.4444444444444444,
              "#bd3786"
             ],
             [
              0.5555555555555556,
              "#d8576b"
             ],
             [
              0.6666666666666666,
              "#ed7953"
             ],
             [
              0.7777777777777778,
              "#fb9f3a"
             ],
             [
              0.8888888888888888,
              "#fdca26"
             ],
             [
              1,
              "#f0f921"
             ]
            ],
            "type": "surface"
           }
          ],
          "table": [
           {
            "cells": {
             "fill": {
              "color": "#EBF0F8"
             },
             "line": {
              "color": "white"
             }
            },
            "header": {
             "fill": {
              "color": "#C8D4E3"
             },
             "line": {
              "color": "white"
             }
            },
            "type": "table"
           }
          ]
         },
         "layout": {
          "annotationdefaults": {
           "arrowcolor": "#2a3f5f",
           "arrowhead": 0,
           "arrowwidth": 1
          },
          "coloraxis": {
           "colorbar": {
            "outlinewidth": 0,
            "ticks": ""
           }
          },
          "colorscale": {
           "diverging": [
            [
             0,
             "#8e0152"
            ],
            [
             0.1,
             "#c51b7d"
            ],
            [
             0.2,
             "#de77ae"
            ],
            [
             0.3,
             "#f1b6da"
            ],
            [
             0.4,
             "#fde0ef"
            ],
            [
             0.5,
             "#f7f7f7"
            ],
            [
             0.6,
             "#e6f5d0"
            ],
            [
             0.7,
             "#b8e186"
            ],
            [
             0.8,
             "#7fbc41"
            ],
            [
             0.9,
             "#4d9221"
            ],
            [
             1,
             "#276419"
            ]
           ],
           "sequential": [
            [
             0,
             "#0d0887"
            ],
            [
             0.1111111111111111,
             "#46039f"
            ],
            [
             0.2222222222222222,
             "#7201a8"
            ],
            [
             0.3333333333333333,
             "#9c179e"
            ],
            [
             0.4444444444444444,
             "#bd3786"
            ],
            [
             0.5555555555555556,
             "#d8576b"
            ],
            [
             0.6666666666666666,
             "#ed7953"
            ],
            [
             0.7777777777777778,
             "#fb9f3a"
            ],
            [
             0.8888888888888888,
             "#fdca26"
            ],
            [
             1,
             "#f0f921"
            ]
           ],
           "sequentialminus": [
            [
             0,
             "#0d0887"
            ],
            [
             0.1111111111111111,
             "#46039f"
            ],
            [
             0.2222222222222222,
             "#7201a8"
            ],
            [
             0.3333333333333333,
             "#9c179e"
            ],
            [
             0.4444444444444444,
             "#bd3786"
            ],
            [
             0.5555555555555556,
             "#d8576b"
            ],
            [
             0.6666666666666666,
             "#ed7953"
            ],
            [
             0.7777777777777778,
             "#fb9f3a"
            ],
            [
             0.8888888888888888,
             "#fdca26"
            ],
            [
             1,
             "#f0f921"
            ]
           ]
          },
          "colorway": [
           "#636efa",
           "#EF553B",
           "#00cc96",
           "#ab63fa",
           "#FFA15A",
           "#19d3f3",
           "#FF6692",
           "#B6E880",
           "#FF97FF",
           "#FECB52"
          ],
          "font": {
           "color": "#2a3f5f"
          },
          "geo": {
           "bgcolor": "white",
           "lakecolor": "white",
           "landcolor": "#E5ECF6",
           "showlakes": true,
           "showland": true,
           "subunitcolor": "white"
          },
          "hoverlabel": {
           "align": "left"
          },
          "hovermode": "closest",
          "mapbox": {
           "style": "light"
          },
          "paper_bgcolor": "white",
          "plot_bgcolor": "#E5ECF6",
          "polar": {
           "angularaxis": {
            "gridcolor": "white",
            "linecolor": "white",
            "ticks": ""
           },
           "bgcolor": "#E5ECF6",
           "radialaxis": {
            "gridcolor": "white",
            "linecolor": "white",
            "ticks": ""
           }
          },
          "scene": {
           "xaxis": {
            "backgroundcolor": "#E5ECF6",
            "gridcolor": "white",
            "gridwidth": 2,
            "linecolor": "white",
            "showbackground": true,
            "ticks": "",
            "zerolinecolor": "white"
           },
           "yaxis": {
            "backgroundcolor": "#E5ECF6",
            "gridcolor": "white",
            "gridwidth": 2,
            "linecolor": "white",
            "showbackground": true,
            "ticks": "",
            "zerolinecolor": "white"
           },
           "zaxis": {
            "backgroundcolor": "#E5ECF6",
            "gridcolor": "white",
            "gridwidth": 2,
            "linecolor": "white",
            "showbackground": true,
            "ticks": "",
            "zerolinecolor": "white"
           }
          },
          "shapedefaults": {
           "line": {
            "color": "#2a3f5f"
           }
          },
          "ternary": {
           "aaxis": {
            "gridcolor": "white",
            "linecolor": "white",
            "ticks": ""
           },
           "baxis": {
            "gridcolor": "white",
            "linecolor": "white",
            "ticks": ""
           },
           "bgcolor": "#E5ECF6",
           "caxis": {
            "gridcolor": "white",
            "linecolor": "white",
            "ticks": ""
           }
          },
          "title": {
           "x": 0.05
          },
          "xaxis": {
           "automargin": true,
           "gridcolor": "white",
           "linecolor": "white",
           "ticks": "",
           "title": {
            "standoff": 15
           },
           "zerolinecolor": "white",
           "zerolinewidth": 2
          },
          "yaxis": {
           "automargin": true,
           "gridcolor": "white",
           "linecolor": "white",
           "ticks": "",
           "title": {
            "standoff": 15
           },
           "zerolinecolor": "white",
           "zerolinewidth": 2
          }
         }
        },
        "title": {
         "font": {
          "color": "#4D5663"
         }
        },
        "xaxis": {
         "gridcolor": "#E1E5ED",
         "showgrid": true,
         "tickfont": {
          "color": "#4D5663"
         },
         "title": {
          "font": {
           "color": "#4D5663"
          },
          "text": ""
         },
         "zerolinecolor": "#E1E5ED"
        },
        "yaxis": {
         "gridcolor": "#E1E5ED",
         "showgrid": true,
         "tickfont": {
          "color": "#4D5663"
         },
         "title": {
          "font": {
           "color": "#4D5663"
          },
          "text": ""
         },
         "zerolinecolor": "#E1E5ED"
        }
       }
      },
      "text/html": [
       "<div>                            <div id=\"28bcd563-7764-40d7-9479-4d4b386f2114\" class=\"plotly-graph-div\" style=\"height:525px; width:100%;\"></div>            <script type=\"text/javascript\">                require([\"plotly\"], function(Plotly) {                    window.PLOTLYENV=window.PLOTLYENV || {};\n",
       "                    window.PLOTLYENV.BASE_URL='https://plot.ly';                                    if (document.getElementById(\"28bcd563-7764-40d7-9479-4d4b386f2114\")) {                    Plotly.newPlot(                        \"28bcd563-7764-40d7-9479-4d4b386f2114\",                        [{\"marker\": {\"color\": \"rgba(255, 153, 51, 0.6)\", \"line\": {\"color\": \"rgba(255, 153, 51, 1.0)\", \"width\": 1}}, \"name\": \"A\", \"orientation\": \"v\", \"text\": \"\", \"type\": \"bar\", \"x\": [0, 1, 2, 3, 4, 5, 6, 7, 8, 9, 10, 11, 12, 13, 14, 15, 16, 17, 18, 19, 20, 21, 22, 23, 24, 25, 26, 27, 28, 29, 30, 31, 32, 33, 34, 35, 36, 37, 38, 39, 40, 41, 42, 43, 44, 45, 46, 47, 48, 49, 50, 51, 52, 53, 54, 55, 56, 57, 58, 59, 60, 61, 62, 63, 64, 65, 66, 67, 68, 69, 70, 71, 72, 73, 74, 75, 76, 77, 78, 79, 80, 81, 82, 83, 84, 85, 86, 87, 88, 89, 90, 91, 92, 93, 94, 95, 96, 97, 98, 99], \"y\": [-1.813928762203615, -0.27432866383219695, 0.6253015850617543, -1.4554873129592596, 3.1328551351380627, 0.5830754004780817, -1.0020516684184995, 0.8064168386351752, 0.5811933408652084, -0.9944438998596266, 0.4275666091292003, 0.6662959061293554, -1.238164143354905, 0.9090650323908503, -0.49040851975783545, -0.7393550945325827, -0.7793251281906282, -0.05941256700603647, 0.9388278444558112, 0.3935996182797066, 0.16843035826535743, -0.012388439012577619, 0.7395802840689866, -0.19026779482997197, 0.4230286270538319, 1.8825534628198763, 0.6792062135611023, -0.7283045371389388, 0.331562460056705, 0.2224405058905905, -1.3799354855474406, -0.3385234291662567, -0.9601730674482541, 0.9781186597538379, -0.36014012323212297, 1.6657581634486944, -0.4060458883211332, -0.3437873974775657, -0.3159735282471693, 0.2856169914812245, 0.5356232663163358, 1.7209794482450487, 0.7695983815039918, -0.3502530607639093, 1.4561969592276458, -1.2192118463452706, -1.8439425232876443, -0.16185314773537718, -2.2584691292426995, 0.20668409063634077, 0.10523795995373263, -0.5332600333840517, 0.10144869460873746, 0.07483099737369392, 1.0004006969285233, 2.0963567904539984, 0.891356549589474, 0.18357909269892975, 0.5205225909418235, -3.585299735690124, 2.0977439105921447, -1.2955859707208526, -0.9584729751445248, 0.7526828628622835, 0.054739649265246625, 1.3611975574860573, -0.6097708748596224, -0.9643502021589745, 0.5368043250165858, 0.13875449188853514, -0.5876092434989054, -1.2344018269686825, 1.0504571633296549, -0.2204388885957174, 0.7711069197105281, 0.46146549667245335, 0.7573989338187541, -0.7355093559491815, -1.3541977713653937, 0.6750110906973829, -0.43262585616148436, -1.0891328225541235, 2.7954380383382986, 0.302944404393466, -1.2646747787997918, -1.0217711184638374, 0.8318181316682784, 1.9247298626545357, -0.8125340582765815, 1.4342509413347753, 0.001182431893759971, 0.635324691438933, -1.7232327742362592, -0.16876474281444187, -0.7611152815666171, 0.7905192080046453, -1.4481216932674335, 1.0548770968980319, -0.6880870636604127, 0.832100967986984]}, {\"marker\": {\"color\": \"rgba(55, 128, 191, 0.6)\", \"line\": {\"color\": \"rgba(55, 128, 191, 1.0)\", \"width\": 1}}, \"name\": \" B\", \"orientation\": \"v\", \"text\": \"\", \"type\": \"bar\", \"x\": [0, 1, 2, 3, 4, 5, 6, 7, 8, 9, 10, 11, 12, 13, 14, 15, 16, 17, 18, 19, 20, 21, 22, 23, 24, 25, 26, 27, 28, 29, 30, 31, 32, 33, 34, 35, 36, 37, 38, 39, 40, 41, 42, 43, 44, 45, 46, 47, 48, 49, 50, 51, 52, 53, 54, 55, 56, 57, 58, 59, 60, 61, 62, 63, 64, 65, 66, 67, 68, 69, 70, 71, 72, 73, 74, 75, 76, 77, 78, 79, 80, 81, 82, 83, 84, 85, 86, 87, 88, 89, 90, 91, 92, 93, 94, 95, 96, 97, 98, 99], \"y\": [0.06607532805502836, -1.528107619816387, -0.04163283728633416, -0.7706475003863795, 0.9117964511744421, 0.3160333209024703, -0.35214282642480327, -0.02618612096949382, 1.2644498870723055, -0.9068185773780801, 0.26288614614799716, -0.046467821091040175, 0.8743018075416046, -0.7564220582153313, 0.12929642753160087, -0.5260854771844939, 0.33084348980602923, 0.7677227514050637, 1.2504745084602207, -1.12519028900167, 1.1569042524778639, -1.3643697767185698, 1.9983462969915011, -0.33738753487230166, -1.1738900363908473, 0.7543558294633994, -1.5238288699068767, 0.29533625365104715, -0.3169414908707511, 0.15711619258173296, 1.1279733827821372, 0.11585759561734126, -0.30801522068031384, -0.6222482817949655, -0.3803606723353231, -0.29783834100175244, 0.7184755759569819, 0.28609133401980774, 0.3200915982775872, -0.5714930573842417, -0.40998012069775264, 1.589973849516675, -1.1412128315552295, 1.5284836561360375, -1.544062949051292, -0.6189456408291336, -1.1231535097289305, -0.31839251610440555, 0.8108866683209592, -0.1701237199131937, -0.5196808094388915, -0.4288547611657743, 2.6267961784086635, 0.21741621305649667, -0.8847238274333918, 0.907266637127421, -0.29826398630860534, 0.038733439291478364, -0.6781679634579276, 0.6794258877045709, 1.578962557356742, 0.9520780745187442, 0.10848531705538965, 0.2634018037947715, -1.8730495843445816, -1.1007852572841281, 0.15383669021895283, 0.13561515920475276, 1.4338663853394957, -1.3051253146135118, -0.4903038089102943, -0.9346612641078509, 0.18248454238271847, -0.5139251929810493, 0.019680515568265725, 2.3324306208343457, 1.3331545733934835, 0.9131709172490181, -0.6188639852879898, -0.5237469044309213, 0.006220082237387996, 0.9867711580632222, 0.13666481023886567, -0.43524612435870697, -1.9834319923093768, 0.19897435654520884, 0.8066107472903946, -0.19016463079348656, -1.2068849207989825, 1.1407873095783347, 0.07039659499669877, -1.9172967095502897, -0.7571867403676952, -0.08664896456696335, -1.7491323657818165, 0.4146967883813452, -0.10588621508014771, -0.9610291029588819, 1.7127042146628901, -1.0963214697248111]}, {\"marker\": {\"color\": \"rgba(50, 171, 96, 0.6)\", \"line\": {\"color\": \"rgba(50, 171, 96, 1.0)\", \"width\": 1}}, \"name\": \" C\", \"orientation\": \"v\", \"text\": \"\", \"type\": \"bar\", \"x\": [0, 1, 2, 3, 4, 5, 6, 7, 8, 9, 10, 11, 12, 13, 14, 15, 16, 17, 18, 19, 20, 21, 22, 23, 24, 25, 26, 27, 28, 29, 30, 31, 32, 33, 34, 35, 36, 37, 38, 39, 40, 41, 42, 43, 44, 45, 46, 47, 48, 49, 50, 51, 52, 53, 54, 55, 56, 57, 58, 59, 60, 61, 62, 63, 64, 65, 66, 67, 68, 69, 70, 71, 72, 73, 74, 75, 76, 77, 78, 79, 80, 81, 82, 83, 84, 85, 86, 87, 88, 89, 90, 91, 92, 93, 94, 95, 96, 97, 98, 99], \"y\": [-0.6301023794246419, 0.4357301707875016, -0.17512327177059372, -0.33172139359948627, 1.0860270374182082, 1.5578102790077577, 0.10921000039291086, 0.47975672651862417, 0.6868488945369972, 0.8139370383956844, 0.7041243679282764, 1.0182379460052986, -2.0607927949573766, 1.1484535038356947, 1.226120837709135, -0.16986108807994096, 0.1193689944403312, -0.5063444170002459, -0.9377748263718966, -1.7399253090209923, -1.3161030842439596, 0.18373574237172444, 0.426982946146418, -0.10311223535014125, -0.5403719663905288, 1.9131963736181625, -0.5533099493738904, -1.1679167579893213, 0.634576597947057, 0.6993786461780146, -0.6049603633496771, 0.21311781236826713, 0.2856350325594933, -0.11575715142326716, -1.5554357845325049, -1.093183391527334, 1.3257323392062614, -0.4658454404651565, -1.5785122787164738, -0.2146295936329527, -0.9416923218868847, -1.021628369660526, 0.3885976066961738, -0.6723468516557422, -1.676589938526112, 0.13688789753714625, -0.6573754867078802, 0.1493839743995519, 0.5489453703430955, 0.3084909962884788, 0.9068358189202446, 0.3909748834936724, -0.21585111542729296, 0.34475189310976895, 0.29749765571024417, -0.13524800231558745, -1.397619551883165, -0.5084538843051116, -0.48312186514783134, 0.7540747410064647, 0.5897196669393377, 0.7153842703988478, -1.2387017678255814, 0.85333000326993, 1.5469625924019812, 0.7283883813034016, 0.8933380474417769, 1.730083091312605, 0.8249676590941966, -0.8570759473768227, -0.7959583476157124, 1.0039673183761177, -0.4262475039524332, 1.0493957346735698, 0.3775692521125136, 0.17101173494734248, 0.6964575629993139, 0.7114741067829303, -0.04069724778587497, 1.0686053190552376, 0.43997290954924634, -0.23720792965727225, -1.2901923390848837, 0.8594694988318241, 0.27480140708485706, 1.1062215108815179, 1.2528812041929058, -0.23652497216148818, 1.1973812223151674, 0.4532822614972701, 0.5834143414906299, -1.315740314559659, -0.48167782873832066, 0.150135513770157, 1.2319465710128106, 0.5522519083646604, -0.5338655721071706, -0.7635684141689963, -1.3102337741489998, -0.30383153629702575]}, {\"marker\": {\"color\": \"rgba(128, 0, 128, 0.6)\", \"line\": {\"color\": \"rgba(128, 0, 128, 1.0)\", \"width\": 1}}, \"name\": \" D\", \"orientation\": \"v\", \"text\": \"\", \"type\": \"bar\", \"x\": [0, 1, 2, 3, 4, 5, 6, 7, 8, 9, 10, 11, 12, 13, 14, 15, 16, 17, 18, 19, 20, 21, 22, 23, 24, 25, 26, 27, 28, 29, 30, 31, 32, 33, 34, 35, 36, 37, 38, 39, 40, 41, 42, 43, 44, 45, 46, 47, 48, 49, 50, 51, 52, 53, 54, 55, 56, 57, 58, 59, 60, 61, 62, 63, 64, 65, 66, 67, 68, 69, 70, 71, 72, 73, 74, 75, 76, 77, 78, 79, 80, 81, 82, 83, 84, 85, 86, 87, 88, 89, 90, 91, 92, 93, 94, 95, 96, 97, 98, 99], \"y\": [-1.0111881336476827, -2.3163642741808976, -1.6242892532443898, -0.85171202192699, 0.5314609362901468, -0.8054047142149638, 1.0364985282419623, 1.5635193435105705, 0.6206817485758173, 0.2756368034527986, -0.1737124221327595, -0.23558793628397254, 0.5679243551712196, -0.20391101279697646, -0.9294755501458969, 1.353156192616572, 0.6345161578133833, -1.3029005148488537, 1.5996677674531206, 0.08893310230288523, 0.5732958293162396, -1.4670888886934, -0.049286913059220804, -0.627996360713206, -0.13953479606322342, 0.8739104888850101, 1.344693689161325, -1.4018411611919517, 0.9072288551781152, 0.6696668827316609, -1.3002324717324911, -1.7479824763912857, -1.0720144723465794, 1.059518095328356, 1.0510786698599441, 2.1673649971260094, -0.2911702836960015, 1.8401885855797404, 0.1677856413168417, 0.33830508477062143, -1.1871823390417775, -1.1091586195733587, -0.17581813832481047, 0.000986193119753664, 1.1553532909714417, 2.2943625445845526, -0.7393572074255726, -1.5315098527944657, -0.34205909703296106, -1.6578285948662244, -0.2950538760753234, 0.859233146913893, -0.020052072490140616, -1.112421079649855, 0.5883000662099853, 0.4102130015609327, -0.3079881880171699, 0.8190615763049187, 0.8060204911786644, 2.5036767763396393, -0.8882312407234086, 0.1101172389324017, 0.08797666417577613, -2.2383501635404692, 0.3431889382789355, -1.177437472212664, -0.22876817041248756, 0.9364838140376062, -0.4654796893414677, 0.8889137378778441, 0.28918487562390827, -0.3996793698595338, 1.4950027594407642, 0.06175020430779271, 0.14320008148478522, 1.283205841430638, 1.4906324894179084, -0.24221475029695208, -1.0919648502834551, 0.39621700365672047, 1.1170820442854807, -1.0383512035368567, 1.8134937382295007, -1.3418474262186975, 1.4776674959004732, -0.1024557653379954, -0.8976193002385285, 0.7137023706291123, -0.6689425018961035, -0.891101907070919, -0.2464645593268506, -1.3180457516254374, 1.029808663199537, -0.699840965278621, 1.5532383641913334, -0.6978917960754214, -0.5610392279456416, -0.7380446706303554, 0.25236638022887264, -0.2681004477533865]}],                        {\"legend\": {\"bgcolor\": \"#F5F6F9\", \"font\": {\"color\": \"#4D5663\"}}, \"paper_bgcolor\": \"#F5F6F9\", \"plot_bgcolor\": \"#F5F6F9\", \"template\": {\"data\": {\"bar\": [{\"error_x\": {\"color\": \"#2a3f5f\"}, \"error_y\": {\"color\": \"#2a3f5f\"}, \"marker\": {\"line\": {\"color\": \"#E5ECF6\", \"width\": 0.5}}, \"type\": \"bar\"}], \"barpolar\": [{\"marker\": {\"line\": {\"color\": \"#E5ECF6\", \"width\": 0.5}}, \"type\": \"barpolar\"}], \"carpet\": [{\"aaxis\": {\"endlinecolor\": \"#2a3f5f\", \"gridcolor\": \"white\", \"linecolor\": \"white\", \"minorgridcolor\": \"white\", \"startlinecolor\": \"#2a3f5f\"}, \"baxis\": {\"endlinecolor\": \"#2a3f5f\", \"gridcolor\": \"white\", \"linecolor\": \"white\", \"minorgridcolor\": \"white\", \"startlinecolor\": \"#2a3f5f\"}, \"type\": \"carpet\"}], \"choropleth\": [{\"colorbar\": {\"outlinewidth\": 0, \"ticks\": \"\"}, \"type\": \"choropleth\"}], \"contour\": [{\"colorbar\": {\"outlinewidth\": 0, \"ticks\": \"\"}, \"colorscale\": [[0.0, \"#0d0887\"], [0.1111111111111111, \"#46039f\"], [0.2222222222222222, \"#7201a8\"], [0.3333333333333333, \"#9c179e\"], [0.4444444444444444, \"#bd3786\"], [0.5555555555555556, \"#d8576b\"], [0.6666666666666666, \"#ed7953\"], [0.7777777777777778, \"#fb9f3a\"], [0.8888888888888888, \"#fdca26\"], [1.0, \"#f0f921\"]], \"type\": \"contour\"}], \"contourcarpet\": [{\"colorbar\": {\"outlinewidth\": 0, \"ticks\": \"\"}, \"type\": \"contourcarpet\"}], \"heatmap\": [{\"colorbar\": {\"outlinewidth\": 0, \"ticks\": \"\"}, \"colorscale\": [[0.0, \"#0d0887\"], [0.1111111111111111, \"#46039f\"], [0.2222222222222222, \"#7201a8\"], [0.3333333333333333, \"#9c179e\"], [0.4444444444444444, \"#bd3786\"], [0.5555555555555556, \"#d8576b\"], [0.6666666666666666, \"#ed7953\"], [0.7777777777777778, \"#fb9f3a\"], [0.8888888888888888, \"#fdca26\"], [1.0, \"#f0f921\"]], \"type\": \"heatmap\"}], \"heatmapgl\": [{\"colorbar\": {\"outlinewidth\": 0, \"ticks\": \"\"}, \"colorscale\": [[0.0, \"#0d0887\"], [0.1111111111111111, \"#46039f\"], [0.2222222222222222, \"#7201a8\"], [0.3333333333333333, \"#9c179e\"], [0.4444444444444444, \"#bd3786\"], [0.5555555555555556, \"#d8576b\"], [0.6666666666666666, \"#ed7953\"], [0.7777777777777778, \"#fb9f3a\"], [0.8888888888888888, \"#fdca26\"], [1.0, \"#f0f921\"]], \"type\": \"heatmapgl\"}], \"histogram\": [{\"marker\": {\"colorbar\": {\"outlinewidth\": 0, \"ticks\": \"\"}}, \"type\": \"histogram\"}], \"histogram2d\": [{\"colorbar\": {\"outlinewidth\": 0, \"ticks\": \"\"}, \"colorscale\": [[0.0, \"#0d0887\"], [0.1111111111111111, \"#46039f\"], [0.2222222222222222, \"#7201a8\"], [0.3333333333333333, \"#9c179e\"], [0.4444444444444444, \"#bd3786\"], [0.5555555555555556, \"#d8576b\"], [0.6666666666666666, \"#ed7953\"], [0.7777777777777778, \"#fb9f3a\"], [0.8888888888888888, \"#fdca26\"], [1.0, \"#f0f921\"]], \"type\": \"histogram2d\"}], \"histogram2dcontour\": [{\"colorbar\": {\"outlinewidth\": 0, \"ticks\": \"\"}, \"colorscale\": [[0.0, \"#0d0887\"], [0.1111111111111111, \"#46039f\"], [0.2222222222222222, \"#7201a8\"], [0.3333333333333333, \"#9c179e\"], [0.4444444444444444, \"#bd3786\"], [0.5555555555555556, \"#d8576b\"], [0.6666666666666666, \"#ed7953\"], [0.7777777777777778, \"#fb9f3a\"], [0.8888888888888888, \"#fdca26\"], [1.0, \"#f0f921\"]], \"type\": \"histogram2dcontour\"}], \"mesh3d\": [{\"colorbar\": {\"outlinewidth\": 0, \"ticks\": \"\"}, \"type\": \"mesh3d\"}], \"parcoords\": [{\"line\": {\"colorbar\": {\"outlinewidth\": 0, \"ticks\": \"\"}}, \"type\": \"parcoords\"}], \"pie\": [{\"automargin\": true, \"type\": \"pie\"}], \"scatter\": [{\"marker\": {\"colorbar\": {\"outlinewidth\": 0, \"ticks\": \"\"}}, \"type\": \"scatter\"}], \"scatter3d\": [{\"line\": {\"colorbar\": {\"outlinewidth\": 0, \"ticks\": \"\"}}, \"marker\": {\"colorbar\": {\"outlinewidth\": 0, \"ticks\": \"\"}}, \"type\": \"scatter3d\"}], \"scattercarpet\": [{\"marker\": {\"colorbar\": {\"outlinewidth\": 0, \"ticks\": \"\"}}, \"type\": \"scattercarpet\"}], \"scattergeo\": [{\"marker\": {\"colorbar\": {\"outlinewidth\": 0, \"ticks\": \"\"}}, \"type\": \"scattergeo\"}], \"scattergl\": [{\"marker\": {\"colorbar\": {\"outlinewidth\": 0, \"ticks\": \"\"}}, \"type\": \"scattergl\"}], \"scattermapbox\": [{\"marker\": {\"colorbar\": {\"outlinewidth\": 0, \"ticks\": \"\"}}, \"type\": \"scattermapbox\"}], \"scatterpolar\": [{\"marker\": {\"colorbar\": {\"outlinewidth\": 0, \"ticks\": \"\"}}, \"type\": \"scatterpolar\"}], \"scatterpolargl\": [{\"marker\": {\"colorbar\": {\"outlinewidth\": 0, \"ticks\": \"\"}}, \"type\": \"scatterpolargl\"}], \"scatterternary\": [{\"marker\": {\"colorbar\": {\"outlinewidth\": 0, \"ticks\": \"\"}}, \"type\": \"scatterternary\"}], \"surface\": [{\"colorbar\": {\"outlinewidth\": 0, \"ticks\": \"\"}, \"colorscale\": [[0.0, \"#0d0887\"], [0.1111111111111111, \"#46039f\"], [0.2222222222222222, \"#7201a8\"], [0.3333333333333333, \"#9c179e\"], [0.4444444444444444, \"#bd3786\"], [0.5555555555555556, \"#d8576b\"], [0.6666666666666666, \"#ed7953\"], [0.7777777777777778, \"#fb9f3a\"], [0.8888888888888888, \"#fdca26\"], [1.0, \"#f0f921\"]], \"type\": \"surface\"}], \"table\": [{\"cells\": {\"fill\": {\"color\": \"#EBF0F8\"}, \"line\": {\"color\": \"white\"}}, \"header\": {\"fill\": {\"color\": \"#C8D4E3\"}, \"line\": {\"color\": \"white\"}}, \"type\": \"table\"}]}, \"layout\": {\"annotationdefaults\": {\"arrowcolor\": \"#2a3f5f\", \"arrowhead\": 0, \"arrowwidth\": 1}, \"coloraxis\": {\"colorbar\": {\"outlinewidth\": 0, \"ticks\": \"\"}}, \"colorscale\": {\"diverging\": [[0, \"#8e0152\"], [0.1, \"#c51b7d\"], [0.2, \"#de77ae\"], [0.3, \"#f1b6da\"], [0.4, \"#fde0ef\"], [0.5, \"#f7f7f7\"], [0.6, \"#e6f5d0\"], [0.7, \"#b8e186\"], [0.8, \"#7fbc41\"], [0.9, \"#4d9221\"], [1, \"#276419\"]], \"sequential\": [[0.0, \"#0d0887\"], [0.1111111111111111, \"#46039f\"], [0.2222222222222222, \"#7201a8\"], [0.3333333333333333, \"#9c179e\"], [0.4444444444444444, \"#bd3786\"], [0.5555555555555556, \"#d8576b\"], [0.6666666666666666, \"#ed7953\"], [0.7777777777777778, \"#fb9f3a\"], [0.8888888888888888, \"#fdca26\"], [1.0, \"#f0f921\"]], \"sequentialminus\": [[0.0, \"#0d0887\"], [0.1111111111111111, \"#46039f\"], [0.2222222222222222, \"#7201a8\"], [0.3333333333333333, \"#9c179e\"], [0.4444444444444444, \"#bd3786\"], [0.5555555555555556, \"#d8576b\"], [0.6666666666666666, \"#ed7953\"], [0.7777777777777778, \"#fb9f3a\"], [0.8888888888888888, \"#fdca26\"], [1.0, \"#f0f921\"]]}, \"colorway\": [\"#636efa\", \"#EF553B\", \"#00cc96\", \"#ab63fa\", \"#FFA15A\", \"#19d3f3\", \"#FF6692\", \"#B6E880\", \"#FF97FF\", \"#FECB52\"], \"font\": {\"color\": \"#2a3f5f\"}, \"geo\": {\"bgcolor\": \"white\", \"lakecolor\": \"white\", \"landcolor\": \"#E5ECF6\", \"showlakes\": true, \"showland\": true, \"subunitcolor\": \"white\"}, \"hoverlabel\": {\"align\": \"left\"}, \"hovermode\": \"closest\", \"mapbox\": {\"style\": \"light\"}, \"paper_bgcolor\": \"white\", \"plot_bgcolor\": \"#E5ECF6\", \"polar\": {\"angularaxis\": {\"gridcolor\": \"white\", \"linecolor\": \"white\", \"ticks\": \"\"}, \"bgcolor\": \"#E5ECF6\", \"radialaxis\": {\"gridcolor\": \"white\", \"linecolor\": \"white\", \"ticks\": \"\"}}, \"scene\": {\"xaxis\": {\"backgroundcolor\": \"#E5ECF6\", \"gridcolor\": \"white\", \"gridwidth\": 2, \"linecolor\": \"white\", \"showbackground\": true, \"ticks\": \"\", \"zerolinecolor\": \"white\"}, \"yaxis\": {\"backgroundcolor\": \"#E5ECF6\", \"gridcolor\": \"white\", \"gridwidth\": 2, \"linecolor\": \"white\", \"showbackground\": true, \"ticks\": \"\", \"zerolinecolor\": \"white\"}, \"zaxis\": {\"backgroundcolor\": \"#E5ECF6\", \"gridcolor\": \"white\", \"gridwidth\": 2, \"linecolor\": \"white\", \"showbackground\": true, \"ticks\": \"\", \"zerolinecolor\": \"white\"}}, \"shapedefaults\": {\"line\": {\"color\": \"#2a3f5f\"}}, \"ternary\": {\"aaxis\": {\"gridcolor\": \"white\", \"linecolor\": \"white\", \"ticks\": \"\"}, \"baxis\": {\"gridcolor\": \"white\", \"linecolor\": \"white\", \"ticks\": \"\"}, \"bgcolor\": \"#E5ECF6\", \"caxis\": {\"gridcolor\": \"white\", \"linecolor\": \"white\", \"ticks\": \"\"}}, \"title\": {\"x\": 0.05}, \"xaxis\": {\"automargin\": true, \"gridcolor\": \"white\", \"linecolor\": \"white\", \"ticks\": \"\", \"title\": {\"standoff\": 15}, \"zerolinecolor\": \"white\", \"zerolinewidth\": 2}, \"yaxis\": {\"automargin\": true, \"gridcolor\": \"white\", \"linecolor\": \"white\", \"ticks\": \"\", \"title\": {\"standoff\": 15}, \"zerolinecolor\": \"white\", \"zerolinewidth\": 2}}}, \"title\": {\"font\": {\"color\": \"#4D5663\"}}, \"xaxis\": {\"gridcolor\": \"#E1E5ED\", \"showgrid\": true, \"tickfont\": {\"color\": \"#4D5663\"}, \"title\": {\"font\": {\"color\": \"#4D5663\"}, \"text\": \"\"}, \"zerolinecolor\": \"#E1E5ED\"}, \"yaxis\": {\"gridcolor\": \"#E1E5ED\", \"showgrid\": true, \"tickfont\": {\"color\": \"#4D5663\"}, \"title\": {\"font\": {\"color\": \"#4D5663\"}, \"text\": \"\"}, \"zerolinecolor\": \"#E1E5ED\"}},                        {\"showLink\": true, \"linkText\": \"Export to plot.ly\", \"plotlyServerURL\": \"https://plot.ly\", \"responsive\": true}                    ).then(function(){\n",
       "                            \n",
       "var gd = document.getElementById('28bcd563-7764-40d7-9479-4d4b386f2114');\n",
       "var x = new MutationObserver(function (mutations, observer) {{\n",
       "        var display = window.getComputedStyle(gd).display;\n",
       "        if (!display || display === 'none') {{\n",
       "            console.log([gd, 'removed!']);\n",
       "            Plotly.purge(gd);\n",
       "            observer.disconnect();\n",
       "        }}\n",
       "}});\n",
       "\n",
       "// Listen for the removal of the full notebook cells\n",
       "var notebookContainer = gd.closest('#notebook-container');\n",
       "if (notebookContainer) {{\n",
       "    x.observe(notebookContainer, {childList: true});\n",
       "}}\n",
       "\n",
       "// Listen for the clearing of the current output cell\n",
       "var outputEl = gd.closest('.output');\n",
       "if (outputEl) {{\n",
       "    x.observe(outputEl, {childList: true});\n",
       "}}\n",
       "\n",
       "                        })                };                });            </script>        </div>"
      ]
     },
     "metadata": {},
     "output_type": "display_data"
    }
   ],
   "source": [
    "df.iplot(kind = 'bar')"
   ]
  },
  {
   "cell_type": "code",
   "execution_count": 17,
   "metadata": {},
   "outputs": [
    {
     "data": {
      "application/vnd.plotly.v1+json": {
       "config": {
        "linkText": "Export to plot.ly",
        "plotlyServerURL": "https://plot.ly",
        "showLink": true
       },
       "data": [
        {
         "marker": {
          "color": "rgba(255, 153, 51, 0.6)",
          "line": {
           "color": "rgba(255, 153, 51, 1.0)",
           "width": 1
          }
         },
         "name": "A",
         "orientation": "v",
         "text": "",
         "type": "bar",
         "x": [
          0,
          1,
          2,
          3,
          4,
          5,
          6,
          7,
          8,
          9,
          10,
          11,
          12,
          13,
          14,
          15,
          16,
          17,
          18,
          19,
          20,
          21,
          22,
          23,
          24,
          25,
          26,
          27,
          28,
          29,
          30,
          31,
          32,
          33,
          34,
          35,
          36,
          37,
          38,
          39,
          40,
          41,
          42,
          43,
          44,
          45,
          46,
          47,
          48,
          49,
          50,
          51,
          52,
          53,
          54,
          55,
          56,
          57,
          58,
          59,
          60,
          61,
          62,
          63,
          64,
          65,
          66,
          67,
          68,
          69,
          70,
          71,
          72,
          73,
          74,
          75,
          76,
          77,
          78,
          79,
          80,
          81,
          82,
          83,
          84,
          85,
          86,
          87,
          88,
          89,
          90,
          91,
          92,
          93,
          94,
          95,
          96,
          97,
          98,
          99
         ],
         "y": [
          -1.813928762203615,
          -0.27432866383219695,
          0.6253015850617543,
          -1.4554873129592596,
          3.1328551351380627,
          0.5830754004780817,
          -1.0020516684184995,
          0.8064168386351752,
          0.5811933408652084,
          -0.9944438998596266,
          0.4275666091292003,
          0.6662959061293554,
          -1.238164143354905,
          0.9090650323908503,
          -0.49040851975783545,
          -0.7393550945325827,
          -0.7793251281906282,
          -0.05941256700603647,
          0.9388278444558112,
          0.3935996182797066,
          0.16843035826535743,
          -0.012388439012577619,
          0.7395802840689866,
          -0.19026779482997197,
          0.4230286270538319,
          1.8825534628198763,
          0.6792062135611023,
          -0.7283045371389388,
          0.331562460056705,
          0.2224405058905905,
          -1.3799354855474406,
          -0.3385234291662567,
          -0.9601730674482541,
          0.9781186597538379,
          -0.36014012323212297,
          1.6657581634486944,
          -0.4060458883211332,
          -0.3437873974775657,
          -0.3159735282471693,
          0.2856169914812245,
          0.5356232663163358,
          1.7209794482450487,
          0.7695983815039918,
          -0.3502530607639093,
          1.4561969592276458,
          -1.2192118463452706,
          -1.8439425232876443,
          -0.16185314773537718,
          -2.2584691292426995,
          0.20668409063634077,
          0.10523795995373263,
          -0.5332600333840517,
          0.10144869460873746,
          0.07483099737369392,
          1.0004006969285233,
          2.0963567904539984,
          0.891356549589474,
          0.18357909269892975,
          0.5205225909418235,
          -3.585299735690124,
          2.0977439105921447,
          -1.2955859707208526,
          -0.9584729751445248,
          0.7526828628622835,
          0.054739649265246625,
          1.3611975574860573,
          -0.6097708748596224,
          -0.9643502021589745,
          0.5368043250165858,
          0.13875449188853514,
          -0.5876092434989054,
          -1.2344018269686825,
          1.0504571633296549,
          -0.2204388885957174,
          0.7711069197105281,
          0.46146549667245335,
          0.7573989338187541,
          -0.7355093559491815,
          -1.3541977713653937,
          0.6750110906973829,
          -0.43262585616148436,
          -1.0891328225541235,
          2.7954380383382986,
          0.302944404393466,
          -1.2646747787997918,
          -1.0217711184638374,
          0.8318181316682784,
          1.9247298626545357,
          -0.8125340582765815,
          1.4342509413347753,
          0.001182431893759971,
          0.635324691438933,
          -1.7232327742362592,
          -0.16876474281444187,
          -0.7611152815666171,
          0.7905192080046453,
          -1.4481216932674335,
          1.0548770968980319,
          -0.6880870636604127,
          0.832100967986984
         ]
        }
       ],
       "layout": {
        "legend": {
         "bgcolor": "#F5F6F9",
         "font": {
          "color": "#4D5663"
         }
        },
        "paper_bgcolor": "#F5F6F9",
        "plot_bgcolor": "#F5F6F9",
        "template": {
         "data": {
          "bar": [
           {
            "error_x": {
             "color": "#2a3f5f"
            },
            "error_y": {
             "color": "#2a3f5f"
            },
            "marker": {
             "line": {
              "color": "#E5ECF6",
              "width": 0.5
             }
            },
            "type": "bar"
           }
          ],
          "barpolar": [
           {
            "marker": {
             "line": {
              "color": "#E5ECF6",
              "width": 0.5
             }
            },
            "type": "barpolar"
           }
          ],
          "carpet": [
           {
            "aaxis": {
             "endlinecolor": "#2a3f5f",
             "gridcolor": "white",
             "linecolor": "white",
             "minorgridcolor": "white",
             "startlinecolor": "#2a3f5f"
            },
            "baxis": {
             "endlinecolor": "#2a3f5f",
             "gridcolor": "white",
             "linecolor": "white",
             "minorgridcolor": "white",
             "startlinecolor": "#2a3f5f"
            },
            "type": "carpet"
           }
          ],
          "choropleth": [
           {
            "colorbar": {
             "outlinewidth": 0,
             "ticks": ""
            },
            "type": "choropleth"
           }
          ],
          "contour": [
           {
            "colorbar": {
             "outlinewidth": 0,
             "ticks": ""
            },
            "colorscale": [
             [
              0,
              "#0d0887"
             ],
             [
              0.1111111111111111,
              "#46039f"
             ],
             [
              0.2222222222222222,
              "#7201a8"
             ],
             [
              0.3333333333333333,
              "#9c179e"
             ],
             [
              0.4444444444444444,
              "#bd3786"
             ],
             [
              0.5555555555555556,
              "#d8576b"
             ],
             [
              0.6666666666666666,
              "#ed7953"
             ],
             [
              0.7777777777777778,
              "#fb9f3a"
             ],
             [
              0.8888888888888888,
              "#fdca26"
             ],
             [
              1,
              "#f0f921"
             ]
            ],
            "type": "contour"
           }
          ],
          "contourcarpet": [
           {
            "colorbar": {
             "outlinewidth": 0,
             "ticks": ""
            },
            "type": "contourcarpet"
           }
          ],
          "heatmap": [
           {
            "colorbar": {
             "outlinewidth": 0,
             "ticks": ""
            },
            "colorscale": [
             [
              0,
              "#0d0887"
             ],
             [
              0.1111111111111111,
              "#46039f"
             ],
             [
              0.2222222222222222,
              "#7201a8"
             ],
             [
              0.3333333333333333,
              "#9c179e"
             ],
             [
              0.4444444444444444,
              "#bd3786"
             ],
             [
              0.5555555555555556,
              "#d8576b"
             ],
             [
              0.6666666666666666,
              "#ed7953"
             ],
             [
              0.7777777777777778,
              "#fb9f3a"
             ],
             [
              0.8888888888888888,
              "#fdca26"
             ],
             [
              1,
              "#f0f921"
             ]
            ],
            "type": "heatmap"
           }
          ],
          "heatmapgl": [
           {
            "colorbar": {
             "outlinewidth": 0,
             "ticks": ""
            },
            "colorscale": [
             [
              0,
              "#0d0887"
             ],
             [
              0.1111111111111111,
              "#46039f"
             ],
             [
              0.2222222222222222,
              "#7201a8"
             ],
             [
              0.3333333333333333,
              "#9c179e"
             ],
             [
              0.4444444444444444,
              "#bd3786"
             ],
             [
              0.5555555555555556,
              "#d8576b"
             ],
             [
              0.6666666666666666,
              "#ed7953"
             ],
             [
              0.7777777777777778,
              "#fb9f3a"
             ],
             [
              0.8888888888888888,
              "#fdca26"
             ],
             [
              1,
              "#f0f921"
             ]
            ],
            "type": "heatmapgl"
           }
          ],
          "histogram": [
           {
            "marker": {
             "colorbar": {
              "outlinewidth": 0,
              "ticks": ""
             }
            },
            "type": "histogram"
           }
          ],
          "histogram2d": [
           {
            "colorbar": {
             "outlinewidth": 0,
             "ticks": ""
            },
            "colorscale": [
             [
              0,
              "#0d0887"
             ],
             [
              0.1111111111111111,
              "#46039f"
             ],
             [
              0.2222222222222222,
              "#7201a8"
             ],
             [
              0.3333333333333333,
              "#9c179e"
             ],
             [
              0.4444444444444444,
              "#bd3786"
             ],
             [
              0.5555555555555556,
              "#d8576b"
             ],
             [
              0.6666666666666666,
              "#ed7953"
             ],
             [
              0.7777777777777778,
              "#fb9f3a"
             ],
             [
              0.8888888888888888,
              "#fdca26"
             ],
             [
              1,
              "#f0f921"
             ]
            ],
            "type": "histogram2d"
           }
          ],
          "histogram2dcontour": [
           {
            "colorbar": {
             "outlinewidth": 0,
             "ticks": ""
            },
            "colorscale": [
             [
              0,
              "#0d0887"
             ],
             [
              0.1111111111111111,
              "#46039f"
             ],
             [
              0.2222222222222222,
              "#7201a8"
             ],
             [
              0.3333333333333333,
              "#9c179e"
             ],
             [
              0.4444444444444444,
              "#bd3786"
             ],
             [
              0.5555555555555556,
              "#d8576b"
             ],
             [
              0.6666666666666666,
              "#ed7953"
             ],
             [
              0.7777777777777778,
              "#fb9f3a"
             ],
             [
              0.8888888888888888,
              "#fdca26"
             ],
             [
              1,
              "#f0f921"
             ]
            ],
            "type": "histogram2dcontour"
           }
          ],
          "mesh3d": [
           {
            "colorbar": {
             "outlinewidth": 0,
             "ticks": ""
            },
            "type": "mesh3d"
           }
          ],
          "parcoords": [
           {
            "line": {
             "colorbar": {
              "outlinewidth": 0,
              "ticks": ""
             }
            },
            "type": "parcoords"
           }
          ],
          "pie": [
           {
            "automargin": true,
            "type": "pie"
           }
          ],
          "scatter": [
           {
            "marker": {
             "colorbar": {
              "outlinewidth": 0,
              "ticks": ""
             }
            },
            "type": "scatter"
           }
          ],
          "scatter3d": [
           {
            "line": {
             "colorbar": {
              "outlinewidth": 0,
              "ticks": ""
             }
            },
            "marker": {
             "colorbar": {
              "outlinewidth": 0,
              "ticks": ""
             }
            },
            "type": "scatter3d"
           }
          ],
          "scattercarpet": [
           {
            "marker": {
             "colorbar": {
              "outlinewidth": 0,
              "ticks": ""
             }
            },
            "type": "scattercarpet"
           }
          ],
          "scattergeo": [
           {
            "marker": {
             "colorbar": {
              "outlinewidth": 0,
              "ticks": ""
             }
            },
            "type": "scattergeo"
           }
          ],
          "scattergl": [
           {
            "marker": {
             "colorbar": {
              "outlinewidth": 0,
              "ticks": ""
             }
            },
            "type": "scattergl"
           }
          ],
          "scattermapbox": [
           {
            "marker": {
             "colorbar": {
              "outlinewidth": 0,
              "ticks": ""
             }
            },
            "type": "scattermapbox"
           }
          ],
          "scatterpolar": [
           {
            "marker": {
             "colorbar": {
              "outlinewidth": 0,
              "ticks": ""
             }
            },
            "type": "scatterpolar"
           }
          ],
          "scatterpolargl": [
           {
            "marker": {
             "colorbar": {
              "outlinewidth": 0,
              "ticks": ""
             }
            },
            "type": "scatterpolargl"
           }
          ],
          "scatterternary": [
           {
            "marker": {
             "colorbar": {
              "outlinewidth": 0,
              "ticks": ""
             }
            },
            "type": "scatterternary"
           }
          ],
          "surface": [
           {
            "colorbar": {
             "outlinewidth": 0,
             "ticks": ""
            },
            "colorscale": [
             [
              0,
              "#0d0887"
             ],
             [
              0.1111111111111111,
              "#46039f"
             ],
             [
              0.2222222222222222,
              "#7201a8"
             ],
             [
              0.3333333333333333,
              "#9c179e"
             ],
             [
              0.4444444444444444,
              "#bd3786"
             ],
             [
              0.5555555555555556,
              "#d8576b"
             ],
             [
              0.6666666666666666,
              "#ed7953"
             ],
             [
              0.7777777777777778,
              "#fb9f3a"
             ],
             [
              0.8888888888888888,
              "#fdca26"
             ],
             [
              1,
              "#f0f921"
             ]
            ],
            "type": "surface"
           }
          ],
          "table": [
           {
            "cells": {
             "fill": {
              "color": "#EBF0F8"
             },
             "line": {
              "color": "white"
             }
            },
            "header": {
             "fill": {
              "color": "#C8D4E3"
             },
             "line": {
              "color": "white"
             }
            },
            "type": "table"
           }
          ]
         },
         "layout": {
          "annotationdefaults": {
           "arrowcolor": "#2a3f5f",
           "arrowhead": 0,
           "arrowwidth": 1
          },
          "coloraxis": {
           "colorbar": {
            "outlinewidth": 0,
            "ticks": ""
           }
          },
          "colorscale": {
           "diverging": [
            [
             0,
             "#8e0152"
            ],
            [
             0.1,
             "#c51b7d"
            ],
            [
             0.2,
             "#de77ae"
            ],
            [
             0.3,
             "#f1b6da"
            ],
            [
             0.4,
             "#fde0ef"
            ],
            [
             0.5,
             "#f7f7f7"
            ],
            [
             0.6,
             "#e6f5d0"
            ],
            [
             0.7,
             "#b8e186"
            ],
            [
             0.8,
             "#7fbc41"
            ],
            [
             0.9,
             "#4d9221"
            ],
            [
             1,
             "#276419"
            ]
           ],
           "sequential": [
            [
             0,
             "#0d0887"
            ],
            [
             0.1111111111111111,
             "#46039f"
            ],
            [
             0.2222222222222222,
             "#7201a8"
            ],
            [
             0.3333333333333333,
             "#9c179e"
            ],
            [
             0.4444444444444444,
             "#bd3786"
            ],
            [
             0.5555555555555556,
             "#d8576b"
            ],
            [
             0.6666666666666666,
             "#ed7953"
            ],
            [
             0.7777777777777778,
             "#fb9f3a"
            ],
            [
             0.8888888888888888,
             "#fdca26"
            ],
            [
             1,
             "#f0f921"
            ]
           ],
           "sequentialminus": [
            [
             0,
             "#0d0887"
            ],
            [
             0.1111111111111111,
             "#46039f"
            ],
            [
             0.2222222222222222,
             "#7201a8"
            ],
            [
             0.3333333333333333,
             "#9c179e"
            ],
            [
             0.4444444444444444,
             "#bd3786"
            ],
            [
             0.5555555555555556,
             "#d8576b"
            ],
            [
             0.6666666666666666,
             "#ed7953"
            ],
            [
             0.7777777777777778,
             "#fb9f3a"
            ],
            [
             0.8888888888888888,
             "#fdca26"
            ],
            [
             1,
             "#f0f921"
            ]
           ]
          },
          "colorway": [
           "#636efa",
           "#EF553B",
           "#00cc96",
           "#ab63fa",
           "#FFA15A",
           "#19d3f3",
           "#FF6692",
           "#B6E880",
           "#FF97FF",
           "#FECB52"
          ],
          "font": {
           "color": "#2a3f5f"
          },
          "geo": {
           "bgcolor": "white",
           "lakecolor": "white",
           "landcolor": "#E5ECF6",
           "showlakes": true,
           "showland": true,
           "subunitcolor": "white"
          },
          "hoverlabel": {
           "align": "left"
          },
          "hovermode": "closest",
          "mapbox": {
           "style": "light"
          },
          "paper_bgcolor": "white",
          "plot_bgcolor": "#E5ECF6",
          "polar": {
           "angularaxis": {
            "gridcolor": "white",
            "linecolor": "white",
            "ticks": ""
           },
           "bgcolor": "#E5ECF6",
           "radialaxis": {
            "gridcolor": "white",
            "linecolor": "white",
            "ticks": ""
           }
          },
          "scene": {
           "xaxis": {
            "backgroundcolor": "#E5ECF6",
            "gridcolor": "white",
            "gridwidth": 2,
            "linecolor": "white",
            "showbackground": true,
            "ticks": "",
            "zerolinecolor": "white"
           },
           "yaxis": {
            "backgroundcolor": "#E5ECF6",
            "gridcolor": "white",
            "gridwidth": 2,
            "linecolor": "white",
            "showbackground": true,
            "ticks": "",
            "zerolinecolor": "white"
           },
           "zaxis": {
            "backgroundcolor": "#E5ECF6",
            "gridcolor": "white",
            "gridwidth": 2,
            "linecolor": "white",
            "showbackground": true,
            "ticks": "",
            "zerolinecolor": "white"
           }
          },
          "shapedefaults": {
           "line": {
            "color": "#2a3f5f"
           }
          },
          "ternary": {
           "aaxis": {
            "gridcolor": "white",
            "linecolor": "white",
            "ticks": ""
           },
           "baxis": {
            "gridcolor": "white",
            "linecolor": "white",
            "ticks": ""
           },
           "bgcolor": "#E5ECF6",
           "caxis": {
            "gridcolor": "white",
            "linecolor": "white",
            "ticks": ""
           }
          },
          "title": {
           "x": 0.05
          },
          "xaxis": {
           "automargin": true,
           "gridcolor": "white",
           "linecolor": "white",
           "ticks": "",
           "title": {
            "standoff": 15
           },
           "zerolinecolor": "white",
           "zerolinewidth": 2
          },
          "yaxis": {
           "automargin": true,
           "gridcolor": "white",
           "linecolor": "white",
           "ticks": "",
           "title": {
            "standoff": 15
           },
           "zerolinecolor": "white",
           "zerolinewidth": 2
          }
         }
        },
        "title": {
         "font": {
          "color": "#4D5663"
         }
        },
        "xaxis": {
         "gridcolor": "#E1E5ED",
         "showgrid": true,
         "tickfont": {
          "color": "#4D5663"
         },
         "title": {
          "font": {
           "color": "#4D5663"
          },
          "text": ""
         },
         "zerolinecolor": "#E1E5ED"
        },
        "yaxis": {
         "gridcolor": "#E1E5ED",
         "showgrid": true,
         "tickfont": {
          "color": "#4D5663"
         },
         "title": {
          "font": {
           "color": "#4D5663"
          },
          "text": ""
         },
         "zerolinecolor": "#E1E5ED"
        }
       }
      },
      "text/html": [
       "<div>                            <div id=\"55dca9a4-f715-4b17-831c-3986eadd11f6\" class=\"plotly-graph-div\" style=\"height:525px; width:100%;\"></div>            <script type=\"text/javascript\">                require([\"plotly\"], function(Plotly) {                    window.PLOTLYENV=window.PLOTLYENV || {};\n",
       "                    window.PLOTLYENV.BASE_URL='https://plot.ly';                                    if (document.getElementById(\"55dca9a4-f715-4b17-831c-3986eadd11f6\")) {                    Plotly.newPlot(                        \"55dca9a4-f715-4b17-831c-3986eadd11f6\",                        [{\"marker\": {\"color\": \"rgba(255, 153, 51, 0.6)\", \"line\": {\"color\": \"rgba(255, 153, 51, 1.0)\", \"width\": 1}}, \"name\": \"A\", \"orientation\": \"v\", \"text\": \"\", \"type\": \"bar\", \"x\": [0, 1, 2, 3, 4, 5, 6, 7, 8, 9, 10, 11, 12, 13, 14, 15, 16, 17, 18, 19, 20, 21, 22, 23, 24, 25, 26, 27, 28, 29, 30, 31, 32, 33, 34, 35, 36, 37, 38, 39, 40, 41, 42, 43, 44, 45, 46, 47, 48, 49, 50, 51, 52, 53, 54, 55, 56, 57, 58, 59, 60, 61, 62, 63, 64, 65, 66, 67, 68, 69, 70, 71, 72, 73, 74, 75, 76, 77, 78, 79, 80, 81, 82, 83, 84, 85, 86, 87, 88, 89, 90, 91, 92, 93, 94, 95, 96, 97, 98, 99], \"y\": [-1.813928762203615, -0.27432866383219695, 0.6253015850617543, -1.4554873129592596, 3.1328551351380627, 0.5830754004780817, -1.0020516684184995, 0.8064168386351752, 0.5811933408652084, -0.9944438998596266, 0.4275666091292003, 0.6662959061293554, -1.238164143354905, 0.9090650323908503, -0.49040851975783545, -0.7393550945325827, -0.7793251281906282, -0.05941256700603647, 0.9388278444558112, 0.3935996182797066, 0.16843035826535743, -0.012388439012577619, 0.7395802840689866, -0.19026779482997197, 0.4230286270538319, 1.8825534628198763, 0.6792062135611023, -0.7283045371389388, 0.331562460056705, 0.2224405058905905, -1.3799354855474406, -0.3385234291662567, -0.9601730674482541, 0.9781186597538379, -0.36014012323212297, 1.6657581634486944, -0.4060458883211332, -0.3437873974775657, -0.3159735282471693, 0.2856169914812245, 0.5356232663163358, 1.7209794482450487, 0.7695983815039918, -0.3502530607639093, 1.4561969592276458, -1.2192118463452706, -1.8439425232876443, -0.16185314773537718, -2.2584691292426995, 0.20668409063634077, 0.10523795995373263, -0.5332600333840517, 0.10144869460873746, 0.07483099737369392, 1.0004006969285233, 2.0963567904539984, 0.891356549589474, 0.18357909269892975, 0.5205225909418235, -3.585299735690124, 2.0977439105921447, -1.2955859707208526, -0.9584729751445248, 0.7526828628622835, 0.054739649265246625, 1.3611975574860573, -0.6097708748596224, -0.9643502021589745, 0.5368043250165858, 0.13875449188853514, -0.5876092434989054, -1.2344018269686825, 1.0504571633296549, -0.2204388885957174, 0.7711069197105281, 0.46146549667245335, 0.7573989338187541, -0.7355093559491815, -1.3541977713653937, 0.6750110906973829, -0.43262585616148436, -1.0891328225541235, 2.7954380383382986, 0.302944404393466, -1.2646747787997918, -1.0217711184638374, 0.8318181316682784, 1.9247298626545357, -0.8125340582765815, 1.4342509413347753, 0.001182431893759971, 0.635324691438933, -1.7232327742362592, -0.16876474281444187, -0.7611152815666171, 0.7905192080046453, -1.4481216932674335, 1.0548770968980319, -0.6880870636604127, 0.832100967986984]}],                        {\"legend\": {\"bgcolor\": \"#F5F6F9\", \"font\": {\"color\": \"#4D5663\"}}, \"paper_bgcolor\": \"#F5F6F9\", \"plot_bgcolor\": \"#F5F6F9\", \"template\": {\"data\": {\"bar\": [{\"error_x\": {\"color\": \"#2a3f5f\"}, \"error_y\": {\"color\": \"#2a3f5f\"}, \"marker\": {\"line\": {\"color\": \"#E5ECF6\", \"width\": 0.5}}, \"type\": \"bar\"}], \"barpolar\": [{\"marker\": {\"line\": {\"color\": \"#E5ECF6\", \"width\": 0.5}}, \"type\": \"barpolar\"}], \"carpet\": [{\"aaxis\": {\"endlinecolor\": \"#2a3f5f\", \"gridcolor\": \"white\", \"linecolor\": \"white\", \"minorgridcolor\": \"white\", \"startlinecolor\": \"#2a3f5f\"}, \"baxis\": {\"endlinecolor\": \"#2a3f5f\", \"gridcolor\": \"white\", \"linecolor\": \"white\", \"minorgridcolor\": \"white\", \"startlinecolor\": \"#2a3f5f\"}, \"type\": \"carpet\"}], \"choropleth\": [{\"colorbar\": {\"outlinewidth\": 0, \"ticks\": \"\"}, \"type\": \"choropleth\"}], \"contour\": [{\"colorbar\": {\"outlinewidth\": 0, \"ticks\": \"\"}, \"colorscale\": [[0.0, \"#0d0887\"], [0.1111111111111111, \"#46039f\"], [0.2222222222222222, \"#7201a8\"], [0.3333333333333333, \"#9c179e\"], [0.4444444444444444, \"#bd3786\"], [0.5555555555555556, \"#d8576b\"], [0.6666666666666666, \"#ed7953\"], [0.7777777777777778, \"#fb9f3a\"], [0.8888888888888888, \"#fdca26\"], [1.0, \"#f0f921\"]], \"type\": \"contour\"}], \"contourcarpet\": [{\"colorbar\": {\"outlinewidth\": 0, \"ticks\": \"\"}, \"type\": \"contourcarpet\"}], \"heatmap\": [{\"colorbar\": {\"outlinewidth\": 0, \"ticks\": \"\"}, \"colorscale\": [[0.0, \"#0d0887\"], [0.1111111111111111, \"#46039f\"], [0.2222222222222222, \"#7201a8\"], [0.3333333333333333, \"#9c179e\"], [0.4444444444444444, \"#bd3786\"], [0.5555555555555556, \"#d8576b\"], [0.6666666666666666, \"#ed7953\"], [0.7777777777777778, \"#fb9f3a\"], [0.8888888888888888, \"#fdca26\"], [1.0, \"#f0f921\"]], \"type\": \"heatmap\"}], \"heatmapgl\": [{\"colorbar\": {\"outlinewidth\": 0, \"ticks\": \"\"}, \"colorscale\": [[0.0, \"#0d0887\"], [0.1111111111111111, \"#46039f\"], [0.2222222222222222, \"#7201a8\"], [0.3333333333333333, \"#9c179e\"], [0.4444444444444444, \"#bd3786\"], [0.5555555555555556, \"#d8576b\"], [0.6666666666666666, \"#ed7953\"], [0.7777777777777778, \"#fb9f3a\"], [0.8888888888888888, \"#fdca26\"], [1.0, \"#f0f921\"]], \"type\": \"heatmapgl\"}], \"histogram\": [{\"marker\": {\"colorbar\": {\"outlinewidth\": 0, \"ticks\": \"\"}}, \"type\": \"histogram\"}], \"histogram2d\": [{\"colorbar\": {\"outlinewidth\": 0, \"ticks\": \"\"}, \"colorscale\": [[0.0, \"#0d0887\"], [0.1111111111111111, \"#46039f\"], [0.2222222222222222, \"#7201a8\"], [0.3333333333333333, \"#9c179e\"], [0.4444444444444444, \"#bd3786\"], [0.5555555555555556, \"#d8576b\"], [0.6666666666666666, \"#ed7953\"], [0.7777777777777778, \"#fb9f3a\"], [0.8888888888888888, \"#fdca26\"], [1.0, \"#f0f921\"]], \"type\": \"histogram2d\"}], \"histogram2dcontour\": [{\"colorbar\": {\"outlinewidth\": 0, \"ticks\": \"\"}, \"colorscale\": [[0.0, \"#0d0887\"], [0.1111111111111111, \"#46039f\"], [0.2222222222222222, \"#7201a8\"], [0.3333333333333333, \"#9c179e\"], [0.4444444444444444, \"#bd3786\"], [0.5555555555555556, \"#d8576b\"], [0.6666666666666666, \"#ed7953\"], [0.7777777777777778, \"#fb9f3a\"], [0.8888888888888888, \"#fdca26\"], [1.0, \"#f0f921\"]], \"type\": \"histogram2dcontour\"}], \"mesh3d\": [{\"colorbar\": {\"outlinewidth\": 0, \"ticks\": \"\"}, \"type\": \"mesh3d\"}], \"parcoords\": [{\"line\": {\"colorbar\": {\"outlinewidth\": 0, \"ticks\": \"\"}}, \"type\": \"parcoords\"}], \"pie\": [{\"automargin\": true, \"type\": \"pie\"}], \"scatter\": [{\"marker\": {\"colorbar\": {\"outlinewidth\": 0, \"ticks\": \"\"}}, \"type\": \"scatter\"}], \"scatter3d\": [{\"line\": {\"colorbar\": {\"outlinewidth\": 0, \"ticks\": \"\"}}, \"marker\": {\"colorbar\": {\"outlinewidth\": 0, \"ticks\": \"\"}}, \"type\": \"scatter3d\"}], \"scattercarpet\": [{\"marker\": {\"colorbar\": {\"outlinewidth\": 0, \"ticks\": \"\"}}, \"type\": \"scattercarpet\"}], \"scattergeo\": [{\"marker\": {\"colorbar\": {\"outlinewidth\": 0, \"ticks\": \"\"}}, \"type\": \"scattergeo\"}], \"scattergl\": [{\"marker\": {\"colorbar\": {\"outlinewidth\": 0, \"ticks\": \"\"}}, \"type\": \"scattergl\"}], \"scattermapbox\": [{\"marker\": {\"colorbar\": {\"outlinewidth\": 0, \"ticks\": \"\"}}, \"type\": \"scattermapbox\"}], \"scatterpolar\": [{\"marker\": {\"colorbar\": {\"outlinewidth\": 0, \"ticks\": \"\"}}, \"type\": \"scatterpolar\"}], \"scatterpolargl\": [{\"marker\": {\"colorbar\": {\"outlinewidth\": 0, \"ticks\": \"\"}}, \"type\": \"scatterpolargl\"}], \"scatterternary\": [{\"marker\": {\"colorbar\": {\"outlinewidth\": 0, \"ticks\": \"\"}}, \"type\": \"scatterternary\"}], \"surface\": [{\"colorbar\": {\"outlinewidth\": 0, \"ticks\": \"\"}, \"colorscale\": [[0.0, \"#0d0887\"], [0.1111111111111111, \"#46039f\"], [0.2222222222222222, \"#7201a8\"], [0.3333333333333333, \"#9c179e\"], [0.4444444444444444, \"#bd3786\"], [0.5555555555555556, \"#d8576b\"], [0.6666666666666666, \"#ed7953\"], [0.7777777777777778, \"#fb9f3a\"], [0.8888888888888888, \"#fdca26\"], [1.0, \"#f0f921\"]], \"type\": \"surface\"}], \"table\": [{\"cells\": {\"fill\": {\"color\": \"#EBF0F8\"}, \"line\": {\"color\": \"white\"}}, \"header\": {\"fill\": {\"color\": \"#C8D4E3\"}, \"line\": {\"color\": \"white\"}}, \"type\": \"table\"}]}, \"layout\": {\"annotationdefaults\": {\"arrowcolor\": \"#2a3f5f\", \"arrowhead\": 0, \"arrowwidth\": 1}, \"coloraxis\": {\"colorbar\": {\"outlinewidth\": 0, \"ticks\": \"\"}}, \"colorscale\": {\"diverging\": [[0, \"#8e0152\"], [0.1, \"#c51b7d\"], [0.2, \"#de77ae\"], [0.3, \"#f1b6da\"], [0.4, \"#fde0ef\"], [0.5, \"#f7f7f7\"], [0.6, \"#e6f5d0\"], [0.7, \"#b8e186\"], [0.8, \"#7fbc41\"], [0.9, \"#4d9221\"], [1, \"#276419\"]], \"sequential\": [[0.0, \"#0d0887\"], [0.1111111111111111, \"#46039f\"], [0.2222222222222222, \"#7201a8\"], [0.3333333333333333, \"#9c179e\"], [0.4444444444444444, \"#bd3786\"], [0.5555555555555556, \"#d8576b\"], [0.6666666666666666, \"#ed7953\"], [0.7777777777777778, \"#fb9f3a\"], [0.8888888888888888, \"#fdca26\"], [1.0, \"#f0f921\"]], \"sequentialminus\": [[0.0, \"#0d0887\"], [0.1111111111111111, \"#46039f\"], [0.2222222222222222, \"#7201a8\"], [0.3333333333333333, \"#9c179e\"], [0.4444444444444444, \"#bd3786\"], [0.5555555555555556, \"#d8576b\"], [0.6666666666666666, \"#ed7953\"], [0.7777777777777778, \"#fb9f3a\"], [0.8888888888888888, \"#fdca26\"], [1.0, \"#f0f921\"]]}, \"colorway\": [\"#636efa\", \"#EF553B\", \"#00cc96\", \"#ab63fa\", \"#FFA15A\", \"#19d3f3\", \"#FF6692\", \"#B6E880\", \"#FF97FF\", \"#FECB52\"], \"font\": {\"color\": \"#2a3f5f\"}, \"geo\": {\"bgcolor\": \"white\", \"lakecolor\": \"white\", \"landcolor\": \"#E5ECF6\", \"showlakes\": true, \"showland\": true, \"subunitcolor\": \"white\"}, \"hoverlabel\": {\"align\": \"left\"}, \"hovermode\": \"closest\", \"mapbox\": {\"style\": \"light\"}, \"paper_bgcolor\": \"white\", \"plot_bgcolor\": \"#E5ECF6\", \"polar\": {\"angularaxis\": {\"gridcolor\": \"white\", \"linecolor\": \"white\", \"ticks\": \"\"}, \"bgcolor\": \"#E5ECF6\", \"radialaxis\": {\"gridcolor\": \"white\", \"linecolor\": \"white\", \"ticks\": \"\"}}, \"scene\": {\"xaxis\": {\"backgroundcolor\": \"#E5ECF6\", \"gridcolor\": \"white\", \"gridwidth\": 2, \"linecolor\": \"white\", \"showbackground\": true, \"ticks\": \"\", \"zerolinecolor\": \"white\"}, \"yaxis\": {\"backgroundcolor\": \"#E5ECF6\", \"gridcolor\": \"white\", \"gridwidth\": 2, \"linecolor\": \"white\", \"showbackground\": true, \"ticks\": \"\", \"zerolinecolor\": \"white\"}, \"zaxis\": {\"backgroundcolor\": \"#E5ECF6\", \"gridcolor\": \"white\", \"gridwidth\": 2, \"linecolor\": \"white\", \"showbackground\": true, \"ticks\": \"\", \"zerolinecolor\": \"white\"}}, \"shapedefaults\": {\"line\": {\"color\": \"#2a3f5f\"}}, \"ternary\": {\"aaxis\": {\"gridcolor\": \"white\", \"linecolor\": \"white\", \"ticks\": \"\"}, \"baxis\": {\"gridcolor\": \"white\", \"linecolor\": \"white\", \"ticks\": \"\"}, \"bgcolor\": \"#E5ECF6\", \"caxis\": {\"gridcolor\": \"white\", \"linecolor\": \"white\", \"ticks\": \"\"}}, \"title\": {\"x\": 0.05}, \"xaxis\": {\"automargin\": true, \"gridcolor\": \"white\", \"linecolor\": \"white\", \"ticks\": \"\", \"title\": {\"standoff\": 15}, \"zerolinecolor\": \"white\", \"zerolinewidth\": 2}, \"yaxis\": {\"automargin\": true, \"gridcolor\": \"white\", \"linecolor\": \"white\", \"ticks\": \"\", \"title\": {\"standoff\": 15}, \"zerolinecolor\": \"white\", \"zerolinewidth\": 2}}}, \"title\": {\"font\": {\"color\": \"#4D5663\"}}, \"xaxis\": {\"gridcolor\": \"#E1E5ED\", \"showgrid\": true, \"tickfont\": {\"color\": \"#4D5663\"}, \"title\": {\"font\": {\"color\": \"#4D5663\"}, \"text\": \"\"}, \"zerolinecolor\": \"#E1E5ED\"}, \"yaxis\": {\"gridcolor\": \"#E1E5ED\", \"showgrid\": true, \"tickfont\": {\"color\": \"#4D5663\"}, \"title\": {\"font\": {\"color\": \"#4D5663\"}, \"text\": \"\"}, \"zerolinecolor\": \"#E1E5ED\"}},                        {\"showLink\": true, \"linkText\": \"Export to plot.ly\", \"plotlyServerURL\": \"https://plot.ly\", \"responsive\": true}                    ).then(function(){\n",
       "                            \n",
       "var gd = document.getElementById('55dca9a4-f715-4b17-831c-3986eadd11f6');\n",
       "var x = new MutationObserver(function (mutations, observer) {{\n",
       "        var display = window.getComputedStyle(gd).display;\n",
       "        if (!display || display === 'none') {{\n",
       "            console.log([gd, 'removed!']);\n",
       "            Plotly.purge(gd);\n",
       "            observer.disconnect();\n",
       "        }}\n",
       "}});\n",
       "\n",
       "// Listen for the removal of the full notebook cells\n",
       "var notebookContainer = gd.closest('#notebook-container');\n",
       "if (notebookContainer) {{\n",
       "    x.observe(notebookContainer, {childList: true});\n",
       "}}\n",
       "\n",
       "// Listen for the clearing of the current output cell\n",
       "var outputEl = gd.closest('.output');\n",
       "if (outputEl) {{\n",
       "    x.observe(outputEl, {childList: true});\n",
       "}}\n",
       "\n",
       "                        })                };                });            </script>        </div>"
      ]
     },
     "metadata": {},
     "output_type": "display_data"
    }
   ],
   "source": [
    "#iplot only selected columns\n",
    "df['A'].iplot(kind = 'bar')\n",
    "\n",
    "\n",
    "\n"
   ]
  },
  {
   "cell_type": "code",
   "execution_count": 18,
   "metadata": {},
   "outputs": [
    {
     "data": {
      "application/vnd.plotly.v1+json": {
       "config": {
        "linkText": "Export to plot.ly",
        "plotlyServerURL": "https://plot.ly",
        "showLink": true
       },
       "data": [
        {
         "marker": {
          "color": "rgba(255, 153, 51, 0.6)",
          "line": {
           "color": "rgba(255, 153, 51, 1.0)",
           "width": 1
          }
         },
         "name": "None",
         "orientation": "v",
         "text": "",
         "type": "bar",
         "x": [
          "A",
          " B",
          " C",
          " D"
         ],
         "y": [
          100,
          100,
          100,
          100
         ]
        }
       ],
       "layout": {
        "legend": {
         "bgcolor": "#F5F6F9",
         "font": {
          "color": "#4D5663"
         }
        },
        "paper_bgcolor": "#F5F6F9",
        "plot_bgcolor": "#F5F6F9",
        "template": {
         "data": {
          "bar": [
           {
            "error_x": {
             "color": "#2a3f5f"
            },
            "error_y": {
             "color": "#2a3f5f"
            },
            "marker": {
             "line": {
              "color": "#E5ECF6",
              "width": 0.5
             }
            },
            "type": "bar"
           }
          ],
          "barpolar": [
           {
            "marker": {
             "line": {
              "color": "#E5ECF6",
              "width": 0.5
             }
            },
            "type": "barpolar"
           }
          ],
          "carpet": [
           {
            "aaxis": {
             "endlinecolor": "#2a3f5f",
             "gridcolor": "white",
             "linecolor": "white",
             "minorgridcolor": "white",
             "startlinecolor": "#2a3f5f"
            },
            "baxis": {
             "endlinecolor": "#2a3f5f",
             "gridcolor": "white",
             "linecolor": "white",
             "minorgridcolor": "white",
             "startlinecolor": "#2a3f5f"
            },
            "type": "carpet"
           }
          ],
          "choropleth": [
           {
            "colorbar": {
             "outlinewidth": 0,
             "ticks": ""
            },
            "type": "choropleth"
           }
          ],
          "contour": [
           {
            "colorbar": {
             "outlinewidth": 0,
             "ticks": ""
            },
            "colorscale": [
             [
              0,
              "#0d0887"
             ],
             [
              0.1111111111111111,
              "#46039f"
             ],
             [
              0.2222222222222222,
              "#7201a8"
             ],
             [
              0.3333333333333333,
              "#9c179e"
             ],
             [
              0.4444444444444444,
              "#bd3786"
             ],
             [
              0.5555555555555556,
              "#d8576b"
             ],
             [
              0.6666666666666666,
              "#ed7953"
             ],
             [
              0.7777777777777778,
              "#fb9f3a"
             ],
             [
              0.8888888888888888,
              "#fdca26"
             ],
             [
              1,
              "#f0f921"
             ]
            ],
            "type": "contour"
           }
          ],
          "contourcarpet": [
           {
            "colorbar": {
             "outlinewidth": 0,
             "ticks": ""
            },
            "type": "contourcarpet"
           }
          ],
          "heatmap": [
           {
            "colorbar": {
             "outlinewidth": 0,
             "ticks": ""
            },
            "colorscale": [
             [
              0,
              "#0d0887"
             ],
             [
              0.1111111111111111,
              "#46039f"
             ],
             [
              0.2222222222222222,
              "#7201a8"
             ],
             [
              0.3333333333333333,
              "#9c179e"
             ],
             [
              0.4444444444444444,
              "#bd3786"
             ],
             [
              0.5555555555555556,
              "#d8576b"
             ],
             [
              0.6666666666666666,
              "#ed7953"
             ],
             [
              0.7777777777777778,
              "#fb9f3a"
             ],
             [
              0.8888888888888888,
              "#fdca26"
             ],
             [
              1,
              "#f0f921"
             ]
            ],
            "type": "heatmap"
           }
          ],
          "heatmapgl": [
           {
            "colorbar": {
             "outlinewidth": 0,
             "ticks": ""
            },
            "colorscale": [
             [
              0,
              "#0d0887"
             ],
             [
              0.1111111111111111,
              "#46039f"
             ],
             [
              0.2222222222222222,
              "#7201a8"
             ],
             [
              0.3333333333333333,
              "#9c179e"
             ],
             [
              0.4444444444444444,
              "#bd3786"
             ],
             [
              0.5555555555555556,
              "#d8576b"
             ],
             [
              0.6666666666666666,
              "#ed7953"
             ],
             [
              0.7777777777777778,
              "#fb9f3a"
             ],
             [
              0.8888888888888888,
              "#fdca26"
             ],
             [
              1,
              "#f0f921"
             ]
            ],
            "type": "heatmapgl"
           }
          ],
          "histogram": [
           {
            "marker": {
             "colorbar": {
              "outlinewidth": 0,
              "ticks": ""
             }
            },
            "type": "histogram"
           }
          ],
          "histogram2d": [
           {
            "colorbar": {
             "outlinewidth": 0,
             "ticks": ""
            },
            "colorscale": [
             [
              0,
              "#0d0887"
             ],
             [
              0.1111111111111111,
              "#46039f"
             ],
             [
              0.2222222222222222,
              "#7201a8"
             ],
             [
              0.3333333333333333,
              "#9c179e"
             ],
             [
              0.4444444444444444,
              "#bd3786"
             ],
             [
              0.5555555555555556,
              "#d8576b"
             ],
             [
              0.6666666666666666,
              "#ed7953"
             ],
             [
              0.7777777777777778,
              "#fb9f3a"
             ],
             [
              0.8888888888888888,
              "#fdca26"
             ],
             [
              1,
              "#f0f921"
             ]
            ],
            "type": "histogram2d"
           }
          ],
          "histogram2dcontour": [
           {
            "colorbar": {
             "outlinewidth": 0,
             "ticks": ""
            },
            "colorscale": [
             [
              0,
              "#0d0887"
             ],
             [
              0.1111111111111111,
              "#46039f"
             ],
             [
              0.2222222222222222,
              "#7201a8"
             ],
             [
              0.3333333333333333,
              "#9c179e"
             ],
             [
              0.4444444444444444,
              "#bd3786"
             ],
             [
              0.5555555555555556,
              "#d8576b"
             ],
             [
              0.6666666666666666,
              "#ed7953"
             ],
             [
              0.7777777777777778,
              "#fb9f3a"
             ],
             [
              0.8888888888888888,
              "#fdca26"
             ],
             [
              1,
              "#f0f921"
             ]
            ],
            "type": "histogram2dcontour"
           }
          ],
          "mesh3d": [
           {
            "colorbar": {
             "outlinewidth": 0,
             "ticks": ""
            },
            "type": "mesh3d"
           }
          ],
          "parcoords": [
           {
            "line": {
             "colorbar": {
              "outlinewidth": 0,
              "ticks": ""
             }
            },
            "type": "parcoords"
           }
          ],
          "pie": [
           {
            "automargin": true,
            "type": "pie"
           }
          ],
          "scatter": [
           {
            "marker": {
             "colorbar": {
              "outlinewidth": 0,
              "ticks": ""
             }
            },
            "type": "scatter"
           }
          ],
          "scatter3d": [
           {
            "line": {
             "colorbar": {
              "outlinewidth": 0,
              "ticks": ""
             }
            },
            "marker": {
             "colorbar": {
              "outlinewidth": 0,
              "ticks": ""
             }
            },
            "type": "scatter3d"
           }
          ],
          "scattercarpet": [
           {
            "marker": {
             "colorbar": {
              "outlinewidth": 0,
              "ticks": ""
             }
            },
            "type": "scattercarpet"
           }
          ],
          "scattergeo": [
           {
            "marker": {
             "colorbar": {
              "outlinewidth": 0,
              "ticks": ""
             }
            },
            "type": "scattergeo"
           }
          ],
          "scattergl": [
           {
            "marker": {
             "colorbar": {
              "outlinewidth": 0,
              "ticks": ""
             }
            },
            "type": "scattergl"
           }
          ],
          "scattermapbox": [
           {
            "marker": {
             "colorbar": {
              "outlinewidth": 0,
              "ticks": ""
             }
            },
            "type": "scattermapbox"
           }
          ],
          "scatterpolar": [
           {
            "marker": {
             "colorbar": {
              "outlinewidth": 0,
              "ticks": ""
             }
            },
            "type": "scatterpolar"
           }
          ],
          "scatterpolargl": [
           {
            "marker": {
             "colorbar": {
              "outlinewidth": 0,
              "ticks": ""
             }
            },
            "type": "scatterpolargl"
           }
          ],
          "scatterternary": [
           {
            "marker": {
             "colorbar": {
              "outlinewidth": 0,
              "ticks": ""
             }
            },
            "type": "scatterternary"
           }
          ],
          "surface": [
           {
            "colorbar": {
             "outlinewidth": 0,
             "ticks": ""
            },
            "colorscale": [
             [
              0,
              "#0d0887"
             ],
             [
              0.1111111111111111,
              "#46039f"
             ],
             [
              0.2222222222222222,
              "#7201a8"
             ],
             [
              0.3333333333333333,
              "#9c179e"
             ],
             [
              0.4444444444444444,
              "#bd3786"
             ],
             [
              0.5555555555555556,
              "#d8576b"
             ],
             [
              0.6666666666666666,
              "#ed7953"
             ],
             [
              0.7777777777777778,
              "#fb9f3a"
             ],
             [
              0.8888888888888888,
              "#fdca26"
             ],
             [
              1,
              "#f0f921"
             ]
            ],
            "type": "surface"
           }
          ],
          "table": [
           {
            "cells": {
             "fill": {
              "color": "#EBF0F8"
             },
             "line": {
              "color": "white"
             }
            },
            "header": {
             "fill": {
              "color": "#C8D4E3"
             },
             "line": {
              "color": "white"
             }
            },
            "type": "table"
           }
          ]
         },
         "layout": {
          "annotationdefaults": {
           "arrowcolor": "#2a3f5f",
           "arrowhead": 0,
           "arrowwidth": 1
          },
          "coloraxis": {
           "colorbar": {
            "outlinewidth": 0,
            "ticks": ""
           }
          },
          "colorscale": {
           "diverging": [
            [
             0,
             "#8e0152"
            ],
            [
             0.1,
             "#c51b7d"
            ],
            [
             0.2,
             "#de77ae"
            ],
            [
             0.3,
             "#f1b6da"
            ],
            [
             0.4,
             "#fde0ef"
            ],
            [
             0.5,
             "#f7f7f7"
            ],
            [
             0.6,
             "#e6f5d0"
            ],
            [
             0.7,
             "#b8e186"
            ],
            [
             0.8,
             "#7fbc41"
            ],
            [
             0.9,
             "#4d9221"
            ],
            [
             1,
             "#276419"
            ]
           ],
           "sequential": [
            [
             0,
             "#0d0887"
            ],
            [
             0.1111111111111111,
             "#46039f"
            ],
            [
             0.2222222222222222,
             "#7201a8"
            ],
            [
             0.3333333333333333,
             "#9c179e"
            ],
            [
             0.4444444444444444,
             "#bd3786"
            ],
            [
             0.5555555555555556,
             "#d8576b"
            ],
            [
             0.6666666666666666,
             "#ed7953"
            ],
            [
             0.7777777777777778,
             "#fb9f3a"
            ],
            [
             0.8888888888888888,
             "#fdca26"
            ],
            [
             1,
             "#f0f921"
            ]
           ],
           "sequentialminus": [
            [
             0,
             "#0d0887"
            ],
            [
             0.1111111111111111,
             "#46039f"
            ],
            [
             0.2222222222222222,
             "#7201a8"
            ],
            [
             0.3333333333333333,
             "#9c179e"
            ],
            [
             0.4444444444444444,
             "#bd3786"
            ],
            [
             0.5555555555555556,
             "#d8576b"
            ],
            [
             0.6666666666666666,
             "#ed7953"
            ],
            [
             0.7777777777777778,
             "#fb9f3a"
            ],
            [
             0.8888888888888888,
             "#fdca26"
            ],
            [
             1,
             "#f0f921"
            ]
           ]
          },
          "colorway": [
           "#636efa",
           "#EF553B",
           "#00cc96",
           "#ab63fa",
           "#FFA15A",
           "#19d3f3",
           "#FF6692",
           "#B6E880",
           "#FF97FF",
           "#FECB52"
          ],
          "font": {
           "color": "#2a3f5f"
          },
          "geo": {
           "bgcolor": "white",
           "lakecolor": "white",
           "landcolor": "#E5ECF6",
           "showlakes": true,
           "showland": true,
           "subunitcolor": "white"
          },
          "hoverlabel": {
           "align": "left"
          },
          "hovermode": "closest",
          "mapbox": {
           "style": "light"
          },
          "paper_bgcolor": "white",
          "plot_bgcolor": "#E5ECF6",
          "polar": {
           "angularaxis": {
            "gridcolor": "white",
            "linecolor": "white",
            "ticks": ""
           },
           "bgcolor": "#E5ECF6",
           "radialaxis": {
            "gridcolor": "white",
            "linecolor": "white",
            "ticks": ""
           }
          },
          "scene": {
           "xaxis": {
            "backgroundcolor": "#E5ECF6",
            "gridcolor": "white",
            "gridwidth": 2,
            "linecolor": "white",
            "showbackground": true,
            "ticks": "",
            "zerolinecolor": "white"
           },
           "yaxis": {
            "backgroundcolor": "#E5ECF6",
            "gridcolor": "white",
            "gridwidth": 2,
            "linecolor": "white",
            "showbackground": true,
            "ticks": "",
            "zerolinecolor": "white"
           },
           "zaxis": {
            "backgroundcolor": "#E5ECF6",
            "gridcolor": "white",
            "gridwidth": 2,
            "linecolor": "white",
            "showbackground": true,
            "ticks": "",
            "zerolinecolor": "white"
           }
          },
          "shapedefaults": {
           "line": {
            "color": "#2a3f5f"
           }
          },
          "ternary": {
           "aaxis": {
            "gridcolor": "white",
            "linecolor": "white",
            "ticks": ""
           },
           "baxis": {
            "gridcolor": "white",
            "linecolor": "white",
            "ticks": ""
           },
           "bgcolor": "#E5ECF6",
           "caxis": {
            "gridcolor": "white",
            "linecolor": "white",
            "ticks": ""
           }
          },
          "title": {
           "x": 0.05
          },
          "xaxis": {
           "automargin": true,
           "gridcolor": "white",
           "linecolor": "white",
           "ticks": "",
           "title": {
            "standoff": 15
           },
           "zerolinecolor": "white",
           "zerolinewidth": 2
          },
          "yaxis": {
           "automargin": true,
           "gridcolor": "white",
           "linecolor": "white",
           "ticks": "",
           "title": {
            "standoff": 15
           },
           "zerolinecolor": "white",
           "zerolinewidth": 2
          }
         }
        },
        "title": {
         "font": {
          "color": "#4D5663"
         }
        },
        "xaxis": {
         "gridcolor": "#E1E5ED",
         "showgrid": true,
         "tickfont": {
          "color": "#4D5663"
         },
         "title": {
          "font": {
           "color": "#4D5663"
          },
          "text": ""
         },
         "zerolinecolor": "#E1E5ED"
        },
        "yaxis": {
         "gridcolor": "#E1E5ED",
         "showgrid": true,
         "tickfont": {
          "color": "#4D5663"
         },
         "title": {
          "font": {
           "color": "#4D5663"
          },
          "text": ""
         },
         "zerolinecolor": "#E1E5ED"
        }
       }
      },
      "text/html": [
       "<div>                            <div id=\"88ce85af-7338-4fe0-a290-03103e8855ae\" class=\"plotly-graph-div\" style=\"height:525px; width:100%;\"></div>            <script type=\"text/javascript\">                require([\"plotly\"], function(Plotly) {                    window.PLOTLYENV=window.PLOTLYENV || {};\n",
       "                    window.PLOTLYENV.BASE_URL='https://plot.ly';                                    if (document.getElementById(\"88ce85af-7338-4fe0-a290-03103e8855ae\")) {                    Plotly.newPlot(                        \"88ce85af-7338-4fe0-a290-03103e8855ae\",                        [{\"marker\": {\"color\": \"rgba(255, 153, 51, 0.6)\", \"line\": {\"color\": \"rgba(255, 153, 51, 1.0)\", \"width\": 1}}, \"name\": \"None\", \"orientation\": \"v\", \"text\": \"\", \"type\": \"bar\", \"x\": [\"A\", \" B\", \" C\", \" D\"], \"y\": [100, 100, 100, 100]}],                        {\"legend\": {\"bgcolor\": \"#F5F6F9\", \"font\": {\"color\": \"#4D5663\"}}, \"paper_bgcolor\": \"#F5F6F9\", \"plot_bgcolor\": \"#F5F6F9\", \"template\": {\"data\": {\"bar\": [{\"error_x\": {\"color\": \"#2a3f5f\"}, \"error_y\": {\"color\": \"#2a3f5f\"}, \"marker\": {\"line\": {\"color\": \"#E5ECF6\", \"width\": 0.5}}, \"type\": \"bar\"}], \"barpolar\": [{\"marker\": {\"line\": {\"color\": \"#E5ECF6\", \"width\": 0.5}}, \"type\": \"barpolar\"}], \"carpet\": [{\"aaxis\": {\"endlinecolor\": \"#2a3f5f\", \"gridcolor\": \"white\", \"linecolor\": \"white\", \"minorgridcolor\": \"white\", \"startlinecolor\": \"#2a3f5f\"}, \"baxis\": {\"endlinecolor\": \"#2a3f5f\", \"gridcolor\": \"white\", \"linecolor\": \"white\", \"minorgridcolor\": \"white\", \"startlinecolor\": \"#2a3f5f\"}, \"type\": \"carpet\"}], \"choropleth\": [{\"colorbar\": {\"outlinewidth\": 0, \"ticks\": \"\"}, \"type\": \"choropleth\"}], \"contour\": [{\"colorbar\": {\"outlinewidth\": 0, \"ticks\": \"\"}, \"colorscale\": [[0.0, \"#0d0887\"], [0.1111111111111111, \"#46039f\"], [0.2222222222222222, \"#7201a8\"], [0.3333333333333333, \"#9c179e\"], [0.4444444444444444, \"#bd3786\"], [0.5555555555555556, \"#d8576b\"], [0.6666666666666666, \"#ed7953\"], [0.7777777777777778, \"#fb9f3a\"], [0.8888888888888888, \"#fdca26\"], [1.0, \"#f0f921\"]], \"type\": \"contour\"}], \"contourcarpet\": [{\"colorbar\": {\"outlinewidth\": 0, \"ticks\": \"\"}, \"type\": \"contourcarpet\"}], \"heatmap\": [{\"colorbar\": {\"outlinewidth\": 0, \"ticks\": \"\"}, \"colorscale\": [[0.0, \"#0d0887\"], [0.1111111111111111, \"#46039f\"], [0.2222222222222222, \"#7201a8\"], [0.3333333333333333, \"#9c179e\"], [0.4444444444444444, \"#bd3786\"], [0.5555555555555556, \"#d8576b\"], [0.6666666666666666, \"#ed7953\"], [0.7777777777777778, \"#fb9f3a\"], [0.8888888888888888, \"#fdca26\"], [1.0, \"#f0f921\"]], \"type\": \"heatmap\"}], \"heatmapgl\": [{\"colorbar\": {\"outlinewidth\": 0, \"ticks\": \"\"}, \"colorscale\": [[0.0, \"#0d0887\"], [0.1111111111111111, \"#46039f\"], [0.2222222222222222, \"#7201a8\"], [0.3333333333333333, \"#9c179e\"], [0.4444444444444444, \"#bd3786\"], [0.5555555555555556, \"#d8576b\"], [0.6666666666666666, \"#ed7953\"], [0.7777777777777778, \"#fb9f3a\"], [0.8888888888888888, \"#fdca26\"], [1.0, \"#f0f921\"]], \"type\": \"heatmapgl\"}], \"histogram\": [{\"marker\": {\"colorbar\": {\"outlinewidth\": 0, \"ticks\": \"\"}}, \"type\": \"histogram\"}], \"histogram2d\": [{\"colorbar\": {\"outlinewidth\": 0, \"ticks\": \"\"}, \"colorscale\": [[0.0, \"#0d0887\"], [0.1111111111111111, \"#46039f\"], [0.2222222222222222, \"#7201a8\"], [0.3333333333333333, \"#9c179e\"], [0.4444444444444444, \"#bd3786\"], [0.5555555555555556, \"#d8576b\"], [0.6666666666666666, \"#ed7953\"], [0.7777777777777778, \"#fb9f3a\"], [0.8888888888888888, \"#fdca26\"], [1.0, \"#f0f921\"]], \"type\": \"histogram2d\"}], \"histogram2dcontour\": [{\"colorbar\": {\"outlinewidth\": 0, \"ticks\": \"\"}, \"colorscale\": [[0.0, \"#0d0887\"], [0.1111111111111111, \"#46039f\"], [0.2222222222222222, \"#7201a8\"], [0.3333333333333333, \"#9c179e\"], [0.4444444444444444, \"#bd3786\"], [0.5555555555555556, \"#d8576b\"], [0.6666666666666666, \"#ed7953\"], [0.7777777777777778, \"#fb9f3a\"], [0.8888888888888888, \"#fdca26\"], [1.0, \"#f0f921\"]], \"type\": \"histogram2dcontour\"}], \"mesh3d\": [{\"colorbar\": {\"outlinewidth\": 0, \"ticks\": \"\"}, \"type\": \"mesh3d\"}], \"parcoords\": [{\"line\": {\"colorbar\": {\"outlinewidth\": 0, \"ticks\": \"\"}}, \"type\": \"parcoords\"}], \"pie\": [{\"automargin\": true, \"type\": \"pie\"}], \"scatter\": [{\"marker\": {\"colorbar\": {\"outlinewidth\": 0, \"ticks\": \"\"}}, \"type\": \"scatter\"}], \"scatter3d\": [{\"line\": {\"colorbar\": {\"outlinewidth\": 0, \"ticks\": \"\"}}, \"marker\": {\"colorbar\": {\"outlinewidth\": 0, \"ticks\": \"\"}}, \"type\": \"scatter3d\"}], \"scattercarpet\": [{\"marker\": {\"colorbar\": {\"outlinewidth\": 0, \"ticks\": \"\"}}, \"type\": \"scattercarpet\"}], \"scattergeo\": [{\"marker\": {\"colorbar\": {\"outlinewidth\": 0, \"ticks\": \"\"}}, \"type\": \"scattergeo\"}], \"scattergl\": [{\"marker\": {\"colorbar\": {\"outlinewidth\": 0, \"ticks\": \"\"}}, \"type\": \"scattergl\"}], \"scattermapbox\": [{\"marker\": {\"colorbar\": {\"outlinewidth\": 0, \"ticks\": \"\"}}, \"type\": \"scattermapbox\"}], \"scatterpolar\": [{\"marker\": {\"colorbar\": {\"outlinewidth\": 0, \"ticks\": \"\"}}, \"type\": \"scatterpolar\"}], \"scatterpolargl\": [{\"marker\": {\"colorbar\": {\"outlinewidth\": 0, \"ticks\": \"\"}}, \"type\": \"scatterpolargl\"}], \"scatterternary\": [{\"marker\": {\"colorbar\": {\"outlinewidth\": 0, \"ticks\": \"\"}}, \"type\": \"scatterternary\"}], \"surface\": [{\"colorbar\": {\"outlinewidth\": 0, \"ticks\": \"\"}, \"colorscale\": [[0.0, \"#0d0887\"], [0.1111111111111111, \"#46039f\"], [0.2222222222222222, \"#7201a8\"], [0.3333333333333333, \"#9c179e\"], [0.4444444444444444, \"#bd3786\"], [0.5555555555555556, \"#d8576b\"], [0.6666666666666666, \"#ed7953\"], [0.7777777777777778, \"#fb9f3a\"], [0.8888888888888888, \"#fdca26\"], [1.0, \"#f0f921\"]], \"type\": \"surface\"}], \"table\": [{\"cells\": {\"fill\": {\"color\": \"#EBF0F8\"}, \"line\": {\"color\": \"white\"}}, \"header\": {\"fill\": {\"color\": \"#C8D4E3\"}, \"line\": {\"color\": \"white\"}}, \"type\": \"table\"}]}, \"layout\": {\"annotationdefaults\": {\"arrowcolor\": \"#2a3f5f\", \"arrowhead\": 0, \"arrowwidth\": 1}, \"coloraxis\": {\"colorbar\": {\"outlinewidth\": 0, \"ticks\": \"\"}}, \"colorscale\": {\"diverging\": [[0, \"#8e0152\"], [0.1, \"#c51b7d\"], [0.2, \"#de77ae\"], [0.3, \"#f1b6da\"], [0.4, \"#fde0ef\"], [0.5, \"#f7f7f7\"], [0.6, \"#e6f5d0\"], [0.7, \"#b8e186\"], [0.8, \"#7fbc41\"], [0.9, \"#4d9221\"], [1, \"#276419\"]], \"sequential\": [[0.0, \"#0d0887\"], [0.1111111111111111, \"#46039f\"], [0.2222222222222222, \"#7201a8\"], [0.3333333333333333, \"#9c179e\"], [0.4444444444444444, \"#bd3786\"], [0.5555555555555556, \"#d8576b\"], [0.6666666666666666, \"#ed7953\"], [0.7777777777777778, \"#fb9f3a\"], [0.8888888888888888, \"#fdca26\"], [1.0, \"#f0f921\"]], \"sequentialminus\": [[0.0, \"#0d0887\"], [0.1111111111111111, \"#46039f\"], [0.2222222222222222, \"#7201a8\"], [0.3333333333333333, \"#9c179e\"], [0.4444444444444444, \"#bd3786\"], [0.5555555555555556, \"#d8576b\"], [0.6666666666666666, \"#ed7953\"], [0.7777777777777778, \"#fb9f3a\"], [0.8888888888888888, \"#fdca26\"], [1.0, \"#f0f921\"]]}, \"colorway\": [\"#636efa\", \"#EF553B\", \"#00cc96\", \"#ab63fa\", \"#FFA15A\", \"#19d3f3\", \"#FF6692\", \"#B6E880\", \"#FF97FF\", \"#FECB52\"], \"font\": {\"color\": \"#2a3f5f\"}, \"geo\": {\"bgcolor\": \"white\", \"lakecolor\": \"white\", \"landcolor\": \"#E5ECF6\", \"showlakes\": true, \"showland\": true, \"subunitcolor\": \"white\"}, \"hoverlabel\": {\"align\": \"left\"}, \"hovermode\": \"closest\", \"mapbox\": {\"style\": \"light\"}, \"paper_bgcolor\": \"white\", \"plot_bgcolor\": \"#E5ECF6\", \"polar\": {\"angularaxis\": {\"gridcolor\": \"white\", \"linecolor\": \"white\", \"ticks\": \"\"}, \"bgcolor\": \"#E5ECF6\", \"radialaxis\": {\"gridcolor\": \"white\", \"linecolor\": \"white\", \"ticks\": \"\"}}, \"scene\": {\"xaxis\": {\"backgroundcolor\": \"#E5ECF6\", \"gridcolor\": \"white\", \"gridwidth\": 2, \"linecolor\": \"white\", \"showbackground\": true, \"ticks\": \"\", \"zerolinecolor\": \"white\"}, \"yaxis\": {\"backgroundcolor\": \"#E5ECF6\", \"gridcolor\": \"white\", \"gridwidth\": 2, \"linecolor\": \"white\", \"showbackground\": true, \"ticks\": \"\", \"zerolinecolor\": \"white\"}, \"zaxis\": {\"backgroundcolor\": \"#E5ECF6\", \"gridcolor\": \"white\", \"gridwidth\": 2, \"linecolor\": \"white\", \"showbackground\": true, \"ticks\": \"\", \"zerolinecolor\": \"white\"}}, \"shapedefaults\": {\"line\": {\"color\": \"#2a3f5f\"}}, \"ternary\": {\"aaxis\": {\"gridcolor\": \"white\", \"linecolor\": \"white\", \"ticks\": \"\"}, \"baxis\": {\"gridcolor\": \"white\", \"linecolor\": \"white\", \"ticks\": \"\"}, \"bgcolor\": \"#E5ECF6\", \"caxis\": {\"gridcolor\": \"white\", \"linecolor\": \"white\", \"ticks\": \"\"}}, \"title\": {\"x\": 0.05}, \"xaxis\": {\"automargin\": true, \"gridcolor\": \"white\", \"linecolor\": \"white\", \"ticks\": \"\", \"title\": {\"standoff\": 15}, \"zerolinecolor\": \"white\", \"zerolinewidth\": 2}, \"yaxis\": {\"automargin\": true, \"gridcolor\": \"white\", \"linecolor\": \"white\", \"ticks\": \"\", \"title\": {\"standoff\": 15}, \"zerolinecolor\": \"white\", \"zerolinewidth\": 2}}}, \"title\": {\"font\": {\"color\": \"#4D5663\"}}, \"xaxis\": {\"gridcolor\": \"#E1E5ED\", \"showgrid\": true, \"tickfont\": {\"color\": \"#4D5663\"}, \"title\": {\"font\": {\"color\": \"#4D5663\"}, \"text\": \"\"}, \"zerolinecolor\": \"#E1E5ED\"}, \"yaxis\": {\"gridcolor\": \"#E1E5ED\", \"showgrid\": true, \"tickfont\": {\"color\": \"#4D5663\"}, \"title\": {\"font\": {\"color\": \"#4D5663\"}, \"text\": \"\"}, \"zerolinecolor\": \"#E1E5ED\"}},                        {\"showLink\": true, \"linkText\": \"Export to plot.ly\", \"plotlyServerURL\": \"https://plot.ly\", \"responsive\": true}                    ).then(function(){\n",
       "                            \n",
       "var gd = document.getElementById('88ce85af-7338-4fe0-a290-03103e8855ae');\n",
       "var x = new MutationObserver(function (mutations, observer) {{\n",
       "        var display = window.getComputedStyle(gd).display;\n",
       "        if (!display || display === 'none') {{\n",
       "            console.log([gd, 'removed!']);\n",
       "            Plotly.purge(gd);\n",
       "            observer.disconnect();\n",
       "        }}\n",
       "}});\n",
       "\n",
       "// Listen for the removal of the full notebook cells\n",
       "var notebookContainer = gd.closest('#notebook-container');\n",
       "if (notebookContainer) {{\n",
       "    x.observe(notebookContainer, {childList: true});\n",
       "}}\n",
       "\n",
       "// Listen for the clearing of the current output cell\n",
       "var outputEl = gd.closest('.output');\n",
       "if (outputEl) {{\n",
       "    x.observe(outputEl, {childList: true});\n",
       "}}\n",
       "\n",
       "                        })                };                });            </script>        </div>"
      ]
     },
     "metadata": {},
     "output_type": "display_data"
    },
    {
     "data": {
      "application/vnd.plotly.v1+json": {
       "config": {
        "linkText": "Export to plot.ly",
        "plotlyServerURL": "https://plot.ly",
        "showLink": true
       },
       "data": [
        {
         "marker": {
          "color": "rgba(255, 153, 51, 0.6)",
          "line": {
           "color": "rgba(255, 153, 51, 1.0)",
           "width": 1
          }
         },
         "name": "None",
         "orientation": "v",
         "text": "",
         "type": "bar",
         "x": [
          "A",
          " B",
          " C",
          " D"
         ],
         "y": [
          4.158724505344491,
          -2.576923415256477,
          6.954600854760051,
          1.9534775949878571
         ]
        }
       ],
       "layout": {
        "legend": {
         "bgcolor": "#F5F6F9",
         "font": {
          "color": "#4D5663"
         }
        },
        "paper_bgcolor": "#F5F6F9",
        "plot_bgcolor": "#F5F6F9",
        "template": {
         "data": {
          "bar": [
           {
            "error_x": {
             "color": "#2a3f5f"
            },
            "error_y": {
             "color": "#2a3f5f"
            },
            "marker": {
             "line": {
              "color": "#E5ECF6",
              "width": 0.5
             }
            },
            "type": "bar"
           }
          ],
          "barpolar": [
           {
            "marker": {
             "line": {
              "color": "#E5ECF6",
              "width": 0.5
             }
            },
            "type": "barpolar"
           }
          ],
          "carpet": [
           {
            "aaxis": {
             "endlinecolor": "#2a3f5f",
             "gridcolor": "white",
             "linecolor": "white",
             "minorgridcolor": "white",
             "startlinecolor": "#2a3f5f"
            },
            "baxis": {
             "endlinecolor": "#2a3f5f",
             "gridcolor": "white",
             "linecolor": "white",
             "minorgridcolor": "white",
             "startlinecolor": "#2a3f5f"
            },
            "type": "carpet"
           }
          ],
          "choropleth": [
           {
            "colorbar": {
             "outlinewidth": 0,
             "ticks": ""
            },
            "type": "choropleth"
           }
          ],
          "contour": [
           {
            "colorbar": {
             "outlinewidth": 0,
             "ticks": ""
            },
            "colorscale": [
             [
              0,
              "#0d0887"
             ],
             [
              0.1111111111111111,
              "#46039f"
             ],
             [
              0.2222222222222222,
              "#7201a8"
             ],
             [
              0.3333333333333333,
              "#9c179e"
             ],
             [
              0.4444444444444444,
              "#bd3786"
             ],
             [
              0.5555555555555556,
              "#d8576b"
             ],
             [
              0.6666666666666666,
              "#ed7953"
             ],
             [
              0.7777777777777778,
              "#fb9f3a"
             ],
             [
              0.8888888888888888,
              "#fdca26"
             ],
             [
              1,
              "#f0f921"
             ]
            ],
            "type": "contour"
           }
          ],
          "contourcarpet": [
           {
            "colorbar": {
             "outlinewidth": 0,
             "ticks": ""
            },
            "type": "contourcarpet"
           }
          ],
          "heatmap": [
           {
            "colorbar": {
             "outlinewidth": 0,
             "ticks": ""
            },
            "colorscale": [
             [
              0,
              "#0d0887"
             ],
             [
              0.1111111111111111,
              "#46039f"
             ],
             [
              0.2222222222222222,
              "#7201a8"
             ],
             [
              0.3333333333333333,
              "#9c179e"
             ],
             [
              0.4444444444444444,
              "#bd3786"
             ],
             [
              0.5555555555555556,
              "#d8576b"
             ],
             [
              0.6666666666666666,
              "#ed7953"
             ],
             [
              0.7777777777777778,
              "#fb9f3a"
             ],
             [
              0.8888888888888888,
              "#fdca26"
             ],
             [
              1,
              "#f0f921"
             ]
            ],
            "type": "heatmap"
           }
          ],
          "heatmapgl": [
           {
            "colorbar": {
             "outlinewidth": 0,
             "ticks": ""
            },
            "colorscale": [
             [
              0,
              "#0d0887"
             ],
             [
              0.1111111111111111,
              "#46039f"
             ],
             [
              0.2222222222222222,
              "#7201a8"
             ],
             [
              0.3333333333333333,
              "#9c179e"
             ],
             [
              0.4444444444444444,
              "#bd3786"
             ],
             [
              0.5555555555555556,
              "#d8576b"
             ],
             [
              0.6666666666666666,
              "#ed7953"
             ],
             [
              0.7777777777777778,
              "#fb9f3a"
             ],
             [
              0.8888888888888888,
              "#fdca26"
             ],
             [
              1,
              "#f0f921"
             ]
            ],
            "type": "heatmapgl"
           }
          ],
          "histogram": [
           {
            "marker": {
             "colorbar": {
              "outlinewidth": 0,
              "ticks": ""
             }
            },
            "type": "histogram"
           }
          ],
          "histogram2d": [
           {
            "colorbar": {
             "outlinewidth": 0,
             "ticks": ""
            },
            "colorscale": [
             [
              0,
              "#0d0887"
             ],
             [
              0.1111111111111111,
              "#46039f"
             ],
             [
              0.2222222222222222,
              "#7201a8"
             ],
             [
              0.3333333333333333,
              "#9c179e"
             ],
             [
              0.4444444444444444,
              "#bd3786"
             ],
             [
              0.5555555555555556,
              "#d8576b"
             ],
             [
              0.6666666666666666,
              "#ed7953"
             ],
             [
              0.7777777777777778,
              "#fb9f3a"
             ],
             [
              0.8888888888888888,
              "#fdca26"
             ],
             [
              1,
              "#f0f921"
             ]
            ],
            "type": "histogram2d"
           }
          ],
          "histogram2dcontour": [
           {
            "colorbar": {
             "outlinewidth": 0,
             "ticks": ""
            },
            "colorscale": [
             [
              0,
              "#0d0887"
             ],
             [
              0.1111111111111111,
              "#46039f"
             ],
             [
              0.2222222222222222,
              "#7201a8"
             ],
             [
              0.3333333333333333,
              "#9c179e"
             ],
             [
              0.4444444444444444,
              "#bd3786"
             ],
             [
              0.5555555555555556,
              "#d8576b"
             ],
             [
              0.6666666666666666,
              "#ed7953"
             ],
             [
              0.7777777777777778,
              "#fb9f3a"
             ],
             [
              0.8888888888888888,
              "#fdca26"
             ],
             [
              1,
              "#f0f921"
             ]
            ],
            "type": "histogram2dcontour"
           }
          ],
          "mesh3d": [
           {
            "colorbar": {
             "outlinewidth": 0,
             "ticks": ""
            },
            "type": "mesh3d"
           }
          ],
          "parcoords": [
           {
            "line": {
             "colorbar": {
              "outlinewidth": 0,
              "ticks": ""
             }
            },
            "type": "parcoords"
           }
          ],
          "pie": [
           {
            "automargin": true,
            "type": "pie"
           }
          ],
          "scatter": [
           {
            "marker": {
             "colorbar": {
              "outlinewidth": 0,
              "ticks": ""
             }
            },
            "type": "scatter"
           }
          ],
          "scatter3d": [
           {
            "line": {
             "colorbar": {
              "outlinewidth": 0,
              "ticks": ""
             }
            },
            "marker": {
             "colorbar": {
              "outlinewidth": 0,
              "ticks": ""
             }
            },
            "type": "scatter3d"
           }
          ],
          "scattercarpet": [
           {
            "marker": {
             "colorbar": {
              "outlinewidth": 0,
              "ticks": ""
             }
            },
            "type": "scattercarpet"
           }
          ],
          "scattergeo": [
           {
            "marker": {
             "colorbar": {
              "outlinewidth": 0,
              "ticks": ""
             }
            },
            "type": "scattergeo"
           }
          ],
          "scattergl": [
           {
            "marker": {
             "colorbar": {
              "outlinewidth": 0,
              "ticks": ""
             }
            },
            "type": "scattergl"
           }
          ],
          "scattermapbox": [
           {
            "marker": {
             "colorbar": {
              "outlinewidth": 0,
              "ticks": ""
             }
            },
            "type": "scattermapbox"
           }
          ],
          "scatterpolar": [
           {
            "marker": {
             "colorbar": {
              "outlinewidth": 0,
              "ticks": ""
             }
            },
            "type": "scatterpolar"
           }
          ],
          "scatterpolargl": [
           {
            "marker": {
             "colorbar": {
              "outlinewidth": 0,
              "ticks": ""
             }
            },
            "type": "scatterpolargl"
           }
          ],
          "scatterternary": [
           {
            "marker": {
             "colorbar": {
              "outlinewidth": 0,
              "ticks": ""
             }
            },
            "type": "scatterternary"
           }
          ],
          "surface": [
           {
            "colorbar": {
             "outlinewidth": 0,
             "ticks": ""
            },
            "colorscale": [
             [
              0,
              "#0d0887"
             ],
             [
              0.1111111111111111,
              "#46039f"
             ],
             [
              0.2222222222222222,
              "#7201a8"
             ],
             [
              0.3333333333333333,
              "#9c179e"
             ],
             [
              0.4444444444444444,
              "#bd3786"
             ],
             [
              0.5555555555555556,
              "#d8576b"
             ],
             [
              0.6666666666666666,
              "#ed7953"
             ],
             [
              0.7777777777777778,
              "#fb9f3a"
             ],
             [
              0.8888888888888888,
              "#fdca26"
             ],
             [
              1,
              "#f0f921"
             ]
            ],
            "type": "surface"
           }
          ],
          "table": [
           {
            "cells": {
             "fill": {
              "color": "#EBF0F8"
             },
             "line": {
              "color": "white"
             }
            },
            "header": {
             "fill": {
              "color": "#C8D4E3"
             },
             "line": {
              "color": "white"
             }
            },
            "type": "table"
           }
          ]
         },
         "layout": {
          "annotationdefaults": {
           "arrowcolor": "#2a3f5f",
           "arrowhead": 0,
           "arrowwidth": 1
          },
          "coloraxis": {
           "colorbar": {
            "outlinewidth": 0,
            "ticks": ""
           }
          },
          "colorscale": {
           "diverging": [
            [
             0,
             "#8e0152"
            ],
            [
             0.1,
             "#c51b7d"
            ],
            [
             0.2,
             "#de77ae"
            ],
            [
             0.3,
             "#f1b6da"
            ],
            [
             0.4,
             "#fde0ef"
            ],
            [
             0.5,
             "#f7f7f7"
            ],
            [
             0.6,
             "#e6f5d0"
            ],
            [
             0.7,
             "#b8e186"
            ],
            [
             0.8,
             "#7fbc41"
            ],
            [
             0.9,
             "#4d9221"
            ],
            [
             1,
             "#276419"
            ]
           ],
           "sequential": [
            [
             0,
             "#0d0887"
            ],
            [
             0.1111111111111111,
             "#46039f"
            ],
            [
             0.2222222222222222,
             "#7201a8"
            ],
            [
             0.3333333333333333,
             "#9c179e"
            ],
            [
             0.4444444444444444,
             "#bd3786"
            ],
            [
             0.5555555555555556,
             "#d8576b"
            ],
            [
             0.6666666666666666,
             "#ed7953"
            ],
            [
             0.7777777777777778,
             "#fb9f3a"
            ],
            [
             0.8888888888888888,
             "#fdca26"
            ],
            [
             1,
             "#f0f921"
            ]
           ],
           "sequentialminus": [
            [
             0,
             "#0d0887"
            ],
            [
             0.1111111111111111,
             "#46039f"
            ],
            [
             0.2222222222222222,
             "#7201a8"
            ],
            [
             0.3333333333333333,
             "#9c179e"
            ],
            [
             0.4444444444444444,
             "#bd3786"
            ],
            [
             0.5555555555555556,
             "#d8576b"
            ],
            [
             0.6666666666666666,
             "#ed7953"
            ],
            [
             0.7777777777777778,
             "#fb9f3a"
            ],
            [
             0.8888888888888888,
             "#fdca26"
            ],
            [
             1,
             "#f0f921"
            ]
           ]
          },
          "colorway": [
           "#636efa",
           "#EF553B",
           "#00cc96",
           "#ab63fa",
           "#FFA15A",
           "#19d3f3",
           "#FF6692",
           "#B6E880",
           "#FF97FF",
           "#FECB52"
          ],
          "font": {
           "color": "#2a3f5f"
          },
          "geo": {
           "bgcolor": "white",
           "lakecolor": "white",
           "landcolor": "#E5ECF6",
           "showlakes": true,
           "showland": true,
           "subunitcolor": "white"
          },
          "hoverlabel": {
           "align": "left"
          },
          "hovermode": "closest",
          "mapbox": {
           "style": "light"
          },
          "paper_bgcolor": "white",
          "plot_bgcolor": "#E5ECF6",
          "polar": {
           "angularaxis": {
            "gridcolor": "white",
            "linecolor": "white",
            "ticks": ""
           },
           "bgcolor": "#E5ECF6",
           "radialaxis": {
            "gridcolor": "white",
            "linecolor": "white",
            "ticks": ""
           }
          },
          "scene": {
           "xaxis": {
            "backgroundcolor": "#E5ECF6",
            "gridcolor": "white",
            "gridwidth": 2,
            "linecolor": "white",
            "showbackground": true,
            "ticks": "",
            "zerolinecolor": "white"
           },
           "yaxis": {
            "backgroundcolor": "#E5ECF6",
            "gridcolor": "white",
            "gridwidth": 2,
            "linecolor": "white",
            "showbackground": true,
            "ticks": "",
            "zerolinecolor": "white"
           },
           "zaxis": {
            "backgroundcolor": "#E5ECF6",
            "gridcolor": "white",
            "gridwidth": 2,
            "linecolor": "white",
            "showbackground": true,
            "ticks": "",
            "zerolinecolor": "white"
           }
          },
          "shapedefaults": {
           "line": {
            "color": "#2a3f5f"
           }
          },
          "ternary": {
           "aaxis": {
            "gridcolor": "white",
            "linecolor": "white",
            "ticks": ""
           },
           "baxis": {
            "gridcolor": "white",
            "linecolor": "white",
            "ticks": ""
           },
           "bgcolor": "#E5ECF6",
           "caxis": {
            "gridcolor": "white",
            "linecolor": "white",
            "ticks": ""
           }
          },
          "title": {
           "x": 0.05
          },
          "xaxis": {
           "automargin": true,
           "gridcolor": "white",
           "linecolor": "white",
           "ticks": "",
           "title": {
            "standoff": 15
           },
           "zerolinecolor": "white",
           "zerolinewidth": 2
          },
          "yaxis": {
           "automargin": true,
           "gridcolor": "white",
           "linecolor": "white",
           "ticks": "",
           "title": {
            "standoff": 15
           },
           "zerolinecolor": "white",
           "zerolinewidth": 2
          }
         }
        },
        "title": {
         "font": {
          "color": "#4D5663"
         }
        },
        "xaxis": {
         "gridcolor": "#E1E5ED",
         "showgrid": true,
         "tickfont": {
          "color": "#4D5663"
         },
         "title": {
          "font": {
           "color": "#4D5663"
          },
          "text": ""
         },
         "zerolinecolor": "#E1E5ED"
        },
        "yaxis": {
         "gridcolor": "#E1E5ED",
         "showgrid": true,
         "tickfont": {
          "color": "#4D5663"
         },
         "title": {
          "font": {
           "color": "#4D5663"
          },
          "text": ""
         },
         "zerolinecolor": "#E1E5ED"
        }
       }
      },
      "text/html": [
       "<div>                            <div id=\"534eb23f-763f-4781-bddf-755e6978de4e\" class=\"plotly-graph-div\" style=\"height:525px; width:100%;\"></div>            <script type=\"text/javascript\">                require([\"plotly\"], function(Plotly) {                    window.PLOTLYENV=window.PLOTLYENV || {};\n",
       "                    window.PLOTLYENV.BASE_URL='https://plot.ly';                                    if (document.getElementById(\"534eb23f-763f-4781-bddf-755e6978de4e\")) {                    Plotly.newPlot(                        \"534eb23f-763f-4781-bddf-755e6978de4e\",                        [{\"marker\": {\"color\": \"rgba(255, 153, 51, 0.6)\", \"line\": {\"color\": \"rgba(255, 153, 51, 1.0)\", \"width\": 1}}, \"name\": \"None\", \"orientation\": \"v\", \"text\": \"\", \"type\": \"bar\", \"x\": [\"A\", \" B\", \" C\", \" D\"], \"y\": [4.158724505344491, -2.576923415256477, 6.954600854760051, 1.9534775949878571]}],                        {\"legend\": {\"bgcolor\": \"#F5F6F9\", \"font\": {\"color\": \"#4D5663\"}}, \"paper_bgcolor\": \"#F5F6F9\", \"plot_bgcolor\": \"#F5F6F9\", \"template\": {\"data\": {\"bar\": [{\"error_x\": {\"color\": \"#2a3f5f\"}, \"error_y\": {\"color\": \"#2a3f5f\"}, \"marker\": {\"line\": {\"color\": \"#E5ECF6\", \"width\": 0.5}}, \"type\": \"bar\"}], \"barpolar\": [{\"marker\": {\"line\": {\"color\": \"#E5ECF6\", \"width\": 0.5}}, \"type\": \"barpolar\"}], \"carpet\": [{\"aaxis\": {\"endlinecolor\": \"#2a3f5f\", \"gridcolor\": \"white\", \"linecolor\": \"white\", \"minorgridcolor\": \"white\", \"startlinecolor\": \"#2a3f5f\"}, \"baxis\": {\"endlinecolor\": \"#2a3f5f\", \"gridcolor\": \"white\", \"linecolor\": \"white\", \"minorgridcolor\": \"white\", \"startlinecolor\": \"#2a3f5f\"}, \"type\": \"carpet\"}], \"choropleth\": [{\"colorbar\": {\"outlinewidth\": 0, \"ticks\": \"\"}, \"type\": \"choropleth\"}], \"contour\": [{\"colorbar\": {\"outlinewidth\": 0, \"ticks\": \"\"}, \"colorscale\": [[0.0, \"#0d0887\"], [0.1111111111111111, \"#46039f\"], [0.2222222222222222, \"#7201a8\"], [0.3333333333333333, \"#9c179e\"], [0.4444444444444444, \"#bd3786\"], [0.5555555555555556, \"#d8576b\"], [0.6666666666666666, \"#ed7953\"], [0.7777777777777778, \"#fb9f3a\"], [0.8888888888888888, \"#fdca26\"], [1.0, \"#f0f921\"]], \"type\": \"contour\"}], \"contourcarpet\": [{\"colorbar\": {\"outlinewidth\": 0, \"ticks\": \"\"}, \"type\": \"contourcarpet\"}], \"heatmap\": [{\"colorbar\": {\"outlinewidth\": 0, \"ticks\": \"\"}, \"colorscale\": [[0.0, \"#0d0887\"], [0.1111111111111111, \"#46039f\"], [0.2222222222222222, \"#7201a8\"], [0.3333333333333333, \"#9c179e\"], [0.4444444444444444, \"#bd3786\"], [0.5555555555555556, \"#d8576b\"], [0.6666666666666666, \"#ed7953\"], [0.7777777777777778, \"#fb9f3a\"], [0.8888888888888888, \"#fdca26\"], [1.0, \"#f0f921\"]], \"type\": \"heatmap\"}], \"heatmapgl\": [{\"colorbar\": {\"outlinewidth\": 0, \"ticks\": \"\"}, \"colorscale\": [[0.0, \"#0d0887\"], [0.1111111111111111, \"#46039f\"], [0.2222222222222222, \"#7201a8\"], [0.3333333333333333, \"#9c179e\"], [0.4444444444444444, \"#bd3786\"], [0.5555555555555556, \"#d8576b\"], [0.6666666666666666, \"#ed7953\"], [0.7777777777777778, \"#fb9f3a\"], [0.8888888888888888, \"#fdca26\"], [1.0, \"#f0f921\"]], \"type\": \"heatmapgl\"}], \"histogram\": [{\"marker\": {\"colorbar\": {\"outlinewidth\": 0, \"ticks\": \"\"}}, \"type\": \"histogram\"}], \"histogram2d\": [{\"colorbar\": {\"outlinewidth\": 0, \"ticks\": \"\"}, \"colorscale\": [[0.0, \"#0d0887\"], [0.1111111111111111, \"#46039f\"], [0.2222222222222222, \"#7201a8\"], [0.3333333333333333, \"#9c179e\"], [0.4444444444444444, \"#bd3786\"], [0.5555555555555556, \"#d8576b\"], [0.6666666666666666, \"#ed7953\"], [0.7777777777777778, \"#fb9f3a\"], [0.8888888888888888, \"#fdca26\"], [1.0, \"#f0f921\"]], \"type\": \"histogram2d\"}], \"histogram2dcontour\": [{\"colorbar\": {\"outlinewidth\": 0, \"ticks\": \"\"}, \"colorscale\": [[0.0, \"#0d0887\"], [0.1111111111111111, \"#46039f\"], [0.2222222222222222, \"#7201a8\"], [0.3333333333333333, \"#9c179e\"], [0.4444444444444444, \"#bd3786\"], [0.5555555555555556, \"#d8576b\"], [0.6666666666666666, \"#ed7953\"], [0.7777777777777778, \"#fb9f3a\"], [0.8888888888888888, \"#fdca26\"], [1.0, \"#f0f921\"]], \"type\": \"histogram2dcontour\"}], \"mesh3d\": [{\"colorbar\": {\"outlinewidth\": 0, \"ticks\": \"\"}, \"type\": \"mesh3d\"}], \"parcoords\": [{\"line\": {\"colorbar\": {\"outlinewidth\": 0, \"ticks\": \"\"}}, \"type\": \"parcoords\"}], \"pie\": [{\"automargin\": true, \"type\": \"pie\"}], \"scatter\": [{\"marker\": {\"colorbar\": {\"outlinewidth\": 0, \"ticks\": \"\"}}, \"type\": \"scatter\"}], \"scatter3d\": [{\"line\": {\"colorbar\": {\"outlinewidth\": 0, \"ticks\": \"\"}}, \"marker\": {\"colorbar\": {\"outlinewidth\": 0, \"ticks\": \"\"}}, \"type\": \"scatter3d\"}], \"scattercarpet\": [{\"marker\": {\"colorbar\": {\"outlinewidth\": 0, \"ticks\": \"\"}}, \"type\": \"scattercarpet\"}], \"scattergeo\": [{\"marker\": {\"colorbar\": {\"outlinewidth\": 0, \"ticks\": \"\"}}, \"type\": \"scattergeo\"}], \"scattergl\": [{\"marker\": {\"colorbar\": {\"outlinewidth\": 0, \"ticks\": \"\"}}, \"type\": \"scattergl\"}], \"scattermapbox\": [{\"marker\": {\"colorbar\": {\"outlinewidth\": 0, \"ticks\": \"\"}}, \"type\": \"scattermapbox\"}], \"scatterpolar\": [{\"marker\": {\"colorbar\": {\"outlinewidth\": 0, \"ticks\": \"\"}}, \"type\": \"scatterpolar\"}], \"scatterpolargl\": [{\"marker\": {\"colorbar\": {\"outlinewidth\": 0, \"ticks\": \"\"}}, \"type\": \"scatterpolargl\"}], \"scatterternary\": [{\"marker\": {\"colorbar\": {\"outlinewidth\": 0, \"ticks\": \"\"}}, \"type\": \"scatterternary\"}], \"surface\": [{\"colorbar\": {\"outlinewidth\": 0, \"ticks\": \"\"}, \"colorscale\": [[0.0, \"#0d0887\"], [0.1111111111111111, \"#46039f\"], [0.2222222222222222, \"#7201a8\"], [0.3333333333333333, \"#9c179e\"], [0.4444444444444444, \"#bd3786\"], [0.5555555555555556, \"#d8576b\"], [0.6666666666666666, \"#ed7953\"], [0.7777777777777778, \"#fb9f3a\"], [0.8888888888888888, \"#fdca26\"], [1.0, \"#f0f921\"]], \"type\": \"surface\"}], \"table\": [{\"cells\": {\"fill\": {\"color\": \"#EBF0F8\"}, \"line\": {\"color\": \"white\"}}, \"header\": {\"fill\": {\"color\": \"#C8D4E3\"}, \"line\": {\"color\": \"white\"}}, \"type\": \"table\"}]}, \"layout\": {\"annotationdefaults\": {\"arrowcolor\": \"#2a3f5f\", \"arrowhead\": 0, \"arrowwidth\": 1}, \"coloraxis\": {\"colorbar\": {\"outlinewidth\": 0, \"ticks\": \"\"}}, \"colorscale\": {\"diverging\": [[0, \"#8e0152\"], [0.1, \"#c51b7d\"], [0.2, \"#de77ae\"], [0.3, \"#f1b6da\"], [0.4, \"#fde0ef\"], [0.5, \"#f7f7f7\"], [0.6, \"#e6f5d0\"], [0.7, \"#b8e186\"], [0.8, \"#7fbc41\"], [0.9, \"#4d9221\"], [1, \"#276419\"]], \"sequential\": [[0.0, \"#0d0887\"], [0.1111111111111111, \"#46039f\"], [0.2222222222222222, \"#7201a8\"], [0.3333333333333333, \"#9c179e\"], [0.4444444444444444, \"#bd3786\"], [0.5555555555555556, \"#d8576b\"], [0.6666666666666666, \"#ed7953\"], [0.7777777777777778, \"#fb9f3a\"], [0.8888888888888888, \"#fdca26\"], [1.0, \"#f0f921\"]], \"sequentialminus\": [[0.0, \"#0d0887\"], [0.1111111111111111, \"#46039f\"], [0.2222222222222222, \"#7201a8\"], [0.3333333333333333, \"#9c179e\"], [0.4444444444444444, \"#bd3786\"], [0.5555555555555556, \"#d8576b\"], [0.6666666666666666, \"#ed7953\"], [0.7777777777777778, \"#fb9f3a\"], [0.8888888888888888, \"#fdca26\"], [1.0, \"#f0f921\"]]}, \"colorway\": [\"#636efa\", \"#EF553B\", \"#00cc96\", \"#ab63fa\", \"#FFA15A\", \"#19d3f3\", \"#FF6692\", \"#B6E880\", \"#FF97FF\", \"#FECB52\"], \"font\": {\"color\": \"#2a3f5f\"}, \"geo\": {\"bgcolor\": \"white\", \"lakecolor\": \"white\", \"landcolor\": \"#E5ECF6\", \"showlakes\": true, \"showland\": true, \"subunitcolor\": \"white\"}, \"hoverlabel\": {\"align\": \"left\"}, \"hovermode\": \"closest\", \"mapbox\": {\"style\": \"light\"}, \"paper_bgcolor\": \"white\", \"plot_bgcolor\": \"#E5ECF6\", \"polar\": {\"angularaxis\": {\"gridcolor\": \"white\", \"linecolor\": \"white\", \"ticks\": \"\"}, \"bgcolor\": \"#E5ECF6\", \"radialaxis\": {\"gridcolor\": \"white\", \"linecolor\": \"white\", \"ticks\": \"\"}}, \"scene\": {\"xaxis\": {\"backgroundcolor\": \"#E5ECF6\", \"gridcolor\": \"white\", \"gridwidth\": 2, \"linecolor\": \"white\", \"showbackground\": true, \"ticks\": \"\", \"zerolinecolor\": \"white\"}, \"yaxis\": {\"backgroundcolor\": \"#E5ECF6\", \"gridcolor\": \"white\", \"gridwidth\": 2, \"linecolor\": \"white\", \"showbackground\": true, \"ticks\": \"\", \"zerolinecolor\": \"white\"}, \"zaxis\": {\"backgroundcolor\": \"#E5ECF6\", \"gridcolor\": \"white\", \"gridwidth\": 2, \"linecolor\": \"white\", \"showbackground\": true, \"ticks\": \"\", \"zerolinecolor\": \"white\"}}, \"shapedefaults\": {\"line\": {\"color\": \"#2a3f5f\"}}, \"ternary\": {\"aaxis\": {\"gridcolor\": \"white\", \"linecolor\": \"white\", \"ticks\": \"\"}, \"baxis\": {\"gridcolor\": \"white\", \"linecolor\": \"white\", \"ticks\": \"\"}, \"bgcolor\": \"#E5ECF6\", \"caxis\": {\"gridcolor\": \"white\", \"linecolor\": \"white\", \"ticks\": \"\"}}, \"title\": {\"x\": 0.05}, \"xaxis\": {\"automargin\": true, \"gridcolor\": \"white\", \"linecolor\": \"white\", \"ticks\": \"\", \"title\": {\"standoff\": 15}, \"zerolinecolor\": \"white\", \"zerolinewidth\": 2}, \"yaxis\": {\"automargin\": true, \"gridcolor\": \"white\", \"linecolor\": \"white\", \"ticks\": \"\", \"title\": {\"standoff\": 15}, \"zerolinecolor\": \"white\", \"zerolinewidth\": 2}}}, \"title\": {\"font\": {\"color\": \"#4D5663\"}}, \"xaxis\": {\"gridcolor\": \"#E1E5ED\", \"showgrid\": true, \"tickfont\": {\"color\": \"#4D5663\"}, \"title\": {\"font\": {\"color\": \"#4D5663\"}, \"text\": \"\"}, \"zerolinecolor\": \"#E1E5ED\"}, \"yaxis\": {\"gridcolor\": \"#E1E5ED\", \"showgrid\": true, \"tickfont\": {\"color\": \"#4D5663\"}, \"title\": {\"font\": {\"color\": \"#4D5663\"}, \"text\": \"\"}, \"zerolinecolor\": \"#E1E5ED\"}},                        {\"showLink\": true, \"linkText\": \"Export to plot.ly\", \"plotlyServerURL\": \"https://plot.ly\", \"responsive\": true}                    ).then(function(){\n",
       "                            \n",
       "var gd = document.getElementById('534eb23f-763f-4781-bddf-755e6978de4e');\n",
       "var x = new MutationObserver(function (mutations, observer) {{\n",
       "        var display = window.getComputedStyle(gd).display;\n",
       "        if (!display || display === 'none') {{\n",
       "            console.log([gd, 'removed!']);\n",
       "            Plotly.purge(gd);\n",
       "            observer.disconnect();\n",
       "        }}\n",
       "}});\n",
       "\n",
       "// Listen for the removal of the full notebook cells\n",
       "var notebookContainer = gd.closest('#notebook-container');\n",
       "if (notebookContainer) {{\n",
       "    x.observe(notebookContainer, {childList: true});\n",
       "}}\n",
       "\n",
       "// Listen for the clearing of the current output cell\n",
       "var outputEl = gd.closest('.output');\n",
       "if (outputEl) {{\n",
       "    x.observe(outputEl, {childList: true});\n",
       "}}\n",
       "\n",
       "                        })                };                });            </script>        </div>"
      ]
     },
     "metadata": {},
     "output_type": "display_data"
    }
   ],
   "source": [
    "# use an aggregate method to group data\n",
    "df.count().iplot(kind = 'bar') # count() method \n",
    "df.sum().iplot(kind='bar') # sum() method\n",
    "\n"
   ]
  },
  {
   "cell_type": "code",
   "execution_count": 19,
   "metadata": {},
   "outputs": [
    {
     "data": {
      "application/vnd.plotly.v1+json": {
       "config": {
        "linkText": "Export to plot.ly",
        "plotlyServerURL": "https://plot.ly",
        "showLink": true
       },
       "data": [
        {
         "marker": {
          "color": "rgba(255, 153, 51, 0.6)",
          "line": {
           "color": "rgba(255, 153, 51, 1.0)",
           "width": 1
          }
         },
         "name": "None",
         "orientation": "v",
         "text": "",
         "type": "bar",
         "x": [
          "A",
          " B",
          " C",
          " D"
         ],
         "y": [
          0.04158724505344491,
          -0.025769234152564772,
          0.06954600854760051,
          0.019534775949878572
         ]
        }
       ],
       "layout": {
        "legend": {
         "bgcolor": "#F5F6F9",
         "font": {
          "color": "#4D5663"
         }
        },
        "paper_bgcolor": "#F5F6F9",
        "plot_bgcolor": "#F5F6F9",
        "template": {
         "data": {
          "bar": [
           {
            "error_x": {
             "color": "#2a3f5f"
            },
            "error_y": {
             "color": "#2a3f5f"
            },
            "marker": {
             "line": {
              "color": "#E5ECF6",
              "width": 0.5
             }
            },
            "type": "bar"
           }
          ],
          "barpolar": [
           {
            "marker": {
             "line": {
              "color": "#E5ECF6",
              "width": 0.5
             }
            },
            "type": "barpolar"
           }
          ],
          "carpet": [
           {
            "aaxis": {
             "endlinecolor": "#2a3f5f",
             "gridcolor": "white",
             "linecolor": "white",
             "minorgridcolor": "white",
             "startlinecolor": "#2a3f5f"
            },
            "baxis": {
             "endlinecolor": "#2a3f5f",
             "gridcolor": "white",
             "linecolor": "white",
             "minorgridcolor": "white",
             "startlinecolor": "#2a3f5f"
            },
            "type": "carpet"
           }
          ],
          "choropleth": [
           {
            "colorbar": {
             "outlinewidth": 0,
             "ticks": ""
            },
            "type": "choropleth"
           }
          ],
          "contour": [
           {
            "colorbar": {
             "outlinewidth": 0,
             "ticks": ""
            },
            "colorscale": [
             [
              0,
              "#0d0887"
             ],
             [
              0.1111111111111111,
              "#46039f"
             ],
             [
              0.2222222222222222,
              "#7201a8"
             ],
             [
              0.3333333333333333,
              "#9c179e"
             ],
             [
              0.4444444444444444,
              "#bd3786"
             ],
             [
              0.5555555555555556,
              "#d8576b"
             ],
             [
              0.6666666666666666,
              "#ed7953"
             ],
             [
              0.7777777777777778,
              "#fb9f3a"
             ],
             [
              0.8888888888888888,
              "#fdca26"
             ],
             [
              1,
              "#f0f921"
             ]
            ],
            "type": "contour"
           }
          ],
          "contourcarpet": [
           {
            "colorbar": {
             "outlinewidth": 0,
             "ticks": ""
            },
            "type": "contourcarpet"
           }
          ],
          "heatmap": [
           {
            "colorbar": {
             "outlinewidth": 0,
             "ticks": ""
            },
            "colorscale": [
             [
              0,
              "#0d0887"
             ],
             [
              0.1111111111111111,
              "#46039f"
             ],
             [
              0.2222222222222222,
              "#7201a8"
             ],
             [
              0.3333333333333333,
              "#9c179e"
             ],
             [
              0.4444444444444444,
              "#bd3786"
             ],
             [
              0.5555555555555556,
              "#d8576b"
             ],
             [
              0.6666666666666666,
              "#ed7953"
             ],
             [
              0.7777777777777778,
              "#fb9f3a"
             ],
             [
              0.8888888888888888,
              "#fdca26"
             ],
             [
              1,
              "#f0f921"
             ]
            ],
            "type": "heatmap"
           }
          ],
          "heatmapgl": [
           {
            "colorbar": {
             "outlinewidth": 0,
             "ticks": ""
            },
            "colorscale": [
             [
              0,
              "#0d0887"
             ],
             [
              0.1111111111111111,
              "#46039f"
             ],
             [
              0.2222222222222222,
              "#7201a8"
             ],
             [
              0.3333333333333333,
              "#9c179e"
             ],
             [
              0.4444444444444444,
              "#bd3786"
             ],
             [
              0.5555555555555556,
              "#d8576b"
             ],
             [
              0.6666666666666666,
              "#ed7953"
             ],
             [
              0.7777777777777778,
              "#fb9f3a"
             ],
             [
              0.8888888888888888,
              "#fdca26"
             ],
             [
              1,
              "#f0f921"
             ]
            ],
            "type": "heatmapgl"
           }
          ],
          "histogram": [
           {
            "marker": {
             "colorbar": {
              "outlinewidth": 0,
              "ticks": ""
             }
            },
            "type": "histogram"
           }
          ],
          "histogram2d": [
           {
            "colorbar": {
             "outlinewidth": 0,
             "ticks": ""
            },
            "colorscale": [
             [
              0,
              "#0d0887"
             ],
             [
              0.1111111111111111,
              "#46039f"
             ],
             [
              0.2222222222222222,
              "#7201a8"
             ],
             [
              0.3333333333333333,
              "#9c179e"
             ],
             [
              0.4444444444444444,
              "#bd3786"
             ],
             [
              0.5555555555555556,
              "#d8576b"
             ],
             [
              0.6666666666666666,
              "#ed7953"
             ],
             [
              0.7777777777777778,
              "#fb9f3a"
             ],
             [
              0.8888888888888888,
              "#fdca26"
             ],
             [
              1,
              "#f0f921"
             ]
            ],
            "type": "histogram2d"
           }
          ],
          "histogram2dcontour": [
           {
            "colorbar": {
             "outlinewidth": 0,
             "ticks": ""
            },
            "colorscale": [
             [
              0,
              "#0d0887"
             ],
             [
              0.1111111111111111,
              "#46039f"
             ],
             [
              0.2222222222222222,
              "#7201a8"
             ],
             [
              0.3333333333333333,
              "#9c179e"
             ],
             [
              0.4444444444444444,
              "#bd3786"
             ],
             [
              0.5555555555555556,
              "#d8576b"
             ],
             [
              0.6666666666666666,
              "#ed7953"
             ],
             [
              0.7777777777777778,
              "#fb9f3a"
             ],
             [
              0.8888888888888888,
              "#fdca26"
             ],
             [
              1,
              "#f0f921"
             ]
            ],
            "type": "histogram2dcontour"
           }
          ],
          "mesh3d": [
           {
            "colorbar": {
             "outlinewidth": 0,
             "ticks": ""
            },
            "type": "mesh3d"
           }
          ],
          "parcoords": [
           {
            "line": {
             "colorbar": {
              "outlinewidth": 0,
              "ticks": ""
             }
            },
            "type": "parcoords"
           }
          ],
          "pie": [
           {
            "automargin": true,
            "type": "pie"
           }
          ],
          "scatter": [
           {
            "marker": {
             "colorbar": {
              "outlinewidth": 0,
              "ticks": ""
             }
            },
            "type": "scatter"
           }
          ],
          "scatter3d": [
           {
            "line": {
             "colorbar": {
              "outlinewidth": 0,
              "ticks": ""
             }
            },
            "marker": {
             "colorbar": {
              "outlinewidth": 0,
              "ticks": ""
             }
            },
            "type": "scatter3d"
           }
          ],
          "scattercarpet": [
           {
            "marker": {
             "colorbar": {
              "outlinewidth": 0,
              "ticks": ""
             }
            },
            "type": "scattercarpet"
           }
          ],
          "scattergeo": [
           {
            "marker": {
             "colorbar": {
              "outlinewidth": 0,
              "ticks": ""
             }
            },
            "type": "scattergeo"
           }
          ],
          "scattergl": [
           {
            "marker": {
             "colorbar": {
              "outlinewidth": 0,
              "ticks": ""
             }
            },
            "type": "scattergl"
           }
          ],
          "scattermapbox": [
           {
            "marker": {
             "colorbar": {
              "outlinewidth": 0,
              "ticks": ""
             }
            },
            "type": "scattermapbox"
           }
          ],
          "scatterpolar": [
           {
            "marker": {
             "colorbar": {
              "outlinewidth": 0,
              "ticks": ""
             }
            },
            "type": "scatterpolar"
           }
          ],
          "scatterpolargl": [
           {
            "marker": {
             "colorbar": {
              "outlinewidth": 0,
              "ticks": ""
             }
            },
            "type": "scatterpolargl"
           }
          ],
          "scatterternary": [
           {
            "marker": {
             "colorbar": {
              "outlinewidth": 0,
              "ticks": ""
             }
            },
            "type": "scatterternary"
           }
          ],
          "surface": [
           {
            "colorbar": {
             "outlinewidth": 0,
             "ticks": ""
            },
            "colorscale": [
             [
              0,
              "#0d0887"
             ],
             [
              0.1111111111111111,
              "#46039f"
             ],
             [
              0.2222222222222222,
              "#7201a8"
             ],
             [
              0.3333333333333333,
              "#9c179e"
             ],
             [
              0.4444444444444444,
              "#bd3786"
             ],
             [
              0.5555555555555556,
              "#d8576b"
             ],
             [
              0.6666666666666666,
              "#ed7953"
             ],
             [
              0.7777777777777778,
              "#fb9f3a"
             ],
             [
              0.8888888888888888,
              "#fdca26"
             ],
             [
              1,
              "#f0f921"
             ]
            ],
            "type": "surface"
           }
          ],
          "table": [
           {
            "cells": {
             "fill": {
              "color": "#EBF0F8"
             },
             "line": {
              "color": "white"
             }
            },
            "header": {
             "fill": {
              "color": "#C8D4E3"
             },
             "line": {
              "color": "white"
             }
            },
            "type": "table"
           }
          ]
         },
         "layout": {
          "annotationdefaults": {
           "arrowcolor": "#2a3f5f",
           "arrowhead": 0,
           "arrowwidth": 1
          },
          "coloraxis": {
           "colorbar": {
            "outlinewidth": 0,
            "ticks": ""
           }
          },
          "colorscale": {
           "diverging": [
            [
             0,
             "#8e0152"
            ],
            [
             0.1,
             "#c51b7d"
            ],
            [
             0.2,
             "#de77ae"
            ],
            [
             0.3,
             "#f1b6da"
            ],
            [
             0.4,
             "#fde0ef"
            ],
            [
             0.5,
             "#f7f7f7"
            ],
            [
             0.6,
             "#e6f5d0"
            ],
            [
             0.7,
             "#b8e186"
            ],
            [
             0.8,
             "#7fbc41"
            ],
            [
             0.9,
             "#4d9221"
            ],
            [
             1,
             "#276419"
            ]
           ],
           "sequential": [
            [
             0,
             "#0d0887"
            ],
            [
             0.1111111111111111,
             "#46039f"
            ],
            [
             0.2222222222222222,
             "#7201a8"
            ],
            [
             0.3333333333333333,
             "#9c179e"
            ],
            [
             0.4444444444444444,
             "#bd3786"
            ],
            [
             0.5555555555555556,
             "#d8576b"
            ],
            [
             0.6666666666666666,
             "#ed7953"
            ],
            [
             0.7777777777777778,
             "#fb9f3a"
            ],
            [
             0.8888888888888888,
             "#fdca26"
            ],
            [
             1,
             "#f0f921"
            ]
           ],
           "sequentialminus": [
            [
             0,
             "#0d0887"
            ],
            [
             0.1111111111111111,
             "#46039f"
            ],
            [
             0.2222222222222222,
             "#7201a8"
            ],
            [
             0.3333333333333333,
             "#9c179e"
            ],
            [
             0.4444444444444444,
             "#bd3786"
            ],
            [
             0.5555555555555556,
             "#d8576b"
            ],
            [
             0.6666666666666666,
             "#ed7953"
            ],
            [
             0.7777777777777778,
             "#fb9f3a"
            ],
            [
             0.8888888888888888,
             "#fdca26"
            ],
            [
             1,
             "#f0f921"
            ]
           ]
          },
          "colorway": [
           "#636efa",
           "#EF553B",
           "#00cc96",
           "#ab63fa",
           "#FFA15A",
           "#19d3f3",
           "#FF6692",
           "#B6E880",
           "#FF97FF",
           "#FECB52"
          ],
          "font": {
           "color": "#2a3f5f"
          },
          "geo": {
           "bgcolor": "white",
           "lakecolor": "white",
           "landcolor": "#E5ECF6",
           "showlakes": true,
           "showland": true,
           "subunitcolor": "white"
          },
          "hoverlabel": {
           "align": "left"
          },
          "hovermode": "closest",
          "mapbox": {
           "style": "light"
          },
          "paper_bgcolor": "white",
          "plot_bgcolor": "#E5ECF6",
          "polar": {
           "angularaxis": {
            "gridcolor": "white",
            "linecolor": "white",
            "ticks": ""
           },
           "bgcolor": "#E5ECF6",
           "radialaxis": {
            "gridcolor": "white",
            "linecolor": "white",
            "ticks": ""
           }
          },
          "scene": {
           "xaxis": {
            "backgroundcolor": "#E5ECF6",
            "gridcolor": "white",
            "gridwidth": 2,
            "linecolor": "white",
            "showbackground": true,
            "ticks": "",
            "zerolinecolor": "white"
           },
           "yaxis": {
            "backgroundcolor": "#E5ECF6",
            "gridcolor": "white",
            "gridwidth": 2,
            "linecolor": "white",
            "showbackground": true,
            "ticks": "",
            "zerolinecolor": "white"
           },
           "zaxis": {
            "backgroundcolor": "#E5ECF6",
            "gridcolor": "white",
            "gridwidth": 2,
            "linecolor": "white",
            "showbackground": true,
            "ticks": "",
            "zerolinecolor": "white"
           }
          },
          "shapedefaults": {
           "line": {
            "color": "#2a3f5f"
           }
          },
          "ternary": {
           "aaxis": {
            "gridcolor": "white",
            "linecolor": "white",
            "ticks": ""
           },
           "baxis": {
            "gridcolor": "white",
            "linecolor": "white",
            "ticks": ""
           },
           "bgcolor": "#E5ECF6",
           "caxis": {
            "gridcolor": "white",
            "linecolor": "white",
            "ticks": ""
           }
          },
          "title": {
           "x": 0.05
          },
          "xaxis": {
           "automargin": true,
           "gridcolor": "white",
           "linecolor": "white",
           "ticks": "",
           "title": {
            "standoff": 15
           },
           "zerolinecolor": "white",
           "zerolinewidth": 2
          },
          "yaxis": {
           "automargin": true,
           "gridcolor": "white",
           "linecolor": "white",
           "ticks": "",
           "title": {
            "standoff": 15
           },
           "zerolinecolor": "white",
           "zerolinewidth": 2
          }
         }
        },
        "title": {
         "font": {
          "color": "#4D5663"
         }
        },
        "xaxis": {
         "gridcolor": "#E1E5ED",
         "showgrid": true,
         "tickfont": {
          "color": "#4D5663"
         },
         "title": {
          "font": {
           "color": "#4D5663"
          },
          "text": ""
         },
         "zerolinecolor": "#E1E5ED"
        },
        "yaxis": {
         "gridcolor": "#E1E5ED",
         "showgrid": true,
         "tickfont": {
          "color": "#4D5663"
         },
         "title": {
          "font": {
           "color": "#4D5663"
          },
          "text": ""
         },
         "zerolinecolor": "#E1E5ED"
        }
       }
      },
      "text/html": [
       "<div>                            <div id=\"61b07c7b-ccff-4da9-bea4-ed90151b22fa\" class=\"plotly-graph-div\" style=\"height:525px; width:100%;\"></div>            <script type=\"text/javascript\">                require([\"plotly\"], function(Plotly) {                    window.PLOTLYENV=window.PLOTLYENV || {};\n",
       "                    window.PLOTLYENV.BASE_URL='https://plot.ly';                                    if (document.getElementById(\"61b07c7b-ccff-4da9-bea4-ed90151b22fa\")) {                    Plotly.newPlot(                        \"61b07c7b-ccff-4da9-bea4-ed90151b22fa\",                        [{\"marker\": {\"color\": \"rgba(255, 153, 51, 0.6)\", \"line\": {\"color\": \"rgba(255, 153, 51, 1.0)\", \"width\": 1}}, \"name\": \"None\", \"orientation\": \"v\", \"text\": \"\", \"type\": \"bar\", \"x\": [\"A\", \" B\", \" C\", \" D\"], \"y\": [0.04158724505344491, -0.025769234152564772, 0.06954600854760051, 0.019534775949878572]}],                        {\"legend\": {\"bgcolor\": \"#F5F6F9\", \"font\": {\"color\": \"#4D5663\"}}, \"paper_bgcolor\": \"#F5F6F9\", \"plot_bgcolor\": \"#F5F6F9\", \"template\": {\"data\": {\"bar\": [{\"error_x\": {\"color\": \"#2a3f5f\"}, \"error_y\": {\"color\": \"#2a3f5f\"}, \"marker\": {\"line\": {\"color\": \"#E5ECF6\", \"width\": 0.5}}, \"type\": \"bar\"}], \"barpolar\": [{\"marker\": {\"line\": {\"color\": \"#E5ECF6\", \"width\": 0.5}}, \"type\": \"barpolar\"}], \"carpet\": [{\"aaxis\": {\"endlinecolor\": \"#2a3f5f\", \"gridcolor\": \"white\", \"linecolor\": \"white\", \"minorgridcolor\": \"white\", \"startlinecolor\": \"#2a3f5f\"}, \"baxis\": {\"endlinecolor\": \"#2a3f5f\", \"gridcolor\": \"white\", \"linecolor\": \"white\", \"minorgridcolor\": \"white\", \"startlinecolor\": \"#2a3f5f\"}, \"type\": \"carpet\"}], \"choropleth\": [{\"colorbar\": {\"outlinewidth\": 0, \"ticks\": \"\"}, \"type\": \"choropleth\"}], \"contour\": [{\"colorbar\": {\"outlinewidth\": 0, \"ticks\": \"\"}, \"colorscale\": [[0.0, \"#0d0887\"], [0.1111111111111111, \"#46039f\"], [0.2222222222222222, \"#7201a8\"], [0.3333333333333333, \"#9c179e\"], [0.4444444444444444, \"#bd3786\"], [0.5555555555555556, \"#d8576b\"], [0.6666666666666666, \"#ed7953\"], [0.7777777777777778, \"#fb9f3a\"], [0.8888888888888888, \"#fdca26\"], [1.0, \"#f0f921\"]], \"type\": \"contour\"}], \"contourcarpet\": [{\"colorbar\": {\"outlinewidth\": 0, \"ticks\": \"\"}, \"type\": \"contourcarpet\"}], \"heatmap\": [{\"colorbar\": {\"outlinewidth\": 0, \"ticks\": \"\"}, \"colorscale\": [[0.0, \"#0d0887\"], [0.1111111111111111, \"#46039f\"], [0.2222222222222222, \"#7201a8\"], [0.3333333333333333, \"#9c179e\"], [0.4444444444444444, \"#bd3786\"], [0.5555555555555556, \"#d8576b\"], [0.6666666666666666, \"#ed7953\"], [0.7777777777777778, \"#fb9f3a\"], [0.8888888888888888, \"#fdca26\"], [1.0, \"#f0f921\"]], \"type\": \"heatmap\"}], \"heatmapgl\": [{\"colorbar\": {\"outlinewidth\": 0, \"ticks\": \"\"}, \"colorscale\": [[0.0, \"#0d0887\"], [0.1111111111111111, \"#46039f\"], [0.2222222222222222, \"#7201a8\"], [0.3333333333333333, \"#9c179e\"], [0.4444444444444444, \"#bd3786\"], [0.5555555555555556, \"#d8576b\"], [0.6666666666666666, \"#ed7953\"], [0.7777777777777778, \"#fb9f3a\"], [0.8888888888888888, \"#fdca26\"], [1.0, \"#f0f921\"]], \"type\": \"heatmapgl\"}], \"histogram\": [{\"marker\": {\"colorbar\": {\"outlinewidth\": 0, \"ticks\": \"\"}}, \"type\": \"histogram\"}], \"histogram2d\": [{\"colorbar\": {\"outlinewidth\": 0, \"ticks\": \"\"}, \"colorscale\": [[0.0, \"#0d0887\"], [0.1111111111111111, \"#46039f\"], [0.2222222222222222, \"#7201a8\"], [0.3333333333333333, \"#9c179e\"], [0.4444444444444444, \"#bd3786\"], [0.5555555555555556, \"#d8576b\"], [0.6666666666666666, \"#ed7953\"], [0.7777777777777778, \"#fb9f3a\"], [0.8888888888888888, \"#fdca26\"], [1.0, \"#f0f921\"]], \"type\": \"histogram2d\"}], \"histogram2dcontour\": [{\"colorbar\": {\"outlinewidth\": 0, \"ticks\": \"\"}, \"colorscale\": [[0.0, \"#0d0887\"], [0.1111111111111111, \"#46039f\"], [0.2222222222222222, \"#7201a8\"], [0.3333333333333333, \"#9c179e\"], [0.4444444444444444, \"#bd3786\"], [0.5555555555555556, \"#d8576b\"], [0.6666666666666666, \"#ed7953\"], [0.7777777777777778, \"#fb9f3a\"], [0.8888888888888888, \"#fdca26\"], [1.0, \"#f0f921\"]], \"type\": \"histogram2dcontour\"}], \"mesh3d\": [{\"colorbar\": {\"outlinewidth\": 0, \"ticks\": \"\"}, \"type\": \"mesh3d\"}], \"parcoords\": [{\"line\": {\"colorbar\": {\"outlinewidth\": 0, \"ticks\": \"\"}}, \"type\": \"parcoords\"}], \"pie\": [{\"automargin\": true, \"type\": \"pie\"}], \"scatter\": [{\"marker\": {\"colorbar\": {\"outlinewidth\": 0, \"ticks\": \"\"}}, \"type\": \"scatter\"}], \"scatter3d\": [{\"line\": {\"colorbar\": {\"outlinewidth\": 0, \"ticks\": \"\"}}, \"marker\": {\"colorbar\": {\"outlinewidth\": 0, \"ticks\": \"\"}}, \"type\": \"scatter3d\"}], \"scattercarpet\": [{\"marker\": {\"colorbar\": {\"outlinewidth\": 0, \"ticks\": \"\"}}, \"type\": \"scattercarpet\"}], \"scattergeo\": [{\"marker\": {\"colorbar\": {\"outlinewidth\": 0, \"ticks\": \"\"}}, \"type\": \"scattergeo\"}], \"scattergl\": [{\"marker\": {\"colorbar\": {\"outlinewidth\": 0, \"ticks\": \"\"}}, \"type\": \"scattergl\"}], \"scattermapbox\": [{\"marker\": {\"colorbar\": {\"outlinewidth\": 0, \"ticks\": \"\"}}, \"type\": \"scattermapbox\"}], \"scatterpolar\": [{\"marker\": {\"colorbar\": {\"outlinewidth\": 0, \"ticks\": \"\"}}, \"type\": \"scatterpolar\"}], \"scatterpolargl\": [{\"marker\": {\"colorbar\": {\"outlinewidth\": 0, \"ticks\": \"\"}}, \"type\": \"scatterpolargl\"}], \"scatterternary\": [{\"marker\": {\"colorbar\": {\"outlinewidth\": 0, \"ticks\": \"\"}}, \"type\": \"scatterternary\"}], \"surface\": [{\"colorbar\": {\"outlinewidth\": 0, \"ticks\": \"\"}, \"colorscale\": [[0.0, \"#0d0887\"], [0.1111111111111111, \"#46039f\"], [0.2222222222222222, \"#7201a8\"], [0.3333333333333333, \"#9c179e\"], [0.4444444444444444, \"#bd3786\"], [0.5555555555555556, \"#d8576b\"], [0.6666666666666666, \"#ed7953\"], [0.7777777777777778, \"#fb9f3a\"], [0.8888888888888888, \"#fdca26\"], [1.0, \"#f0f921\"]], \"type\": \"surface\"}], \"table\": [{\"cells\": {\"fill\": {\"color\": \"#EBF0F8\"}, \"line\": {\"color\": \"white\"}}, \"header\": {\"fill\": {\"color\": \"#C8D4E3\"}, \"line\": {\"color\": \"white\"}}, \"type\": \"table\"}]}, \"layout\": {\"annotationdefaults\": {\"arrowcolor\": \"#2a3f5f\", \"arrowhead\": 0, \"arrowwidth\": 1}, \"coloraxis\": {\"colorbar\": {\"outlinewidth\": 0, \"ticks\": \"\"}}, \"colorscale\": {\"diverging\": [[0, \"#8e0152\"], [0.1, \"#c51b7d\"], [0.2, \"#de77ae\"], [0.3, \"#f1b6da\"], [0.4, \"#fde0ef\"], [0.5, \"#f7f7f7\"], [0.6, \"#e6f5d0\"], [0.7, \"#b8e186\"], [0.8, \"#7fbc41\"], [0.9, \"#4d9221\"], [1, \"#276419\"]], \"sequential\": [[0.0, \"#0d0887\"], [0.1111111111111111, \"#46039f\"], [0.2222222222222222, \"#7201a8\"], [0.3333333333333333, \"#9c179e\"], [0.4444444444444444, \"#bd3786\"], [0.5555555555555556, \"#d8576b\"], [0.6666666666666666, \"#ed7953\"], [0.7777777777777778, \"#fb9f3a\"], [0.8888888888888888, \"#fdca26\"], [1.0, \"#f0f921\"]], \"sequentialminus\": [[0.0, \"#0d0887\"], [0.1111111111111111, \"#46039f\"], [0.2222222222222222, \"#7201a8\"], [0.3333333333333333, \"#9c179e\"], [0.4444444444444444, \"#bd3786\"], [0.5555555555555556, \"#d8576b\"], [0.6666666666666666, \"#ed7953\"], [0.7777777777777778, \"#fb9f3a\"], [0.8888888888888888, \"#fdca26\"], [1.0, \"#f0f921\"]]}, \"colorway\": [\"#636efa\", \"#EF553B\", \"#00cc96\", \"#ab63fa\", \"#FFA15A\", \"#19d3f3\", \"#FF6692\", \"#B6E880\", \"#FF97FF\", \"#FECB52\"], \"font\": {\"color\": \"#2a3f5f\"}, \"geo\": {\"bgcolor\": \"white\", \"lakecolor\": \"white\", \"landcolor\": \"#E5ECF6\", \"showlakes\": true, \"showland\": true, \"subunitcolor\": \"white\"}, \"hoverlabel\": {\"align\": \"left\"}, \"hovermode\": \"closest\", \"mapbox\": {\"style\": \"light\"}, \"paper_bgcolor\": \"white\", \"plot_bgcolor\": \"#E5ECF6\", \"polar\": {\"angularaxis\": {\"gridcolor\": \"white\", \"linecolor\": \"white\", \"ticks\": \"\"}, \"bgcolor\": \"#E5ECF6\", \"radialaxis\": {\"gridcolor\": \"white\", \"linecolor\": \"white\", \"ticks\": \"\"}}, \"scene\": {\"xaxis\": {\"backgroundcolor\": \"#E5ECF6\", \"gridcolor\": \"white\", \"gridwidth\": 2, \"linecolor\": \"white\", \"showbackground\": true, \"ticks\": \"\", \"zerolinecolor\": \"white\"}, \"yaxis\": {\"backgroundcolor\": \"#E5ECF6\", \"gridcolor\": \"white\", \"gridwidth\": 2, \"linecolor\": \"white\", \"showbackground\": true, \"ticks\": \"\", \"zerolinecolor\": \"white\"}, \"zaxis\": {\"backgroundcolor\": \"#E5ECF6\", \"gridcolor\": \"white\", \"gridwidth\": 2, \"linecolor\": \"white\", \"showbackground\": true, \"ticks\": \"\", \"zerolinecolor\": \"white\"}}, \"shapedefaults\": {\"line\": {\"color\": \"#2a3f5f\"}}, \"ternary\": {\"aaxis\": {\"gridcolor\": \"white\", \"linecolor\": \"white\", \"ticks\": \"\"}, \"baxis\": {\"gridcolor\": \"white\", \"linecolor\": \"white\", \"ticks\": \"\"}, \"bgcolor\": \"#E5ECF6\", \"caxis\": {\"gridcolor\": \"white\", \"linecolor\": \"white\", \"ticks\": \"\"}}, \"title\": {\"x\": 0.05}, \"xaxis\": {\"automargin\": true, \"gridcolor\": \"white\", \"linecolor\": \"white\", \"ticks\": \"\", \"title\": {\"standoff\": 15}, \"zerolinecolor\": \"white\", \"zerolinewidth\": 2}, \"yaxis\": {\"automargin\": true, \"gridcolor\": \"white\", \"linecolor\": \"white\", \"ticks\": \"\", \"title\": {\"standoff\": 15}, \"zerolinecolor\": \"white\", \"zerolinewidth\": 2}}}, \"title\": {\"font\": {\"color\": \"#4D5663\"}}, \"xaxis\": {\"gridcolor\": \"#E1E5ED\", \"showgrid\": true, \"tickfont\": {\"color\": \"#4D5663\"}, \"title\": {\"font\": {\"color\": \"#4D5663\"}, \"text\": \"\"}, \"zerolinecolor\": \"#E1E5ED\"}, \"yaxis\": {\"gridcolor\": \"#E1E5ED\", \"showgrid\": true, \"tickfont\": {\"color\": \"#4D5663\"}, \"title\": {\"font\": {\"color\": \"#4D5663\"}, \"text\": \"\"}, \"zerolinecolor\": \"#E1E5ED\"}},                        {\"showLink\": true, \"linkText\": \"Export to plot.ly\", \"plotlyServerURL\": \"https://plot.ly\", \"responsive\": true}                    ).then(function(){\n",
       "                            \n",
       "var gd = document.getElementById('61b07c7b-ccff-4da9-bea4-ed90151b22fa');\n",
       "var x = new MutationObserver(function (mutations, observer) {{\n",
       "        var display = window.getComputedStyle(gd).display;\n",
       "        if (!display || display === 'none') {{\n",
       "            console.log([gd, 'removed!']);\n",
       "            Plotly.purge(gd);\n",
       "            observer.disconnect();\n",
       "        }}\n",
       "}});\n",
       "\n",
       "// Listen for the removal of the full notebook cells\n",
       "var notebookContainer = gd.closest('#notebook-container');\n",
       "if (notebookContainer) {{\n",
       "    x.observe(notebookContainer, {childList: true});\n",
       "}}\n",
       "\n",
       "// Listen for the clearing of the current output cell\n",
       "var outputEl = gd.closest('.output');\n",
       "if (outputEl) {{\n",
       "    x.observe(outputEl, {childList: true});\n",
       "}}\n",
       "\n",
       "                        })                };                });            </script>        </div>"
      ]
     },
     "metadata": {},
     "output_type": "display_data"
    },
    {
     "data": {
      "application/vnd.plotly.v1+json": {
       "config": {
        "linkText": "Export to plot.ly",
        "plotlyServerURL": "https://plot.ly",
        "showLink": true
       },
       "data": [
        {
         "marker": {
          "color": "rgba(255, 153, 51, 0.6)",
          "line": {
           "color": "rgba(255, 153, 51, 1.0)",
           "width": 1
          }
         },
         "name": "None",
         "orientation": "v",
         "text": "",
         "type": "bar",
         "x": [
          "A",
          " B",
          " C",
          " D"
         ],
         "y": [
          1.0967902561455865,
          0.9579509594990415,
          0.8769936719454448,
          1.050792661882103
         ]
        }
       ],
       "layout": {
        "legend": {
         "bgcolor": "#F5F6F9",
         "font": {
          "color": "#4D5663"
         }
        },
        "paper_bgcolor": "#F5F6F9",
        "plot_bgcolor": "#F5F6F9",
        "template": {
         "data": {
          "bar": [
           {
            "error_x": {
             "color": "#2a3f5f"
            },
            "error_y": {
             "color": "#2a3f5f"
            },
            "marker": {
             "line": {
              "color": "#E5ECF6",
              "width": 0.5
             }
            },
            "type": "bar"
           }
          ],
          "barpolar": [
           {
            "marker": {
             "line": {
              "color": "#E5ECF6",
              "width": 0.5
             }
            },
            "type": "barpolar"
           }
          ],
          "carpet": [
           {
            "aaxis": {
             "endlinecolor": "#2a3f5f",
             "gridcolor": "white",
             "linecolor": "white",
             "minorgridcolor": "white",
             "startlinecolor": "#2a3f5f"
            },
            "baxis": {
             "endlinecolor": "#2a3f5f",
             "gridcolor": "white",
             "linecolor": "white",
             "minorgridcolor": "white",
             "startlinecolor": "#2a3f5f"
            },
            "type": "carpet"
           }
          ],
          "choropleth": [
           {
            "colorbar": {
             "outlinewidth": 0,
             "ticks": ""
            },
            "type": "choropleth"
           }
          ],
          "contour": [
           {
            "colorbar": {
             "outlinewidth": 0,
             "ticks": ""
            },
            "colorscale": [
             [
              0,
              "#0d0887"
             ],
             [
              0.1111111111111111,
              "#46039f"
             ],
             [
              0.2222222222222222,
              "#7201a8"
             ],
             [
              0.3333333333333333,
              "#9c179e"
             ],
             [
              0.4444444444444444,
              "#bd3786"
             ],
             [
              0.5555555555555556,
              "#d8576b"
             ],
             [
              0.6666666666666666,
              "#ed7953"
             ],
             [
              0.7777777777777778,
              "#fb9f3a"
             ],
             [
              0.8888888888888888,
              "#fdca26"
             ],
             [
              1,
              "#f0f921"
             ]
            ],
            "type": "contour"
           }
          ],
          "contourcarpet": [
           {
            "colorbar": {
             "outlinewidth": 0,
             "ticks": ""
            },
            "type": "contourcarpet"
           }
          ],
          "heatmap": [
           {
            "colorbar": {
             "outlinewidth": 0,
             "ticks": ""
            },
            "colorscale": [
             [
              0,
              "#0d0887"
             ],
             [
              0.1111111111111111,
              "#46039f"
             ],
             [
              0.2222222222222222,
              "#7201a8"
             ],
             [
              0.3333333333333333,
              "#9c179e"
             ],
             [
              0.4444444444444444,
              "#bd3786"
             ],
             [
              0.5555555555555556,
              "#d8576b"
             ],
             [
              0.6666666666666666,
              "#ed7953"
             ],
             [
              0.7777777777777778,
              "#fb9f3a"
             ],
             [
              0.8888888888888888,
              "#fdca26"
             ],
             [
              1,
              "#f0f921"
             ]
            ],
            "type": "heatmap"
           }
          ],
          "heatmapgl": [
           {
            "colorbar": {
             "outlinewidth": 0,
             "ticks": ""
            },
            "colorscale": [
             [
              0,
              "#0d0887"
             ],
             [
              0.1111111111111111,
              "#46039f"
             ],
             [
              0.2222222222222222,
              "#7201a8"
             ],
             [
              0.3333333333333333,
              "#9c179e"
             ],
             [
              0.4444444444444444,
              "#bd3786"
             ],
             [
              0.5555555555555556,
              "#d8576b"
             ],
             [
              0.6666666666666666,
              "#ed7953"
             ],
             [
              0.7777777777777778,
              "#fb9f3a"
             ],
             [
              0.8888888888888888,
              "#fdca26"
             ],
             [
              1,
              "#f0f921"
             ]
            ],
            "type": "heatmapgl"
           }
          ],
          "histogram": [
           {
            "marker": {
             "colorbar": {
              "outlinewidth": 0,
              "ticks": ""
             }
            },
            "type": "histogram"
           }
          ],
          "histogram2d": [
           {
            "colorbar": {
             "outlinewidth": 0,
             "ticks": ""
            },
            "colorscale": [
             [
              0,
              "#0d0887"
             ],
             [
              0.1111111111111111,
              "#46039f"
             ],
             [
              0.2222222222222222,
              "#7201a8"
             ],
             [
              0.3333333333333333,
              "#9c179e"
             ],
             [
              0.4444444444444444,
              "#bd3786"
             ],
             [
              0.5555555555555556,
              "#d8576b"
             ],
             [
              0.6666666666666666,
              "#ed7953"
             ],
             [
              0.7777777777777778,
              "#fb9f3a"
             ],
             [
              0.8888888888888888,
              "#fdca26"
             ],
             [
              1,
              "#f0f921"
             ]
            ],
            "type": "histogram2d"
           }
          ],
          "histogram2dcontour": [
           {
            "colorbar": {
             "outlinewidth": 0,
             "ticks": ""
            },
            "colorscale": [
             [
              0,
              "#0d0887"
             ],
             [
              0.1111111111111111,
              "#46039f"
             ],
             [
              0.2222222222222222,
              "#7201a8"
             ],
             [
              0.3333333333333333,
              "#9c179e"
             ],
             [
              0.4444444444444444,
              "#bd3786"
             ],
             [
              0.5555555555555556,
              "#d8576b"
             ],
             [
              0.6666666666666666,
              "#ed7953"
             ],
             [
              0.7777777777777778,
              "#fb9f3a"
             ],
             [
              0.8888888888888888,
              "#fdca26"
             ],
             [
              1,
              "#f0f921"
             ]
            ],
            "type": "histogram2dcontour"
           }
          ],
          "mesh3d": [
           {
            "colorbar": {
             "outlinewidth": 0,
             "ticks": ""
            },
            "type": "mesh3d"
           }
          ],
          "parcoords": [
           {
            "line": {
             "colorbar": {
              "outlinewidth": 0,
              "ticks": ""
             }
            },
            "type": "parcoords"
           }
          ],
          "pie": [
           {
            "automargin": true,
            "type": "pie"
           }
          ],
          "scatter": [
           {
            "marker": {
             "colorbar": {
              "outlinewidth": 0,
              "ticks": ""
             }
            },
            "type": "scatter"
           }
          ],
          "scatter3d": [
           {
            "line": {
             "colorbar": {
              "outlinewidth": 0,
              "ticks": ""
             }
            },
            "marker": {
             "colorbar": {
              "outlinewidth": 0,
              "ticks": ""
             }
            },
            "type": "scatter3d"
           }
          ],
          "scattercarpet": [
           {
            "marker": {
             "colorbar": {
              "outlinewidth": 0,
              "ticks": ""
             }
            },
            "type": "scattercarpet"
           }
          ],
          "scattergeo": [
           {
            "marker": {
             "colorbar": {
              "outlinewidth": 0,
              "ticks": ""
             }
            },
            "type": "scattergeo"
           }
          ],
          "scattergl": [
           {
            "marker": {
             "colorbar": {
              "outlinewidth": 0,
              "ticks": ""
             }
            },
            "type": "scattergl"
           }
          ],
          "scattermapbox": [
           {
            "marker": {
             "colorbar": {
              "outlinewidth": 0,
              "ticks": ""
             }
            },
            "type": "scattermapbox"
           }
          ],
          "scatterpolar": [
           {
            "marker": {
             "colorbar": {
              "outlinewidth": 0,
              "ticks": ""
             }
            },
            "type": "scatterpolar"
           }
          ],
          "scatterpolargl": [
           {
            "marker": {
             "colorbar": {
              "outlinewidth": 0,
              "ticks": ""
             }
            },
            "type": "scatterpolargl"
           }
          ],
          "scatterternary": [
           {
            "marker": {
             "colorbar": {
              "outlinewidth": 0,
              "ticks": ""
             }
            },
            "type": "scatterternary"
           }
          ],
          "surface": [
           {
            "colorbar": {
             "outlinewidth": 0,
             "ticks": ""
            },
            "colorscale": [
             [
              0,
              "#0d0887"
             ],
             [
              0.1111111111111111,
              "#46039f"
             ],
             [
              0.2222222222222222,
              "#7201a8"
             ],
             [
              0.3333333333333333,
              "#9c179e"
             ],
             [
              0.4444444444444444,
              "#bd3786"
             ],
             [
              0.5555555555555556,
              "#d8576b"
             ],
             [
              0.6666666666666666,
              "#ed7953"
             ],
             [
              0.7777777777777778,
              "#fb9f3a"
             ],
             [
              0.8888888888888888,
              "#fdca26"
             ],
             [
              1,
              "#f0f921"
             ]
            ],
            "type": "surface"
           }
          ],
          "table": [
           {
            "cells": {
             "fill": {
              "color": "#EBF0F8"
             },
             "line": {
              "color": "white"
             }
            },
            "header": {
             "fill": {
              "color": "#C8D4E3"
             },
             "line": {
              "color": "white"
             }
            },
            "type": "table"
           }
          ]
         },
         "layout": {
          "annotationdefaults": {
           "arrowcolor": "#2a3f5f",
           "arrowhead": 0,
           "arrowwidth": 1
          },
          "coloraxis": {
           "colorbar": {
            "outlinewidth": 0,
            "ticks": ""
           }
          },
          "colorscale": {
           "diverging": [
            [
             0,
             "#8e0152"
            ],
            [
             0.1,
             "#c51b7d"
            ],
            [
             0.2,
             "#de77ae"
            ],
            [
             0.3,
             "#f1b6da"
            ],
            [
             0.4,
             "#fde0ef"
            ],
            [
             0.5,
             "#f7f7f7"
            ],
            [
             0.6,
             "#e6f5d0"
            ],
            [
             0.7,
             "#b8e186"
            ],
            [
             0.8,
             "#7fbc41"
            ],
            [
             0.9,
             "#4d9221"
            ],
            [
             1,
             "#276419"
            ]
           ],
           "sequential": [
            [
             0,
             "#0d0887"
            ],
            [
             0.1111111111111111,
             "#46039f"
            ],
            [
             0.2222222222222222,
             "#7201a8"
            ],
            [
             0.3333333333333333,
             "#9c179e"
            ],
            [
             0.4444444444444444,
             "#bd3786"
            ],
            [
             0.5555555555555556,
             "#d8576b"
            ],
            [
             0.6666666666666666,
             "#ed7953"
            ],
            [
             0.7777777777777778,
             "#fb9f3a"
            ],
            [
             0.8888888888888888,
             "#fdca26"
            ],
            [
             1,
             "#f0f921"
            ]
           ],
           "sequentialminus": [
            [
             0,
             "#0d0887"
            ],
            [
             0.1111111111111111,
             "#46039f"
            ],
            [
             0.2222222222222222,
             "#7201a8"
            ],
            [
             0.3333333333333333,
             "#9c179e"
            ],
            [
             0.4444444444444444,
             "#bd3786"
            ],
            [
             0.5555555555555556,
             "#d8576b"
            ],
            [
             0.6666666666666666,
             "#ed7953"
            ],
            [
             0.7777777777777778,
             "#fb9f3a"
            ],
            [
             0.8888888888888888,
             "#fdca26"
            ],
            [
             1,
             "#f0f921"
            ]
           ]
          },
          "colorway": [
           "#636efa",
           "#EF553B",
           "#00cc96",
           "#ab63fa",
           "#FFA15A",
           "#19d3f3",
           "#FF6692",
           "#B6E880",
           "#FF97FF",
           "#FECB52"
          ],
          "font": {
           "color": "#2a3f5f"
          },
          "geo": {
           "bgcolor": "white",
           "lakecolor": "white",
           "landcolor": "#E5ECF6",
           "showlakes": true,
           "showland": true,
           "subunitcolor": "white"
          },
          "hoverlabel": {
           "align": "left"
          },
          "hovermode": "closest",
          "mapbox": {
           "style": "light"
          },
          "paper_bgcolor": "white",
          "plot_bgcolor": "#E5ECF6",
          "polar": {
           "angularaxis": {
            "gridcolor": "white",
            "linecolor": "white",
            "ticks": ""
           },
           "bgcolor": "#E5ECF6",
           "radialaxis": {
            "gridcolor": "white",
            "linecolor": "white",
            "ticks": ""
           }
          },
          "scene": {
           "xaxis": {
            "backgroundcolor": "#E5ECF6",
            "gridcolor": "white",
            "gridwidth": 2,
            "linecolor": "white",
            "showbackground": true,
            "ticks": "",
            "zerolinecolor": "white"
           },
           "yaxis": {
            "backgroundcolor": "#E5ECF6",
            "gridcolor": "white",
            "gridwidth": 2,
            "linecolor": "white",
            "showbackground": true,
            "ticks": "",
            "zerolinecolor": "white"
           },
           "zaxis": {
            "backgroundcolor": "#E5ECF6",
            "gridcolor": "white",
            "gridwidth": 2,
            "linecolor": "white",
            "showbackground": true,
            "ticks": "",
            "zerolinecolor": "white"
           }
          },
          "shapedefaults": {
           "line": {
            "color": "#2a3f5f"
           }
          },
          "ternary": {
           "aaxis": {
            "gridcolor": "white",
            "linecolor": "white",
            "ticks": ""
           },
           "baxis": {
            "gridcolor": "white",
            "linecolor": "white",
            "ticks": ""
           },
           "bgcolor": "#E5ECF6",
           "caxis": {
            "gridcolor": "white",
            "linecolor": "white",
            "ticks": ""
           }
          },
          "title": {
           "x": 0.05
          },
          "xaxis": {
           "automargin": true,
           "gridcolor": "white",
           "linecolor": "white",
           "ticks": "",
           "title": {
            "standoff": 15
           },
           "zerolinecolor": "white",
           "zerolinewidth": 2
          },
          "yaxis": {
           "automargin": true,
           "gridcolor": "white",
           "linecolor": "white",
           "ticks": "",
           "title": {
            "standoff": 15
           },
           "zerolinecolor": "white",
           "zerolinewidth": 2
          }
         }
        },
        "title": {
         "font": {
          "color": "#4D5663"
         }
        },
        "xaxis": {
         "gridcolor": "#E1E5ED",
         "showgrid": true,
         "tickfont": {
          "color": "#4D5663"
         },
         "title": {
          "font": {
           "color": "#4D5663"
          },
          "text": ""
         },
         "zerolinecolor": "#E1E5ED"
        },
        "yaxis": {
         "gridcolor": "#E1E5ED",
         "showgrid": true,
         "tickfont": {
          "color": "#4D5663"
         },
         "title": {
          "font": {
           "color": "#4D5663"
          },
          "text": ""
         },
         "zerolinecolor": "#E1E5ED"
        }
       }
      },
      "text/html": [
       "<div>                            <div id=\"aab1638b-795d-4377-8811-5ccd21f8a018\" class=\"plotly-graph-div\" style=\"height:525px; width:100%;\"></div>            <script type=\"text/javascript\">                require([\"plotly\"], function(Plotly) {                    window.PLOTLYENV=window.PLOTLYENV || {};\n",
       "                    window.PLOTLYENV.BASE_URL='https://plot.ly';                                    if (document.getElementById(\"aab1638b-795d-4377-8811-5ccd21f8a018\")) {                    Plotly.newPlot(                        \"aab1638b-795d-4377-8811-5ccd21f8a018\",                        [{\"marker\": {\"color\": \"rgba(255, 153, 51, 0.6)\", \"line\": {\"color\": \"rgba(255, 153, 51, 1.0)\", \"width\": 1}}, \"name\": \"None\", \"orientation\": \"v\", \"text\": \"\", \"type\": \"bar\", \"x\": [\"A\", \" B\", \" C\", \" D\"], \"y\": [1.0967902561455865, 0.9579509594990415, 0.8769936719454448, 1.050792661882103]}],                        {\"legend\": {\"bgcolor\": \"#F5F6F9\", \"font\": {\"color\": \"#4D5663\"}}, \"paper_bgcolor\": \"#F5F6F9\", \"plot_bgcolor\": \"#F5F6F9\", \"template\": {\"data\": {\"bar\": [{\"error_x\": {\"color\": \"#2a3f5f\"}, \"error_y\": {\"color\": \"#2a3f5f\"}, \"marker\": {\"line\": {\"color\": \"#E5ECF6\", \"width\": 0.5}}, \"type\": \"bar\"}], \"barpolar\": [{\"marker\": {\"line\": {\"color\": \"#E5ECF6\", \"width\": 0.5}}, \"type\": \"barpolar\"}], \"carpet\": [{\"aaxis\": {\"endlinecolor\": \"#2a3f5f\", \"gridcolor\": \"white\", \"linecolor\": \"white\", \"minorgridcolor\": \"white\", \"startlinecolor\": \"#2a3f5f\"}, \"baxis\": {\"endlinecolor\": \"#2a3f5f\", \"gridcolor\": \"white\", \"linecolor\": \"white\", \"minorgridcolor\": \"white\", \"startlinecolor\": \"#2a3f5f\"}, \"type\": \"carpet\"}], \"choropleth\": [{\"colorbar\": {\"outlinewidth\": 0, \"ticks\": \"\"}, \"type\": \"choropleth\"}], \"contour\": [{\"colorbar\": {\"outlinewidth\": 0, \"ticks\": \"\"}, \"colorscale\": [[0.0, \"#0d0887\"], [0.1111111111111111, \"#46039f\"], [0.2222222222222222, \"#7201a8\"], [0.3333333333333333, \"#9c179e\"], [0.4444444444444444, \"#bd3786\"], [0.5555555555555556, \"#d8576b\"], [0.6666666666666666, \"#ed7953\"], [0.7777777777777778, \"#fb9f3a\"], [0.8888888888888888, \"#fdca26\"], [1.0, \"#f0f921\"]], \"type\": \"contour\"}], \"contourcarpet\": [{\"colorbar\": {\"outlinewidth\": 0, \"ticks\": \"\"}, \"type\": \"contourcarpet\"}], \"heatmap\": [{\"colorbar\": {\"outlinewidth\": 0, \"ticks\": \"\"}, \"colorscale\": [[0.0, \"#0d0887\"], [0.1111111111111111, \"#46039f\"], [0.2222222222222222, \"#7201a8\"], [0.3333333333333333, \"#9c179e\"], [0.4444444444444444, \"#bd3786\"], [0.5555555555555556, \"#d8576b\"], [0.6666666666666666, \"#ed7953\"], [0.7777777777777778, \"#fb9f3a\"], [0.8888888888888888, \"#fdca26\"], [1.0, \"#f0f921\"]], \"type\": \"heatmap\"}], \"heatmapgl\": [{\"colorbar\": {\"outlinewidth\": 0, \"ticks\": \"\"}, \"colorscale\": [[0.0, \"#0d0887\"], [0.1111111111111111, \"#46039f\"], [0.2222222222222222, \"#7201a8\"], [0.3333333333333333, \"#9c179e\"], [0.4444444444444444, \"#bd3786\"], [0.5555555555555556, \"#d8576b\"], [0.6666666666666666, \"#ed7953\"], [0.7777777777777778, \"#fb9f3a\"], [0.8888888888888888, \"#fdca26\"], [1.0, \"#f0f921\"]], \"type\": \"heatmapgl\"}], \"histogram\": [{\"marker\": {\"colorbar\": {\"outlinewidth\": 0, \"ticks\": \"\"}}, \"type\": \"histogram\"}], \"histogram2d\": [{\"colorbar\": {\"outlinewidth\": 0, \"ticks\": \"\"}, \"colorscale\": [[0.0, \"#0d0887\"], [0.1111111111111111, \"#46039f\"], [0.2222222222222222, \"#7201a8\"], [0.3333333333333333, \"#9c179e\"], [0.4444444444444444, \"#bd3786\"], [0.5555555555555556, \"#d8576b\"], [0.6666666666666666, \"#ed7953\"], [0.7777777777777778, \"#fb9f3a\"], [0.8888888888888888, \"#fdca26\"], [1.0, \"#f0f921\"]], \"type\": \"histogram2d\"}], \"histogram2dcontour\": [{\"colorbar\": {\"outlinewidth\": 0, \"ticks\": \"\"}, \"colorscale\": [[0.0, \"#0d0887\"], [0.1111111111111111, \"#46039f\"], [0.2222222222222222, \"#7201a8\"], [0.3333333333333333, \"#9c179e\"], [0.4444444444444444, \"#bd3786\"], [0.5555555555555556, \"#d8576b\"], [0.6666666666666666, \"#ed7953\"], [0.7777777777777778, \"#fb9f3a\"], [0.8888888888888888, \"#fdca26\"], [1.0, \"#f0f921\"]], \"type\": \"histogram2dcontour\"}], \"mesh3d\": [{\"colorbar\": {\"outlinewidth\": 0, \"ticks\": \"\"}, \"type\": \"mesh3d\"}], \"parcoords\": [{\"line\": {\"colorbar\": {\"outlinewidth\": 0, \"ticks\": \"\"}}, \"type\": \"parcoords\"}], \"pie\": [{\"automargin\": true, \"type\": \"pie\"}], \"scatter\": [{\"marker\": {\"colorbar\": {\"outlinewidth\": 0, \"ticks\": \"\"}}, \"type\": \"scatter\"}], \"scatter3d\": [{\"line\": {\"colorbar\": {\"outlinewidth\": 0, \"ticks\": \"\"}}, \"marker\": {\"colorbar\": {\"outlinewidth\": 0, \"ticks\": \"\"}}, \"type\": \"scatter3d\"}], \"scattercarpet\": [{\"marker\": {\"colorbar\": {\"outlinewidth\": 0, \"ticks\": \"\"}}, \"type\": \"scattercarpet\"}], \"scattergeo\": [{\"marker\": {\"colorbar\": {\"outlinewidth\": 0, \"ticks\": \"\"}}, \"type\": \"scattergeo\"}], \"scattergl\": [{\"marker\": {\"colorbar\": {\"outlinewidth\": 0, \"ticks\": \"\"}}, \"type\": \"scattergl\"}], \"scattermapbox\": [{\"marker\": {\"colorbar\": {\"outlinewidth\": 0, \"ticks\": \"\"}}, \"type\": \"scattermapbox\"}], \"scatterpolar\": [{\"marker\": {\"colorbar\": {\"outlinewidth\": 0, \"ticks\": \"\"}}, \"type\": \"scatterpolar\"}], \"scatterpolargl\": [{\"marker\": {\"colorbar\": {\"outlinewidth\": 0, \"ticks\": \"\"}}, \"type\": \"scatterpolargl\"}], \"scatterternary\": [{\"marker\": {\"colorbar\": {\"outlinewidth\": 0, \"ticks\": \"\"}}, \"type\": \"scatterternary\"}], \"surface\": [{\"colorbar\": {\"outlinewidth\": 0, \"ticks\": \"\"}, \"colorscale\": [[0.0, \"#0d0887\"], [0.1111111111111111, \"#46039f\"], [0.2222222222222222, \"#7201a8\"], [0.3333333333333333, \"#9c179e\"], [0.4444444444444444, \"#bd3786\"], [0.5555555555555556, \"#d8576b\"], [0.6666666666666666, \"#ed7953\"], [0.7777777777777778, \"#fb9f3a\"], [0.8888888888888888, \"#fdca26\"], [1.0, \"#f0f921\"]], \"type\": \"surface\"}], \"table\": [{\"cells\": {\"fill\": {\"color\": \"#EBF0F8\"}, \"line\": {\"color\": \"white\"}}, \"header\": {\"fill\": {\"color\": \"#C8D4E3\"}, \"line\": {\"color\": \"white\"}}, \"type\": \"table\"}]}, \"layout\": {\"annotationdefaults\": {\"arrowcolor\": \"#2a3f5f\", \"arrowhead\": 0, \"arrowwidth\": 1}, \"coloraxis\": {\"colorbar\": {\"outlinewidth\": 0, \"ticks\": \"\"}}, \"colorscale\": {\"diverging\": [[0, \"#8e0152\"], [0.1, \"#c51b7d\"], [0.2, \"#de77ae\"], [0.3, \"#f1b6da\"], [0.4, \"#fde0ef\"], [0.5, \"#f7f7f7\"], [0.6, \"#e6f5d0\"], [0.7, \"#b8e186\"], [0.8, \"#7fbc41\"], [0.9, \"#4d9221\"], [1, \"#276419\"]], \"sequential\": [[0.0, \"#0d0887\"], [0.1111111111111111, \"#46039f\"], [0.2222222222222222, \"#7201a8\"], [0.3333333333333333, \"#9c179e\"], [0.4444444444444444, \"#bd3786\"], [0.5555555555555556, \"#d8576b\"], [0.6666666666666666, \"#ed7953\"], [0.7777777777777778, \"#fb9f3a\"], [0.8888888888888888, \"#fdca26\"], [1.0, \"#f0f921\"]], \"sequentialminus\": [[0.0, \"#0d0887\"], [0.1111111111111111, \"#46039f\"], [0.2222222222222222, \"#7201a8\"], [0.3333333333333333, \"#9c179e\"], [0.4444444444444444, \"#bd3786\"], [0.5555555555555556, \"#d8576b\"], [0.6666666666666666, \"#ed7953\"], [0.7777777777777778, \"#fb9f3a\"], [0.8888888888888888, \"#fdca26\"], [1.0, \"#f0f921\"]]}, \"colorway\": [\"#636efa\", \"#EF553B\", \"#00cc96\", \"#ab63fa\", \"#FFA15A\", \"#19d3f3\", \"#FF6692\", \"#B6E880\", \"#FF97FF\", \"#FECB52\"], \"font\": {\"color\": \"#2a3f5f\"}, \"geo\": {\"bgcolor\": \"white\", \"lakecolor\": \"white\", \"landcolor\": \"#E5ECF6\", \"showlakes\": true, \"showland\": true, \"subunitcolor\": \"white\"}, \"hoverlabel\": {\"align\": \"left\"}, \"hovermode\": \"closest\", \"mapbox\": {\"style\": \"light\"}, \"paper_bgcolor\": \"white\", \"plot_bgcolor\": \"#E5ECF6\", \"polar\": {\"angularaxis\": {\"gridcolor\": \"white\", \"linecolor\": \"white\", \"ticks\": \"\"}, \"bgcolor\": \"#E5ECF6\", \"radialaxis\": {\"gridcolor\": \"white\", \"linecolor\": \"white\", \"ticks\": \"\"}}, \"scene\": {\"xaxis\": {\"backgroundcolor\": \"#E5ECF6\", \"gridcolor\": \"white\", \"gridwidth\": 2, \"linecolor\": \"white\", \"showbackground\": true, \"ticks\": \"\", \"zerolinecolor\": \"white\"}, \"yaxis\": {\"backgroundcolor\": \"#E5ECF6\", \"gridcolor\": \"white\", \"gridwidth\": 2, \"linecolor\": \"white\", \"showbackground\": true, \"ticks\": \"\", \"zerolinecolor\": \"white\"}, \"zaxis\": {\"backgroundcolor\": \"#E5ECF6\", \"gridcolor\": \"white\", \"gridwidth\": 2, \"linecolor\": \"white\", \"showbackground\": true, \"ticks\": \"\", \"zerolinecolor\": \"white\"}}, \"shapedefaults\": {\"line\": {\"color\": \"#2a3f5f\"}}, \"ternary\": {\"aaxis\": {\"gridcolor\": \"white\", \"linecolor\": \"white\", \"ticks\": \"\"}, \"baxis\": {\"gridcolor\": \"white\", \"linecolor\": \"white\", \"ticks\": \"\"}, \"bgcolor\": \"#E5ECF6\", \"caxis\": {\"gridcolor\": \"white\", \"linecolor\": \"white\", \"ticks\": \"\"}}, \"title\": {\"x\": 0.05}, \"xaxis\": {\"automargin\": true, \"gridcolor\": \"white\", \"linecolor\": \"white\", \"ticks\": \"\", \"title\": {\"standoff\": 15}, \"zerolinecolor\": \"white\", \"zerolinewidth\": 2}, \"yaxis\": {\"automargin\": true, \"gridcolor\": \"white\", \"linecolor\": \"white\", \"ticks\": \"\", \"title\": {\"standoff\": 15}, \"zerolinecolor\": \"white\", \"zerolinewidth\": 2}}}, \"title\": {\"font\": {\"color\": \"#4D5663\"}}, \"xaxis\": {\"gridcolor\": \"#E1E5ED\", \"showgrid\": true, \"tickfont\": {\"color\": \"#4D5663\"}, \"title\": {\"font\": {\"color\": \"#4D5663\"}, \"text\": \"\"}, \"zerolinecolor\": \"#E1E5ED\"}, \"yaxis\": {\"gridcolor\": \"#E1E5ED\", \"showgrid\": true, \"tickfont\": {\"color\": \"#4D5663\"}, \"title\": {\"font\": {\"color\": \"#4D5663\"}, \"text\": \"\"}, \"zerolinecolor\": \"#E1E5ED\"}},                        {\"showLink\": true, \"linkText\": \"Export to plot.ly\", \"plotlyServerURL\": \"https://plot.ly\", \"responsive\": true}                    ).then(function(){\n",
       "                            \n",
       "var gd = document.getElementById('aab1638b-795d-4377-8811-5ccd21f8a018');\n",
       "var x = new MutationObserver(function (mutations, observer) {{\n",
       "        var display = window.getComputedStyle(gd).display;\n",
       "        if (!display || display === 'none') {{\n",
       "            console.log([gd, 'removed!']);\n",
       "            Plotly.purge(gd);\n",
       "            observer.disconnect();\n",
       "        }}\n",
       "}});\n",
       "\n",
       "// Listen for the removal of the full notebook cells\n",
       "var notebookContainer = gd.closest('#notebook-container');\n",
       "if (notebookContainer) {{\n",
       "    x.observe(notebookContainer, {childList: true});\n",
       "}}\n",
       "\n",
       "// Listen for the clearing of the current output cell\n",
       "var outputEl = gd.closest('.output');\n",
       "if (outputEl) {{\n",
       "    x.observe(outputEl, {childList: true});\n",
       "}}\n",
       "\n",
       "                        })                };                });            </script>        </div>"
      ]
     },
     "metadata": {},
     "output_type": "display_data"
    }
   ],
   "source": [
    "df.mean().iplot(kind = 'bar')\n",
    "df.std().iplot(kind = 'bar')"
   ]
  },
  {
   "cell_type": "markdown",
   "metadata": {},
   "source": [
    "## Boxplots"
   ]
  },
  {
   "cell_type": "code",
   "execution_count": 20,
   "metadata": {},
   "outputs": [
    {
     "data": {
      "application/vnd.plotly.v1+json": {
       "config": {
        "linkText": "Export to plot.ly",
        "plotlyServerURL": "https://plot.ly",
        "showLink": true
       },
       "data": [
        {
         "boxpoints": false,
         "line": {
          "width": 1.3
         },
         "marker": {
          "color": "rgba(255, 153, 51, 1.0)"
         },
         "name": "A",
         "orientation": "v",
         "type": "box",
         "y": [
          -1.813928762203615,
          -0.27432866383219695,
          0.6253015850617543,
          -1.4554873129592596,
          3.1328551351380627,
          0.5830754004780817,
          -1.0020516684184995,
          0.8064168386351752,
          0.5811933408652084,
          -0.9944438998596266,
          0.4275666091292003,
          0.6662959061293554,
          -1.238164143354905,
          0.9090650323908503,
          -0.49040851975783545,
          -0.7393550945325827,
          -0.7793251281906282,
          -0.05941256700603647,
          0.9388278444558112,
          0.3935996182797066,
          0.16843035826535743,
          -0.012388439012577619,
          0.7395802840689866,
          -0.19026779482997197,
          0.4230286270538319,
          1.8825534628198763,
          0.6792062135611023,
          -0.7283045371389388,
          0.331562460056705,
          0.2224405058905905,
          -1.3799354855474406,
          -0.3385234291662567,
          -0.9601730674482541,
          0.9781186597538379,
          -0.36014012323212297,
          1.6657581634486944,
          -0.4060458883211332,
          -0.3437873974775657,
          -0.3159735282471693,
          0.2856169914812245,
          0.5356232663163358,
          1.7209794482450487,
          0.7695983815039918,
          -0.3502530607639093,
          1.4561969592276458,
          -1.2192118463452706,
          -1.8439425232876443,
          -0.16185314773537718,
          -2.2584691292426995,
          0.20668409063634077,
          0.10523795995373263,
          -0.5332600333840517,
          0.10144869460873746,
          0.07483099737369392,
          1.0004006969285233,
          2.0963567904539984,
          0.891356549589474,
          0.18357909269892975,
          0.5205225909418235,
          -3.585299735690124,
          2.0977439105921447,
          -1.2955859707208526,
          -0.9584729751445248,
          0.7526828628622835,
          0.054739649265246625,
          1.3611975574860573,
          -0.6097708748596224,
          -0.9643502021589745,
          0.5368043250165858,
          0.13875449188853514,
          -0.5876092434989054,
          -1.2344018269686825,
          1.0504571633296549,
          -0.2204388885957174,
          0.7711069197105281,
          0.46146549667245335,
          0.7573989338187541,
          -0.7355093559491815,
          -1.3541977713653937,
          0.6750110906973829,
          -0.43262585616148436,
          -1.0891328225541235,
          2.7954380383382986,
          0.302944404393466,
          -1.2646747787997918,
          -1.0217711184638374,
          0.8318181316682784,
          1.9247298626545357,
          -0.8125340582765815,
          1.4342509413347753,
          0.001182431893759971,
          0.635324691438933,
          -1.7232327742362592,
          -0.16876474281444187,
          -0.7611152815666171,
          0.7905192080046453,
          -1.4481216932674335,
          1.0548770968980319,
          -0.6880870636604127,
          0.832100967986984
         ]
        },
        {
         "boxpoints": false,
         "line": {
          "width": 1.3
         },
         "marker": {
          "color": "rgba(55, 128, 191, 1.0)"
         },
         "name": " B",
         "orientation": "v",
         "type": "box",
         "y": [
          0.06607532805502836,
          -1.528107619816387,
          -0.04163283728633416,
          -0.7706475003863795,
          0.9117964511744421,
          0.3160333209024703,
          -0.35214282642480327,
          -0.02618612096949382,
          1.2644498870723055,
          -0.9068185773780801,
          0.26288614614799716,
          -0.046467821091040175,
          0.8743018075416046,
          -0.7564220582153313,
          0.12929642753160087,
          -0.5260854771844939,
          0.33084348980602923,
          0.7677227514050637,
          1.2504745084602207,
          -1.12519028900167,
          1.1569042524778639,
          -1.3643697767185698,
          1.9983462969915011,
          -0.33738753487230166,
          -1.1738900363908473,
          0.7543558294633994,
          -1.5238288699068767,
          0.29533625365104715,
          -0.3169414908707511,
          0.15711619258173296,
          1.1279733827821372,
          0.11585759561734126,
          -0.30801522068031384,
          -0.6222482817949655,
          -0.3803606723353231,
          -0.29783834100175244,
          0.7184755759569819,
          0.28609133401980774,
          0.3200915982775872,
          -0.5714930573842417,
          -0.40998012069775264,
          1.589973849516675,
          -1.1412128315552295,
          1.5284836561360375,
          -1.544062949051292,
          -0.6189456408291336,
          -1.1231535097289305,
          -0.31839251610440555,
          0.8108866683209592,
          -0.1701237199131937,
          -0.5196808094388915,
          -0.4288547611657743,
          2.6267961784086635,
          0.21741621305649667,
          -0.8847238274333918,
          0.907266637127421,
          -0.29826398630860534,
          0.038733439291478364,
          -0.6781679634579276,
          0.6794258877045709,
          1.578962557356742,
          0.9520780745187442,
          0.10848531705538965,
          0.2634018037947715,
          -1.8730495843445816,
          -1.1007852572841281,
          0.15383669021895283,
          0.13561515920475276,
          1.4338663853394957,
          -1.3051253146135118,
          -0.4903038089102943,
          -0.9346612641078509,
          0.18248454238271847,
          -0.5139251929810493,
          0.019680515568265725,
          2.3324306208343457,
          1.3331545733934835,
          0.9131709172490181,
          -0.6188639852879898,
          -0.5237469044309213,
          0.006220082237387996,
          0.9867711580632222,
          0.13666481023886567,
          -0.43524612435870697,
          -1.9834319923093768,
          0.19897435654520884,
          0.8066107472903946,
          -0.19016463079348656,
          -1.2068849207989825,
          1.1407873095783347,
          0.07039659499669877,
          -1.9172967095502897,
          -0.7571867403676952,
          -0.08664896456696335,
          -1.7491323657818165,
          0.4146967883813452,
          -0.10588621508014771,
          -0.9610291029588819,
          1.7127042146628901,
          -1.0963214697248111
         ]
        },
        {
         "boxpoints": false,
         "line": {
          "width": 1.3
         },
         "marker": {
          "color": "rgba(50, 171, 96, 1.0)"
         },
         "name": " C",
         "orientation": "v",
         "type": "box",
         "y": [
          -0.6301023794246419,
          0.4357301707875016,
          -0.17512327177059372,
          -0.33172139359948627,
          1.0860270374182082,
          1.5578102790077577,
          0.10921000039291086,
          0.47975672651862417,
          0.6868488945369972,
          0.8139370383956844,
          0.7041243679282764,
          1.0182379460052986,
          -2.0607927949573766,
          1.1484535038356947,
          1.226120837709135,
          -0.16986108807994096,
          0.1193689944403312,
          -0.5063444170002459,
          -0.9377748263718966,
          -1.7399253090209923,
          -1.3161030842439596,
          0.18373574237172444,
          0.426982946146418,
          -0.10311223535014125,
          -0.5403719663905288,
          1.9131963736181625,
          -0.5533099493738904,
          -1.1679167579893213,
          0.634576597947057,
          0.6993786461780146,
          -0.6049603633496771,
          0.21311781236826713,
          0.2856350325594933,
          -0.11575715142326716,
          -1.5554357845325049,
          -1.093183391527334,
          1.3257323392062614,
          -0.4658454404651565,
          -1.5785122787164738,
          -0.2146295936329527,
          -0.9416923218868847,
          -1.021628369660526,
          0.3885976066961738,
          -0.6723468516557422,
          -1.676589938526112,
          0.13688789753714625,
          -0.6573754867078802,
          0.1493839743995519,
          0.5489453703430955,
          0.3084909962884788,
          0.9068358189202446,
          0.3909748834936724,
          -0.21585111542729296,
          0.34475189310976895,
          0.29749765571024417,
          -0.13524800231558745,
          -1.397619551883165,
          -0.5084538843051116,
          -0.48312186514783134,
          0.7540747410064647,
          0.5897196669393377,
          0.7153842703988478,
          -1.2387017678255814,
          0.85333000326993,
          1.5469625924019812,
          0.7283883813034016,
          0.8933380474417769,
          1.730083091312605,
          0.8249676590941966,
          -0.8570759473768227,
          -0.7959583476157124,
          1.0039673183761177,
          -0.4262475039524332,
          1.0493957346735698,
          0.3775692521125136,
          0.17101173494734248,
          0.6964575629993139,
          0.7114741067829303,
          -0.04069724778587497,
          1.0686053190552376,
          0.43997290954924634,
          -0.23720792965727225,
          -1.2901923390848837,
          0.8594694988318241,
          0.27480140708485706,
          1.1062215108815179,
          1.2528812041929058,
          -0.23652497216148818,
          1.1973812223151674,
          0.4532822614972701,
          0.5834143414906299,
          -1.315740314559659,
          -0.48167782873832066,
          0.150135513770157,
          1.2319465710128106,
          0.5522519083646604,
          -0.5338655721071706,
          -0.7635684141689963,
          -1.3102337741489998,
          -0.30383153629702575
         ]
        },
        {
         "boxpoints": false,
         "line": {
          "width": 1.3
         },
         "marker": {
          "color": "rgba(128, 0, 128, 1.0)"
         },
         "name": " D",
         "orientation": "v",
         "type": "box",
         "y": [
          -1.0111881336476827,
          -2.3163642741808976,
          -1.6242892532443898,
          -0.85171202192699,
          0.5314609362901468,
          -0.8054047142149638,
          1.0364985282419623,
          1.5635193435105705,
          0.6206817485758173,
          0.2756368034527986,
          -0.1737124221327595,
          -0.23558793628397254,
          0.5679243551712196,
          -0.20391101279697646,
          -0.9294755501458969,
          1.353156192616572,
          0.6345161578133833,
          -1.3029005148488537,
          1.5996677674531206,
          0.08893310230288523,
          0.5732958293162396,
          -1.4670888886934,
          -0.049286913059220804,
          -0.627996360713206,
          -0.13953479606322342,
          0.8739104888850101,
          1.344693689161325,
          -1.4018411611919517,
          0.9072288551781152,
          0.6696668827316609,
          -1.3002324717324911,
          -1.7479824763912857,
          -1.0720144723465794,
          1.059518095328356,
          1.0510786698599441,
          2.1673649971260094,
          -0.2911702836960015,
          1.8401885855797404,
          0.1677856413168417,
          0.33830508477062143,
          -1.1871823390417775,
          -1.1091586195733587,
          -0.17581813832481047,
          0.000986193119753664,
          1.1553532909714417,
          2.2943625445845526,
          -0.7393572074255726,
          -1.5315098527944657,
          -0.34205909703296106,
          -1.6578285948662244,
          -0.2950538760753234,
          0.859233146913893,
          -0.020052072490140616,
          -1.112421079649855,
          0.5883000662099853,
          0.4102130015609327,
          -0.3079881880171699,
          0.8190615763049187,
          0.8060204911786644,
          2.5036767763396393,
          -0.8882312407234086,
          0.1101172389324017,
          0.08797666417577613,
          -2.2383501635404692,
          0.3431889382789355,
          -1.177437472212664,
          -0.22876817041248756,
          0.9364838140376062,
          -0.4654796893414677,
          0.8889137378778441,
          0.28918487562390827,
          -0.3996793698595338,
          1.4950027594407642,
          0.06175020430779271,
          0.14320008148478522,
          1.283205841430638,
          1.4906324894179084,
          -0.24221475029695208,
          -1.0919648502834551,
          0.39621700365672047,
          1.1170820442854807,
          -1.0383512035368567,
          1.8134937382295007,
          -1.3418474262186975,
          1.4776674959004732,
          -0.1024557653379954,
          -0.8976193002385285,
          0.7137023706291123,
          -0.6689425018961035,
          -0.891101907070919,
          -0.2464645593268506,
          -1.3180457516254374,
          1.029808663199537,
          -0.699840965278621,
          1.5532383641913334,
          -0.6978917960754214,
          -0.5610392279456416,
          -0.7380446706303554,
          0.25236638022887264,
          -0.2681004477533865
         ]
        }
       ],
       "layout": {
        "legend": {
         "bgcolor": "#F5F6F9",
         "font": {
          "color": "#4D5663"
         }
        },
        "paper_bgcolor": "#F5F6F9",
        "plot_bgcolor": "#F5F6F9",
        "template": {
         "data": {
          "bar": [
           {
            "error_x": {
             "color": "#2a3f5f"
            },
            "error_y": {
             "color": "#2a3f5f"
            },
            "marker": {
             "line": {
              "color": "#E5ECF6",
              "width": 0.5
             }
            },
            "type": "bar"
           }
          ],
          "barpolar": [
           {
            "marker": {
             "line": {
              "color": "#E5ECF6",
              "width": 0.5
             }
            },
            "type": "barpolar"
           }
          ],
          "carpet": [
           {
            "aaxis": {
             "endlinecolor": "#2a3f5f",
             "gridcolor": "white",
             "linecolor": "white",
             "minorgridcolor": "white",
             "startlinecolor": "#2a3f5f"
            },
            "baxis": {
             "endlinecolor": "#2a3f5f",
             "gridcolor": "white",
             "linecolor": "white",
             "minorgridcolor": "white",
             "startlinecolor": "#2a3f5f"
            },
            "type": "carpet"
           }
          ],
          "choropleth": [
           {
            "colorbar": {
             "outlinewidth": 0,
             "ticks": ""
            },
            "type": "choropleth"
           }
          ],
          "contour": [
           {
            "colorbar": {
             "outlinewidth": 0,
             "ticks": ""
            },
            "colorscale": [
             [
              0,
              "#0d0887"
             ],
             [
              0.1111111111111111,
              "#46039f"
             ],
             [
              0.2222222222222222,
              "#7201a8"
             ],
             [
              0.3333333333333333,
              "#9c179e"
             ],
             [
              0.4444444444444444,
              "#bd3786"
             ],
             [
              0.5555555555555556,
              "#d8576b"
             ],
             [
              0.6666666666666666,
              "#ed7953"
             ],
             [
              0.7777777777777778,
              "#fb9f3a"
             ],
             [
              0.8888888888888888,
              "#fdca26"
             ],
             [
              1,
              "#f0f921"
             ]
            ],
            "type": "contour"
           }
          ],
          "contourcarpet": [
           {
            "colorbar": {
             "outlinewidth": 0,
             "ticks": ""
            },
            "type": "contourcarpet"
           }
          ],
          "heatmap": [
           {
            "colorbar": {
             "outlinewidth": 0,
             "ticks": ""
            },
            "colorscale": [
             [
              0,
              "#0d0887"
             ],
             [
              0.1111111111111111,
              "#46039f"
             ],
             [
              0.2222222222222222,
              "#7201a8"
             ],
             [
              0.3333333333333333,
              "#9c179e"
             ],
             [
              0.4444444444444444,
              "#bd3786"
             ],
             [
              0.5555555555555556,
              "#d8576b"
             ],
             [
              0.6666666666666666,
              "#ed7953"
             ],
             [
              0.7777777777777778,
              "#fb9f3a"
             ],
             [
              0.8888888888888888,
              "#fdca26"
             ],
             [
              1,
              "#f0f921"
             ]
            ],
            "type": "heatmap"
           }
          ],
          "heatmapgl": [
           {
            "colorbar": {
             "outlinewidth": 0,
             "ticks": ""
            },
            "colorscale": [
             [
              0,
              "#0d0887"
             ],
             [
              0.1111111111111111,
              "#46039f"
             ],
             [
              0.2222222222222222,
              "#7201a8"
             ],
             [
              0.3333333333333333,
              "#9c179e"
             ],
             [
              0.4444444444444444,
              "#bd3786"
             ],
             [
              0.5555555555555556,
              "#d8576b"
             ],
             [
              0.6666666666666666,
              "#ed7953"
             ],
             [
              0.7777777777777778,
              "#fb9f3a"
             ],
             [
              0.8888888888888888,
              "#fdca26"
             ],
             [
              1,
              "#f0f921"
             ]
            ],
            "type": "heatmapgl"
           }
          ],
          "histogram": [
           {
            "marker": {
             "colorbar": {
              "outlinewidth": 0,
              "ticks": ""
             }
            },
            "type": "histogram"
           }
          ],
          "histogram2d": [
           {
            "colorbar": {
             "outlinewidth": 0,
             "ticks": ""
            },
            "colorscale": [
             [
              0,
              "#0d0887"
             ],
             [
              0.1111111111111111,
              "#46039f"
             ],
             [
              0.2222222222222222,
              "#7201a8"
             ],
             [
              0.3333333333333333,
              "#9c179e"
             ],
             [
              0.4444444444444444,
              "#bd3786"
             ],
             [
              0.5555555555555556,
              "#d8576b"
             ],
             [
              0.6666666666666666,
              "#ed7953"
             ],
             [
              0.7777777777777778,
              "#fb9f3a"
             ],
             [
              0.8888888888888888,
              "#fdca26"
             ],
             [
              1,
              "#f0f921"
             ]
            ],
            "type": "histogram2d"
           }
          ],
          "histogram2dcontour": [
           {
            "colorbar": {
             "outlinewidth": 0,
             "ticks": ""
            },
            "colorscale": [
             [
              0,
              "#0d0887"
             ],
             [
              0.1111111111111111,
              "#46039f"
             ],
             [
              0.2222222222222222,
              "#7201a8"
             ],
             [
              0.3333333333333333,
              "#9c179e"
             ],
             [
              0.4444444444444444,
              "#bd3786"
             ],
             [
              0.5555555555555556,
              "#d8576b"
             ],
             [
              0.6666666666666666,
              "#ed7953"
             ],
             [
              0.7777777777777778,
              "#fb9f3a"
             ],
             [
              0.8888888888888888,
              "#fdca26"
             ],
             [
              1,
              "#f0f921"
             ]
            ],
            "type": "histogram2dcontour"
           }
          ],
          "mesh3d": [
           {
            "colorbar": {
             "outlinewidth": 0,
             "ticks": ""
            },
            "type": "mesh3d"
           }
          ],
          "parcoords": [
           {
            "line": {
             "colorbar": {
              "outlinewidth": 0,
              "ticks": ""
             }
            },
            "type": "parcoords"
           }
          ],
          "pie": [
           {
            "automargin": true,
            "type": "pie"
           }
          ],
          "scatter": [
           {
            "marker": {
             "colorbar": {
              "outlinewidth": 0,
              "ticks": ""
             }
            },
            "type": "scatter"
           }
          ],
          "scatter3d": [
           {
            "line": {
             "colorbar": {
              "outlinewidth": 0,
              "ticks": ""
             }
            },
            "marker": {
             "colorbar": {
              "outlinewidth": 0,
              "ticks": ""
             }
            },
            "type": "scatter3d"
           }
          ],
          "scattercarpet": [
           {
            "marker": {
             "colorbar": {
              "outlinewidth": 0,
              "ticks": ""
             }
            },
            "type": "scattercarpet"
           }
          ],
          "scattergeo": [
           {
            "marker": {
             "colorbar": {
              "outlinewidth": 0,
              "ticks": ""
             }
            },
            "type": "scattergeo"
           }
          ],
          "scattergl": [
           {
            "marker": {
             "colorbar": {
              "outlinewidth": 0,
              "ticks": ""
             }
            },
            "type": "scattergl"
           }
          ],
          "scattermapbox": [
           {
            "marker": {
             "colorbar": {
              "outlinewidth": 0,
              "ticks": ""
             }
            },
            "type": "scattermapbox"
           }
          ],
          "scatterpolar": [
           {
            "marker": {
             "colorbar": {
              "outlinewidth": 0,
              "ticks": ""
             }
            },
            "type": "scatterpolar"
           }
          ],
          "scatterpolargl": [
           {
            "marker": {
             "colorbar": {
              "outlinewidth": 0,
              "ticks": ""
             }
            },
            "type": "scatterpolargl"
           }
          ],
          "scatterternary": [
           {
            "marker": {
             "colorbar": {
              "outlinewidth": 0,
              "ticks": ""
             }
            },
            "type": "scatterternary"
           }
          ],
          "surface": [
           {
            "colorbar": {
             "outlinewidth": 0,
             "ticks": ""
            },
            "colorscale": [
             [
              0,
              "#0d0887"
             ],
             [
              0.1111111111111111,
              "#46039f"
             ],
             [
              0.2222222222222222,
              "#7201a8"
             ],
             [
              0.3333333333333333,
              "#9c179e"
             ],
             [
              0.4444444444444444,
              "#bd3786"
             ],
             [
              0.5555555555555556,
              "#d8576b"
             ],
             [
              0.6666666666666666,
              "#ed7953"
             ],
             [
              0.7777777777777778,
              "#fb9f3a"
             ],
             [
              0.8888888888888888,
              "#fdca26"
             ],
             [
              1,
              "#f0f921"
             ]
            ],
            "type": "surface"
           }
          ],
          "table": [
           {
            "cells": {
             "fill": {
              "color": "#EBF0F8"
             },
             "line": {
              "color": "white"
             }
            },
            "header": {
             "fill": {
              "color": "#C8D4E3"
             },
             "line": {
              "color": "white"
             }
            },
            "type": "table"
           }
          ]
         },
         "layout": {
          "annotationdefaults": {
           "arrowcolor": "#2a3f5f",
           "arrowhead": 0,
           "arrowwidth": 1
          },
          "coloraxis": {
           "colorbar": {
            "outlinewidth": 0,
            "ticks": ""
           }
          },
          "colorscale": {
           "diverging": [
            [
             0,
             "#8e0152"
            ],
            [
             0.1,
             "#c51b7d"
            ],
            [
             0.2,
             "#de77ae"
            ],
            [
             0.3,
             "#f1b6da"
            ],
            [
             0.4,
             "#fde0ef"
            ],
            [
             0.5,
             "#f7f7f7"
            ],
            [
             0.6,
             "#e6f5d0"
            ],
            [
             0.7,
             "#b8e186"
            ],
            [
             0.8,
             "#7fbc41"
            ],
            [
             0.9,
             "#4d9221"
            ],
            [
             1,
             "#276419"
            ]
           ],
           "sequential": [
            [
             0,
             "#0d0887"
            ],
            [
             0.1111111111111111,
             "#46039f"
            ],
            [
             0.2222222222222222,
             "#7201a8"
            ],
            [
             0.3333333333333333,
             "#9c179e"
            ],
            [
             0.4444444444444444,
             "#bd3786"
            ],
            [
             0.5555555555555556,
             "#d8576b"
            ],
            [
             0.6666666666666666,
             "#ed7953"
            ],
            [
             0.7777777777777778,
             "#fb9f3a"
            ],
            [
             0.8888888888888888,
             "#fdca26"
            ],
            [
             1,
             "#f0f921"
            ]
           ],
           "sequentialminus": [
            [
             0,
             "#0d0887"
            ],
            [
             0.1111111111111111,
             "#46039f"
            ],
            [
             0.2222222222222222,
             "#7201a8"
            ],
            [
             0.3333333333333333,
             "#9c179e"
            ],
            [
             0.4444444444444444,
             "#bd3786"
            ],
            [
             0.5555555555555556,
             "#d8576b"
            ],
            [
             0.6666666666666666,
             "#ed7953"
            ],
            [
             0.7777777777777778,
             "#fb9f3a"
            ],
            [
             0.8888888888888888,
             "#fdca26"
            ],
            [
             1,
             "#f0f921"
            ]
           ]
          },
          "colorway": [
           "#636efa",
           "#EF553B",
           "#00cc96",
           "#ab63fa",
           "#FFA15A",
           "#19d3f3",
           "#FF6692",
           "#B6E880",
           "#FF97FF",
           "#FECB52"
          ],
          "font": {
           "color": "#2a3f5f"
          },
          "geo": {
           "bgcolor": "white",
           "lakecolor": "white",
           "landcolor": "#E5ECF6",
           "showlakes": true,
           "showland": true,
           "subunitcolor": "white"
          },
          "hoverlabel": {
           "align": "left"
          },
          "hovermode": "closest",
          "mapbox": {
           "style": "light"
          },
          "paper_bgcolor": "white",
          "plot_bgcolor": "#E5ECF6",
          "polar": {
           "angularaxis": {
            "gridcolor": "white",
            "linecolor": "white",
            "ticks": ""
           },
           "bgcolor": "#E5ECF6",
           "radialaxis": {
            "gridcolor": "white",
            "linecolor": "white",
            "ticks": ""
           }
          },
          "scene": {
           "xaxis": {
            "backgroundcolor": "#E5ECF6",
            "gridcolor": "white",
            "gridwidth": 2,
            "linecolor": "white",
            "showbackground": true,
            "ticks": "",
            "zerolinecolor": "white"
           },
           "yaxis": {
            "backgroundcolor": "#E5ECF6",
            "gridcolor": "white",
            "gridwidth": 2,
            "linecolor": "white",
            "showbackground": true,
            "ticks": "",
            "zerolinecolor": "white"
           },
           "zaxis": {
            "backgroundcolor": "#E5ECF6",
            "gridcolor": "white",
            "gridwidth": 2,
            "linecolor": "white",
            "showbackground": true,
            "ticks": "",
            "zerolinecolor": "white"
           }
          },
          "shapedefaults": {
           "line": {
            "color": "#2a3f5f"
           }
          },
          "ternary": {
           "aaxis": {
            "gridcolor": "white",
            "linecolor": "white",
            "ticks": ""
           },
           "baxis": {
            "gridcolor": "white",
            "linecolor": "white",
            "ticks": ""
           },
           "bgcolor": "#E5ECF6",
           "caxis": {
            "gridcolor": "white",
            "linecolor": "white",
            "ticks": ""
           }
          },
          "title": {
           "x": 0.05
          },
          "xaxis": {
           "automargin": true,
           "gridcolor": "white",
           "linecolor": "white",
           "ticks": "",
           "title": {
            "standoff": 15
           },
           "zerolinecolor": "white",
           "zerolinewidth": 2
          },
          "yaxis": {
           "automargin": true,
           "gridcolor": "white",
           "linecolor": "white",
           "ticks": "",
           "title": {
            "standoff": 15
           },
           "zerolinecolor": "white",
           "zerolinewidth": 2
          }
         }
        },
        "title": {
         "font": {
          "color": "#4D5663"
         }
        },
        "xaxis": {
         "gridcolor": "#E1E5ED",
         "showgrid": true,
         "tickfont": {
          "color": "#4D5663"
         },
         "title": {
          "font": {
           "color": "#4D5663"
          },
          "text": ""
         },
         "zerolinecolor": "#E1E5ED"
        },
        "yaxis": {
         "gridcolor": "#E1E5ED",
         "showgrid": true,
         "tickfont": {
          "color": "#4D5663"
         },
         "title": {
          "font": {
           "color": "#4D5663"
          },
          "text": ""
         },
         "zerolinecolor": "#E1E5ED"
        }
       }
      },
      "text/html": [
       "<div>                            <div id=\"78264f72-08d3-4c48-9c97-b3dd3eb9770c\" class=\"plotly-graph-div\" style=\"height:525px; width:100%;\"></div>            <script type=\"text/javascript\">                require([\"plotly\"], function(Plotly) {                    window.PLOTLYENV=window.PLOTLYENV || {};\n",
       "                    window.PLOTLYENV.BASE_URL='https://plot.ly';                                    if (document.getElementById(\"78264f72-08d3-4c48-9c97-b3dd3eb9770c\")) {                    Plotly.newPlot(                        \"78264f72-08d3-4c48-9c97-b3dd3eb9770c\",                        [{\"boxpoints\": false, \"line\": {\"width\": 1.3}, \"marker\": {\"color\": \"rgba(255, 153, 51, 1.0)\"}, \"name\": \"A\", \"orientation\": \"v\", \"type\": \"box\", \"y\": [-1.813928762203615, -0.27432866383219695, 0.6253015850617543, -1.4554873129592596, 3.1328551351380627, 0.5830754004780817, -1.0020516684184995, 0.8064168386351752, 0.5811933408652084, -0.9944438998596266, 0.4275666091292003, 0.6662959061293554, -1.238164143354905, 0.9090650323908503, -0.49040851975783545, -0.7393550945325827, -0.7793251281906282, -0.05941256700603647, 0.9388278444558112, 0.3935996182797066, 0.16843035826535743, -0.012388439012577619, 0.7395802840689866, -0.19026779482997197, 0.4230286270538319, 1.8825534628198763, 0.6792062135611023, -0.7283045371389388, 0.331562460056705, 0.2224405058905905, -1.3799354855474406, -0.3385234291662567, -0.9601730674482541, 0.9781186597538379, -0.36014012323212297, 1.6657581634486944, -0.4060458883211332, -0.3437873974775657, -0.3159735282471693, 0.2856169914812245, 0.5356232663163358, 1.7209794482450487, 0.7695983815039918, -0.3502530607639093, 1.4561969592276458, -1.2192118463452706, -1.8439425232876443, -0.16185314773537718, -2.2584691292426995, 0.20668409063634077, 0.10523795995373263, -0.5332600333840517, 0.10144869460873746, 0.07483099737369392, 1.0004006969285233, 2.0963567904539984, 0.891356549589474, 0.18357909269892975, 0.5205225909418235, -3.585299735690124, 2.0977439105921447, -1.2955859707208526, -0.9584729751445248, 0.7526828628622835, 0.054739649265246625, 1.3611975574860573, -0.6097708748596224, -0.9643502021589745, 0.5368043250165858, 0.13875449188853514, -0.5876092434989054, -1.2344018269686825, 1.0504571633296549, -0.2204388885957174, 0.7711069197105281, 0.46146549667245335, 0.7573989338187541, -0.7355093559491815, -1.3541977713653937, 0.6750110906973829, -0.43262585616148436, -1.0891328225541235, 2.7954380383382986, 0.302944404393466, -1.2646747787997918, -1.0217711184638374, 0.8318181316682784, 1.9247298626545357, -0.8125340582765815, 1.4342509413347753, 0.001182431893759971, 0.635324691438933, -1.7232327742362592, -0.16876474281444187, -0.7611152815666171, 0.7905192080046453, -1.4481216932674335, 1.0548770968980319, -0.6880870636604127, 0.832100967986984]}, {\"boxpoints\": false, \"line\": {\"width\": 1.3}, \"marker\": {\"color\": \"rgba(55, 128, 191, 1.0)\"}, \"name\": \" B\", \"orientation\": \"v\", \"type\": \"box\", \"y\": [0.06607532805502836, -1.528107619816387, -0.04163283728633416, -0.7706475003863795, 0.9117964511744421, 0.3160333209024703, -0.35214282642480327, -0.02618612096949382, 1.2644498870723055, -0.9068185773780801, 0.26288614614799716, -0.046467821091040175, 0.8743018075416046, -0.7564220582153313, 0.12929642753160087, -0.5260854771844939, 0.33084348980602923, 0.7677227514050637, 1.2504745084602207, -1.12519028900167, 1.1569042524778639, -1.3643697767185698, 1.9983462969915011, -0.33738753487230166, -1.1738900363908473, 0.7543558294633994, -1.5238288699068767, 0.29533625365104715, -0.3169414908707511, 0.15711619258173296, 1.1279733827821372, 0.11585759561734126, -0.30801522068031384, -0.6222482817949655, -0.3803606723353231, -0.29783834100175244, 0.7184755759569819, 0.28609133401980774, 0.3200915982775872, -0.5714930573842417, -0.40998012069775264, 1.589973849516675, -1.1412128315552295, 1.5284836561360375, -1.544062949051292, -0.6189456408291336, -1.1231535097289305, -0.31839251610440555, 0.8108866683209592, -0.1701237199131937, -0.5196808094388915, -0.4288547611657743, 2.6267961784086635, 0.21741621305649667, -0.8847238274333918, 0.907266637127421, -0.29826398630860534, 0.038733439291478364, -0.6781679634579276, 0.6794258877045709, 1.578962557356742, 0.9520780745187442, 0.10848531705538965, 0.2634018037947715, -1.8730495843445816, -1.1007852572841281, 0.15383669021895283, 0.13561515920475276, 1.4338663853394957, -1.3051253146135118, -0.4903038089102943, -0.9346612641078509, 0.18248454238271847, -0.5139251929810493, 0.019680515568265725, 2.3324306208343457, 1.3331545733934835, 0.9131709172490181, -0.6188639852879898, -0.5237469044309213, 0.006220082237387996, 0.9867711580632222, 0.13666481023886567, -0.43524612435870697, -1.9834319923093768, 0.19897435654520884, 0.8066107472903946, -0.19016463079348656, -1.2068849207989825, 1.1407873095783347, 0.07039659499669877, -1.9172967095502897, -0.7571867403676952, -0.08664896456696335, -1.7491323657818165, 0.4146967883813452, -0.10588621508014771, -0.9610291029588819, 1.7127042146628901, -1.0963214697248111]}, {\"boxpoints\": false, \"line\": {\"width\": 1.3}, \"marker\": {\"color\": \"rgba(50, 171, 96, 1.0)\"}, \"name\": \" C\", \"orientation\": \"v\", \"type\": \"box\", \"y\": [-0.6301023794246419, 0.4357301707875016, -0.17512327177059372, -0.33172139359948627, 1.0860270374182082, 1.5578102790077577, 0.10921000039291086, 0.47975672651862417, 0.6868488945369972, 0.8139370383956844, 0.7041243679282764, 1.0182379460052986, -2.0607927949573766, 1.1484535038356947, 1.226120837709135, -0.16986108807994096, 0.1193689944403312, -0.5063444170002459, -0.9377748263718966, -1.7399253090209923, -1.3161030842439596, 0.18373574237172444, 0.426982946146418, -0.10311223535014125, -0.5403719663905288, 1.9131963736181625, -0.5533099493738904, -1.1679167579893213, 0.634576597947057, 0.6993786461780146, -0.6049603633496771, 0.21311781236826713, 0.2856350325594933, -0.11575715142326716, -1.5554357845325049, -1.093183391527334, 1.3257323392062614, -0.4658454404651565, -1.5785122787164738, -0.2146295936329527, -0.9416923218868847, -1.021628369660526, 0.3885976066961738, -0.6723468516557422, -1.676589938526112, 0.13688789753714625, -0.6573754867078802, 0.1493839743995519, 0.5489453703430955, 0.3084909962884788, 0.9068358189202446, 0.3909748834936724, -0.21585111542729296, 0.34475189310976895, 0.29749765571024417, -0.13524800231558745, -1.397619551883165, -0.5084538843051116, -0.48312186514783134, 0.7540747410064647, 0.5897196669393377, 0.7153842703988478, -1.2387017678255814, 0.85333000326993, 1.5469625924019812, 0.7283883813034016, 0.8933380474417769, 1.730083091312605, 0.8249676590941966, -0.8570759473768227, -0.7959583476157124, 1.0039673183761177, -0.4262475039524332, 1.0493957346735698, 0.3775692521125136, 0.17101173494734248, 0.6964575629993139, 0.7114741067829303, -0.04069724778587497, 1.0686053190552376, 0.43997290954924634, -0.23720792965727225, -1.2901923390848837, 0.8594694988318241, 0.27480140708485706, 1.1062215108815179, 1.2528812041929058, -0.23652497216148818, 1.1973812223151674, 0.4532822614972701, 0.5834143414906299, -1.315740314559659, -0.48167782873832066, 0.150135513770157, 1.2319465710128106, 0.5522519083646604, -0.5338655721071706, -0.7635684141689963, -1.3102337741489998, -0.30383153629702575]}, {\"boxpoints\": false, \"line\": {\"width\": 1.3}, \"marker\": {\"color\": \"rgba(128, 0, 128, 1.0)\"}, \"name\": \" D\", \"orientation\": \"v\", \"type\": \"box\", \"y\": [-1.0111881336476827, -2.3163642741808976, -1.6242892532443898, -0.85171202192699, 0.5314609362901468, -0.8054047142149638, 1.0364985282419623, 1.5635193435105705, 0.6206817485758173, 0.2756368034527986, -0.1737124221327595, -0.23558793628397254, 0.5679243551712196, -0.20391101279697646, -0.9294755501458969, 1.353156192616572, 0.6345161578133833, -1.3029005148488537, 1.5996677674531206, 0.08893310230288523, 0.5732958293162396, -1.4670888886934, -0.049286913059220804, -0.627996360713206, -0.13953479606322342, 0.8739104888850101, 1.344693689161325, -1.4018411611919517, 0.9072288551781152, 0.6696668827316609, -1.3002324717324911, -1.7479824763912857, -1.0720144723465794, 1.059518095328356, 1.0510786698599441, 2.1673649971260094, -0.2911702836960015, 1.8401885855797404, 0.1677856413168417, 0.33830508477062143, -1.1871823390417775, -1.1091586195733587, -0.17581813832481047, 0.000986193119753664, 1.1553532909714417, 2.2943625445845526, -0.7393572074255726, -1.5315098527944657, -0.34205909703296106, -1.6578285948662244, -0.2950538760753234, 0.859233146913893, -0.020052072490140616, -1.112421079649855, 0.5883000662099853, 0.4102130015609327, -0.3079881880171699, 0.8190615763049187, 0.8060204911786644, 2.5036767763396393, -0.8882312407234086, 0.1101172389324017, 0.08797666417577613, -2.2383501635404692, 0.3431889382789355, -1.177437472212664, -0.22876817041248756, 0.9364838140376062, -0.4654796893414677, 0.8889137378778441, 0.28918487562390827, -0.3996793698595338, 1.4950027594407642, 0.06175020430779271, 0.14320008148478522, 1.283205841430638, 1.4906324894179084, -0.24221475029695208, -1.0919648502834551, 0.39621700365672047, 1.1170820442854807, -1.0383512035368567, 1.8134937382295007, -1.3418474262186975, 1.4776674959004732, -0.1024557653379954, -0.8976193002385285, 0.7137023706291123, -0.6689425018961035, -0.891101907070919, -0.2464645593268506, -1.3180457516254374, 1.029808663199537, -0.699840965278621, 1.5532383641913334, -0.6978917960754214, -0.5610392279456416, -0.7380446706303554, 0.25236638022887264, -0.2681004477533865]}],                        {\"legend\": {\"bgcolor\": \"#F5F6F9\", \"font\": {\"color\": \"#4D5663\"}}, \"paper_bgcolor\": \"#F5F6F9\", \"plot_bgcolor\": \"#F5F6F9\", \"template\": {\"data\": {\"bar\": [{\"error_x\": {\"color\": \"#2a3f5f\"}, \"error_y\": {\"color\": \"#2a3f5f\"}, \"marker\": {\"line\": {\"color\": \"#E5ECF6\", \"width\": 0.5}}, \"type\": \"bar\"}], \"barpolar\": [{\"marker\": {\"line\": {\"color\": \"#E5ECF6\", \"width\": 0.5}}, \"type\": \"barpolar\"}], \"carpet\": [{\"aaxis\": {\"endlinecolor\": \"#2a3f5f\", \"gridcolor\": \"white\", \"linecolor\": \"white\", \"minorgridcolor\": \"white\", \"startlinecolor\": \"#2a3f5f\"}, \"baxis\": {\"endlinecolor\": \"#2a3f5f\", \"gridcolor\": \"white\", \"linecolor\": \"white\", \"minorgridcolor\": \"white\", \"startlinecolor\": \"#2a3f5f\"}, \"type\": \"carpet\"}], \"choropleth\": [{\"colorbar\": {\"outlinewidth\": 0, \"ticks\": \"\"}, \"type\": \"choropleth\"}], \"contour\": [{\"colorbar\": {\"outlinewidth\": 0, \"ticks\": \"\"}, \"colorscale\": [[0.0, \"#0d0887\"], [0.1111111111111111, \"#46039f\"], [0.2222222222222222, \"#7201a8\"], [0.3333333333333333, \"#9c179e\"], [0.4444444444444444, \"#bd3786\"], [0.5555555555555556, \"#d8576b\"], [0.6666666666666666, \"#ed7953\"], [0.7777777777777778, \"#fb9f3a\"], [0.8888888888888888, \"#fdca26\"], [1.0, \"#f0f921\"]], \"type\": \"contour\"}], \"contourcarpet\": [{\"colorbar\": {\"outlinewidth\": 0, \"ticks\": \"\"}, \"type\": \"contourcarpet\"}], \"heatmap\": [{\"colorbar\": {\"outlinewidth\": 0, \"ticks\": \"\"}, \"colorscale\": [[0.0, \"#0d0887\"], [0.1111111111111111, \"#46039f\"], [0.2222222222222222, \"#7201a8\"], [0.3333333333333333, \"#9c179e\"], [0.4444444444444444, \"#bd3786\"], [0.5555555555555556, \"#d8576b\"], [0.6666666666666666, \"#ed7953\"], [0.7777777777777778, \"#fb9f3a\"], [0.8888888888888888, \"#fdca26\"], [1.0, \"#f0f921\"]], \"type\": \"heatmap\"}], \"heatmapgl\": [{\"colorbar\": {\"outlinewidth\": 0, \"ticks\": \"\"}, \"colorscale\": [[0.0, \"#0d0887\"], [0.1111111111111111, \"#46039f\"], [0.2222222222222222, \"#7201a8\"], [0.3333333333333333, \"#9c179e\"], [0.4444444444444444, \"#bd3786\"], [0.5555555555555556, \"#d8576b\"], [0.6666666666666666, \"#ed7953\"], [0.7777777777777778, \"#fb9f3a\"], [0.8888888888888888, \"#fdca26\"], [1.0, \"#f0f921\"]], \"type\": \"heatmapgl\"}], \"histogram\": [{\"marker\": {\"colorbar\": {\"outlinewidth\": 0, \"ticks\": \"\"}}, \"type\": \"histogram\"}], \"histogram2d\": [{\"colorbar\": {\"outlinewidth\": 0, \"ticks\": \"\"}, \"colorscale\": [[0.0, \"#0d0887\"], [0.1111111111111111, \"#46039f\"], [0.2222222222222222, \"#7201a8\"], [0.3333333333333333, \"#9c179e\"], [0.4444444444444444, \"#bd3786\"], [0.5555555555555556, \"#d8576b\"], [0.6666666666666666, \"#ed7953\"], [0.7777777777777778, \"#fb9f3a\"], [0.8888888888888888, \"#fdca26\"], [1.0, \"#f0f921\"]], \"type\": \"histogram2d\"}], \"histogram2dcontour\": [{\"colorbar\": {\"outlinewidth\": 0, \"ticks\": \"\"}, \"colorscale\": [[0.0, \"#0d0887\"], [0.1111111111111111, \"#46039f\"], [0.2222222222222222, \"#7201a8\"], [0.3333333333333333, \"#9c179e\"], [0.4444444444444444, \"#bd3786\"], [0.5555555555555556, \"#d8576b\"], [0.6666666666666666, \"#ed7953\"], [0.7777777777777778, \"#fb9f3a\"], [0.8888888888888888, \"#fdca26\"], [1.0, \"#f0f921\"]], \"type\": \"histogram2dcontour\"}], \"mesh3d\": [{\"colorbar\": {\"outlinewidth\": 0, \"ticks\": \"\"}, \"type\": \"mesh3d\"}], \"parcoords\": [{\"line\": {\"colorbar\": {\"outlinewidth\": 0, \"ticks\": \"\"}}, \"type\": \"parcoords\"}], \"pie\": [{\"automargin\": true, \"type\": \"pie\"}], \"scatter\": [{\"marker\": {\"colorbar\": {\"outlinewidth\": 0, \"ticks\": \"\"}}, \"type\": \"scatter\"}], \"scatter3d\": [{\"line\": {\"colorbar\": {\"outlinewidth\": 0, \"ticks\": \"\"}}, \"marker\": {\"colorbar\": {\"outlinewidth\": 0, \"ticks\": \"\"}}, \"type\": \"scatter3d\"}], \"scattercarpet\": [{\"marker\": {\"colorbar\": {\"outlinewidth\": 0, \"ticks\": \"\"}}, \"type\": \"scattercarpet\"}], \"scattergeo\": [{\"marker\": {\"colorbar\": {\"outlinewidth\": 0, \"ticks\": \"\"}}, \"type\": \"scattergeo\"}], \"scattergl\": [{\"marker\": {\"colorbar\": {\"outlinewidth\": 0, \"ticks\": \"\"}}, \"type\": \"scattergl\"}], \"scattermapbox\": [{\"marker\": {\"colorbar\": {\"outlinewidth\": 0, \"ticks\": \"\"}}, \"type\": \"scattermapbox\"}], \"scatterpolar\": [{\"marker\": {\"colorbar\": {\"outlinewidth\": 0, \"ticks\": \"\"}}, \"type\": \"scatterpolar\"}], \"scatterpolargl\": [{\"marker\": {\"colorbar\": {\"outlinewidth\": 0, \"ticks\": \"\"}}, \"type\": \"scatterpolargl\"}], \"scatterternary\": [{\"marker\": {\"colorbar\": {\"outlinewidth\": 0, \"ticks\": \"\"}}, \"type\": \"scatterternary\"}], \"surface\": [{\"colorbar\": {\"outlinewidth\": 0, \"ticks\": \"\"}, \"colorscale\": [[0.0, \"#0d0887\"], [0.1111111111111111, \"#46039f\"], [0.2222222222222222, \"#7201a8\"], [0.3333333333333333, \"#9c179e\"], [0.4444444444444444, \"#bd3786\"], [0.5555555555555556, \"#d8576b\"], [0.6666666666666666, \"#ed7953\"], [0.7777777777777778, \"#fb9f3a\"], [0.8888888888888888, \"#fdca26\"], [1.0, \"#f0f921\"]], \"type\": \"surface\"}], \"table\": [{\"cells\": {\"fill\": {\"color\": \"#EBF0F8\"}, \"line\": {\"color\": \"white\"}}, \"header\": {\"fill\": {\"color\": \"#C8D4E3\"}, \"line\": {\"color\": \"white\"}}, \"type\": \"table\"}]}, \"layout\": {\"annotationdefaults\": {\"arrowcolor\": \"#2a3f5f\", \"arrowhead\": 0, \"arrowwidth\": 1}, \"coloraxis\": {\"colorbar\": {\"outlinewidth\": 0, \"ticks\": \"\"}}, \"colorscale\": {\"diverging\": [[0, \"#8e0152\"], [0.1, \"#c51b7d\"], [0.2, \"#de77ae\"], [0.3, \"#f1b6da\"], [0.4, \"#fde0ef\"], [0.5, \"#f7f7f7\"], [0.6, \"#e6f5d0\"], [0.7, \"#b8e186\"], [0.8, \"#7fbc41\"], [0.9, \"#4d9221\"], [1, \"#276419\"]], \"sequential\": [[0.0, \"#0d0887\"], [0.1111111111111111, \"#46039f\"], [0.2222222222222222, \"#7201a8\"], [0.3333333333333333, \"#9c179e\"], [0.4444444444444444, \"#bd3786\"], [0.5555555555555556, \"#d8576b\"], [0.6666666666666666, \"#ed7953\"], [0.7777777777777778, \"#fb9f3a\"], [0.8888888888888888, \"#fdca26\"], [1.0, \"#f0f921\"]], \"sequentialminus\": [[0.0, \"#0d0887\"], [0.1111111111111111, \"#46039f\"], [0.2222222222222222, \"#7201a8\"], [0.3333333333333333, \"#9c179e\"], [0.4444444444444444, \"#bd3786\"], [0.5555555555555556, \"#d8576b\"], [0.6666666666666666, \"#ed7953\"], [0.7777777777777778, \"#fb9f3a\"], [0.8888888888888888, \"#fdca26\"], [1.0, \"#f0f921\"]]}, \"colorway\": [\"#636efa\", \"#EF553B\", \"#00cc96\", \"#ab63fa\", \"#FFA15A\", \"#19d3f3\", \"#FF6692\", \"#B6E880\", \"#FF97FF\", \"#FECB52\"], \"font\": {\"color\": \"#2a3f5f\"}, \"geo\": {\"bgcolor\": \"white\", \"lakecolor\": \"white\", \"landcolor\": \"#E5ECF6\", \"showlakes\": true, \"showland\": true, \"subunitcolor\": \"white\"}, \"hoverlabel\": {\"align\": \"left\"}, \"hovermode\": \"closest\", \"mapbox\": {\"style\": \"light\"}, \"paper_bgcolor\": \"white\", \"plot_bgcolor\": \"#E5ECF6\", \"polar\": {\"angularaxis\": {\"gridcolor\": \"white\", \"linecolor\": \"white\", \"ticks\": \"\"}, \"bgcolor\": \"#E5ECF6\", \"radialaxis\": {\"gridcolor\": \"white\", \"linecolor\": \"white\", \"ticks\": \"\"}}, \"scene\": {\"xaxis\": {\"backgroundcolor\": \"#E5ECF6\", \"gridcolor\": \"white\", \"gridwidth\": 2, \"linecolor\": \"white\", \"showbackground\": true, \"ticks\": \"\", \"zerolinecolor\": \"white\"}, \"yaxis\": {\"backgroundcolor\": \"#E5ECF6\", \"gridcolor\": \"white\", \"gridwidth\": 2, \"linecolor\": \"white\", \"showbackground\": true, \"ticks\": \"\", \"zerolinecolor\": \"white\"}, \"zaxis\": {\"backgroundcolor\": \"#E5ECF6\", \"gridcolor\": \"white\", \"gridwidth\": 2, \"linecolor\": \"white\", \"showbackground\": true, \"ticks\": \"\", \"zerolinecolor\": \"white\"}}, \"shapedefaults\": {\"line\": {\"color\": \"#2a3f5f\"}}, \"ternary\": {\"aaxis\": {\"gridcolor\": \"white\", \"linecolor\": \"white\", \"ticks\": \"\"}, \"baxis\": {\"gridcolor\": \"white\", \"linecolor\": \"white\", \"ticks\": \"\"}, \"bgcolor\": \"#E5ECF6\", \"caxis\": {\"gridcolor\": \"white\", \"linecolor\": \"white\", \"ticks\": \"\"}}, \"title\": {\"x\": 0.05}, \"xaxis\": {\"automargin\": true, \"gridcolor\": \"white\", \"linecolor\": \"white\", \"ticks\": \"\", \"title\": {\"standoff\": 15}, \"zerolinecolor\": \"white\", \"zerolinewidth\": 2}, \"yaxis\": {\"automargin\": true, \"gridcolor\": \"white\", \"linecolor\": \"white\", \"ticks\": \"\", \"title\": {\"standoff\": 15}, \"zerolinecolor\": \"white\", \"zerolinewidth\": 2}}}, \"title\": {\"font\": {\"color\": \"#4D5663\"}}, \"xaxis\": {\"gridcolor\": \"#E1E5ED\", \"showgrid\": true, \"tickfont\": {\"color\": \"#4D5663\"}, \"title\": {\"font\": {\"color\": \"#4D5663\"}, \"text\": \"\"}, \"zerolinecolor\": \"#E1E5ED\"}, \"yaxis\": {\"gridcolor\": \"#E1E5ED\", \"showgrid\": true, \"tickfont\": {\"color\": \"#4D5663\"}, \"title\": {\"font\": {\"color\": \"#4D5663\"}, \"text\": \"\"}, \"zerolinecolor\": \"#E1E5ED\"}},                        {\"showLink\": true, \"linkText\": \"Export to plot.ly\", \"plotlyServerURL\": \"https://plot.ly\", \"responsive\": true}                    ).then(function(){\n",
       "                            \n",
       "var gd = document.getElementById('78264f72-08d3-4c48-9c97-b3dd3eb9770c');\n",
       "var x = new MutationObserver(function (mutations, observer) {{\n",
       "        var display = window.getComputedStyle(gd).display;\n",
       "        if (!display || display === 'none') {{\n",
       "            console.log([gd, 'removed!']);\n",
       "            Plotly.purge(gd);\n",
       "            observer.disconnect();\n",
       "        }}\n",
       "}});\n",
       "\n",
       "// Listen for the removal of the full notebook cells\n",
       "var notebookContainer = gd.closest('#notebook-container');\n",
       "if (notebookContainer) {{\n",
       "    x.observe(notebookContainer, {childList: true});\n",
       "}}\n",
       "\n",
       "// Listen for the clearing of the current output cell\n",
       "var outputEl = gd.closest('.output');\n",
       "if (outputEl) {{\n",
       "    x.observe(outputEl, {childList: true});\n",
       "}}\n",
       "\n",
       "                        })                };                });            </script>        </div>"
      ]
     },
     "metadata": {},
     "output_type": "display_data"
    }
   ],
   "source": [
    "df.iplot(kind='box')"
   ]
  },
  {
   "cell_type": "markdown",
   "metadata": {},
   "source": [
    "## 3d Surface"
   ]
  },
  {
   "cell_type": "code",
   "execution_count": 21,
   "metadata": {},
   "outputs": [
    {
     "data": {
      "text/html": [
       "<div>\n",
       "<style scoped>\n",
       "    .dataframe tbody tr th:only-of-type {\n",
       "        vertical-align: middle;\n",
       "    }\n",
       "\n",
       "    .dataframe tbody tr th {\n",
       "        vertical-align: top;\n",
       "    }\n",
       "\n",
       "    .dataframe thead th {\n",
       "        text-align: right;\n",
       "    }\n",
       "</style>\n",
       "<table border=\"1\" class=\"dataframe\">\n",
       "  <thead>\n",
       "    <tr style=\"text-align: right;\">\n",
       "      <th></th>\n",
       "      <th>x</th>\n",
       "      <th>y</th>\n",
       "      <th>z</th>\n",
       "    </tr>\n",
       "  </thead>\n",
       "  <tbody>\n",
       "    <tr>\n",
       "      <th>0</th>\n",
       "      <td>1</td>\n",
       "      <td>10</td>\n",
       "      <td>10</td>\n",
       "    </tr>\n",
       "    <tr>\n",
       "      <th>1</th>\n",
       "      <td>2</td>\n",
       "      <td>20</td>\n",
       "      <td>4</td>\n",
       "    </tr>\n",
       "    <tr>\n",
       "      <th>2</th>\n",
       "      <td>3</td>\n",
       "      <td>30</td>\n",
       "      <td>3</td>\n",
       "    </tr>\n",
       "    <tr>\n",
       "      <th>3</th>\n",
       "      <td>4</td>\n",
       "      <td>20</td>\n",
       "      <td>2</td>\n",
       "    </tr>\n",
       "    <tr>\n",
       "      <th>4</th>\n",
       "      <td>5</td>\n",
       "      <td>10</td>\n",
       "      <td>1</td>\n",
       "    </tr>\n",
       "  </tbody>\n",
       "</table>\n",
       "</div>"
      ],
      "text/plain": [
       "   x   y   z\n",
       "0  1  10  10\n",
       "1  2  20   4\n",
       "2  3  30   3\n",
       "3  4  20   2\n",
       "4  5  10   1"
      ]
     },
     "execution_count": 21,
     "metadata": {},
     "output_type": "execute_result"
    }
   ],
   "source": [
    "df3 = pd.DataFrame({'x':[1,2,3,4,5],'y':[10,20,30,20,10],'z':[10,4,3,2,1]})\n",
    "df3"
   ]
  },
  {
   "cell_type": "code",
   "execution_count": 22,
   "metadata": {},
   "outputs": [
    {
     "data": {
      "application/vnd.plotly.v1+json": {
       "config": {
        "linkText": "Export to plot.ly",
        "plotlyServerURL": "https://plot.ly",
        "showLink": true
       },
       "data": [
        {
         "colorscale": [
          [
           0,
           "rgb(255, 153, 51)"
          ],
          [
           0.1111111111111111,
           "rgb(55, 128, 191)"
          ],
          [
           0.2222222222222222,
           "rgb(50, 171, 96)"
          ],
          [
           0.3333333333333333,
           "rgb(128, 0, 128)"
          ],
          [
           0.4444444444444444,
           "rgb(219, 64, 82)"
          ],
          [
           0.5555555555555556,
           "rgb(0, 128, 128)"
          ],
          [
           0.6666666666666666,
           "rgb(255, 255, 51)"
          ],
          [
           0.7777777777777778,
           "rgb(128, 128, 0)"
          ],
          [
           0.8888888888888888,
           "rgb(251, 128, 114)"
          ],
          [
           1,
           "rgb(128, 177, 211)"
          ]
         ],
         "type": "surface",
         "x": [
          0,
          1,
          2,
          3,
          4
         ],
         "y": [
          "x",
          "y",
          "z"
         ],
         "z": [
          [
           1,
           2,
           3,
           4,
           5
          ],
          [
           10,
           20,
           30,
           20,
           10
          ],
          [
           10,
           4,
           3,
           2,
           1
          ]
         ]
        }
       ],
       "layout": {
        "legend": {
         "bgcolor": "#F5F6F9",
         "font": {
          "color": "#4D5663"
         }
        },
        "paper_bgcolor": "#F5F6F9",
        "plot_bgcolor": "#F5F6F9",
        "template": {
         "data": {
          "bar": [
           {
            "error_x": {
             "color": "#2a3f5f"
            },
            "error_y": {
             "color": "#2a3f5f"
            },
            "marker": {
             "line": {
              "color": "#E5ECF6",
              "width": 0.5
             }
            },
            "type": "bar"
           }
          ],
          "barpolar": [
           {
            "marker": {
             "line": {
              "color": "#E5ECF6",
              "width": 0.5
             }
            },
            "type": "barpolar"
           }
          ],
          "carpet": [
           {
            "aaxis": {
             "endlinecolor": "#2a3f5f",
             "gridcolor": "white",
             "linecolor": "white",
             "minorgridcolor": "white",
             "startlinecolor": "#2a3f5f"
            },
            "baxis": {
             "endlinecolor": "#2a3f5f",
             "gridcolor": "white",
             "linecolor": "white",
             "minorgridcolor": "white",
             "startlinecolor": "#2a3f5f"
            },
            "type": "carpet"
           }
          ],
          "choropleth": [
           {
            "colorbar": {
             "outlinewidth": 0,
             "ticks": ""
            },
            "type": "choropleth"
           }
          ],
          "contour": [
           {
            "colorbar": {
             "outlinewidth": 0,
             "ticks": ""
            },
            "colorscale": [
             [
              0,
              "#0d0887"
             ],
             [
              0.1111111111111111,
              "#46039f"
             ],
             [
              0.2222222222222222,
              "#7201a8"
             ],
             [
              0.3333333333333333,
              "#9c179e"
             ],
             [
              0.4444444444444444,
              "#bd3786"
             ],
             [
              0.5555555555555556,
              "#d8576b"
             ],
             [
              0.6666666666666666,
              "#ed7953"
             ],
             [
              0.7777777777777778,
              "#fb9f3a"
             ],
             [
              0.8888888888888888,
              "#fdca26"
             ],
             [
              1,
              "#f0f921"
             ]
            ],
            "type": "contour"
           }
          ],
          "contourcarpet": [
           {
            "colorbar": {
             "outlinewidth": 0,
             "ticks": ""
            },
            "type": "contourcarpet"
           }
          ],
          "heatmap": [
           {
            "colorbar": {
             "outlinewidth": 0,
             "ticks": ""
            },
            "colorscale": [
             [
              0,
              "#0d0887"
             ],
             [
              0.1111111111111111,
              "#46039f"
             ],
             [
              0.2222222222222222,
              "#7201a8"
             ],
             [
              0.3333333333333333,
              "#9c179e"
             ],
             [
              0.4444444444444444,
              "#bd3786"
             ],
             [
              0.5555555555555556,
              "#d8576b"
             ],
             [
              0.6666666666666666,
              "#ed7953"
             ],
             [
              0.7777777777777778,
              "#fb9f3a"
             ],
             [
              0.8888888888888888,
              "#fdca26"
             ],
             [
              1,
              "#f0f921"
             ]
            ],
            "type": "heatmap"
           }
          ],
          "heatmapgl": [
           {
            "colorbar": {
             "outlinewidth": 0,
             "ticks": ""
            },
            "colorscale": [
             [
              0,
              "#0d0887"
             ],
             [
              0.1111111111111111,
              "#46039f"
             ],
             [
              0.2222222222222222,
              "#7201a8"
             ],
             [
              0.3333333333333333,
              "#9c179e"
             ],
             [
              0.4444444444444444,
              "#bd3786"
             ],
             [
              0.5555555555555556,
              "#d8576b"
             ],
             [
              0.6666666666666666,
              "#ed7953"
             ],
             [
              0.7777777777777778,
              "#fb9f3a"
             ],
             [
              0.8888888888888888,
              "#fdca26"
             ],
             [
              1,
              "#f0f921"
             ]
            ],
            "type": "heatmapgl"
           }
          ],
          "histogram": [
           {
            "marker": {
             "colorbar": {
              "outlinewidth": 0,
              "ticks": ""
             }
            },
            "type": "histogram"
           }
          ],
          "histogram2d": [
           {
            "colorbar": {
             "outlinewidth": 0,
             "ticks": ""
            },
            "colorscale": [
             [
              0,
              "#0d0887"
             ],
             [
              0.1111111111111111,
              "#46039f"
             ],
             [
              0.2222222222222222,
              "#7201a8"
             ],
             [
              0.3333333333333333,
              "#9c179e"
             ],
             [
              0.4444444444444444,
              "#bd3786"
             ],
             [
              0.5555555555555556,
              "#d8576b"
             ],
             [
              0.6666666666666666,
              "#ed7953"
             ],
             [
              0.7777777777777778,
              "#fb9f3a"
             ],
             [
              0.8888888888888888,
              "#fdca26"
             ],
             [
              1,
              "#f0f921"
             ]
            ],
            "type": "histogram2d"
           }
          ],
          "histogram2dcontour": [
           {
            "colorbar": {
             "outlinewidth": 0,
             "ticks": ""
            },
            "colorscale": [
             [
              0,
              "#0d0887"
             ],
             [
              0.1111111111111111,
              "#46039f"
             ],
             [
              0.2222222222222222,
              "#7201a8"
             ],
             [
              0.3333333333333333,
              "#9c179e"
             ],
             [
              0.4444444444444444,
              "#bd3786"
             ],
             [
              0.5555555555555556,
              "#d8576b"
             ],
             [
              0.6666666666666666,
              "#ed7953"
             ],
             [
              0.7777777777777778,
              "#fb9f3a"
             ],
             [
              0.8888888888888888,
              "#fdca26"
             ],
             [
              1,
              "#f0f921"
             ]
            ],
            "type": "histogram2dcontour"
           }
          ],
          "mesh3d": [
           {
            "colorbar": {
             "outlinewidth": 0,
             "ticks": ""
            },
            "type": "mesh3d"
           }
          ],
          "parcoords": [
           {
            "line": {
             "colorbar": {
              "outlinewidth": 0,
              "ticks": ""
             }
            },
            "type": "parcoords"
           }
          ],
          "pie": [
           {
            "automargin": true,
            "type": "pie"
           }
          ],
          "scatter": [
           {
            "marker": {
             "colorbar": {
              "outlinewidth": 0,
              "ticks": ""
             }
            },
            "type": "scatter"
           }
          ],
          "scatter3d": [
           {
            "line": {
             "colorbar": {
              "outlinewidth": 0,
              "ticks": ""
             }
            },
            "marker": {
             "colorbar": {
              "outlinewidth": 0,
              "ticks": ""
             }
            },
            "type": "scatter3d"
           }
          ],
          "scattercarpet": [
           {
            "marker": {
             "colorbar": {
              "outlinewidth": 0,
              "ticks": ""
             }
            },
            "type": "scattercarpet"
           }
          ],
          "scattergeo": [
           {
            "marker": {
             "colorbar": {
              "outlinewidth": 0,
              "ticks": ""
             }
            },
            "type": "scattergeo"
           }
          ],
          "scattergl": [
           {
            "marker": {
             "colorbar": {
              "outlinewidth": 0,
              "ticks": ""
             }
            },
            "type": "scattergl"
           }
          ],
          "scattermapbox": [
           {
            "marker": {
             "colorbar": {
              "outlinewidth": 0,
              "ticks": ""
             }
            },
            "type": "scattermapbox"
           }
          ],
          "scatterpolar": [
           {
            "marker": {
             "colorbar": {
              "outlinewidth": 0,
              "ticks": ""
             }
            },
            "type": "scatterpolar"
           }
          ],
          "scatterpolargl": [
           {
            "marker": {
             "colorbar": {
              "outlinewidth": 0,
              "ticks": ""
             }
            },
            "type": "scatterpolargl"
           }
          ],
          "scatterternary": [
           {
            "marker": {
             "colorbar": {
              "outlinewidth": 0,
              "ticks": ""
             }
            },
            "type": "scatterternary"
           }
          ],
          "surface": [
           {
            "colorbar": {
             "outlinewidth": 0,
             "ticks": ""
            },
            "colorscale": [
             [
              0,
              "#0d0887"
             ],
             [
              0.1111111111111111,
              "#46039f"
             ],
             [
              0.2222222222222222,
              "#7201a8"
             ],
             [
              0.3333333333333333,
              "#9c179e"
             ],
             [
              0.4444444444444444,
              "#bd3786"
             ],
             [
              0.5555555555555556,
              "#d8576b"
             ],
             [
              0.6666666666666666,
              "#ed7953"
             ],
             [
              0.7777777777777778,
              "#fb9f3a"
             ],
             [
              0.8888888888888888,
              "#fdca26"
             ],
             [
              1,
              "#f0f921"
             ]
            ],
            "type": "surface"
           }
          ],
          "table": [
           {
            "cells": {
             "fill": {
              "color": "#EBF0F8"
             },
             "line": {
              "color": "white"
             }
            },
            "header": {
             "fill": {
              "color": "#C8D4E3"
             },
             "line": {
              "color": "white"
             }
            },
            "type": "table"
           }
          ]
         },
         "layout": {
          "annotationdefaults": {
           "arrowcolor": "#2a3f5f",
           "arrowhead": 0,
           "arrowwidth": 1
          },
          "coloraxis": {
           "colorbar": {
            "outlinewidth": 0,
            "ticks": ""
           }
          },
          "colorscale": {
           "diverging": [
            [
             0,
             "#8e0152"
            ],
            [
             0.1,
             "#c51b7d"
            ],
            [
             0.2,
             "#de77ae"
            ],
            [
             0.3,
             "#f1b6da"
            ],
            [
             0.4,
             "#fde0ef"
            ],
            [
             0.5,
             "#f7f7f7"
            ],
            [
             0.6,
             "#e6f5d0"
            ],
            [
             0.7,
             "#b8e186"
            ],
            [
             0.8,
             "#7fbc41"
            ],
            [
             0.9,
             "#4d9221"
            ],
            [
             1,
             "#276419"
            ]
           ],
           "sequential": [
            [
             0,
             "#0d0887"
            ],
            [
             0.1111111111111111,
             "#46039f"
            ],
            [
             0.2222222222222222,
             "#7201a8"
            ],
            [
             0.3333333333333333,
             "#9c179e"
            ],
            [
             0.4444444444444444,
             "#bd3786"
            ],
            [
             0.5555555555555556,
             "#d8576b"
            ],
            [
             0.6666666666666666,
             "#ed7953"
            ],
            [
             0.7777777777777778,
             "#fb9f3a"
            ],
            [
             0.8888888888888888,
             "#fdca26"
            ],
            [
             1,
             "#f0f921"
            ]
           ],
           "sequentialminus": [
            [
             0,
             "#0d0887"
            ],
            [
             0.1111111111111111,
             "#46039f"
            ],
            [
             0.2222222222222222,
             "#7201a8"
            ],
            [
             0.3333333333333333,
             "#9c179e"
            ],
            [
             0.4444444444444444,
             "#bd3786"
            ],
            [
             0.5555555555555556,
             "#d8576b"
            ],
            [
             0.6666666666666666,
             "#ed7953"
            ],
            [
             0.7777777777777778,
             "#fb9f3a"
            ],
            [
             0.8888888888888888,
             "#fdca26"
            ],
            [
             1,
             "#f0f921"
            ]
           ]
          },
          "colorway": [
           "#636efa",
           "#EF553B",
           "#00cc96",
           "#ab63fa",
           "#FFA15A",
           "#19d3f3",
           "#FF6692",
           "#B6E880",
           "#FF97FF",
           "#FECB52"
          ],
          "font": {
           "color": "#2a3f5f"
          },
          "geo": {
           "bgcolor": "white",
           "lakecolor": "white",
           "landcolor": "#E5ECF6",
           "showlakes": true,
           "showland": true,
           "subunitcolor": "white"
          },
          "hoverlabel": {
           "align": "left"
          },
          "hovermode": "closest",
          "mapbox": {
           "style": "light"
          },
          "paper_bgcolor": "white",
          "plot_bgcolor": "#E5ECF6",
          "polar": {
           "angularaxis": {
            "gridcolor": "white",
            "linecolor": "white",
            "ticks": ""
           },
           "bgcolor": "#E5ECF6",
           "radialaxis": {
            "gridcolor": "white",
            "linecolor": "white",
            "ticks": ""
           }
          },
          "scene": {
           "xaxis": {
            "backgroundcolor": "#E5ECF6",
            "gridcolor": "white",
            "gridwidth": 2,
            "linecolor": "white",
            "showbackground": true,
            "ticks": "",
            "zerolinecolor": "white"
           },
           "yaxis": {
            "backgroundcolor": "#E5ECF6",
            "gridcolor": "white",
            "gridwidth": 2,
            "linecolor": "white",
            "showbackground": true,
            "ticks": "",
            "zerolinecolor": "white"
           },
           "zaxis": {
            "backgroundcolor": "#E5ECF6",
            "gridcolor": "white",
            "gridwidth": 2,
            "linecolor": "white",
            "showbackground": true,
            "ticks": "",
            "zerolinecolor": "white"
           }
          },
          "shapedefaults": {
           "line": {
            "color": "#2a3f5f"
           }
          },
          "ternary": {
           "aaxis": {
            "gridcolor": "white",
            "linecolor": "white",
            "ticks": ""
           },
           "baxis": {
            "gridcolor": "white",
            "linecolor": "white",
            "ticks": ""
           },
           "bgcolor": "#E5ECF6",
           "caxis": {
            "gridcolor": "white",
            "linecolor": "white",
            "ticks": ""
           }
          },
          "title": {
           "x": 0.05
          },
          "xaxis": {
           "automargin": true,
           "gridcolor": "white",
           "linecolor": "white",
           "ticks": "",
           "title": {
            "standoff": 15
           },
           "zerolinecolor": "white",
           "zerolinewidth": 2
          },
          "yaxis": {
           "automargin": true,
           "gridcolor": "white",
           "linecolor": "white",
           "ticks": "",
           "title": {
            "standoff": 15
           },
           "zerolinecolor": "white",
           "zerolinewidth": 2
          }
         }
        },
        "title": {
         "font": {
          "color": "#4D5663"
         }
        },
        "xaxis": {
         "gridcolor": "#E1E5ED",
         "showgrid": true,
         "tickfont": {
          "color": "#4D5663"
         },
         "title": {
          "font": {
           "color": "#4D5663"
          },
          "text": ""
         },
         "zerolinecolor": "#E1E5ED"
        },
        "yaxis": {
         "gridcolor": "#E1E5ED",
         "showgrid": true,
         "tickfont": {
          "color": "#4D5663"
         },
         "title": {
          "font": {
           "color": "#4D5663"
          },
          "text": ""
         },
         "zerolinecolor": "#E1E5ED"
        }
       }
      },
      "text/html": [
       "<div>                            <div id=\"7446f4b1-7045-4682-8574-22be62df7f61\" class=\"plotly-graph-div\" style=\"height:525px; width:100%;\"></div>            <script type=\"text/javascript\">                require([\"plotly\"], function(Plotly) {                    window.PLOTLYENV=window.PLOTLYENV || {};\n",
       "                    window.PLOTLYENV.BASE_URL='https://plot.ly';                                    if (document.getElementById(\"7446f4b1-7045-4682-8574-22be62df7f61\")) {                    Plotly.newPlot(                        \"7446f4b1-7045-4682-8574-22be62df7f61\",                        [{\"colorscale\": [[0.0, \"rgb(255, 153, 51)\"], [0.1111111111111111, \"rgb(55, 128, 191)\"], [0.2222222222222222, \"rgb(50, 171, 96)\"], [0.3333333333333333, \"rgb(128, 0, 128)\"], [0.4444444444444444, \"rgb(219, 64, 82)\"], [0.5555555555555556, \"rgb(0, 128, 128)\"], [0.6666666666666666, \"rgb(255, 255, 51)\"], [0.7777777777777778, \"rgb(128, 128, 0)\"], [0.8888888888888888, \"rgb(251, 128, 114)\"], [1.0, \"rgb(128, 177, 211)\"]], \"type\": \"surface\", \"x\": [0, 1, 2, 3, 4], \"y\": [\"x\", \"y\", \"z\"], \"z\": [[1, 2, 3, 4, 5], [10, 20, 30, 20, 10], [10, 4, 3, 2, 1]]}],                        {\"legend\": {\"bgcolor\": \"#F5F6F9\", \"font\": {\"color\": \"#4D5663\"}}, \"paper_bgcolor\": \"#F5F6F9\", \"plot_bgcolor\": \"#F5F6F9\", \"template\": {\"data\": {\"bar\": [{\"error_x\": {\"color\": \"#2a3f5f\"}, \"error_y\": {\"color\": \"#2a3f5f\"}, \"marker\": {\"line\": {\"color\": \"#E5ECF6\", \"width\": 0.5}}, \"type\": \"bar\"}], \"barpolar\": [{\"marker\": {\"line\": {\"color\": \"#E5ECF6\", \"width\": 0.5}}, \"type\": \"barpolar\"}], \"carpet\": [{\"aaxis\": {\"endlinecolor\": \"#2a3f5f\", \"gridcolor\": \"white\", \"linecolor\": \"white\", \"minorgridcolor\": \"white\", \"startlinecolor\": \"#2a3f5f\"}, \"baxis\": {\"endlinecolor\": \"#2a3f5f\", \"gridcolor\": \"white\", \"linecolor\": \"white\", \"minorgridcolor\": \"white\", \"startlinecolor\": \"#2a3f5f\"}, \"type\": \"carpet\"}], \"choropleth\": [{\"colorbar\": {\"outlinewidth\": 0, \"ticks\": \"\"}, \"type\": \"choropleth\"}], \"contour\": [{\"colorbar\": {\"outlinewidth\": 0, \"ticks\": \"\"}, \"colorscale\": [[0.0, \"#0d0887\"], [0.1111111111111111, \"#46039f\"], [0.2222222222222222, \"#7201a8\"], [0.3333333333333333, \"#9c179e\"], [0.4444444444444444, \"#bd3786\"], [0.5555555555555556, \"#d8576b\"], [0.6666666666666666, \"#ed7953\"], [0.7777777777777778, \"#fb9f3a\"], [0.8888888888888888, \"#fdca26\"], [1.0, \"#f0f921\"]], \"type\": \"contour\"}], \"contourcarpet\": [{\"colorbar\": {\"outlinewidth\": 0, \"ticks\": \"\"}, \"type\": \"contourcarpet\"}], \"heatmap\": [{\"colorbar\": {\"outlinewidth\": 0, \"ticks\": \"\"}, \"colorscale\": [[0.0, \"#0d0887\"], [0.1111111111111111, \"#46039f\"], [0.2222222222222222, \"#7201a8\"], [0.3333333333333333, \"#9c179e\"], [0.4444444444444444, \"#bd3786\"], [0.5555555555555556, \"#d8576b\"], [0.6666666666666666, \"#ed7953\"], [0.7777777777777778, \"#fb9f3a\"], [0.8888888888888888, \"#fdca26\"], [1.0, \"#f0f921\"]], \"type\": \"heatmap\"}], \"heatmapgl\": [{\"colorbar\": {\"outlinewidth\": 0, \"ticks\": \"\"}, \"colorscale\": [[0.0, \"#0d0887\"], [0.1111111111111111, \"#46039f\"], [0.2222222222222222, \"#7201a8\"], [0.3333333333333333, \"#9c179e\"], [0.4444444444444444, \"#bd3786\"], [0.5555555555555556, \"#d8576b\"], [0.6666666666666666, \"#ed7953\"], [0.7777777777777778, \"#fb9f3a\"], [0.8888888888888888, \"#fdca26\"], [1.0, \"#f0f921\"]], \"type\": \"heatmapgl\"}], \"histogram\": [{\"marker\": {\"colorbar\": {\"outlinewidth\": 0, \"ticks\": \"\"}}, \"type\": \"histogram\"}], \"histogram2d\": [{\"colorbar\": {\"outlinewidth\": 0, \"ticks\": \"\"}, \"colorscale\": [[0.0, \"#0d0887\"], [0.1111111111111111, \"#46039f\"], [0.2222222222222222, \"#7201a8\"], [0.3333333333333333, \"#9c179e\"], [0.4444444444444444, \"#bd3786\"], [0.5555555555555556, \"#d8576b\"], [0.6666666666666666, \"#ed7953\"], [0.7777777777777778, \"#fb9f3a\"], [0.8888888888888888, \"#fdca26\"], [1.0, \"#f0f921\"]], \"type\": \"histogram2d\"}], \"histogram2dcontour\": [{\"colorbar\": {\"outlinewidth\": 0, \"ticks\": \"\"}, \"colorscale\": [[0.0, \"#0d0887\"], [0.1111111111111111, \"#46039f\"], [0.2222222222222222, \"#7201a8\"], [0.3333333333333333, \"#9c179e\"], [0.4444444444444444, \"#bd3786\"], [0.5555555555555556, \"#d8576b\"], [0.6666666666666666, \"#ed7953\"], [0.7777777777777778, \"#fb9f3a\"], [0.8888888888888888, \"#fdca26\"], [1.0, \"#f0f921\"]], \"type\": \"histogram2dcontour\"}], \"mesh3d\": [{\"colorbar\": {\"outlinewidth\": 0, \"ticks\": \"\"}, \"type\": \"mesh3d\"}], \"parcoords\": [{\"line\": {\"colorbar\": {\"outlinewidth\": 0, \"ticks\": \"\"}}, \"type\": \"parcoords\"}], \"pie\": [{\"automargin\": true, \"type\": \"pie\"}], \"scatter\": [{\"marker\": {\"colorbar\": {\"outlinewidth\": 0, \"ticks\": \"\"}}, \"type\": \"scatter\"}], \"scatter3d\": [{\"line\": {\"colorbar\": {\"outlinewidth\": 0, \"ticks\": \"\"}}, \"marker\": {\"colorbar\": {\"outlinewidth\": 0, \"ticks\": \"\"}}, \"type\": \"scatter3d\"}], \"scattercarpet\": [{\"marker\": {\"colorbar\": {\"outlinewidth\": 0, \"ticks\": \"\"}}, \"type\": \"scattercarpet\"}], \"scattergeo\": [{\"marker\": {\"colorbar\": {\"outlinewidth\": 0, \"ticks\": \"\"}}, \"type\": \"scattergeo\"}], \"scattergl\": [{\"marker\": {\"colorbar\": {\"outlinewidth\": 0, \"ticks\": \"\"}}, \"type\": \"scattergl\"}], \"scattermapbox\": [{\"marker\": {\"colorbar\": {\"outlinewidth\": 0, \"ticks\": \"\"}}, \"type\": \"scattermapbox\"}], \"scatterpolar\": [{\"marker\": {\"colorbar\": {\"outlinewidth\": 0, \"ticks\": \"\"}}, \"type\": \"scatterpolar\"}], \"scatterpolargl\": [{\"marker\": {\"colorbar\": {\"outlinewidth\": 0, \"ticks\": \"\"}}, \"type\": \"scatterpolargl\"}], \"scatterternary\": [{\"marker\": {\"colorbar\": {\"outlinewidth\": 0, \"ticks\": \"\"}}, \"type\": \"scatterternary\"}], \"surface\": [{\"colorbar\": {\"outlinewidth\": 0, \"ticks\": \"\"}, \"colorscale\": [[0.0, \"#0d0887\"], [0.1111111111111111, \"#46039f\"], [0.2222222222222222, \"#7201a8\"], [0.3333333333333333, \"#9c179e\"], [0.4444444444444444, \"#bd3786\"], [0.5555555555555556, \"#d8576b\"], [0.6666666666666666, \"#ed7953\"], [0.7777777777777778, \"#fb9f3a\"], [0.8888888888888888, \"#fdca26\"], [1.0, \"#f0f921\"]], \"type\": \"surface\"}], \"table\": [{\"cells\": {\"fill\": {\"color\": \"#EBF0F8\"}, \"line\": {\"color\": \"white\"}}, \"header\": {\"fill\": {\"color\": \"#C8D4E3\"}, \"line\": {\"color\": \"white\"}}, \"type\": \"table\"}]}, \"layout\": {\"annotationdefaults\": {\"arrowcolor\": \"#2a3f5f\", \"arrowhead\": 0, \"arrowwidth\": 1}, \"coloraxis\": {\"colorbar\": {\"outlinewidth\": 0, \"ticks\": \"\"}}, \"colorscale\": {\"diverging\": [[0, \"#8e0152\"], [0.1, \"#c51b7d\"], [0.2, \"#de77ae\"], [0.3, \"#f1b6da\"], [0.4, \"#fde0ef\"], [0.5, \"#f7f7f7\"], [0.6, \"#e6f5d0\"], [0.7, \"#b8e186\"], [0.8, \"#7fbc41\"], [0.9, \"#4d9221\"], [1, \"#276419\"]], \"sequential\": [[0.0, \"#0d0887\"], [0.1111111111111111, \"#46039f\"], [0.2222222222222222, \"#7201a8\"], [0.3333333333333333, \"#9c179e\"], [0.4444444444444444, \"#bd3786\"], [0.5555555555555556, \"#d8576b\"], [0.6666666666666666, \"#ed7953\"], [0.7777777777777778, \"#fb9f3a\"], [0.8888888888888888, \"#fdca26\"], [1.0, \"#f0f921\"]], \"sequentialminus\": [[0.0, \"#0d0887\"], [0.1111111111111111, \"#46039f\"], [0.2222222222222222, \"#7201a8\"], [0.3333333333333333, \"#9c179e\"], [0.4444444444444444, \"#bd3786\"], [0.5555555555555556, \"#d8576b\"], [0.6666666666666666, \"#ed7953\"], [0.7777777777777778, \"#fb9f3a\"], [0.8888888888888888, \"#fdca26\"], [1.0, \"#f0f921\"]]}, \"colorway\": [\"#636efa\", \"#EF553B\", \"#00cc96\", \"#ab63fa\", \"#FFA15A\", \"#19d3f3\", \"#FF6692\", \"#B6E880\", \"#FF97FF\", \"#FECB52\"], \"font\": {\"color\": \"#2a3f5f\"}, \"geo\": {\"bgcolor\": \"white\", \"lakecolor\": \"white\", \"landcolor\": \"#E5ECF6\", \"showlakes\": true, \"showland\": true, \"subunitcolor\": \"white\"}, \"hoverlabel\": {\"align\": \"left\"}, \"hovermode\": \"closest\", \"mapbox\": {\"style\": \"light\"}, \"paper_bgcolor\": \"white\", \"plot_bgcolor\": \"#E5ECF6\", \"polar\": {\"angularaxis\": {\"gridcolor\": \"white\", \"linecolor\": \"white\", \"ticks\": \"\"}, \"bgcolor\": \"#E5ECF6\", \"radialaxis\": {\"gridcolor\": \"white\", \"linecolor\": \"white\", \"ticks\": \"\"}}, \"scene\": {\"xaxis\": {\"backgroundcolor\": \"#E5ECF6\", \"gridcolor\": \"white\", \"gridwidth\": 2, \"linecolor\": \"white\", \"showbackground\": true, \"ticks\": \"\", \"zerolinecolor\": \"white\"}, \"yaxis\": {\"backgroundcolor\": \"#E5ECF6\", \"gridcolor\": \"white\", \"gridwidth\": 2, \"linecolor\": \"white\", \"showbackground\": true, \"ticks\": \"\", \"zerolinecolor\": \"white\"}, \"zaxis\": {\"backgroundcolor\": \"#E5ECF6\", \"gridcolor\": \"white\", \"gridwidth\": 2, \"linecolor\": \"white\", \"showbackground\": true, \"ticks\": \"\", \"zerolinecolor\": \"white\"}}, \"shapedefaults\": {\"line\": {\"color\": \"#2a3f5f\"}}, \"ternary\": {\"aaxis\": {\"gridcolor\": \"white\", \"linecolor\": \"white\", \"ticks\": \"\"}, \"baxis\": {\"gridcolor\": \"white\", \"linecolor\": \"white\", \"ticks\": \"\"}, \"bgcolor\": \"#E5ECF6\", \"caxis\": {\"gridcolor\": \"white\", \"linecolor\": \"white\", \"ticks\": \"\"}}, \"title\": {\"x\": 0.05}, \"xaxis\": {\"automargin\": true, \"gridcolor\": \"white\", \"linecolor\": \"white\", \"ticks\": \"\", \"title\": {\"standoff\": 15}, \"zerolinecolor\": \"white\", \"zerolinewidth\": 2}, \"yaxis\": {\"automargin\": true, \"gridcolor\": \"white\", \"linecolor\": \"white\", \"ticks\": \"\", \"title\": {\"standoff\": 15}, \"zerolinecolor\": \"white\", \"zerolinewidth\": 2}}}, \"title\": {\"font\": {\"color\": \"#4D5663\"}}, \"xaxis\": {\"gridcolor\": \"#E1E5ED\", \"showgrid\": true, \"tickfont\": {\"color\": \"#4D5663\"}, \"title\": {\"font\": {\"color\": \"#4D5663\"}, \"text\": \"\"}, \"zerolinecolor\": \"#E1E5ED\"}, \"yaxis\": {\"gridcolor\": \"#E1E5ED\", \"showgrid\": true, \"tickfont\": {\"color\": \"#4D5663\"}, \"title\": {\"font\": {\"color\": \"#4D5663\"}, \"text\": \"\"}, \"zerolinecolor\": \"#E1E5ED\"}},                        {\"showLink\": true, \"linkText\": \"Export to plot.ly\", \"plotlyServerURL\": \"https://plot.ly\", \"responsive\": true}                    ).then(function(){\n",
       "                            \n",
       "var gd = document.getElementById('7446f4b1-7045-4682-8574-22be62df7f61');\n",
       "var x = new MutationObserver(function (mutations, observer) {{\n",
       "        var display = window.getComputedStyle(gd).display;\n",
       "        if (!display || display === 'none') {{\n",
       "            console.log([gd, 'removed!']);\n",
       "            Plotly.purge(gd);\n",
       "            observer.disconnect();\n",
       "        }}\n",
       "}});\n",
       "\n",
       "// Listen for the removal of the full notebook cells\n",
       "var notebookContainer = gd.closest('#notebook-container');\n",
       "if (notebookContainer) {{\n",
       "    x.observe(notebookContainer, {childList: true});\n",
       "}}\n",
       "\n",
       "// Listen for the clearing of the current output cell\n",
       "var outputEl = gd.closest('.output');\n",
       "if (outputEl) {{\n",
       "    x.observe(outputEl, {childList: true});\n",
       "}}\n",
       "\n",
       "                        })                };                });            </script>        </div>"
      ]
     },
     "metadata": {},
     "output_type": "display_data"
    }
   ],
   "source": [
    "# plot type - kind = 'surface'\n",
    "# colorscale argument alters the plot color, check out \n",
    "# https://plot.ly/python/builtin-colorscales/ for built-in color scales\n",
    "df3.iplot(kind='surface')"
   ]
  },
  {
   "cell_type": "markdown",
   "metadata": {},
   "source": [
    "## histogram"
   ]
  },
  {
   "cell_type": "code",
   "execution_count": 23,
   "metadata": {},
   "outputs": [
    {
     "data": {
      "text/html": [
       "<div>\n",
       "<style scoped>\n",
       "    .dataframe tbody tr th:only-of-type {\n",
       "        vertical-align: middle;\n",
       "    }\n",
       "\n",
       "    .dataframe tbody tr th {\n",
       "        vertical-align: top;\n",
       "    }\n",
       "\n",
       "    .dataframe thead th {\n",
       "        text-align: right;\n",
       "    }\n",
       "</style>\n",
       "<table border=\"1\" class=\"dataframe\">\n",
       "  <thead>\n",
       "    <tr style=\"text-align: right;\">\n",
       "      <th></th>\n",
       "      <th>A</th>\n",
       "      <th>B</th>\n",
       "      <th>C</th>\n",
       "      <th>D</th>\n",
       "    </tr>\n",
       "  </thead>\n",
       "  <tbody>\n",
       "    <tr>\n",
       "      <th>0</th>\n",
       "      <td>-1.813929</td>\n",
       "      <td>0.066075</td>\n",
       "      <td>-0.630102</td>\n",
       "      <td>-1.011188</td>\n",
       "    </tr>\n",
       "    <tr>\n",
       "      <th>1</th>\n",
       "      <td>-0.274329</td>\n",
       "      <td>-1.528108</td>\n",
       "      <td>0.435730</td>\n",
       "      <td>-2.316364</td>\n",
       "    </tr>\n",
       "    <tr>\n",
       "      <th>2</th>\n",
       "      <td>0.625302</td>\n",
       "      <td>-0.041633</td>\n",
       "      <td>-0.175123</td>\n",
       "      <td>-1.624289</td>\n",
       "    </tr>\n",
       "    <tr>\n",
       "      <th>3</th>\n",
       "      <td>-1.455487</td>\n",
       "      <td>-0.770648</td>\n",
       "      <td>-0.331721</td>\n",
       "      <td>-0.851712</td>\n",
       "    </tr>\n",
       "    <tr>\n",
       "      <th>4</th>\n",
       "      <td>3.132855</td>\n",
       "      <td>0.911796</td>\n",
       "      <td>1.086027</td>\n",
       "      <td>0.531461</td>\n",
       "    </tr>\n",
       "  </tbody>\n",
       "</table>\n",
       "</div>"
      ],
      "text/plain": [
       "          A         B         C         D\n",
       "0 -1.813929  0.066075 -0.630102 -1.011188\n",
       "1 -0.274329 -1.528108  0.435730 -2.316364\n",
       "2  0.625302 -0.041633 -0.175123 -1.624289\n",
       "3 -1.455487 -0.770648 -0.331721 -0.851712\n",
       "4  3.132855  0.911796  1.086027  0.531461"
      ]
     },
     "execution_count": 23,
     "metadata": {},
     "output_type": "execute_result"
    }
   ],
   "source": [
    "df.head()"
   ]
  },
  {
   "cell_type": "code",
   "execution_count": 24,
   "metadata": {},
   "outputs": [
    {
     "data": {
      "application/vnd.plotly.v1+json": {
       "config": {
        "linkText": "Export to plot.ly",
        "plotlyServerURL": "https://plot.ly",
        "showLink": true
       },
       "data": [
        {
         "histfunc": "count",
         "histnorm": "",
         "marker": {
          "color": "rgba(255, 153, 51, 1.0)",
          "line": {
           "color": "#4D5663",
           "width": 1.3
          }
         },
         "name": "A",
         "nbinsx": 100,
         "opacity": 0.8,
         "orientation": "v",
         "type": "histogram",
         "x": [
          0.5562961981117553,
          2.108358858952701,
          0.5548989308236473,
          0.008323822087960779,
          0.48961051768692415,
          -0.03472180743674578,
          -0.524129442638369,
          -0.3966612789176194,
          -1.2262988052213804,
          0.9179083158469945,
          -0.8285631723654658,
          -0.9374421557229163,
          -0.37913358139855674,
          0.27661317087331067,
          0.8564564190753677,
          -0.05208464578113981,
          0.7113771166798544,
          -0.5241940551652958,
          0.38933911492809836,
          0.45757184258026634,
          1.8135339962514991,
          -0.46755621754496934,
          -1.4769938933017215,
          0.796516604649348,
          -0.3310725072413677,
          -0.6890964889521697,
          -0.185113292352724,
          0.10714997665203205,
          -0.28676843602957197,
          -0.5978612034736481,
          0.6860505717541482,
          -0.9763284012993032,
          -0.3565476600208925,
          1.0281885131760584,
          0.5276731327453766,
          2.8569730930382935,
          -1.0489534745583609,
          -0.16390628363924706,
          -2.0009620468128895,
          -0.7663117753128763,
          0.6746158866990971,
          1.3597268694840845,
          1.1060730647663481,
          -2.101439845444693,
          0.38522116338053175,
          1.0897673250970306,
          -0.0146195670244523,
          -1.7002504388665984,
          -0.8658572652487906,
          0.3655373199319853,
          -1.4213092315311757,
          -0.6257613120656782,
          -1.155414655381876,
          -0.16191816346578433,
          -0.6927515629940222,
          1.489211016926403,
          -0.17723818308607622,
          0.86094542985803,
          -0.2527473183704298,
          1.763454693645274,
          -0.5603229029360345,
          0.6819284775370107,
          -1.0108641533091094,
          -0.21516793076446983,
          -0.19834868058575156,
          1.0784194567454428,
          -0.06872413523364017,
          0.4671551673771973,
          0.3187122218611674,
          0.36494665505674245,
          1.3152844303829363,
          -0.5870515442521858,
          -1.2542711794496093,
          -0.9555120193507338,
          1.2100033650164395,
          -1.4881602799201865,
          0.16674896131250208,
          -0.6784959913740641,
          -0.8119719952477912,
          -0.27173972454325906,
          1.613956562490201,
          0.5515966244811551,
          0.20580077550875195,
          0.6803020402068591,
          -0.875957070612417,
          0.5814454318185702,
          -1.734880107782751,
          1.8842416237669957,
          -0.31607888166192855,
          -0.9083580160531299,
          1.062149610871437,
          0.06611421072692324,
          0.17454278181653743,
          -0.8634557936623657,
          -0.8507113963375206,
          -1.133028714667279,
          0.8654079931298465,
          1.2009490306276835,
          0.7170554445953546,
          -0.9039309710193572
         ]
        }
       ],
       "layout": {
        "barmode": "overlay",
        "legend": {
         "bgcolor": "#F5F6F9",
         "font": {
          "color": "#4D5663"
         }
        },
        "paper_bgcolor": "#F5F6F9",
        "plot_bgcolor": "#F5F6F9",
        "template": {
         "data": {
          "bar": [
           {
            "error_x": {
             "color": "#2a3f5f"
            },
            "error_y": {
             "color": "#2a3f5f"
            },
            "marker": {
             "line": {
              "color": "#E5ECF6",
              "width": 0.5
             }
            },
            "type": "bar"
           }
          ],
          "barpolar": [
           {
            "marker": {
             "line": {
              "color": "#E5ECF6",
              "width": 0.5
             }
            },
            "type": "barpolar"
           }
          ],
          "carpet": [
           {
            "aaxis": {
             "endlinecolor": "#2a3f5f",
             "gridcolor": "white",
             "linecolor": "white",
             "minorgridcolor": "white",
             "startlinecolor": "#2a3f5f"
            },
            "baxis": {
             "endlinecolor": "#2a3f5f",
             "gridcolor": "white",
             "linecolor": "white",
             "minorgridcolor": "white",
             "startlinecolor": "#2a3f5f"
            },
            "type": "carpet"
           }
          ],
          "choropleth": [
           {
            "colorbar": {
             "outlinewidth": 0,
             "ticks": ""
            },
            "type": "choropleth"
           }
          ],
          "contour": [
           {
            "colorbar": {
             "outlinewidth": 0,
             "ticks": ""
            },
            "colorscale": [
             [
              0,
              "#0d0887"
             ],
             [
              0.1111111111111111,
              "#46039f"
             ],
             [
              0.2222222222222222,
              "#7201a8"
             ],
             [
              0.3333333333333333,
              "#9c179e"
             ],
             [
              0.4444444444444444,
              "#bd3786"
             ],
             [
              0.5555555555555556,
              "#d8576b"
             ],
             [
              0.6666666666666666,
              "#ed7953"
             ],
             [
              0.7777777777777778,
              "#fb9f3a"
             ],
             [
              0.8888888888888888,
              "#fdca26"
             ],
             [
              1,
              "#f0f921"
             ]
            ],
            "type": "contour"
           }
          ],
          "contourcarpet": [
           {
            "colorbar": {
             "outlinewidth": 0,
             "ticks": ""
            },
            "type": "contourcarpet"
           }
          ],
          "heatmap": [
           {
            "colorbar": {
             "outlinewidth": 0,
             "ticks": ""
            },
            "colorscale": [
             [
              0,
              "#0d0887"
             ],
             [
              0.1111111111111111,
              "#46039f"
             ],
             [
              0.2222222222222222,
              "#7201a8"
             ],
             [
              0.3333333333333333,
              "#9c179e"
             ],
             [
              0.4444444444444444,
              "#bd3786"
             ],
             [
              0.5555555555555556,
              "#d8576b"
             ],
             [
              0.6666666666666666,
              "#ed7953"
             ],
             [
              0.7777777777777778,
              "#fb9f3a"
             ],
             [
              0.8888888888888888,
              "#fdca26"
             ],
             [
              1,
              "#f0f921"
             ]
            ],
            "type": "heatmap"
           }
          ],
          "heatmapgl": [
           {
            "colorbar": {
             "outlinewidth": 0,
             "ticks": ""
            },
            "colorscale": [
             [
              0,
              "#0d0887"
             ],
             [
              0.1111111111111111,
              "#46039f"
             ],
             [
              0.2222222222222222,
              "#7201a8"
             ],
             [
              0.3333333333333333,
              "#9c179e"
             ],
             [
              0.4444444444444444,
              "#bd3786"
             ],
             [
              0.5555555555555556,
              "#d8576b"
             ],
             [
              0.6666666666666666,
              "#ed7953"
             ],
             [
              0.7777777777777778,
              "#fb9f3a"
             ],
             [
              0.8888888888888888,
              "#fdca26"
             ],
             [
              1,
              "#f0f921"
             ]
            ],
            "type": "heatmapgl"
           }
          ],
          "histogram": [
           {
            "marker": {
             "colorbar": {
              "outlinewidth": 0,
              "ticks": ""
             }
            },
            "type": "histogram"
           }
          ],
          "histogram2d": [
           {
            "colorbar": {
             "outlinewidth": 0,
             "ticks": ""
            },
            "colorscale": [
             [
              0,
              "#0d0887"
             ],
             [
              0.1111111111111111,
              "#46039f"
             ],
             [
              0.2222222222222222,
              "#7201a8"
             ],
             [
              0.3333333333333333,
              "#9c179e"
             ],
             [
              0.4444444444444444,
              "#bd3786"
             ],
             [
              0.5555555555555556,
              "#d8576b"
             ],
             [
              0.6666666666666666,
              "#ed7953"
             ],
             [
              0.7777777777777778,
              "#fb9f3a"
             ],
             [
              0.8888888888888888,
              "#fdca26"
             ],
             [
              1,
              "#f0f921"
             ]
            ],
            "type": "histogram2d"
           }
          ],
          "histogram2dcontour": [
           {
            "colorbar": {
             "outlinewidth": 0,
             "ticks": ""
            },
            "colorscale": [
             [
              0,
              "#0d0887"
             ],
             [
              0.1111111111111111,
              "#46039f"
             ],
             [
              0.2222222222222222,
              "#7201a8"
             ],
             [
              0.3333333333333333,
              "#9c179e"
             ],
             [
              0.4444444444444444,
              "#bd3786"
             ],
             [
              0.5555555555555556,
              "#d8576b"
             ],
             [
              0.6666666666666666,
              "#ed7953"
             ],
             [
              0.7777777777777778,
              "#fb9f3a"
             ],
             [
              0.8888888888888888,
              "#fdca26"
             ],
             [
              1,
              "#f0f921"
             ]
            ],
            "type": "histogram2dcontour"
           }
          ],
          "mesh3d": [
           {
            "colorbar": {
             "outlinewidth": 0,
             "ticks": ""
            },
            "type": "mesh3d"
           }
          ],
          "parcoords": [
           {
            "line": {
             "colorbar": {
              "outlinewidth": 0,
              "ticks": ""
             }
            },
            "type": "parcoords"
           }
          ],
          "pie": [
           {
            "automargin": true,
            "type": "pie"
           }
          ],
          "scatter": [
           {
            "marker": {
             "colorbar": {
              "outlinewidth": 0,
              "ticks": ""
             }
            },
            "type": "scatter"
           }
          ],
          "scatter3d": [
           {
            "line": {
             "colorbar": {
              "outlinewidth": 0,
              "ticks": ""
             }
            },
            "marker": {
             "colorbar": {
              "outlinewidth": 0,
              "ticks": ""
             }
            },
            "type": "scatter3d"
           }
          ],
          "scattercarpet": [
           {
            "marker": {
             "colorbar": {
              "outlinewidth": 0,
              "ticks": ""
             }
            },
            "type": "scattercarpet"
           }
          ],
          "scattergeo": [
           {
            "marker": {
             "colorbar": {
              "outlinewidth": 0,
              "ticks": ""
             }
            },
            "type": "scattergeo"
           }
          ],
          "scattergl": [
           {
            "marker": {
             "colorbar": {
              "outlinewidth": 0,
              "ticks": ""
             }
            },
            "type": "scattergl"
           }
          ],
          "scattermapbox": [
           {
            "marker": {
             "colorbar": {
              "outlinewidth": 0,
              "ticks": ""
             }
            },
            "type": "scattermapbox"
           }
          ],
          "scatterpolar": [
           {
            "marker": {
             "colorbar": {
              "outlinewidth": 0,
              "ticks": ""
             }
            },
            "type": "scatterpolar"
           }
          ],
          "scatterpolargl": [
           {
            "marker": {
             "colorbar": {
              "outlinewidth": 0,
              "ticks": ""
             }
            },
            "type": "scatterpolargl"
           }
          ],
          "scatterternary": [
           {
            "marker": {
             "colorbar": {
              "outlinewidth": 0,
              "ticks": ""
             }
            },
            "type": "scatterternary"
           }
          ],
          "surface": [
           {
            "colorbar": {
             "outlinewidth": 0,
             "ticks": ""
            },
            "colorscale": [
             [
              0,
              "#0d0887"
             ],
             [
              0.1111111111111111,
              "#46039f"
             ],
             [
              0.2222222222222222,
              "#7201a8"
             ],
             [
              0.3333333333333333,
              "#9c179e"
             ],
             [
              0.4444444444444444,
              "#bd3786"
             ],
             [
              0.5555555555555556,
              "#d8576b"
             ],
             [
              0.6666666666666666,
              "#ed7953"
             ],
             [
              0.7777777777777778,
              "#fb9f3a"
             ],
             [
              0.8888888888888888,
              "#fdca26"
             ],
             [
              1,
              "#f0f921"
             ]
            ],
            "type": "surface"
           }
          ],
          "table": [
           {
            "cells": {
             "fill": {
              "color": "#EBF0F8"
             },
             "line": {
              "color": "white"
             }
            },
            "header": {
             "fill": {
              "color": "#C8D4E3"
             },
             "line": {
              "color": "white"
             }
            },
            "type": "table"
           }
          ]
         },
         "layout": {
          "annotationdefaults": {
           "arrowcolor": "#2a3f5f",
           "arrowhead": 0,
           "arrowwidth": 1
          },
          "coloraxis": {
           "colorbar": {
            "outlinewidth": 0,
            "ticks": ""
           }
          },
          "colorscale": {
           "diverging": [
            [
             0,
             "#8e0152"
            ],
            [
             0.1,
             "#c51b7d"
            ],
            [
             0.2,
             "#de77ae"
            ],
            [
             0.3,
             "#f1b6da"
            ],
            [
             0.4,
             "#fde0ef"
            ],
            [
             0.5,
             "#f7f7f7"
            ],
            [
             0.6,
             "#e6f5d0"
            ],
            [
             0.7,
             "#b8e186"
            ],
            [
             0.8,
             "#7fbc41"
            ],
            [
             0.9,
             "#4d9221"
            ],
            [
             1,
             "#276419"
            ]
           ],
           "sequential": [
            [
             0,
             "#0d0887"
            ],
            [
             0.1111111111111111,
             "#46039f"
            ],
            [
             0.2222222222222222,
             "#7201a8"
            ],
            [
             0.3333333333333333,
             "#9c179e"
            ],
            [
             0.4444444444444444,
             "#bd3786"
            ],
            [
             0.5555555555555556,
             "#d8576b"
            ],
            [
             0.6666666666666666,
             "#ed7953"
            ],
            [
             0.7777777777777778,
             "#fb9f3a"
            ],
            [
             0.8888888888888888,
             "#fdca26"
            ],
            [
             1,
             "#f0f921"
            ]
           ],
           "sequentialminus": [
            [
             0,
             "#0d0887"
            ],
            [
             0.1111111111111111,
             "#46039f"
            ],
            [
             0.2222222222222222,
             "#7201a8"
            ],
            [
             0.3333333333333333,
             "#9c179e"
            ],
            [
             0.4444444444444444,
             "#bd3786"
            ],
            [
             0.5555555555555556,
             "#d8576b"
            ],
            [
             0.6666666666666666,
             "#ed7953"
            ],
            [
             0.7777777777777778,
             "#fb9f3a"
            ],
            [
             0.8888888888888888,
             "#fdca26"
            ],
            [
             1,
             "#f0f921"
            ]
           ]
          },
          "colorway": [
           "#636efa",
           "#EF553B",
           "#00cc96",
           "#ab63fa",
           "#FFA15A",
           "#19d3f3",
           "#FF6692",
           "#B6E880",
           "#FF97FF",
           "#FECB52"
          ],
          "font": {
           "color": "#2a3f5f"
          },
          "geo": {
           "bgcolor": "white",
           "lakecolor": "white",
           "landcolor": "#E5ECF6",
           "showlakes": true,
           "showland": true,
           "subunitcolor": "white"
          },
          "hoverlabel": {
           "align": "left"
          },
          "hovermode": "closest",
          "mapbox": {
           "style": "light"
          },
          "paper_bgcolor": "white",
          "plot_bgcolor": "#E5ECF6",
          "polar": {
           "angularaxis": {
            "gridcolor": "white",
            "linecolor": "white",
            "ticks": ""
           },
           "bgcolor": "#E5ECF6",
           "radialaxis": {
            "gridcolor": "white",
            "linecolor": "white",
            "ticks": ""
           }
          },
          "scene": {
           "xaxis": {
            "backgroundcolor": "#E5ECF6",
            "gridcolor": "white",
            "gridwidth": 2,
            "linecolor": "white",
            "showbackground": true,
            "ticks": "",
            "zerolinecolor": "white"
           },
           "yaxis": {
            "backgroundcolor": "#E5ECF6",
            "gridcolor": "white",
            "gridwidth": 2,
            "linecolor": "white",
            "showbackground": true,
            "ticks": "",
            "zerolinecolor": "white"
           },
           "zaxis": {
            "backgroundcolor": "#E5ECF6",
            "gridcolor": "white",
            "gridwidth": 2,
            "linecolor": "white",
            "showbackground": true,
            "ticks": "",
            "zerolinecolor": "white"
           }
          },
          "shapedefaults": {
           "line": {
            "color": "#2a3f5f"
           }
          },
          "ternary": {
           "aaxis": {
            "gridcolor": "white",
            "linecolor": "white",
            "ticks": ""
           },
           "baxis": {
            "gridcolor": "white",
            "linecolor": "white",
            "ticks": ""
           },
           "bgcolor": "#E5ECF6",
           "caxis": {
            "gridcolor": "white",
            "linecolor": "white",
            "ticks": ""
           }
          },
          "title": {
           "x": 0.05
          },
          "xaxis": {
           "automargin": true,
           "gridcolor": "white",
           "linecolor": "white",
           "ticks": "",
           "title": {
            "standoff": 15
           },
           "zerolinecolor": "white",
           "zerolinewidth": 2
          },
          "yaxis": {
           "automargin": true,
           "gridcolor": "white",
           "linecolor": "white",
           "ticks": "",
           "title": {
            "standoff": 15
           },
           "zerolinecolor": "white",
           "zerolinewidth": 2
          }
         }
        },
        "title": {
         "font": {
          "color": "#4D5663"
         }
        },
        "xaxis": {
         "gridcolor": "#E1E5ED",
         "showgrid": true,
         "tickfont": {
          "color": "#4D5663"
         },
         "title": {
          "font": {
           "color": "#4D5663"
          },
          "text": ""
         },
         "zerolinecolor": "#E1E5ED"
        },
        "yaxis": {
         "gridcolor": "#E1E5ED",
         "showgrid": true,
         "tickfont": {
          "color": "#4D5663"
         },
         "title": {
          "font": {
           "color": "#4D5663"
          },
          "text": ""
         },
         "zerolinecolor": "#E1E5ED"
        }
       }
      },
      "text/html": [
       "<div>                            <div id=\"03be18a5-5b1f-4b95-9e87-e7985bf4ae52\" class=\"plotly-graph-div\" style=\"height:525px; width:100%;\"></div>            <script type=\"text/javascript\">                require([\"plotly\"], function(Plotly) {                    window.PLOTLYENV=window.PLOTLYENV || {};\n",
       "                    window.PLOTLYENV.BASE_URL='https://plot.ly';                                    if (document.getElementById(\"03be18a5-5b1f-4b95-9e87-e7985bf4ae52\")) {                    Plotly.newPlot(                        \"03be18a5-5b1f-4b95-9e87-e7985bf4ae52\",                        [{\"histfunc\": \"count\", \"histnorm\": \"\", \"marker\": {\"color\": \"rgba(255, 153, 51, 1.0)\", \"line\": {\"color\": \"#4D5663\", \"width\": 1.3}}, \"name\": \"A\", \"nbinsx\": 100, \"opacity\": 0.8, \"orientation\": \"v\", \"type\": \"histogram\", \"x\": [0.5562961981117553, 2.108358858952701, 0.5548989308236473, 0.008323822087960779, 0.48961051768692415, -0.03472180743674578, -0.524129442638369, -0.3966612789176194, -1.2262988052213804, 0.9179083158469945, -0.8285631723654658, -0.9374421557229163, -0.37913358139855674, 0.27661317087331067, 0.8564564190753677, -0.05208464578113981, 0.7113771166798544, -0.5241940551652958, 0.38933911492809836, 0.45757184258026634, 1.8135339962514991, -0.46755621754496934, -1.4769938933017215, 0.796516604649348, -0.3310725072413677, -0.6890964889521697, -0.185113292352724, 0.10714997665203205, -0.28676843602957197, -0.5978612034736481, 0.6860505717541482, -0.9763284012993032, -0.3565476600208925, 1.0281885131760584, 0.5276731327453766, 2.8569730930382935, -1.0489534745583609, -0.16390628363924706, -2.0009620468128895, -0.7663117753128763, 0.6746158866990971, 1.3597268694840845, 1.1060730647663481, -2.101439845444693, 0.38522116338053175, 1.0897673250970306, -0.0146195670244523, -1.7002504388665984, -0.8658572652487906, 0.3655373199319853, -1.4213092315311757, -0.6257613120656782, -1.155414655381876, -0.16191816346578433, -0.6927515629940222, 1.489211016926403, -0.17723818308607622, 0.86094542985803, -0.2527473183704298, 1.763454693645274, -0.5603229029360345, 0.6819284775370107, -1.0108641533091094, -0.21516793076446983, -0.19834868058575156, 1.0784194567454428, -0.06872413523364017, 0.4671551673771973, 0.3187122218611674, 0.36494665505674245, 1.3152844303829363, -0.5870515442521858, -1.2542711794496093, -0.9555120193507338, 1.2100033650164395, -1.4881602799201865, 0.16674896131250208, -0.6784959913740641, -0.8119719952477912, -0.27173972454325906, 1.613956562490201, 0.5515966244811551, 0.20580077550875195, 0.6803020402068591, -0.875957070612417, 0.5814454318185702, -1.734880107782751, 1.8842416237669957, -0.31607888166192855, -0.9083580160531299, 1.062149610871437, 0.06611421072692324, 0.17454278181653743, -0.8634557936623657, -0.8507113963375206, -1.133028714667279, 0.8654079931298465, 1.2009490306276835, 0.7170554445953546, -0.9039309710193572]}],                        {\"barmode\": \"overlay\", \"legend\": {\"bgcolor\": \"#F5F6F9\", \"font\": {\"color\": \"#4D5663\"}}, \"paper_bgcolor\": \"#F5F6F9\", \"plot_bgcolor\": \"#F5F6F9\", \"template\": {\"data\": {\"bar\": [{\"error_x\": {\"color\": \"#2a3f5f\"}, \"error_y\": {\"color\": \"#2a3f5f\"}, \"marker\": {\"line\": {\"color\": \"#E5ECF6\", \"width\": 0.5}}, \"type\": \"bar\"}], \"barpolar\": [{\"marker\": {\"line\": {\"color\": \"#E5ECF6\", \"width\": 0.5}}, \"type\": \"barpolar\"}], \"carpet\": [{\"aaxis\": {\"endlinecolor\": \"#2a3f5f\", \"gridcolor\": \"white\", \"linecolor\": \"white\", \"minorgridcolor\": \"white\", \"startlinecolor\": \"#2a3f5f\"}, \"baxis\": {\"endlinecolor\": \"#2a3f5f\", \"gridcolor\": \"white\", \"linecolor\": \"white\", \"minorgridcolor\": \"white\", \"startlinecolor\": \"#2a3f5f\"}, \"type\": \"carpet\"}], \"choropleth\": [{\"colorbar\": {\"outlinewidth\": 0, \"ticks\": \"\"}, \"type\": \"choropleth\"}], \"contour\": [{\"colorbar\": {\"outlinewidth\": 0, \"ticks\": \"\"}, \"colorscale\": [[0.0, \"#0d0887\"], [0.1111111111111111, \"#46039f\"], [0.2222222222222222, \"#7201a8\"], [0.3333333333333333, \"#9c179e\"], [0.4444444444444444, \"#bd3786\"], [0.5555555555555556, \"#d8576b\"], [0.6666666666666666, \"#ed7953\"], [0.7777777777777778, \"#fb9f3a\"], [0.8888888888888888, \"#fdca26\"], [1.0, \"#f0f921\"]], \"type\": \"contour\"}], \"contourcarpet\": [{\"colorbar\": {\"outlinewidth\": 0, \"ticks\": \"\"}, \"type\": \"contourcarpet\"}], \"heatmap\": [{\"colorbar\": {\"outlinewidth\": 0, \"ticks\": \"\"}, \"colorscale\": [[0.0, \"#0d0887\"], [0.1111111111111111, \"#46039f\"], [0.2222222222222222, \"#7201a8\"], [0.3333333333333333, \"#9c179e\"], [0.4444444444444444, \"#bd3786\"], [0.5555555555555556, \"#d8576b\"], [0.6666666666666666, \"#ed7953\"], [0.7777777777777778, \"#fb9f3a\"], [0.8888888888888888, \"#fdca26\"], [1.0, \"#f0f921\"]], \"type\": \"heatmap\"}], \"heatmapgl\": [{\"colorbar\": {\"outlinewidth\": 0, \"ticks\": \"\"}, \"colorscale\": [[0.0, \"#0d0887\"], [0.1111111111111111, \"#46039f\"], [0.2222222222222222, \"#7201a8\"], [0.3333333333333333, \"#9c179e\"], [0.4444444444444444, \"#bd3786\"], [0.5555555555555556, \"#d8576b\"], [0.6666666666666666, \"#ed7953\"], [0.7777777777777778, \"#fb9f3a\"], [0.8888888888888888, \"#fdca26\"], [1.0, \"#f0f921\"]], \"type\": \"heatmapgl\"}], \"histogram\": [{\"marker\": {\"colorbar\": {\"outlinewidth\": 0, \"ticks\": \"\"}}, \"type\": \"histogram\"}], \"histogram2d\": [{\"colorbar\": {\"outlinewidth\": 0, \"ticks\": \"\"}, \"colorscale\": [[0.0, \"#0d0887\"], [0.1111111111111111, \"#46039f\"], [0.2222222222222222, \"#7201a8\"], [0.3333333333333333, \"#9c179e\"], [0.4444444444444444, \"#bd3786\"], [0.5555555555555556, \"#d8576b\"], [0.6666666666666666, \"#ed7953\"], [0.7777777777777778, \"#fb9f3a\"], [0.8888888888888888, \"#fdca26\"], [1.0, \"#f0f921\"]], \"type\": \"histogram2d\"}], \"histogram2dcontour\": [{\"colorbar\": {\"outlinewidth\": 0, \"ticks\": \"\"}, \"colorscale\": [[0.0, \"#0d0887\"], [0.1111111111111111, \"#46039f\"], [0.2222222222222222, \"#7201a8\"], [0.3333333333333333, \"#9c179e\"], [0.4444444444444444, \"#bd3786\"], [0.5555555555555556, \"#d8576b\"], [0.6666666666666666, \"#ed7953\"], [0.7777777777777778, \"#fb9f3a\"], [0.8888888888888888, \"#fdca26\"], [1.0, \"#f0f921\"]], \"type\": \"histogram2dcontour\"}], \"mesh3d\": [{\"colorbar\": {\"outlinewidth\": 0, \"ticks\": \"\"}, \"type\": \"mesh3d\"}], \"parcoords\": [{\"line\": {\"colorbar\": {\"outlinewidth\": 0, \"ticks\": \"\"}}, \"type\": \"parcoords\"}], \"pie\": [{\"automargin\": true, \"type\": \"pie\"}], \"scatter\": [{\"marker\": {\"colorbar\": {\"outlinewidth\": 0, \"ticks\": \"\"}}, \"type\": \"scatter\"}], \"scatter3d\": [{\"line\": {\"colorbar\": {\"outlinewidth\": 0, \"ticks\": \"\"}}, \"marker\": {\"colorbar\": {\"outlinewidth\": 0, \"ticks\": \"\"}}, \"type\": \"scatter3d\"}], \"scattercarpet\": [{\"marker\": {\"colorbar\": {\"outlinewidth\": 0, \"ticks\": \"\"}}, \"type\": \"scattercarpet\"}], \"scattergeo\": [{\"marker\": {\"colorbar\": {\"outlinewidth\": 0, \"ticks\": \"\"}}, \"type\": \"scattergeo\"}], \"scattergl\": [{\"marker\": {\"colorbar\": {\"outlinewidth\": 0, \"ticks\": \"\"}}, \"type\": \"scattergl\"}], \"scattermapbox\": [{\"marker\": {\"colorbar\": {\"outlinewidth\": 0, \"ticks\": \"\"}}, \"type\": \"scattermapbox\"}], \"scatterpolar\": [{\"marker\": {\"colorbar\": {\"outlinewidth\": 0, \"ticks\": \"\"}}, \"type\": \"scatterpolar\"}], \"scatterpolargl\": [{\"marker\": {\"colorbar\": {\"outlinewidth\": 0, \"ticks\": \"\"}}, \"type\": \"scatterpolargl\"}], \"scatterternary\": [{\"marker\": {\"colorbar\": {\"outlinewidth\": 0, \"ticks\": \"\"}}, \"type\": \"scatterternary\"}], \"surface\": [{\"colorbar\": {\"outlinewidth\": 0, \"ticks\": \"\"}, \"colorscale\": [[0.0, \"#0d0887\"], [0.1111111111111111, \"#46039f\"], [0.2222222222222222, \"#7201a8\"], [0.3333333333333333, \"#9c179e\"], [0.4444444444444444, \"#bd3786\"], [0.5555555555555556, \"#d8576b\"], [0.6666666666666666, \"#ed7953\"], [0.7777777777777778, \"#fb9f3a\"], [0.8888888888888888, \"#fdca26\"], [1.0, \"#f0f921\"]], \"type\": \"surface\"}], \"table\": [{\"cells\": {\"fill\": {\"color\": \"#EBF0F8\"}, \"line\": {\"color\": \"white\"}}, \"header\": {\"fill\": {\"color\": \"#C8D4E3\"}, \"line\": {\"color\": \"white\"}}, \"type\": \"table\"}]}, \"layout\": {\"annotationdefaults\": {\"arrowcolor\": \"#2a3f5f\", \"arrowhead\": 0, \"arrowwidth\": 1}, \"coloraxis\": {\"colorbar\": {\"outlinewidth\": 0, \"ticks\": \"\"}}, \"colorscale\": {\"diverging\": [[0, \"#8e0152\"], [0.1, \"#c51b7d\"], [0.2, \"#de77ae\"], [0.3, \"#f1b6da\"], [0.4, \"#fde0ef\"], [0.5, \"#f7f7f7\"], [0.6, \"#e6f5d0\"], [0.7, \"#b8e186\"], [0.8, \"#7fbc41\"], [0.9, \"#4d9221\"], [1, \"#276419\"]], \"sequential\": [[0.0, \"#0d0887\"], [0.1111111111111111, \"#46039f\"], [0.2222222222222222, \"#7201a8\"], [0.3333333333333333, \"#9c179e\"], [0.4444444444444444, \"#bd3786\"], [0.5555555555555556, \"#d8576b\"], [0.6666666666666666, \"#ed7953\"], [0.7777777777777778, \"#fb9f3a\"], [0.8888888888888888, \"#fdca26\"], [1.0, \"#f0f921\"]], \"sequentialminus\": [[0.0, \"#0d0887\"], [0.1111111111111111, \"#46039f\"], [0.2222222222222222, \"#7201a8\"], [0.3333333333333333, \"#9c179e\"], [0.4444444444444444, \"#bd3786\"], [0.5555555555555556, \"#d8576b\"], [0.6666666666666666, \"#ed7953\"], [0.7777777777777778, \"#fb9f3a\"], [0.8888888888888888, \"#fdca26\"], [1.0, \"#f0f921\"]]}, \"colorway\": [\"#636efa\", \"#EF553B\", \"#00cc96\", \"#ab63fa\", \"#FFA15A\", \"#19d3f3\", \"#FF6692\", \"#B6E880\", \"#FF97FF\", \"#FECB52\"], \"font\": {\"color\": \"#2a3f5f\"}, \"geo\": {\"bgcolor\": \"white\", \"lakecolor\": \"white\", \"landcolor\": \"#E5ECF6\", \"showlakes\": true, \"showland\": true, \"subunitcolor\": \"white\"}, \"hoverlabel\": {\"align\": \"left\"}, \"hovermode\": \"closest\", \"mapbox\": {\"style\": \"light\"}, \"paper_bgcolor\": \"white\", \"plot_bgcolor\": \"#E5ECF6\", \"polar\": {\"angularaxis\": {\"gridcolor\": \"white\", \"linecolor\": \"white\", \"ticks\": \"\"}, \"bgcolor\": \"#E5ECF6\", \"radialaxis\": {\"gridcolor\": \"white\", \"linecolor\": \"white\", \"ticks\": \"\"}}, \"scene\": {\"xaxis\": {\"backgroundcolor\": \"#E5ECF6\", \"gridcolor\": \"white\", \"gridwidth\": 2, \"linecolor\": \"white\", \"showbackground\": true, \"ticks\": \"\", \"zerolinecolor\": \"white\"}, \"yaxis\": {\"backgroundcolor\": \"#E5ECF6\", \"gridcolor\": \"white\", \"gridwidth\": 2, \"linecolor\": \"white\", \"showbackground\": true, \"ticks\": \"\", \"zerolinecolor\": \"white\"}, \"zaxis\": {\"backgroundcolor\": \"#E5ECF6\", \"gridcolor\": \"white\", \"gridwidth\": 2, \"linecolor\": \"white\", \"showbackground\": true, \"ticks\": \"\", \"zerolinecolor\": \"white\"}}, \"shapedefaults\": {\"line\": {\"color\": \"#2a3f5f\"}}, \"ternary\": {\"aaxis\": {\"gridcolor\": \"white\", \"linecolor\": \"white\", \"ticks\": \"\"}, \"baxis\": {\"gridcolor\": \"white\", \"linecolor\": \"white\", \"ticks\": \"\"}, \"bgcolor\": \"#E5ECF6\", \"caxis\": {\"gridcolor\": \"white\", \"linecolor\": \"white\", \"ticks\": \"\"}}, \"title\": {\"x\": 0.05}, \"xaxis\": {\"automargin\": true, \"gridcolor\": \"white\", \"linecolor\": \"white\", \"ticks\": \"\", \"title\": {\"standoff\": 15}, \"zerolinecolor\": \"white\", \"zerolinewidth\": 2}, \"yaxis\": {\"automargin\": true, \"gridcolor\": \"white\", \"linecolor\": \"white\", \"ticks\": \"\", \"title\": {\"standoff\": 15}, \"zerolinecolor\": \"white\", \"zerolinewidth\": 2}}}, \"title\": {\"font\": {\"color\": \"#4D5663\"}}, \"xaxis\": {\"gridcolor\": \"#E1E5ED\", \"showgrid\": true, \"tickfont\": {\"color\": \"#4D5663\"}, \"title\": {\"font\": {\"color\": \"#4D5663\"}, \"text\": \"\"}, \"zerolinecolor\": \"#E1E5ED\"}, \"yaxis\": {\"gridcolor\": \"#E1E5ED\", \"showgrid\": true, \"tickfont\": {\"color\": \"#4D5663\"}, \"title\": {\"font\": {\"color\": \"#4D5663\"}, \"text\": \"\"}, \"zerolinecolor\": \"#E1E5ED\"}},                        {\"showLink\": true, \"linkText\": \"Export to plot.ly\", \"plotlyServerURL\": \"https://plot.ly\", \"responsive\": true}                    ).then(function(){\n",
       "                            \n",
       "var gd = document.getElementById('03be18a5-5b1f-4b95-9e87-e7985bf4ae52');\n",
       "var x = new MutationObserver(function (mutations, observer) {{\n",
       "        var display = window.getComputedStyle(gd).display;\n",
       "        if (!display || display === 'none') {{\n",
       "            console.log([gd, 'removed!']);\n",
       "            Plotly.purge(gd);\n",
       "            observer.disconnect();\n",
       "        }}\n",
       "}});\n",
       "\n",
       "// Listen for the removal of the full notebook cells\n",
       "var notebookContainer = gd.closest('#notebook-container');\n",
       "if (notebookContainer) {{\n",
       "    x.observe(notebookContainer, {childList: true});\n",
       "}}\n",
       "\n",
       "// Listen for the clearing of the current output cell\n",
       "var outputEl = gd.closest('.output');\n",
       "if (outputEl) {{\n",
       "    x.observe(outputEl, {childList: true});\n",
       "}}\n",
       "\n",
       "                        })                };                });            </script>        </div>"
      ]
     },
     "metadata": {},
     "output_type": "display_data"
    }
   ],
   "source": [
    "df['A'].iplot(kind='hist',bins=100)"
   ]
  },
  {
   "cell_type": "markdown",
   "metadata": {},
   "source": [
    "## Bubble plots"
   ]
  },
  {
   "cell_type": "code",
   "execution_count": 1,
   "metadata": {},
   "outputs": [
    {
     "ename": "NameError",
     "evalue": "name 'df' is not defined",
     "output_type": "error",
     "traceback": [
      "\u001b[0;31m---------------------------------------------------------------------------\u001b[0m",
      "\u001b[0;31mNameError\u001b[0m                                 Traceback (most recent call last)",
      "\u001b[0;32m<ipython-input-1-5711eeeb8be8>\u001b[0m in \u001b[0;36m<module>\u001b[0;34m\u001b[0m\n\u001b[1;32m      1\u001b[0m \u001b[0;31m# size argument references the size of data points\u001b[0m\u001b[0;34m\u001b[0m\u001b[0;34m\u001b[0m\u001b[0;34m\u001b[0m\u001b[0m\n\u001b[0;32m----> 2\u001b[0;31m \u001b[0mdf\u001b[0m\u001b[0;34m.\u001b[0m\u001b[0miplot\u001b[0m\u001b[0;34m(\u001b[0m\u001b[0mkind\u001b[0m\u001b[0;34m=\u001b[0m\u001b[0;34m'bubble'\u001b[0m\u001b[0;34m,\u001b[0m\u001b[0mx\u001b[0m\u001b[0;34m=\u001b[0m\u001b[0;34m'A'\u001b[0m\u001b[0;34m,\u001b[0m\u001b[0my\u001b[0m\u001b[0;34m=\u001b[0m\u001b[0;34m'B'\u001b[0m\u001b[0;34m,\u001b[0m\u001b[0msize\u001b[0m\u001b[0;34m=\u001b[0m\u001b[0;34m'C'\u001b[0m\u001b[0;34m)\u001b[0m\u001b[0;34m\u001b[0m\u001b[0;34m\u001b[0m\u001b[0m\n\u001b[0m",
      "\u001b[0;31mNameError\u001b[0m: name 'df' is not defined"
     ]
    }
   ],
   "source": [
    "# size argument references the size of data points\n",
    "df.iplot(kind='bubble',x='A',y='B',size='C')"
   ]
  },
  {
   "cell_type": "markdown",
   "metadata": {},
   "source": [
    "## scatter_matrix()\n",
    "\n",
    "Similar to sns.pairplot()"
   ]
  },
  {
   "cell_type": "code",
   "execution_count": 109,
   "metadata": {},
   "outputs": [
    {
     "data": {
      "application/vnd.plotly.v1+json": {
       "config": {
        "linkText": "Export to plot.ly",
        "plotlyServerURL": "https://plot.ly",
        "showLink": true
       },
       "data": [
        {
         "histfunc": "count",
         "histnorm": "",
         "marker": {
          "color": "rgba(255, 153, 51, 1.0)",
          "line": {
           "color": "#4D5663",
           "width": 1.3
          }
         },
         "name": "A",
         "nbinsx": 10,
         "opacity": 0.8,
         "orientation": "v",
         "type": "histogram",
         "x": [
          0.2761339514733847,
          1.188804121605242,
          0.08497589522761069,
          -0.34533240320481096,
          -0.07782907635069093,
          -1.2498699046511899,
          -0.11342716786920551,
          0.8992512727833145,
          0.6869949962554535,
          1.0872836110719306,
          0.5624125643232705,
          -0.06872867674511322,
          -1.488294260402288,
          1.1347605759565262,
          -0.04512589510977593,
          -1.1709300462069576,
          2.5699296958065267,
          -2.6949537636334515,
          0.9509967843271091,
          0.9126363660840404,
          -0.893416021982162,
          -0.6709000690385981,
          -0.6764702311155343,
          1.6545543982092468,
          -0.6613351181686137,
          1.3463097312201942,
          1.1953415174451654,
          -0.0023683532837439616,
          -0.7385556666158539,
          -0.09804609750860487,
          -0.24725493992732892,
          0.3704998148593566,
          -0.5179378835723708,
          1.1115432909865557,
          0.6283639633904835,
          -0.0811902814258752,
          -0.7493943203141994,
          -1.154026941611956,
          -0.531290294132609,
          -0.646090508780619,
          -0.41745082465802874,
          -0.9572205692302606,
          0.029535762132137554,
          0.8132802676270556,
          -0.24785671695736364,
          2.757816249804465,
          -0.016600337056652394,
          -0.03229479868311702,
          -0.2767738401048227,
          -1.8835736923431186,
          0.8465033054900883,
          -0.35981629757736416,
          -1.884231824833337,
          0.5429230784561598,
          2.6022101434440357,
          -1.4484745143157174,
          0.2578023462079427,
          0.5370000856732656,
          0.02404680743578104,
          -0.03177599917046245,
          0.5806531394603373,
          -0.050719375105140706,
          0.2571507486178252,
          0.16053241926143327,
          2.4780536465185965,
          -0.40963856353358163,
          0.4982262133827531,
          -1.8370793820561426,
          0.5737037513423762,
          -0.808098912570454,
          -0.3523370407889365,
          -1.5834479584704206,
          0.009656275276085651,
          -0.5035375476668608,
          -1.0664730889309146,
          1.6801569990369594,
          -0.9744459057915644,
          1.9656646886689864,
          0.6123677502516772,
          1.117614219320944,
          1.6793717146667708,
          0.024819821963667815,
          -0.35518721094419947,
          -0.10180586651928844,
          0.15232074131943715,
          1.4313790324915008,
          0.40367088549841706,
          0.5637704529498062,
          -0.4723496462238286,
          -0.639548098210627,
          0.1835297599153169,
          1.4006969448250643,
          2.60871880554445,
          0.4937448850274035,
          0.4518378065874822,
          0.25308441145521465,
          1.2589819790846235,
          -0.22390426447291434,
          0.006012911300815213,
          -2.1920102474812744
         ],
         "xaxis": "x",
         "yaxis": "y"
        },
        {
         "line": {
          "color": "rgba(128, 128, 128, 1.0)",
          "dash": "solid",
          "shape": "linear",
          "width": 1.3
         },
         "marker": {
          "size": 2,
          "symbol": "circle"
         },
         "mode": "markers",
         "name": "A",
         "text": "",
         "type": "scatter",
         "x": [
          2.393955014008052,
          0.7295241671997067,
          -0.7884956516766091,
          -1.0034301871109426,
          0.16122649736514685,
          -0.9393748549724851,
          0.15816754747061676,
          1.8198241080705275,
          -1.1497226248365893,
          -0.16029408790965005,
          -2.012749253092932,
          1.2172107889355217,
          1.6750366580381233,
          2.1393076997774543,
          -0.30493459794081273,
          0.5117292493263356,
          0.7036447179229162,
          -0.38336194489575576,
          -0.10677891756364695,
          -1.7481489414052218,
          0.5714797537661231,
          -0.8092442598891338,
          -1.6832877374490327,
          -0.4644318992048635,
          0.0051413486261414985,
          -2.609875970179155,
          -0.553634388525426,
          -0.7694491366072814,
          -0.18820718993716623,
          -1.1224961058796814,
          -0.03459477443144965,
          1.2698794125597996,
          -0.5024030504728992,
          1.0595030004708539,
          -0.6037368550922615,
          0.9989329972969176,
          1.6209756283836037,
          0.3630825748502837,
          -0.3587803583227967,
          -0.7132325633464235,
          -0.7042268693897041,
          1.4297438834109168,
          0.9662660905840436,
          0.6812386204734382,
          1.9692983017462367,
          -0.3883475675177595,
          1.360133403789544,
          -0.031428521472090735,
          0.24752868479787052,
          1.0403278254600228,
          0.4529724837079801,
          0.015396827100181832,
          -0.12513155683554494,
          -1.2755381919101085,
          -0.6903783402780991,
          -0.8321477150251463,
          0.7100802833730272,
          0.2038546182679955,
          2.151245914410658,
          1.6842236265592216,
          0.4369081103144823,
          -0.03609018209906457,
          1.150837618050103,
          -0.5537681601923262,
          0.949650043718843,
          -0.13525432627398065,
          -2.1107866404480955,
          1.635467526122635,
          -0.23740218435645088,
          1.220538802477475,
          0.9306165060679065,
          -1.2409954340112213,
          -0.4949613682148558,
          1.5258146496265905,
          -1.9809563467247513,
          -0.7143373767905575,
          -0.2296009452499028,
          1.2966094445443843,
          -0.2801452885198963,
          0.24593009690591186,
          -0.10377771955254282,
          0.4784055675167169,
          0.8584728581561504,
          1.6478146732022394,
          0.5886139445888524,
          0.7798036421004724,
          1.2793583250411933,
          -0.9795913396912235,
          0.4350182297991837,
          -1.296413802558348,
          2.489012637471557,
          1.5977712923223037,
          0.1538480901531365,
          0.21381925361730095,
          1.3625846182814374,
          -0.7915574466445902,
          -0.5483019938305197,
          3.629118184331783,
          -0.9625139154517232,
          0.16091743116174276
         ],
         "xaxis": "x2",
         "y": [
          0.2761339514733847,
          1.188804121605242,
          0.08497589522761069,
          -0.34533240320481096,
          -0.07782907635069093,
          -1.2498699046511899,
          -0.11342716786920551,
          0.8992512727833145,
          0.6869949962554535,
          1.0872836110719306,
          0.5624125643232705,
          -0.06872867674511322,
          -1.488294260402288,
          1.1347605759565262,
          -0.04512589510977593,
          -1.1709300462069576,
          2.5699296958065267,
          -2.6949537636334515,
          0.9509967843271091,
          0.9126363660840404,
          -0.893416021982162,
          -0.6709000690385981,
          -0.6764702311155343,
          1.6545543982092468,
          -0.6613351181686137,
          1.3463097312201942,
          1.1953415174451654,
          -0.0023683532837439616,
          -0.7385556666158539,
          -0.09804609750860487,
          -0.24725493992732892,
          0.3704998148593566,
          -0.5179378835723708,
          1.1115432909865557,
          0.6283639633904835,
          -0.0811902814258752,
          -0.7493943203141994,
          -1.154026941611956,
          -0.531290294132609,
          -0.646090508780619,
          -0.41745082465802874,
          -0.9572205692302606,
          0.029535762132137554,
          0.8132802676270556,
          -0.24785671695736364,
          2.757816249804465,
          -0.016600337056652394,
          -0.03229479868311702,
          -0.2767738401048227,
          -1.8835736923431186,
          0.8465033054900883,
          -0.35981629757736416,
          -1.884231824833337,
          0.5429230784561598,
          2.6022101434440357,
          -1.4484745143157174,
          0.2578023462079427,
          0.5370000856732656,
          0.02404680743578104,
          -0.03177599917046245,
          0.5806531394603373,
          -0.050719375105140706,
          0.2571507486178252,
          0.16053241926143327,
          2.4780536465185965,
          -0.40963856353358163,
          0.4982262133827531,
          -1.8370793820561426,
          0.5737037513423762,
          -0.808098912570454,
          -0.3523370407889365,
          -1.5834479584704206,
          0.009656275276085651,
          -0.5035375476668608,
          -1.0664730889309146,
          1.6801569990369594,
          -0.9744459057915644,
          1.9656646886689864,
          0.6123677502516772,
          1.117614219320944,
          1.6793717146667708,
          0.024819821963667815,
          -0.35518721094419947,
          -0.10180586651928844,
          0.15232074131943715,
          1.4313790324915008,
          0.40367088549841706,
          0.5637704529498062,
          -0.4723496462238286,
          -0.639548098210627,
          0.1835297599153169,
          1.4006969448250643,
          2.60871880554445,
          0.4937448850274035,
          0.4518378065874822,
          0.25308441145521465,
          1.2589819790846235,
          -0.22390426447291434,
          0.006012911300815213,
          -2.1920102474812744
         ],
         "yaxis": "y2"
        },
        {
         "line": {
          "color": "rgba(128, 128, 128, 1.0)",
          "dash": "solid",
          "shape": "linear",
          "width": 1.3
         },
         "marker": {
          "size": 2,
          "symbol": "circle"
         },
         "mode": "markers",
         "name": "A",
         "text": "",
         "type": "scatter",
         "x": [
          1.372052395993152,
          1.7043867906505903,
          -0.005673427311608795,
          0.3523319008881605,
          0.976318912841944,
          -0.6762880535850897,
          1.2373725872542423,
          -0.6110796875929951,
          -0.29488205191166666,
          -0.2968814623971072,
          -1.1443506116588782,
          -0.6325929857802397,
          -0.7352444098524169,
          0.771177444459734,
          -0.33326450943721153,
          -0.36542117676413094,
          0.5207035604771046,
          0.21656757882599365,
          1.676496594370226,
          0.22628436337669927,
          0.34491046555515753,
          -0.33042871812591135,
          -0.08422658443735433,
          -0.9466164769020331,
          0.8114280389337645,
          0.10534433414270532,
          -1.0078426979638047,
          -1.040582841564319,
          1.1939763043151714,
          1.2245610618888145,
          0.23366189462276138,
          -1.3649812504359462,
          0.9390928268109437,
          0.05787351981098945,
          1.1929731982250726,
          -2.06616860627508,
          0.28509431018806874,
          0.2323615517033693,
          0.3516775764795282,
          0.24508503864859668,
          1.3849109395755559,
          -0.9760554396479139,
          1.0813640430151417,
          0.36741457619539464,
          0.006475567329304382,
          0.1558444173197155,
          -1.5235636238931491,
          0.4075647502936297,
          -0.055964266838521966,
          1.0074505240792073,
          0.36607191463727107,
          -0.5936916313224394,
          -0.021707305496679177,
          1.272854906943038,
          0.8663163220565195,
          -0.8543650239910662,
          0.2350936217889952,
          0.348823341044296,
          -0.36395644242429165,
          -0.8285948978605961,
          2.7410751875438804,
          1.1301724518843879,
          -1.193692306253147,
          0.9090619653462466,
          -0.17957656870996314,
          -0.8735711804577587,
          0.2512892852339795,
          0.8537797545557415,
          -2.6583601614559274,
          0.39477204143391736,
          0.42295611901615515,
          -0.2231966676407804,
          0.5695790944346365,
          0.4626908743852996,
          0.5084796035822099,
          -0.49148203417151204,
          0.2395072818497077,
          -0.10887199249459967,
          1.2400966254118748,
          -0.6220998472288897,
          2.6293580394523803,
          -0.17378728677563526,
          -0.32542567658471244,
          -0.06861705809786599,
          0.40612320092576915,
          -0.4280967391266471,
          -0.2921034019229864,
          0.25299252792599786,
          1.2622408551542035,
          -1.5477962550558262,
          0.8299720853052873,
          0.7668010360268285,
          0.6395574542503853,
          1.083808017569944,
          0.20626164245607248,
          -0.23688527763851755,
          0.4782101700769962,
          0.2815045819680345,
          2.1046162593769124,
          -0.5244446464437239
         ],
         "xaxis": "x3",
         "y": [
          0.2761339514733847,
          1.188804121605242,
          0.08497589522761069,
          -0.34533240320481096,
          -0.07782907635069093,
          -1.2498699046511899,
          -0.11342716786920551,
          0.8992512727833145,
          0.6869949962554535,
          1.0872836110719306,
          0.5624125643232705,
          -0.06872867674511322,
          -1.488294260402288,
          1.1347605759565262,
          -0.04512589510977593,
          -1.1709300462069576,
          2.5699296958065267,
          -2.6949537636334515,
          0.9509967843271091,
          0.9126363660840404,
          -0.893416021982162,
          -0.6709000690385981,
          -0.6764702311155343,
          1.6545543982092468,
          -0.6613351181686137,
          1.3463097312201942,
          1.1953415174451654,
          -0.0023683532837439616,
          -0.7385556666158539,
          -0.09804609750860487,
          -0.24725493992732892,
          0.3704998148593566,
          -0.5179378835723708,
          1.1115432909865557,
          0.6283639633904835,
          -0.0811902814258752,
          -0.7493943203141994,
          -1.154026941611956,
          -0.531290294132609,
          -0.646090508780619,
          -0.41745082465802874,
          -0.9572205692302606,
          0.029535762132137554,
          0.8132802676270556,
          -0.24785671695736364,
          2.757816249804465,
          -0.016600337056652394,
          -0.03229479868311702,
          -0.2767738401048227,
          -1.8835736923431186,
          0.8465033054900883,
          -0.35981629757736416,
          -1.884231824833337,
          0.5429230784561598,
          2.6022101434440357,
          -1.4484745143157174,
          0.2578023462079427,
          0.5370000856732656,
          0.02404680743578104,
          -0.03177599917046245,
          0.5806531394603373,
          -0.050719375105140706,
          0.2571507486178252,
          0.16053241926143327,
          2.4780536465185965,
          -0.40963856353358163,
          0.4982262133827531,
          -1.8370793820561426,
          0.5737037513423762,
          -0.808098912570454,
          -0.3523370407889365,
          -1.5834479584704206,
          0.009656275276085651,
          -0.5035375476668608,
          -1.0664730889309146,
          1.6801569990369594,
          -0.9744459057915644,
          1.9656646886689864,
          0.6123677502516772,
          1.117614219320944,
          1.6793717146667708,
          0.024819821963667815,
          -0.35518721094419947,
          -0.10180586651928844,
          0.15232074131943715,
          1.4313790324915008,
          0.40367088549841706,
          0.5637704529498062,
          -0.4723496462238286,
          -0.639548098210627,
          0.1835297599153169,
          1.4006969448250643,
          2.60871880554445,
          0.4937448850274035,
          0.4518378065874822,
          0.25308441145521465,
          1.2589819790846235,
          -0.22390426447291434,
          0.006012911300815213,
          -2.1920102474812744
         ],
         "yaxis": "y3"
        },
        {
         "line": {
          "color": "rgba(128, 128, 128, 1.0)",
          "dash": "solid",
          "shape": "linear",
          "width": 1.3
         },
         "marker": {
          "size": 2,
          "symbol": "circle"
         },
         "mode": "markers",
         "name": "A",
         "text": "",
         "type": "scatter",
         "x": [
          0.6426171020913116,
          0.05947831050959164,
          0.8057109776007441,
          1.5182216465992566,
          0.17683259271748428,
          -1.201703319160288,
          0.08939571806521496,
          2.0154563391314873,
          1.7301251256429016,
          0.49528261213488545,
          0.0761665451289827,
          1.6103034919331367,
          1.6120448888241674,
          -0.2573136206604346,
          -0.9779054477931095,
          0.09584648166310304,
          -0.07571022687017195,
          0.14592291951912958,
          0.5859863691277728,
          -0.9634514352867459,
          -1.6097533777922932,
          -1.3834694563514975,
          1.3350657642225476,
          2.5348040961290565,
          0.07096153306759836,
          0.6368949669764494,
          -2.491181625238631,
          -2.069948065264797,
          -0.39141325160767837,
          0.8729443579466766,
          -0.15203240827413245,
          1.593493694910104,
          0.19147931889882305,
          -0.2570947529594395,
          -0.2362423478932293,
          -0.24761400944699485,
          1.5498785562590034,
          -1.342736587129085,
          -0.6875756550917744,
          -0.8435542153832782,
          -0.013874970564091298,
          -0.6437810020122223,
          -0.08307285623526937,
          -0.2962296943116745,
          -0.5130982235488185,
          0.3824096226964955,
          -0.5540921670015748,
          1.0153688520081747,
          -0.7952904910998714,
          2.5784952415824245,
          0.8945149051861342,
          0.2519932142685906,
          -1.0221722639024475,
          -1.5520675750466661,
          -1.200280816710757,
          -1.5283381205817728,
          0.35850270542977336,
          0.028661556376518574,
          -0.25417601662240924,
          -0.43123113419811976,
          -0.7992886449170896,
          0.8390223361200038,
          0.343733762605699,
          -0.6743338869442519,
          0.05144922505834395,
          0.2074977159159455,
          0.9843826193439873,
          1.4061675427565727,
          0.11563603180803507,
          0.4530024188769888,
          -0.47629266642328244,
          -0.16710643248919377,
          -0.0515307061316568,
          -0.6588656418257205,
          1.5582301705782957,
          -0.6296407507349331,
          -0.5372426533819447,
          -0.874055648075707,
          -0.9115348231890187,
          0.29738761097200167,
          1.398817190288319,
          -0.03531964926848891,
          -1.269178704672509,
          -1.7086885351716186,
          0.12803766640189806,
          0.6625171606929373,
          0.09803785359242453,
          -0.42955781291017003,
          0.9588026633516734,
          0.8801708158200088,
          -1.505560101488006,
          0.0639479738951868,
          -0.6667387730971316,
          -0.7866002141704426,
          -0.07573694787116873,
          -0.8633462980959028,
          0.37497474414887555,
          0.3307646714610224,
          0.1501616858635575,
          0.2960707050508471
         ],
         "xaxis": "x4",
         "y": [
          0.2761339514733847,
          1.188804121605242,
          0.08497589522761069,
          -0.34533240320481096,
          -0.07782907635069093,
          -1.2498699046511899,
          -0.11342716786920551,
          0.8992512727833145,
          0.6869949962554535,
          1.0872836110719306,
          0.5624125643232705,
          -0.06872867674511322,
          -1.488294260402288,
          1.1347605759565262,
          -0.04512589510977593,
          -1.1709300462069576,
          2.5699296958065267,
          -2.6949537636334515,
          0.9509967843271091,
          0.9126363660840404,
          -0.893416021982162,
          -0.6709000690385981,
          -0.6764702311155343,
          1.6545543982092468,
          -0.6613351181686137,
          1.3463097312201942,
          1.1953415174451654,
          -0.0023683532837439616,
          -0.7385556666158539,
          -0.09804609750860487,
          -0.24725493992732892,
          0.3704998148593566,
          -0.5179378835723708,
          1.1115432909865557,
          0.6283639633904835,
          -0.0811902814258752,
          -0.7493943203141994,
          -1.154026941611956,
          -0.531290294132609,
          -0.646090508780619,
          -0.41745082465802874,
          -0.9572205692302606,
          0.029535762132137554,
          0.8132802676270556,
          -0.24785671695736364,
          2.757816249804465,
          -0.016600337056652394,
          -0.03229479868311702,
          -0.2767738401048227,
          -1.8835736923431186,
          0.8465033054900883,
          -0.35981629757736416,
          -1.884231824833337,
          0.5429230784561598,
          2.6022101434440357,
          -1.4484745143157174,
          0.2578023462079427,
          0.5370000856732656,
          0.02404680743578104,
          -0.03177599917046245,
          0.5806531394603373,
          -0.050719375105140706,
          0.2571507486178252,
          0.16053241926143327,
          2.4780536465185965,
          -0.40963856353358163,
          0.4982262133827531,
          -1.8370793820561426,
          0.5737037513423762,
          -0.808098912570454,
          -0.3523370407889365,
          -1.5834479584704206,
          0.009656275276085651,
          -0.5035375476668608,
          -1.0664730889309146,
          1.6801569990369594,
          -0.9744459057915644,
          1.9656646886689864,
          0.6123677502516772,
          1.117614219320944,
          1.6793717146667708,
          0.024819821963667815,
          -0.35518721094419947,
          -0.10180586651928844,
          0.15232074131943715,
          1.4313790324915008,
          0.40367088549841706,
          0.5637704529498062,
          -0.4723496462238286,
          -0.639548098210627,
          0.1835297599153169,
          1.4006969448250643,
          2.60871880554445,
          0.4937448850274035,
          0.4518378065874822,
          0.25308441145521465,
          1.2589819790846235,
          -0.22390426447291434,
          0.006012911300815213,
          -2.1920102474812744
         ],
         "yaxis": "y4"
        },
        {
         "line": {
          "color": "rgba(128, 128, 128, 1.0)",
          "dash": "solid",
          "shape": "linear",
          "width": 1.3
         },
         "marker": {
          "size": 2,
          "symbol": "circle"
         },
         "mode": "markers",
         "name": " B",
         "text": "",
         "type": "scatter",
         "x": [
          0.2761339514733847,
          1.188804121605242,
          0.08497589522761069,
          -0.34533240320481096,
          -0.07782907635069093,
          -1.2498699046511899,
          -0.11342716786920551,
          0.8992512727833145,
          0.6869949962554535,
          1.0872836110719306,
          0.5624125643232705,
          -0.06872867674511322,
          -1.488294260402288,
          1.1347605759565262,
          -0.04512589510977593,
          -1.1709300462069576,
          2.5699296958065267,
          -2.6949537636334515,
          0.9509967843271091,
          0.9126363660840404,
          -0.893416021982162,
          -0.6709000690385981,
          -0.6764702311155343,
          1.6545543982092468,
          -0.6613351181686137,
          1.3463097312201942,
          1.1953415174451654,
          -0.0023683532837439616,
          -0.7385556666158539,
          -0.09804609750860487,
          -0.24725493992732892,
          0.3704998148593566,
          -0.5179378835723708,
          1.1115432909865557,
          0.6283639633904835,
          -0.0811902814258752,
          -0.7493943203141994,
          -1.154026941611956,
          -0.531290294132609,
          -0.646090508780619,
          -0.41745082465802874,
          -0.9572205692302606,
          0.029535762132137554,
          0.8132802676270556,
          -0.24785671695736364,
          2.757816249804465,
          -0.016600337056652394,
          -0.03229479868311702,
          -0.2767738401048227,
          -1.8835736923431186,
          0.8465033054900883,
          -0.35981629757736416,
          -1.884231824833337,
          0.5429230784561598,
          2.6022101434440357,
          -1.4484745143157174,
          0.2578023462079427,
          0.5370000856732656,
          0.02404680743578104,
          -0.03177599917046245,
          0.5806531394603373,
          -0.050719375105140706,
          0.2571507486178252,
          0.16053241926143327,
          2.4780536465185965,
          -0.40963856353358163,
          0.4982262133827531,
          -1.8370793820561426,
          0.5737037513423762,
          -0.808098912570454,
          -0.3523370407889365,
          -1.5834479584704206,
          0.009656275276085651,
          -0.5035375476668608,
          -1.0664730889309146,
          1.6801569990369594,
          -0.9744459057915644,
          1.9656646886689864,
          0.6123677502516772,
          1.117614219320944,
          1.6793717146667708,
          0.024819821963667815,
          -0.35518721094419947,
          -0.10180586651928844,
          0.15232074131943715,
          1.4313790324915008,
          0.40367088549841706,
          0.5637704529498062,
          -0.4723496462238286,
          -0.639548098210627,
          0.1835297599153169,
          1.4006969448250643,
          2.60871880554445,
          0.4937448850274035,
          0.4518378065874822,
          0.25308441145521465,
          1.2589819790846235,
          -0.22390426447291434,
          0.006012911300815213,
          -2.1920102474812744
         ],
         "xaxis": "x5",
         "y": [
          2.393955014008052,
          0.7295241671997067,
          -0.7884956516766091,
          -1.0034301871109426,
          0.16122649736514685,
          -0.9393748549724851,
          0.15816754747061676,
          1.8198241080705275,
          -1.1497226248365893,
          -0.16029408790965005,
          -2.012749253092932,
          1.2172107889355217,
          1.6750366580381233,
          2.1393076997774543,
          -0.30493459794081273,
          0.5117292493263356,
          0.7036447179229162,
          -0.38336194489575576,
          -0.10677891756364695,
          -1.7481489414052218,
          0.5714797537661231,
          -0.8092442598891338,
          -1.6832877374490327,
          -0.4644318992048635,
          0.0051413486261414985,
          -2.609875970179155,
          -0.553634388525426,
          -0.7694491366072814,
          -0.18820718993716623,
          -1.1224961058796814,
          -0.03459477443144965,
          1.2698794125597996,
          -0.5024030504728992,
          1.0595030004708539,
          -0.6037368550922615,
          0.9989329972969176,
          1.6209756283836037,
          0.3630825748502837,
          -0.3587803583227967,
          -0.7132325633464235,
          -0.7042268693897041,
          1.4297438834109168,
          0.9662660905840436,
          0.6812386204734382,
          1.9692983017462367,
          -0.3883475675177595,
          1.360133403789544,
          -0.031428521472090735,
          0.24752868479787052,
          1.0403278254600228,
          0.4529724837079801,
          0.015396827100181832,
          -0.12513155683554494,
          -1.2755381919101085,
          -0.6903783402780991,
          -0.8321477150251463,
          0.7100802833730272,
          0.2038546182679955,
          2.151245914410658,
          1.6842236265592216,
          0.4369081103144823,
          -0.03609018209906457,
          1.150837618050103,
          -0.5537681601923262,
          0.949650043718843,
          -0.13525432627398065,
          -2.1107866404480955,
          1.635467526122635,
          -0.23740218435645088,
          1.220538802477475,
          0.9306165060679065,
          -1.2409954340112213,
          -0.4949613682148558,
          1.5258146496265905,
          -1.9809563467247513,
          -0.7143373767905575,
          -0.2296009452499028,
          1.2966094445443843,
          -0.2801452885198963,
          0.24593009690591186,
          -0.10377771955254282,
          0.4784055675167169,
          0.8584728581561504,
          1.6478146732022394,
          0.5886139445888524,
          0.7798036421004724,
          1.2793583250411933,
          -0.9795913396912235,
          0.4350182297991837,
          -1.296413802558348,
          2.489012637471557,
          1.5977712923223037,
          0.1538480901531365,
          0.21381925361730095,
          1.3625846182814374,
          -0.7915574466445902,
          -0.5483019938305197,
          3.629118184331783,
          -0.9625139154517232,
          0.16091743116174276
         ],
         "yaxis": "y5"
        },
        {
         "histfunc": "count",
         "histnorm": "",
         "marker": {
          "color": "rgba(55, 128, 191, 1.0)",
          "line": {
           "color": "#4D5663",
           "width": 1.3
          }
         },
         "name": " B",
         "nbinsx": 10,
         "opacity": 0.8,
         "orientation": "v",
         "type": "histogram",
         "x": [
          2.393955014008052,
          0.7295241671997067,
          -0.7884956516766091,
          -1.0034301871109426,
          0.16122649736514685,
          -0.9393748549724851,
          0.15816754747061676,
          1.8198241080705275,
          -1.1497226248365893,
          -0.16029408790965005,
          -2.012749253092932,
          1.2172107889355217,
          1.6750366580381233,
          2.1393076997774543,
          -0.30493459794081273,
          0.5117292493263356,
          0.7036447179229162,
          -0.38336194489575576,
          -0.10677891756364695,
          -1.7481489414052218,
          0.5714797537661231,
          -0.8092442598891338,
          -1.6832877374490327,
          -0.4644318992048635,
          0.0051413486261414985,
          -2.609875970179155,
          -0.553634388525426,
          -0.7694491366072814,
          -0.18820718993716623,
          -1.1224961058796814,
          -0.03459477443144965,
          1.2698794125597996,
          -0.5024030504728992,
          1.0595030004708539,
          -0.6037368550922615,
          0.9989329972969176,
          1.6209756283836037,
          0.3630825748502837,
          -0.3587803583227967,
          -0.7132325633464235,
          -0.7042268693897041,
          1.4297438834109168,
          0.9662660905840436,
          0.6812386204734382,
          1.9692983017462367,
          -0.3883475675177595,
          1.360133403789544,
          -0.031428521472090735,
          0.24752868479787052,
          1.0403278254600228,
          0.4529724837079801,
          0.015396827100181832,
          -0.12513155683554494,
          -1.2755381919101085,
          -0.6903783402780991,
          -0.8321477150251463,
          0.7100802833730272,
          0.2038546182679955,
          2.151245914410658,
          1.6842236265592216,
          0.4369081103144823,
          -0.03609018209906457,
          1.150837618050103,
          -0.5537681601923262,
          0.949650043718843,
          -0.13525432627398065,
          -2.1107866404480955,
          1.635467526122635,
          -0.23740218435645088,
          1.220538802477475,
          0.9306165060679065,
          -1.2409954340112213,
          -0.4949613682148558,
          1.5258146496265905,
          -1.9809563467247513,
          -0.7143373767905575,
          -0.2296009452499028,
          1.2966094445443843,
          -0.2801452885198963,
          0.24593009690591186,
          -0.10377771955254282,
          0.4784055675167169,
          0.8584728581561504,
          1.6478146732022394,
          0.5886139445888524,
          0.7798036421004724,
          1.2793583250411933,
          -0.9795913396912235,
          0.4350182297991837,
          -1.296413802558348,
          2.489012637471557,
          1.5977712923223037,
          0.1538480901531365,
          0.21381925361730095,
          1.3625846182814374,
          -0.7915574466445902,
          -0.5483019938305197,
          3.629118184331783,
          -0.9625139154517232,
          0.16091743116174276
         ],
         "xaxis": "x6",
         "yaxis": "y6"
        },
        {
         "line": {
          "color": "rgba(128, 128, 128, 1.0)",
          "dash": "solid",
          "shape": "linear",
          "width": 1.3
         },
         "marker": {
          "size": 2,
          "symbol": "circle"
         },
         "mode": "markers",
         "name": " B",
         "text": "",
         "type": "scatter",
         "x": [
          1.372052395993152,
          1.7043867906505903,
          -0.005673427311608795,
          0.3523319008881605,
          0.976318912841944,
          -0.6762880535850897,
          1.2373725872542423,
          -0.6110796875929951,
          -0.29488205191166666,
          -0.2968814623971072,
          -1.1443506116588782,
          -0.6325929857802397,
          -0.7352444098524169,
          0.771177444459734,
          -0.33326450943721153,
          -0.36542117676413094,
          0.5207035604771046,
          0.21656757882599365,
          1.676496594370226,
          0.22628436337669927,
          0.34491046555515753,
          -0.33042871812591135,
          -0.08422658443735433,
          -0.9466164769020331,
          0.8114280389337645,
          0.10534433414270532,
          -1.0078426979638047,
          -1.040582841564319,
          1.1939763043151714,
          1.2245610618888145,
          0.23366189462276138,
          -1.3649812504359462,
          0.9390928268109437,
          0.05787351981098945,
          1.1929731982250726,
          -2.06616860627508,
          0.28509431018806874,
          0.2323615517033693,
          0.3516775764795282,
          0.24508503864859668,
          1.3849109395755559,
          -0.9760554396479139,
          1.0813640430151417,
          0.36741457619539464,
          0.006475567329304382,
          0.1558444173197155,
          -1.5235636238931491,
          0.4075647502936297,
          -0.055964266838521966,
          1.0074505240792073,
          0.36607191463727107,
          -0.5936916313224394,
          -0.021707305496679177,
          1.272854906943038,
          0.8663163220565195,
          -0.8543650239910662,
          0.2350936217889952,
          0.348823341044296,
          -0.36395644242429165,
          -0.8285948978605961,
          2.7410751875438804,
          1.1301724518843879,
          -1.193692306253147,
          0.9090619653462466,
          -0.17957656870996314,
          -0.8735711804577587,
          0.2512892852339795,
          0.8537797545557415,
          -2.6583601614559274,
          0.39477204143391736,
          0.42295611901615515,
          -0.2231966676407804,
          0.5695790944346365,
          0.4626908743852996,
          0.5084796035822099,
          -0.49148203417151204,
          0.2395072818497077,
          -0.10887199249459967,
          1.2400966254118748,
          -0.6220998472288897,
          2.6293580394523803,
          -0.17378728677563526,
          -0.32542567658471244,
          -0.06861705809786599,
          0.40612320092576915,
          -0.4280967391266471,
          -0.2921034019229864,
          0.25299252792599786,
          1.2622408551542035,
          -1.5477962550558262,
          0.8299720853052873,
          0.7668010360268285,
          0.6395574542503853,
          1.083808017569944,
          0.20626164245607248,
          -0.23688527763851755,
          0.4782101700769962,
          0.2815045819680345,
          2.1046162593769124,
          -0.5244446464437239
         ],
         "xaxis": "x7",
         "y": [
          2.393955014008052,
          0.7295241671997067,
          -0.7884956516766091,
          -1.0034301871109426,
          0.16122649736514685,
          -0.9393748549724851,
          0.15816754747061676,
          1.8198241080705275,
          -1.1497226248365893,
          -0.16029408790965005,
          -2.012749253092932,
          1.2172107889355217,
          1.6750366580381233,
          2.1393076997774543,
          -0.30493459794081273,
          0.5117292493263356,
          0.7036447179229162,
          -0.38336194489575576,
          -0.10677891756364695,
          -1.7481489414052218,
          0.5714797537661231,
          -0.8092442598891338,
          -1.6832877374490327,
          -0.4644318992048635,
          0.0051413486261414985,
          -2.609875970179155,
          -0.553634388525426,
          -0.7694491366072814,
          -0.18820718993716623,
          -1.1224961058796814,
          -0.03459477443144965,
          1.2698794125597996,
          -0.5024030504728992,
          1.0595030004708539,
          -0.6037368550922615,
          0.9989329972969176,
          1.6209756283836037,
          0.3630825748502837,
          -0.3587803583227967,
          -0.7132325633464235,
          -0.7042268693897041,
          1.4297438834109168,
          0.9662660905840436,
          0.6812386204734382,
          1.9692983017462367,
          -0.3883475675177595,
          1.360133403789544,
          -0.031428521472090735,
          0.24752868479787052,
          1.0403278254600228,
          0.4529724837079801,
          0.015396827100181832,
          -0.12513155683554494,
          -1.2755381919101085,
          -0.6903783402780991,
          -0.8321477150251463,
          0.7100802833730272,
          0.2038546182679955,
          2.151245914410658,
          1.6842236265592216,
          0.4369081103144823,
          -0.03609018209906457,
          1.150837618050103,
          -0.5537681601923262,
          0.949650043718843,
          -0.13525432627398065,
          -2.1107866404480955,
          1.635467526122635,
          -0.23740218435645088,
          1.220538802477475,
          0.9306165060679065,
          -1.2409954340112213,
          -0.4949613682148558,
          1.5258146496265905,
          -1.9809563467247513,
          -0.7143373767905575,
          -0.2296009452499028,
          1.2966094445443843,
          -0.2801452885198963,
          0.24593009690591186,
          -0.10377771955254282,
          0.4784055675167169,
          0.8584728581561504,
          1.6478146732022394,
          0.5886139445888524,
          0.7798036421004724,
          1.2793583250411933,
          -0.9795913396912235,
          0.4350182297991837,
          -1.296413802558348,
          2.489012637471557,
          1.5977712923223037,
          0.1538480901531365,
          0.21381925361730095,
          1.3625846182814374,
          -0.7915574466445902,
          -0.5483019938305197,
          3.629118184331783,
          -0.9625139154517232,
          0.16091743116174276
         ],
         "yaxis": "y7"
        },
        {
         "line": {
          "color": "rgba(128, 128, 128, 1.0)",
          "dash": "solid",
          "shape": "linear",
          "width": 1.3
         },
         "marker": {
          "size": 2,
          "symbol": "circle"
         },
         "mode": "markers",
         "name": " B",
         "text": "",
         "type": "scatter",
         "x": [
          0.6426171020913116,
          0.05947831050959164,
          0.8057109776007441,
          1.5182216465992566,
          0.17683259271748428,
          -1.201703319160288,
          0.08939571806521496,
          2.0154563391314873,
          1.7301251256429016,
          0.49528261213488545,
          0.0761665451289827,
          1.6103034919331367,
          1.6120448888241674,
          -0.2573136206604346,
          -0.9779054477931095,
          0.09584648166310304,
          -0.07571022687017195,
          0.14592291951912958,
          0.5859863691277728,
          -0.9634514352867459,
          -1.6097533777922932,
          -1.3834694563514975,
          1.3350657642225476,
          2.5348040961290565,
          0.07096153306759836,
          0.6368949669764494,
          -2.491181625238631,
          -2.069948065264797,
          -0.39141325160767837,
          0.8729443579466766,
          -0.15203240827413245,
          1.593493694910104,
          0.19147931889882305,
          -0.2570947529594395,
          -0.2362423478932293,
          -0.24761400944699485,
          1.5498785562590034,
          -1.342736587129085,
          -0.6875756550917744,
          -0.8435542153832782,
          -0.013874970564091298,
          -0.6437810020122223,
          -0.08307285623526937,
          -0.2962296943116745,
          -0.5130982235488185,
          0.3824096226964955,
          -0.5540921670015748,
          1.0153688520081747,
          -0.7952904910998714,
          2.5784952415824245,
          0.8945149051861342,
          0.2519932142685906,
          -1.0221722639024475,
          -1.5520675750466661,
          -1.200280816710757,
          -1.5283381205817728,
          0.35850270542977336,
          0.028661556376518574,
          -0.25417601662240924,
          -0.43123113419811976,
          -0.7992886449170896,
          0.8390223361200038,
          0.343733762605699,
          -0.6743338869442519,
          0.05144922505834395,
          0.2074977159159455,
          0.9843826193439873,
          1.4061675427565727,
          0.11563603180803507,
          0.4530024188769888,
          -0.47629266642328244,
          -0.16710643248919377,
          -0.0515307061316568,
          -0.6588656418257205,
          1.5582301705782957,
          -0.6296407507349331,
          -0.5372426533819447,
          -0.874055648075707,
          -0.9115348231890187,
          0.29738761097200167,
          1.398817190288319,
          -0.03531964926848891,
          -1.269178704672509,
          -1.7086885351716186,
          0.12803766640189806,
          0.6625171606929373,
          0.09803785359242453,
          -0.42955781291017003,
          0.9588026633516734,
          0.8801708158200088,
          -1.505560101488006,
          0.0639479738951868,
          -0.6667387730971316,
          -0.7866002141704426,
          -0.07573694787116873,
          -0.8633462980959028,
          0.37497474414887555,
          0.3307646714610224,
          0.1501616858635575,
          0.2960707050508471
         ],
         "xaxis": "x8",
         "y": [
          2.393955014008052,
          0.7295241671997067,
          -0.7884956516766091,
          -1.0034301871109426,
          0.16122649736514685,
          -0.9393748549724851,
          0.15816754747061676,
          1.8198241080705275,
          -1.1497226248365893,
          -0.16029408790965005,
          -2.012749253092932,
          1.2172107889355217,
          1.6750366580381233,
          2.1393076997774543,
          -0.30493459794081273,
          0.5117292493263356,
          0.7036447179229162,
          -0.38336194489575576,
          -0.10677891756364695,
          -1.7481489414052218,
          0.5714797537661231,
          -0.8092442598891338,
          -1.6832877374490327,
          -0.4644318992048635,
          0.0051413486261414985,
          -2.609875970179155,
          -0.553634388525426,
          -0.7694491366072814,
          -0.18820718993716623,
          -1.1224961058796814,
          -0.03459477443144965,
          1.2698794125597996,
          -0.5024030504728992,
          1.0595030004708539,
          -0.6037368550922615,
          0.9989329972969176,
          1.6209756283836037,
          0.3630825748502837,
          -0.3587803583227967,
          -0.7132325633464235,
          -0.7042268693897041,
          1.4297438834109168,
          0.9662660905840436,
          0.6812386204734382,
          1.9692983017462367,
          -0.3883475675177595,
          1.360133403789544,
          -0.031428521472090735,
          0.24752868479787052,
          1.0403278254600228,
          0.4529724837079801,
          0.015396827100181832,
          -0.12513155683554494,
          -1.2755381919101085,
          -0.6903783402780991,
          -0.8321477150251463,
          0.7100802833730272,
          0.2038546182679955,
          2.151245914410658,
          1.6842236265592216,
          0.4369081103144823,
          -0.03609018209906457,
          1.150837618050103,
          -0.5537681601923262,
          0.949650043718843,
          -0.13525432627398065,
          -2.1107866404480955,
          1.635467526122635,
          -0.23740218435645088,
          1.220538802477475,
          0.9306165060679065,
          -1.2409954340112213,
          -0.4949613682148558,
          1.5258146496265905,
          -1.9809563467247513,
          -0.7143373767905575,
          -0.2296009452499028,
          1.2966094445443843,
          -0.2801452885198963,
          0.24593009690591186,
          -0.10377771955254282,
          0.4784055675167169,
          0.8584728581561504,
          1.6478146732022394,
          0.5886139445888524,
          0.7798036421004724,
          1.2793583250411933,
          -0.9795913396912235,
          0.4350182297991837,
          -1.296413802558348,
          2.489012637471557,
          1.5977712923223037,
          0.1538480901531365,
          0.21381925361730095,
          1.3625846182814374,
          -0.7915574466445902,
          -0.5483019938305197,
          3.629118184331783,
          -0.9625139154517232,
          0.16091743116174276
         ],
         "yaxis": "y8"
        },
        {
         "line": {
          "color": "rgba(128, 128, 128, 1.0)",
          "dash": "solid",
          "shape": "linear",
          "width": 1.3
         },
         "marker": {
          "size": 2,
          "symbol": "circle"
         },
         "mode": "markers",
         "name": " C",
         "text": "",
         "type": "scatter",
         "x": [
          0.2761339514733847,
          1.188804121605242,
          0.08497589522761069,
          -0.34533240320481096,
          -0.07782907635069093,
          -1.2498699046511899,
          -0.11342716786920551,
          0.8992512727833145,
          0.6869949962554535,
          1.0872836110719306,
          0.5624125643232705,
          -0.06872867674511322,
          -1.488294260402288,
          1.1347605759565262,
          -0.04512589510977593,
          -1.1709300462069576,
          2.5699296958065267,
          -2.6949537636334515,
          0.9509967843271091,
          0.9126363660840404,
          -0.893416021982162,
          -0.6709000690385981,
          -0.6764702311155343,
          1.6545543982092468,
          -0.6613351181686137,
          1.3463097312201942,
          1.1953415174451654,
          -0.0023683532837439616,
          -0.7385556666158539,
          -0.09804609750860487,
          -0.24725493992732892,
          0.3704998148593566,
          -0.5179378835723708,
          1.1115432909865557,
          0.6283639633904835,
          -0.0811902814258752,
          -0.7493943203141994,
          -1.154026941611956,
          -0.531290294132609,
          -0.646090508780619,
          -0.41745082465802874,
          -0.9572205692302606,
          0.029535762132137554,
          0.8132802676270556,
          -0.24785671695736364,
          2.757816249804465,
          -0.016600337056652394,
          -0.03229479868311702,
          -0.2767738401048227,
          -1.8835736923431186,
          0.8465033054900883,
          -0.35981629757736416,
          -1.884231824833337,
          0.5429230784561598,
          2.6022101434440357,
          -1.4484745143157174,
          0.2578023462079427,
          0.5370000856732656,
          0.02404680743578104,
          -0.03177599917046245,
          0.5806531394603373,
          -0.050719375105140706,
          0.2571507486178252,
          0.16053241926143327,
          2.4780536465185965,
          -0.40963856353358163,
          0.4982262133827531,
          -1.8370793820561426,
          0.5737037513423762,
          -0.808098912570454,
          -0.3523370407889365,
          -1.5834479584704206,
          0.009656275276085651,
          -0.5035375476668608,
          -1.0664730889309146,
          1.6801569990369594,
          -0.9744459057915644,
          1.9656646886689864,
          0.6123677502516772,
          1.117614219320944,
          1.6793717146667708,
          0.024819821963667815,
          -0.35518721094419947,
          -0.10180586651928844,
          0.15232074131943715,
          1.4313790324915008,
          0.40367088549841706,
          0.5637704529498062,
          -0.4723496462238286,
          -0.639548098210627,
          0.1835297599153169,
          1.4006969448250643,
          2.60871880554445,
          0.4937448850274035,
          0.4518378065874822,
          0.25308441145521465,
          1.2589819790846235,
          -0.22390426447291434,
          0.006012911300815213,
          -2.1920102474812744
         ],
         "xaxis": "x9",
         "y": [
          1.372052395993152,
          1.7043867906505903,
          -0.005673427311608795,
          0.3523319008881605,
          0.976318912841944,
          -0.6762880535850897,
          1.2373725872542423,
          -0.6110796875929951,
          -0.29488205191166666,
          -0.2968814623971072,
          -1.1443506116588782,
          -0.6325929857802397,
          -0.7352444098524169,
          0.771177444459734,
          -0.33326450943721153,
          -0.36542117676413094,
          0.5207035604771046,
          0.21656757882599365,
          1.676496594370226,
          0.22628436337669927,
          0.34491046555515753,
          -0.33042871812591135,
          -0.08422658443735433,
          -0.9466164769020331,
          0.8114280389337645,
          0.10534433414270532,
          -1.0078426979638047,
          -1.040582841564319,
          1.1939763043151714,
          1.2245610618888145,
          0.23366189462276138,
          -1.3649812504359462,
          0.9390928268109437,
          0.05787351981098945,
          1.1929731982250726,
          -2.06616860627508,
          0.28509431018806874,
          0.2323615517033693,
          0.3516775764795282,
          0.24508503864859668,
          1.3849109395755559,
          -0.9760554396479139,
          1.0813640430151417,
          0.36741457619539464,
          0.006475567329304382,
          0.1558444173197155,
          -1.5235636238931491,
          0.4075647502936297,
          -0.055964266838521966,
          1.0074505240792073,
          0.36607191463727107,
          -0.5936916313224394,
          -0.021707305496679177,
          1.272854906943038,
          0.8663163220565195,
          -0.8543650239910662,
          0.2350936217889952,
          0.348823341044296,
          -0.36395644242429165,
          -0.8285948978605961,
          2.7410751875438804,
          1.1301724518843879,
          -1.193692306253147,
          0.9090619653462466,
          -0.17957656870996314,
          -0.8735711804577587,
          0.2512892852339795,
          0.8537797545557415,
          -2.6583601614559274,
          0.39477204143391736,
          0.42295611901615515,
          -0.2231966676407804,
          0.5695790944346365,
          0.4626908743852996,
          0.5084796035822099,
          -0.49148203417151204,
          0.2395072818497077,
          -0.10887199249459967,
          1.2400966254118748,
          -0.6220998472288897,
          2.6293580394523803,
          -0.17378728677563526,
          -0.32542567658471244,
          -0.06861705809786599,
          0.40612320092576915,
          -0.4280967391266471,
          -0.2921034019229864,
          0.25299252792599786,
          1.2622408551542035,
          -1.5477962550558262,
          0.8299720853052873,
          0.7668010360268285,
          0.6395574542503853,
          1.083808017569944,
          0.20626164245607248,
          -0.23688527763851755,
          0.4782101700769962,
          0.2815045819680345,
          2.1046162593769124,
          -0.5244446464437239
         ],
         "yaxis": "y9"
        },
        {
         "line": {
          "color": "rgba(128, 128, 128, 1.0)",
          "dash": "solid",
          "shape": "linear",
          "width": 1.3
         },
         "marker": {
          "size": 2,
          "symbol": "circle"
         },
         "mode": "markers",
         "name": " C",
         "text": "",
         "type": "scatter",
         "x": [
          2.393955014008052,
          0.7295241671997067,
          -0.7884956516766091,
          -1.0034301871109426,
          0.16122649736514685,
          -0.9393748549724851,
          0.15816754747061676,
          1.8198241080705275,
          -1.1497226248365893,
          -0.16029408790965005,
          -2.012749253092932,
          1.2172107889355217,
          1.6750366580381233,
          2.1393076997774543,
          -0.30493459794081273,
          0.5117292493263356,
          0.7036447179229162,
          -0.38336194489575576,
          -0.10677891756364695,
          -1.7481489414052218,
          0.5714797537661231,
          -0.8092442598891338,
          -1.6832877374490327,
          -0.4644318992048635,
          0.0051413486261414985,
          -2.609875970179155,
          -0.553634388525426,
          -0.7694491366072814,
          -0.18820718993716623,
          -1.1224961058796814,
          -0.03459477443144965,
          1.2698794125597996,
          -0.5024030504728992,
          1.0595030004708539,
          -0.6037368550922615,
          0.9989329972969176,
          1.6209756283836037,
          0.3630825748502837,
          -0.3587803583227967,
          -0.7132325633464235,
          -0.7042268693897041,
          1.4297438834109168,
          0.9662660905840436,
          0.6812386204734382,
          1.9692983017462367,
          -0.3883475675177595,
          1.360133403789544,
          -0.031428521472090735,
          0.24752868479787052,
          1.0403278254600228,
          0.4529724837079801,
          0.015396827100181832,
          -0.12513155683554494,
          -1.2755381919101085,
          -0.6903783402780991,
          -0.8321477150251463,
          0.7100802833730272,
          0.2038546182679955,
          2.151245914410658,
          1.6842236265592216,
          0.4369081103144823,
          -0.03609018209906457,
          1.150837618050103,
          -0.5537681601923262,
          0.949650043718843,
          -0.13525432627398065,
          -2.1107866404480955,
          1.635467526122635,
          -0.23740218435645088,
          1.220538802477475,
          0.9306165060679065,
          -1.2409954340112213,
          -0.4949613682148558,
          1.5258146496265905,
          -1.9809563467247513,
          -0.7143373767905575,
          -0.2296009452499028,
          1.2966094445443843,
          -0.2801452885198963,
          0.24593009690591186,
          -0.10377771955254282,
          0.4784055675167169,
          0.8584728581561504,
          1.6478146732022394,
          0.5886139445888524,
          0.7798036421004724,
          1.2793583250411933,
          -0.9795913396912235,
          0.4350182297991837,
          -1.296413802558348,
          2.489012637471557,
          1.5977712923223037,
          0.1538480901531365,
          0.21381925361730095,
          1.3625846182814374,
          -0.7915574466445902,
          -0.5483019938305197,
          3.629118184331783,
          -0.9625139154517232,
          0.16091743116174276
         ],
         "xaxis": "x10",
         "y": [
          1.372052395993152,
          1.7043867906505903,
          -0.005673427311608795,
          0.3523319008881605,
          0.976318912841944,
          -0.6762880535850897,
          1.2373725872542423,
          -0.6110796875929951,
          -0.29488205191166666,
          -0.2968814623971072,
          -1.1443506116588782,
          -0.6325929857802397,
          -0.7352444098524169,
          0.771177444459734,
          -0.33326450943721153,
          -0.36542117676413094,
          0.5207035604771046,
          0.21656757882599365,
          1.676496594370226,
          0.22628436337669927,
          0.34491046555515753,
          -0.33042871812591135,
          -0.08422658443735433,
          -0.9466164769020331,
          0.8114280389337645,
          0.10534433414270532,
          -1.0078426979638047,
          -1.040582841564319,
          1.1939763043151714,
          1.2245610618888145,
          0.23366189462276138,
          -1.3649812504359462,
          0.9390928268109437,
          0.05787351981098945,
          1.1929731982250726,
          -2.06616860627508,
          0.28509431018806874,
          0.2323615517033693,
          0.3516775764795282,
          0.24508503864859668,
          1.3849109395755559,
          -0.9760554396479139,
          1.0813640430151417,
          0.36741457619539464,
          0.006475567329304382,
          0.1558444173197155,
          -1.5235636238931491,
          0.4075647502936297,
          -0.055964266838521966,
          1.0074505240792073,
          0.36607191463727107,
          -0.5936916313224394,
          -0.021707305496679177,
          1.272854906943038,
          0.8663163220565195,
          -0.8543650239910662,
          0.2350936217889952,
          0.348823341044296,
          -0.36395644242429165,
          -0.8285948978605961,
          2.7410751875438804,
          1.1301724518843879,
          -1.193692306253147,
          0.9090619653462466,
          -0.17957656870996314,
          -0.8735711804577587,
          0.2512892852339795,
          0.8537797545557415,
          -2.6583601614559274,
          0.39477204143391736,
          0.42295611901615515,
          -0.2231966676407804,
          0.5695790944346365,
          0.4626908743852996,
          0.5084796035822099,
          -0.49148203417151204,
          0.2395072818497077,
          -0.10887199249459967,
          1.2400966254118748,
          -0.6220998472288897,
          2.6293580394523803,
          -0.17378728677563526,
          -0.32542567658471244,
          -0.06861705809786599,
          0.40612320092576915,
          -0.4280967391266471,
          -0.2921034019229864,
          0.25299252792599786,
          1.2622408551542035,
          -1.5477962550558262,
          0.8299720853052873,
          0.7668010360268285,
          0.6395574542503853,
          1.083808017569944,
          0.20626164245607248,
          -0.23688527763851755,
          0.4782101700769962,
          0.2815045819680345,
          2.1046162593769124,
          -0.5244446464437239
         ],
         "yaxis": "y10"
        },
        {
         "histfunc": "count",
         "histnorm": "",
         "marker": {
          "color": "rgba(50, 171, 96, 1.0)",
          "line": {
           "color": "#4D5663",
           "width": 1.3
          }
         },
         "name": " C",
         "nbinsx": 10,
         "opacity": 0.8,
         "orientation": "v",
         "type": "histogram",
         "x": [
          1.372052395993152,
          1.7043867906505903,
          -0.005673427311608795,
          0.3523319008881605,
          0.976318912841944,
          -0.6762880535850897,
          1.2373725872542423,
          -0.6110796875929951,
          -0.29488205191166666,
          -0.2968814623971072,
          -1.1443506116588782,
          -0.6325929857802397,
          -0.7352444098524169,
          0.771177444459734,
          -0.33326450943721153,
          -0.36542117676413094,
          0.5207035604771046,
          0.21656757882599365,
          1.676496594370226,
          0.22628436337669927,
          0.34491046555515753,
          -0.33042871812591135,
          -0.08422658443735433,
          -0.9466164769020331,
          0.8114280389337645,
          0.10534433414270532,
          -1.0078426979638047,
          -1.040582841564319,
          1.1939763043151714,
          1.2245610618888145,
          0.23366189462276138,
          -1.3649812504359462,
          0.9390928268109437,
          0.05787351981098945,
          1.1929731982250726,
          -2.06616860627508,
          0.28509431018806874,
          0.2323615517033693,
          0.3516775764795282,
          0.24508503864859668,
          1.3849109395755559,
          -0.9760554396479139,
          1.0813640430151417,
          0.36741457619539464,
          0.006475567329304382,
          0.1558444173197155,
          -1.5235636238931491,
          0.4075647502936297,
          -0.055964266838521966,
          1.0074505240792073,
          0.36607191463727107,
          -0.5936916313224394,
          -0.021707305496679177,
          1.272854906943038,
          0.8663163220565195,
          -0.8543650239910662,
          0.2350936217889952,
          0.348823341044296,
          -0.36395644242429165,
          -0.8285948978605961,
          2.7410751875438804,
          1.1301724518843879,
          -1.193692306253147,
          0.9090619653462466,
          -0.17957656870996314,
          -0.8735711804577587,
          0.2512892852339795,
          0.8537797545557415,
          -2.6583601614559274,
          0.39477204143391736,
          0.42295611901615515,
          -0.2231966676407804,
          0.5695790944346365,
          0.4626908743852996,
          0.5084796035822099,
          -0.49148203417151204,
          0.2395072818497077,
          -0.10887199249459967,
          1.2400966254118748,
          -0.6220998472288897,
          2.6293580394523803,
          -0.17378728677563526,
          -0.32542567658471244,
          -0.06861705809786599,
          0.40612320092576915,
          -0.4280967391266471,
          -0.2921034019229864,
          0.25299252792599786,
          1.2622408551542035,
          -1.5477962550558262,
          0.8299720853052873,
          0.7668010360268285,
          0.6395574542503853,
          1.083808017569944,
          0.20626164245607248,
          -0.23688527763851755,
          0.4782101700769962,
          0.2815045819680345,
          2.1046162593769124,
          -0.5244446464437239
         ],
         "xaxis": "x11",
         "yaxis": "y11"
        },
        {
         "line": {
          "color": "rgba(128, 128, 128, 1.0)",
          "dash": "solid",
          "shape": "linear",
          "width": 1.3
         },
         "marker": {
          "size": 2,
          "symbol": "circle"
         },
         "mode": "markers",
         "name": " C",
         "text": "",
         "type": "scatter",
         "x": [
          0.6426171020913116,
          0.05947831050959164,
          0.8057109776007441,
          1.5182216465992566,
          0.17683259271748428,
          -1.201703319160288,
          0.08939571806521496,
          2.0154563391314873,
          1.7301251256429016,
          0.49528261213488545,
          0.0761665451289827,
          1.6103034919331367,
          1.6120448888241674,
          -0.2573136206604346,
          -0.9779054477931095,
          0.09584648166310304,
          -0.07571022687017195,
          0.14592291951912958,
          0.5859863691277728,
          -0.9634514352867459,
          -1.6097533777922932,
          -1.3834694563514975,
          1.3350657642225476,
          2.5348040961290565,
          0.07096153306759836,
          0.6368949669764494,
          -2.491181625238631,
          -2.069948065264797,
          -0.39141325160767837,
          0.8729443579466766,
          -0.15203240827413245,
          1.593493694910104,
          0.19147931889882305,
          -0.2570947529594395,
          -0.2362423478932293,
          -0.24761400944699485,
          1.5498785562590034,
          -1.342736587129085,
          -0.6875756550917744,
          -0.8435542153832782,
          -0.013874970564091298,
          -0.6437810020122223,
          -0.08307285623526937,
          -0.2962296943116745,
          -0.5130982235488185,
          0.3824096226964955,
          -0.5540921670015748,
          1.0153688520081747,
          -0.7952904910998714,
          2.5784952415824245,
          0.8945149051861342,
          0.2519932142685906,
          -1.0221722639024475,
          -1.5520675750466661,
          -1.200280816710757,
          -1.5283381205817728,
          0.35850270542977336,
          0.028661556376518574,
          -0.25417601662240924,
          -0.43123113419811976,
          -0.7992886449170896,
          0.8390223361200038,
          0.343733762605699,
          -0.6743338869442519,
          0.05144922505834395,
          0.2074977159159455,
          0.9843826193439873,
          1.4061675427565727,
          0.11563603180803507,
          0.4530024188769888,
          -0.47629266642328244,
          -0.16710643248919377,
          -0.0515307061316568,
          -0.6588656418257205,
          1.5582301705782957,
          -0.6296407507349331,
          -0.5372426533819447,
          -0.874055648075707,
          -0.9115348231890187,
          0.29738761097200167,
          1.398817190288319,
          -0.03531964926848891,
          -1.269178704672509,
          -1.7086885351716186,
          0.12803766640189806,
          0.6625171606929373,
          0.09803785359242453,
          -0.42955781291017003,
          0.9588026633516734,
          0.8801708158200088,
          -1.505560101488006,
          0.0639479738951868,
          -0.6667387730971316,
          -0.7866002141704426,
          -0.07573694787116873,
          -0.8633462980959028,
          0.37497474414887555,
          0.3307646714610224,
          0.1501616858635575,
          0.2960707050508471
         ],
         "xaxis": "x12",
         "y": [
          1.372052395993152,
          1.7043867906505903,
          -0.005673427311608795,
          0.3523319008881605,
          0.976318912841944,
          -0.6762880535850897,
          1.2373725872542423,
          -0.6110796875929951,
          -0.29488205191166666,
          -0.2968814623971072,
          -1.1443506116588782,
          -0.6325929857802397,
          -0.7352444098524169,
          0.771177444459734,
          -0.33326450943721153,
          -0.36542117676413094,
          0.5207035604771046,
          0.21656757882599365,
          1.676496594370226,
          0.22628436337669927,
          0.34491046555515753,
          -0.33042871812591135,
          -0.08422658443735433,
          -0.9466164769020331,
          0.8114280389337645,
          0.10534433414270532,
          -1.0078426979638047,
          -1.040582841564319,
          1.1939763043151714,
          1.2245610618888145,
          0.23366189462276138,
          -1.3649812504359462,
          0.9390928268109437,
          0.05787351981098945,
          1.1929731982250726,
          -2.06616860627508,
          0.28509431018806874,
          0.2323615517033693,
          0.3516775764795282,
          0.24508503864859668,
          1.3849109395755559,
          -0.9760554396479139,
          1.0813640430151417,
          0.36741457619539464,
          0.006475567329304382,
          0.1558444173197155,
          -1.5235636238931491,
          0.4075647502936297,
          -0.055964266838521966,
          1.0074505240792073,
          0.36607191463727107,
          -0.5936916313224394,
          -0.021707305496679177,
          1.272854906943038,
          0.8663163220565195,
          -0.8543650239910662,
          0.2350936217889952,
          0.348823341044296,
          -0.36395644242429165,
          -0.8285948978605961,
          2.7410751875438804,
          1.1301724518843879,
          -1.193692306253147,
          0.9090619653462466,
          -0.17957656870996314,
          -0.8735711804577587,
          0.2512892852339795,
          0.8537797545557415,
          -2.6583601614559274,
          0.39477204143391736,
          0.42295611901615515,
          -0.2231966676407804,
          0.5695790944346365,
          0.4626908743852996,
          0.5084796035822099,
          -0.49148203417151204,
          0.2395072818497077,
          -0.10887199249459967,
          1.2400966254118748,
          -0.6220998472288897,
          2.6293580394523803,
          -0.17378728677563526,
          -0.32542567658471244,
          -0.06861705809786599,
          0.40612320092576915,
          -0.4280967391266471,
          -0.2921034019229864,
          0.25299252792599786,
          1.2622408551542035,
          -1.5477962550558262,
          0.8299720853052873,
          0.7668010360268285,
          0.6395574542503853,
          1.083808017569944,
          0.20626164245607248,
          -0.23688527763851755,
          0.4782101700769962,
          0.2815045819680345,
          2.1046162593769124,
          -0.5244446464437239
         ],
         "yaxis": "y12"
        },
        {
         "line": {
          "color": "rgba(128, 128, 128, 1.0)",
          "dash": "solid",
          "shape": "linear",
          "width": 1.3
         },
         "marker": {
          "size": 2,
          "symbol": "circle"
         },
         "mode": "markers",
         "name": " D",
         "text": "",
         "type": "scatter",
         "x": [
          0.2761339514733847,
          1.188804121605242,
          0.08497589522761069,
          -0.34533240320481096,
          -0.07782907635069093,
          -1.2498699046511899,
          -0.11342716786920551,
          0.8992512727833145,
          0.6869949962554535,
          1.0872836110719306,
          0.5624125643232705,
          -0.06872867674511322,
          -1.488294260402288,
          1.1347605759565262,
          -0.04512589510977593,
          -1.1709300462069576,
          2.5699296958065267,
          -2.6949537636334515,
          0.9509967843271091,
          0.9126363660840404,
          -0.893416021982162,
          -0.6709000690385981,
          -0.6764702311155343,
          1.6545543982092468,
          -0.6613351181686137,
          1.3463097312201942,
          1.1953415174451654,
          -0.0023683532837439616,
          -0.7385556666158539,
          -0.09804609750860487,
          -0.24725493992732892,
          0.3704998148593566,
          -0.5179378835723708,
          1.1115432909865557,
          0.6283639633904835,
          -0.0811902814258752,
          -0.7493943203141994,
          -1.154026941611956,
          -0.531290294132609,
          -0.646090508780619,
          -0.41745082465802874,
          -0.9572205692302606,
          0.029535762132137554,
          0.8132802676270556,
          -0.24785671695736364,
          2.757816249804465,
          -0.016600337056652394,
          -0.03229479868311702,
          -0.2767738401048227,
          -1.8835736923431186,
          0.8465033054900883,
          -0.35981629757736416,
          -1.884231824833337,
          0.5429230784561598,
          2.6022101434440357,
          -1.4484745143157174,
          0.2578023462079427,
          0.5370000856732656,
          0.02404680743578104,
          -0.03177599917046245,
          0.5806531394603373,
          -0.050719375105140706,
          0.2571507486178252,
          0.16053241926143327,
          2.4780536465185965,
          -0.40963856353358163,
          0.4982262133827531,
          -1.8370793820561426,
          0.5737037513423762,
          -0.808098912570454,
          -0.3523370407889365,
          -1.5834479584704206,
          0.009656275276085651,
          -0.5035375476668608,
          -1.0664730889309146,
          1.6801569990369594,
          -0.9744459057915644,
          1.9656646886689864,
          0.6123677502516772,
          1.117614219320944,
          1.6793717146667708,
          0.024819821963667815,
          -0.35518721094419947,
          -0.10180586651928844,
          0.15232074131943715,
          1.4313790324915008,
          0.40367088549841706,
          0.5637704529498062,
          -0.4723496462238286,
          -0.639548098210627,
          0.1835297599153169,
          1.4006969448250643,
          2.60871880554445,
          0.4937448850274035,
          0.4518378065874822,
          0.25308441145521465,
          1.2589819790846235,
          -0.22390426447291434,
          0.006012911300815213,
          -2.1920102474812744
         ],
         "xaxis": "x13",
         "y": [
          0.6426171020913116,
          0.05947831050959164,
          0.8057109776007441,
          1.5182216465992566,
          0.17683259271748428,
          -1.201703319160288,
          0.08939571806521496,
          2.0154563391314873,
          1.7301251256429016,
          0.49528261213488545,
          0.0761665451289827,
          1.6103034919331367,
          1.6120448888241674,
          -0.2573136206604346,
          -0.9779054477931095,
          0.09584648166310304,
          -0.07571022687017195,
          0.14592291951912958,
          0.5859863691277728,
          -0.9634514352867459,
          -1.6097533777922932,
          -1.3834694563514975,
          1.3350657642225476,
          2.5348040961290565,
          0.07096153306759836,
          0.6368949669764494,
          -2.491181625238631,
          -2.069948065264797,
          -0.39141325160767837,
          0.8729443579466766,
          -0.15203240827413245,
          1.593493694910104,
          0.19147931889882305,
          -0.2570947529594395,
          -0.2362423478932293,
          -0.24761400944699485,
          1.5498785562590034,
          -1.342736587129085,
          -0.6875756550917744,
          -0.8435542153832782,
          -0.013874970564091298,
          -0.6437810020122223,
          -0.08307285623526937,
          -0.2962296943116745,
          -0.5130982235488185,
          0.3824096226964955,
          -0.5540921670015748,
          1.0153688520081747,
          -0.7952904910998714,
          2.5784952415824245,
          0.8945149051861342,
          0.2519932142685906,
          -1.0221722639024475,
          -1.5520675750466661,
          -1.200280816710757,
          -1.5283381205817728,
          0.35850270542977336,
          0.028661556376518574,
          -0.25417601662240924,
          -0.43123113419811976,
          -0.7992886449170896,
          0.8390223361200038,
          0.343733762605699,
          -0.6743338869442519,
          0.05144922505834395,
          0.2074977159159455,
          0.9843826193439873,
          1.4061675427565727,
          0.11563603180803507,
          0.4530024188769888,
          -0.47629266642328244,
          -0.16710643248919377,
          -0.0515307061316568,
          -0.6588656418257205,
          1.5582301705782957,
          -0.6296407507349331,
          -0.5372426533819447,
          -0.874055648075707,
          -0.9115348231890187,
          0.29738761097200167,
          1.398817190288319,
          -0.03531964926848891,
          -1.269178704672509,
          -1.7086885351716186,
          0.12803766640189806,
          0.6625171606929373,
          0.09803785359242453,
          -0.42955781291017003,
          0.9588026633516734,
          0.8801708158200088,
          -1.505560101488006,
          0.0639479738951868,
          -0.6667387730971316,
          -0.7866002141704426,
          -0.07573694787116873,
          -0.8633462980959028,
          0.37497474414887555,
          0.3307646714610224,
          0.1501616858635575,
          0.2960707050508471
         ],
         "yaxis": "y13"
        },
        {
         "line": {
          "color": "rgba(128, 128, 128, 1.0)",
          "dash": "solid",
          "shape": "linear",
          "width": 1.3
         },
         "marker": {
          "size": 2,
          "symbol": "circle"
         },
         "mode": "markers",
         "name": " D",
         "text": "",
         "type": "scatter",
         "x": [
          2.393955014008052,
          0.7295241671997067,
          -0.7884956516766091,
          -1.0034301871109426,
          0.16122649736514685,
          -0.9393748549724851,
          0.15816754747061676,
          1.8198241080705275,
          -1.1497226248365893,
          -0.16029408790965005,
          -2.012749253092932,
          1.2172107889355217,
          1.6750366580381233,
          2.1393076997774543,
          -0.30493459794081273,
          0.5117292493263356,
          0.7036447179229162,
          -0.38336194489575576,
          -0.10677891756364695,
          -1.7481489414052218,
          0.5714797537661231,
          -0.8092442598891338,
          -1.6832877374490327,
          -0.4644318992048635,
          0.0051413486261414985,
          -2.609875970179155,
          -0.553634388525426,
          -0.7694491366072814,
          -0.18820718993716623,
          -1.1224961058796814,
          -0.03459477443144965,
          1.2698794125597996,
          -0.5024030504728992,
          1.0595030004708539,
          -0.6037368550922615,
          0.9989329972969176,
          1.6209756283836037,
          0.3630825748502837,
          -0.3587803583227967,
          -0.7132325633464235,
          -0.7042268693897041,
          1.4297438834109168,
          0.9662660905840436,
          0.6812386204734382,
          1.9692983017462367,
          -0.3883475675177595,
          1.360133403789544,
          -0.031428521472090735,
          0.24752868479787052,
          1.0403278254600228,
          0.4529724837079801,
          0.015396827100181832,
          -0.12513155683554494,
          -1.2755381919101085,
          -0.6903783402780991,
          -0.8321477150251463,
          0.7100802833730272,
          0.2038546182679955,
          2.151245914410658,
          1.6842236265592216,
          0.4369081103144823,
          -0.03609018209906457,
          1.150837618050103,
          -0.5537681601923262,
          0.949650043718843,
          -0.13525432627398065,
          -2.1107866404480955,
          1.635467526122635,
          -0.23740218435645088,
          1.220538802477475,
          0.9306165060679065,
          -1.2409954340112213,
          -0.4949613682148558,
          1.5258146496265905,
          -1.9809563467247513,
          -0.7143373767905575,
          -0.2296009452499028,
          1.2966094445443843,
          -0.2801452885198963,
          0.24593009690591186,
          -0.10377771955254282,
          0.4784055675167169,
          0.8584728581561504,
          1.6478146732022394,
          0.5886139445888524,
          0.7798036421004724,
          1.2793583250411933,
          -0.9795913396912235,
          0.4350182297991837,
          -1.296413802558348,
          2.489012637471557,
          1.5977712923223037,
          0.1538480901531365,
          0.21381925361730095,
          1.3625846182814374,
          -0.7915574466445902,
          -0.5483019938305197,
          3.629118184331783,
          -0.9625139154517232,
          0.16091743116174276
         ],
         "xaxis": "x14",
         "y": [
          0.6426171020913116,
          0.05947831050959164,
          0.8057109776007441,
          1.5182216465992566,
          0.17683259271748428,
          -1.201703319160288,
          0.08939571806521496,
          2.0154563391314873,
          1.7301251256429016,
          0.49528261213488545,
          0.0761665451289827,
          1.6103034919331367,
          1.6120448888241674,
          -0.2573136206604346,
          -0.9779054477931095,
          0.09584648166310304,
          -0.07571022687017195,
          0.14592291951912958,
          0.5859863691277728,
          -0.9634514352867459,
          -1.6097533777922932,
          -1.3834694563514975,
          1.3350657642225476,
          2.5348040961290565,
          0.07096153306759836,
          0.6368949669764494,
          -2.491181625238631,
          -2.069948065264797,
          -0.39141325160767837,
          0.8729443579466766,
          -0.15203240827413245,
          1.593493694910104,
          0.19147931889882305,
          -0.2570947529594395,
          -0.2362423478932293,
          -0.24761400944699485,
          1.5498785562590034,
          -1.342736587129085,
          -0.6875756550917744,
          -0.8435542153832782,
          -0.013874970564091298,
          -0.6437810020122223,
          -0.08307285623526937,
          -0.2962296943116745,
          -0.5130982235488185,
          0.3824096226964955,
          -0.5540921670015748,
          1.0153688520081747,
          -0.7952904910998714,
          2.5784952415824245,
          0.8945149051861342,
          0.2519932142685906,
          -1.0221722639024475,
          -1.5520675750466661,
          -1.200280816710757,
          -1.5283381205817728,
          0.35850270542977336,
          0.028661556376518574,
          -0.25417601662240924,
          -0.43123113419811976,
          -0.7992886449170896,
          0.8390223361200038,
          0.343733762605699,
          -0.6743338869442519,
          0.05144922505834395,
          0.2074977159159455,
          0.9843826193439873,
          1.4061675427565727,
          0.11563603180803507,
          0.4530024188769888,
          -0.47629266642328244,
          -0.16710643248919377,
          -0.0515307061316568,
          -0.6588656418257205,
          1.5582301705782957,
          -0.6296407507349331,
          -0.5372426533819447,
          -0.874055648075707,
          -0.9115348231890187,
          0.29738761097200167,
          1.398817190288319,
          -0.03531964926848891,
          -1.269178704672509,
          -1.7086885351716186,
          0.12803766640189806,
          0.6625171606929373,
          0.09803785359242453,
          -0.42955781291017003,
          0.9588026633516734,
          0.8801708158200088,
          -1.505560101488006,
          0.0639479738951868,
          -0.6667387730971316,
          -0.7866002141704426,
          -0.07573694787116873,
          -0.8633462980959028,
          0.37497474414887555,
          0.3307646714610224,
          0.1501616858635575,
          0.2960707050508471
         ],
         "yaxis": "y14"
        },
        {
         "line": {
          "color": "rgba(128, 128, 128, 1.0)",
          "dash": "solid",
          "shape": "linear",
          "width": 1.3
         },
         "marker": {
          "size": 2,
          "symbol": "circle"
         },
         "mode": "markers",
         "name": " D",
         "text": "",
         "type": "scatter",
         "x": [
          1.372052395993152,
          1.7043867906505903,
          -0.005673427311608795,
          0.3523319008881605,
          0.976318912841944,
          -0.6762880535850897,
          1.2373725872542423,
          -0.6110796875929951,
          -0.29488205191166666,
          -0.2968814623971072,
          -1.1443506116588782,
          -0.6325929857802397,
          -0.7352444098524169,
          0.771177444459734,
          -0.33326450943721153,
          -0.36542117676413094,
          0.5207035604771046,
          0.21656757882599365,
          1.676496594370226,
          0.22628436337669927,
          0.34491046555515753,
          -0.33042871812591135,
          -0.08422658443735433,
          -0.9466164769020331,
          0.8114280389337645,
          0.10534433414270532,
          -1.0078426979638047,
          -1.040582841564319,
          1.1939763043151714,
          1.2245610618888145,
          0.23366189462276138,
          -1.3649812504359462,
          0.9390928268109437,
          0.05787351981098945,
          1.1929731982250726,
          -2.06616860627508,
          0.28509431018806874,
          0.2323615517033693,
          0.3516775764795282,
          0.24508503864859668,
          1.3849109395755559,
          -0.9760554396479139,
          1.0813640430151417,
          0.36741457619539464,
          0.006475567329304382,
          0.1558444173197155,
          -1.5235636238931491,
          0.4075647502936297,
          -0.055964266838521966,
          1.0074505240792073,
          0.36607191463727107,
          -0.5936916313224394,
          -0.021707305496679177,
          1.272854906943038,
          0.8663163220565195,
          -0.8543650239910662,
          0.2350936217889952,
          0.348823341044296,
          -0.36395644242429165,
          -0.8285948978605961,
          2.7410751875438804,
          1.1301724518843879,
          -1.193692306253147,
          0.9090619653462466,
          -0.17957656870996314,
          -0.8735711804577587,
          0.2512892852339795,
          0.8537797545557415,
          -2.6583601614559274,
          0.39477204143391736,
          0.42295611901615515,
          -0.2231966676407804,
          0.5695790944346365,
          0.4626908743852996,
          0.5084796035822099,
          -0.49148203417151204,
          0.2395072818497077,
          -0.10887199249459967,
          1.2400966254118748,
          -0.6220998472288897,
          2.6293580394523803,
          -0.17378728677563526,
          -0.32542567658471244,
          -0.06861705809786599,
          0.40612320092576915,
          -0.4280967391266471,
          -0.2921034019229864,
          0.25299252792599786,
          1.2622408551542035,
          -1.5477962550558262,
          0.8299720853052873,
          0.7668010360268285,
          0.6395574542503853,
          1.083808017569944,
          0.20626164245607248,
          -0.23688527763851755,
          0.4782101700769962,
          0.2815045819680345,
          2.1046162593769124,
          -0.5244446464437239
         ],
         "xaxis": "x15",
         "y": [
          0.6426171020913116,
          0.05947831050959164,
          0.8057109776007441,
          1.5182216465992566,
          0.17683259271748428,
          -1.201703319160288,
          0.08939571806521496,
          2.0154563391314873,
          1.7301251256429016,
          0.49528261213488545,
          0.0761665451289827,
          1.6103034919331367,
          1.6120448888241674,
          -0.2573136206604346,
          -0.9779054477931095,
          0.09584648166310304,
          -0.07571022687017195,
          0.14592291951912958,
          0.5859863691277728,
          -0.9634514352867459,
          -1.6097533777922932,
          -1.3834694563514975,
          1.3350657642225476,
          2.5348040961290565,
          0.07096153306759836,
          0.6368949669764494,
          -2.491181625238631,
          -2.069948065264797,
          -0.39141325160767837,
          0.8729443579466766,
          -0.15203240827413245,
          1.593493694910104,
          0.19147931889882305,
          -0.2570947529594395,
          -0.2362423478932293,
          -0.24761400944699485,
          1.5498785562590034,
          -1.342736587129085,
          -0.6875756550917744,
          -0.8435542153832782,
          -0.013874970564091298,
          -0.6437810020122223,
          -0.08307285623526937,
          -0.2962296943116745,
          -0.5130982235488185,
          0.3824096226964955,
          -0.5540921670015748,
          1.0153688520081747,
          -0.7952904910998714,
          2.5784952415824245,
          0.8945149051861342,
          0.2519932142685906,
          -1.0221722639024475,
          -1.5520675750466661,
          -1.200280816710757,
          -1.5283381205817728,
          0.35850270542977336,
          0.028661556376518574,
          -0.25417601662240924,
          -0.43123113419811976,
          -0.7992886449170896,
          0.8390223361200038,
          0.343733762605699,
          -0.6743338869442519,
          0.05144922505834395,
          0.2074977159159455,
          0.9843826193439873,
          1.4061675427565727,
          0.11563603180803507,
          0.4530024188769888,
          -0.47629266642328244,
          -0.16710643248919377,
          -0.0515307061316568,
          -0.6588656418257205,
          1.5582301705782957,
          -0.6296407507349331,
          -0.5372426533819447,
          -0.874055648075707,
          -0.9115348231890187,
          0.29738761097200167,
          1.398817190288319,
          -0.03531964926848891,
          -1.269178704672509,
          -1.7086885351716186,
          0.12803766640189806,
          0.6625171606929373,
          0.09803785359242453,
          -0.42955781291017003,
          0.9588026633516734,
          0.8801708158200088,
          -1.505560101488006,
          0.0639479738951868,
          -0.6667387730971316,
          -0.7866002141704426,
          -0.07573694787116873,
          -0.8633462980959028,
          0.37497474414887555,
          0.3307646714610224,
          0.1501616858635575,
          0.2960707050508471
         ],
         "yaxis": "y15"
        },
        {
         "histfunc": "count",
         "histnorm": "",
         "marker": {
          "color": "rgba(128, 0, 128, 1.0)",
          "line": {
           "color": "#4D5663",
           "width": 1.3
          }
         },
         "name": " D",
         "nbinsx": 10,
         "opacity": 0.8,
         "orientation": "v",
         "type": "histogram",
         "x": [
          0.6426171020913116,
          0.05947831050959164,
          0.8057109776007441,
          1.5182216465992566,
          0.17683259271748428,
          -1.201703319160288,
          0.08939571806521496,
          2.0154563391314873,
          1.7301251256429016,
          0.49528261213488545,
          0.0761665451289827,
          1.6103034919331367,
          1.6120448888241674,
          -0.2573136206604346,
          -0.9779054477931095,
          0.09584648166310304,
          -0.07571022687017195,
          0.14592291951912958,
          0.5859863691277728,
          -0.9634514352867459,
          -1.6097533777922932,
          -1.3834694563514975,
          1.3350657642225476,
          2.5348040961290565,
          0.07096153306759836,
          0.6368949669764494,
          -2.491181625238631,
          -2.069948065264797,
          -0.39141325160767837,
          0.8729443579466766,
          -0.15203240827413245,
          1.593493694910104,
          0.19147931889882305,
          -0.2570947529594395,
          -0.2362423478932293,
          -0.24761400944699485,
          1.5498785562590034,
          -1.342736587129085,
          -0.6875756550917744,
          -0.8435542153832782,
          -0.013874970564091298,
          -0.6437810020122223,
          -0.08307285623526937,
          -0.2962296943116745,
          -0.5130982235488185,
          0.3824096226964955,
          -0.5540921670015748,
          1.0153688520081747,
          -0.7952904910998714,
          2.5784952415824245,
          0.8945149051861342,
          0.2519932142685906,
          -1.0221722639024475,
          -1.5520675750466661,
          -1.200280816710757,
          -1.5283381205817728,
          0.35850270542977336,
          0.028661556376518574,
          -0.25417601662240924,
          -0.43123113419811976,
          -0.7992886449170896,
          0.8390223361200038,
          0.343733762605699,
          -0.6743338869442519,
          0.05144922505834395,
          0.2074977159159455,
          0.9843826193439873,
          1.4061675427565727,
          0.11563603180803507,
          0.4530024188769888,
          -0.47629266642328244,
          -0.16710643248919377,
          -0.0515307061316568,
          -0.6588656418257205,
          1.5582301705782957,
          -0.6296407507349331,
          -0.5372426533819447,
          -0.874055648075707,
          -0.9115348231890187,
          0.29738761097200167,
          1.398817190288319,
          -0.03531964926848891,
          -1.269178704672509,
          -1.7086885351716186,
          0.12803766640189806,
          0.6625171606929373,
          0.09803785359242453,
          -0.42955781291017003,
          0.9588026633516734,
          0.8801708158200088,
          -1.505560101488006,
          0.0639479738951868,
          -0.6667387730971316,
          -0.7866002141704426,
          -0.07573694787116873,
          -0.8633462980959028,
          0.37497474414887555,
          0.3307646714610224,
          0.1501616858635575,
          0.2960707050508471
         ],
         "xaxis": "x16",
         "yaxis": "y16"
        }
       ],
       "layout": {
        "bargap": 0.02,
        "legend": {
         "bgcolor": "#F5F6F9",
         "font": {
          "color": "#4D5663"
         }
        },
        "paper_bgcolor": "#F5F6F9",
        "plot_bgcolor": "#F5F6F9",
        "showlegend": false,
        "template": {
         "data": {
          "bar": [
           {
            "error_x": {
             "color": "#2a3f5f"
            },
            "error_y": {
             "color": "#2a3f5f"
            },
            "marker": {
             "line": {
              "color": "#E5ECF6",
              "width": 0.5
             }
            },
            "type": "bar"
           }
          ],
          "barpolar": [
           {
            "marker": {
             "line": {
              "color": "#E5ECF6",
              "width": 0.5
             }
            },
            "type": "barpolar"
           }
          ],
          "carpet": [
           {
            "aaxis": {
             "endlinecolor": "#2a3f5f",
             "gridcolor": "white",
             "linecolor": "white",
             "minorgridcolor": "white",
             "startlinecolor": "#2a3f5f"
            },
            "baxis": {
             "endlinecolor": "#2a3f5f",
             "gridcolor": "white",
             "linecolor": "white",
             "minorgridcolor": "white",
             "startlinecolor": "#2a3f5f"
            },
            "type": "carpet"
           }
          ],
          "choropleth": [
           {
            "colorbar": {
             "outlinewidth": 0,
             "ticks": ""
            },
            "type": "choropleth"
           }
          ],
          "contour": [
           {
            "colorbar": {
             "outlinewidth": 0,
             "ticks": ""
            },
            "colorscale": [
             [
              0,
              "#0d0887"
             ],
             [
              0.1111111111111111,
              "#46039f"
             ],
             [
              0.2222222222222222,
              "#7201a8"
             ],
             [
              0.3333333333333333,
              "#9c179e"
             ],
             [
              0.4444444444444444,
              "#bd3786"
             ],
             [
              0.5555555555555556,
              "#d8576b"
             ],
             [
              0.6666666666666666,
              "#ed7953"
             ],
             [
              0.7777777777777778,
              "#fb9f3a"
             ],
             [
              0.8888888888888888,
              "#fdca26"
             ],
             [
              1,
              "#f0f921"
             ]
            ],
            "type": "contour"
           }
          ],
          "contourcarpet": [
           {
            "colorbar": {
             "outlinewidth": 0,
             "ticks": ""
            },
            "type": "contourcarpet"
           }
          ],
          "heatmap": [
           {
            "colorbar": {
             "outlinewidth": 0,
             "ticks": ""
            },
            "colorscale": [
             [
              0,
              "#0d0887"
             ],
             [
              0.1111111111111111,
              "#46039f"
             ],
             [
              0.2222222222222222,
              "#7201a8"
             ],
             [
              0.3333333333333333,
              "#9c179e"
             ],
             [
              0.4444444444444444,
              "#bd3786"
             ],
             [
              0.5555555555555556,
              "#d8576b"
             ],
             [
              0.6666666666666666,
              "#ed7953"
             ],
             [
              0.7777777777777778,
              "#fb9f3a"
             ],
             [
              0.8888888888888888,
              "#fdca26"
             ],
             [
              1,
              "#f0f921"
             ]
            ],
            "type": "heatmap"
           }
          ],
          "heatmapgl": [
           {
            "colorbar": {
             "outlinewidth": 0,
             "ticks": ""
            },
            "colorscale": [
             [
              0,
              "#0d0887"
             ],
             [
              0.1111111111111111,
              "#46039f"
             ],
             [
              0.2222222222222222,
              "#7201a8"
             ],
             [
              0.3333333333333333,
              "#9c179e"
             ],
             [
              0.4444444444444444,
              "#bd3786"
             ],
             [
              0.5555555555555556,
              "#d8576b"
             ],
             [
              0.6666666666666666,
              "#ed7953"
             ],
             [
              0.7777777777777778,
              "#fb9f3a"
             ],
             [
              0.8888888888888888,
              "#fdca26"
             ],
             [
              1,
              "#f0f921"
             ]
            ],
            "type": "heatmapgl"
           }
          ],
          "histogram": [
           {
            "marker": {
             "colorbar": {
              "outlinewidth": 0,
              "ticks": ""
             }
            },
            "type": "histogram"
           }
          ],
          "histogram2d": [
           {
            "colorbar": {
             "outlinewidth": 0,
             "ticks": ""
            },
            "colorscale": [
             [
              0,
              "#0d0887"
             ],
             [
              0.1111111111111111,
              "#46039f"
             ],
             [
              0.2222222222222222,
              "#7201a8"
             ],
             [
              0.3333333333333333,
              "#9c179e"
             ],
             [
              0.4444444444444444,
              "#bd3786"
             ],
             [
              0.5555555555555556,
              "#d8576b"
             ],
             [
              0.6666666666666666,
              "#ed7953"
             ],
             [
              0.7777777777777778,
              "#fb9f3a"
             ],
             [
              0.8888888888888888,
              "#fdca26"
             ],
             [
              1,
              "#f0f921"
             ]
            ],
            "type": "histogram2d"
           }
          ],
          "histogram2dcontour": [
           {
            "colorbar": {
             "outlinewidth": 0,
             "ticks": ""
            },
            "colorscale": [
             [
              0,
              "#0d0887"
             ],
             [
              0.1111111111111111,
              "#46039f"
             ],
             [
              0.2222222222222222,
              "#7201a8"
             ],
             [
              0.3333333333333333,
              "#9c179e"
             ],
             [
              0.4444444444444444,
              "#bd3786"
             ],
             [
              0.5555555555555556,
              "#d8576b"
             ],
             [
              0.6666666666666666,
              "#ed7953"
             ],
             [
              0.7777777777777778,
              "#fb9f3a"
             ],
             [
              0.8888888888888888,
              "#fdca26"
             ],
             [
              1,
              "#f0f921"
             ]
            ],
            "type": "histogram2dcontour"
           }
          ],
          "mesh3d": [
           {
            "colorbar": {
             "outlinewidth": 0,
             "ticks": ""
            },
            "type": "mesh3d"
           }
          ],
          "parcoords": [
           {
            "line": {
             "colorbar": {
              "outlinewidth": 0,
              "ticks": ""
             }
            },
            "type": "parcoords"
           }
          ],
          "pie": [
           {
            "automargin": true,
            "type": "pie"
           }
          ],
          "scatter": [
           {
            "marker": {
             "colorbar": {
              "outlinewidth": 0,
              "ticks": ""
             }
            },
            "type": "scatter"
           }
          ],
          "scatter3d": [
           {
            "line": {
             "colorbar": {
              "outlinewidth": 0,
              "ticks": ""
             }
            },
            "marker": {
             "colorbar": {
              "outlinewidth": 0,
              "ticks": ""
             }
            },
            "type": "scatter3d"
           }
          ],
          "scattercarpet": [
           {
            "marker": {
             "colorbar": {
              "outlinewidth": 0,
              "ticks": ""
             }
            },
            "type": "scattercarpet"
           }
          ],
          "scattergeo": [
           {
            "marker": {
             "colorbar": {
              "outlinewidth": 0,
              "ticks": ""
             }
            },
            "type": "scattergeo"
           }
          ],
          "scattergl": [
           {
            "marker": {
             "colorbar": {
              "outlinewidth": 0,
              "ticks": ""
             }
            },
            "type": "scattergl"
           }
          ],
          "scattermapbox": [
           {
            "marker": {
             "colorbar": {
              "outlinewidth": 0,
              "ticks": ""
             }
            },
            "type": "scattermapbox"
           }
          ],
          "scatterpolar": [
           {
            "marker": {
             "colorbar": {
              "outlinewidth": 0,
              "ticks": ""
             }
            },
            "type": "scatterpolar"
           }
          ],
          "scatterpolargl": [
           {
            "marker": {
             "colorbar": {
              "outlinewidth": 0,
              "ticks": ""
             }
            },
            "type": "scatterpolargl"
           }
          ],
          "scatterternary": [
           {
            "marker": {
             "colorbar": {
              "outlinewidth": 0,
              "ticks": ""
             }
            },
            "type": "scatterternary"
           }
          ],
          "surface": [
           {
            "colorbar": {
             "outlinewidth": 0,
             "ticks": ""
            },
            "colorscale": [
             [
              0,
              "#0d0887"
             ],
             [
              0.1111111111111111,
              "#46039f"
             ],
             [
              0.2222222222222222,
              "#7201a8"
             ],
             [
              0.3333333333333333,
              "#9c179e"
             ],
             [
              0.4444444444444444,
              "#bd3786"
             ],
             [
              0.5555555555555556,
              "#d8576b"
             ],
             [
              0.6666666666666666,
              "#ed7953"
             ],
             [
              0.7777777777777778,
              "#fb9f3a"
             ],
             [
              0.8888888888888888,
              "#fdca26"
             ],
             [
              1,
              "#f0f921"
             ]
            ],
            "type": "surface"
           }
          ],
          "table": [
           {
            "cells": {
             "fill": {
              "color": "#EBF0F8"
             },
             "line": {
              "color": "white"
             }
            },
            "header": {
             "fill": {
              "color": "#C8D4E3"
             },
             "line": {
              "color": "white"
             }
            },
            "type": "table"
           }
          ]
         },
         "layout": {
          "annotationdefaults": {
           "arrowcolor": "#2a3f5f",
           "arrowhead": 0,
           "arrowwidth": 1
          },
          "coloraxis": {
           "colorbar": {
            "outlinewidth": 0,
            "ticks": ""
           }
          },
          "colorscale": {
           "diverging": [
            [
             0,
             "#8e0152"
            ],
            [
             0.1,
             "#c51b7d"
            ],
            [
             0.2,
             "#de77ae"
            ],
            [
             0.3,
             "#f1b6da"
            ],
            [
             0.4,
             "#fde0ef"
            ],
            [
             0.5,
             "#f7f7f7"
            ],
            [
             0.6,
             "#e6f5d0"
            ],
            [
             0.7,
             "#b8e186"
            ],
            [
             0.8,
             "#7fbc41"
            ],
            [
             0.9,
             "#4d9221"
            ],
            [
             1,
             "#276419"
            ]
           ],
           "sequential": [
            [
             0,
             "#0d0887"
            ],
            [
             0.1111111111111111,
             "#46039f"
            ],
            [
             0.2222222222222222,
             "#7201a8"
            ],
            [
             0.3333333333333333,
             "#9c179e"
            ],
            [
             0.4444444444444444,
             "#bd3786"
            ],
            [
             0.5555555555555556,
             "#d8576b"
            ],
            [
             0.6666666666666666,
             "#ed7953"
            ],
            [
             0.7777777777777778,
             "#fb9f3a"
            ],
            [
             0.8888888888888888,
             "#fdca26"
            ],
            [
             1,
             "#f0f921"
            ]
           ],
           "sequentialminus": [
            [
             0,
             "#0d0887"
            ],
            [
             0.1111111111111111,
             "#46039f"
            ],
            [
             0.2222222222222222,
             "#7201a8"
            ],
            [
             0.3333333333333333,
             "#9c179e"
            ],
            [
             0.4444444444444444,
             "#bd3786"
            ],
            [
             0.5555555555555556,
             "#d8576b"
            ],
            [
             0.6666666666666666,
             "#ed7953"
            ],
            [
             0.7777777777777778,
             "#fb9f3a"
            ],
            [
             0.8888888888888888,
             "#fdca26"
            ],
            [
             1,
             "#f0f921"
            ]
           ]
          },
          "colorway": [
           "#636efa",
           "#EF553B",
           "#00cc96",
           "#ab63fa",
           "#FFA15A",
           "#19d3f3",
           "#FF6692",
           "#B6E880",
           "#FF97FF",
           "#FECB52"
          ],
          "font": {
           "color": "#2a3f5f"
          },
          "geo": {
           "bgcolor": "white",
           "lakecolor": "white",
           "landcolor": "#E5ECF6",
           "showlakes": true,
           "showland": true,
           "subunitcolor": "white"
          },
          "hoverlabel": {
           "align": "left"
          },
          "hovermode": "closest",
          "mapbox": {
           "style": "light"
          },
          "paper_bgcolor": "white",
          "plot_bgcolor": "#E5ECF6",
          "polar": {
           "angularaxis": {
            "gridcolor": "white",
            "linecolor": "white",
            "ticks": ""
           },
           "bgcolor": "#E5ECF6",
           "radialaxis": {
            "gridcolor": "white",
            "linecolor": "white",
            "ticks": ""
           }
          },
          "scene": {
           "xaxis": {
            "backgroundcolor": "#E5ECF6",
            "gridcolor": "white",
            "gridwidth": 2,
            "linecolor": "white",
            "showbackground": true,
            "ticks": "",
            "zerolinecolor": "white"
           },
           "yaxis": {
            "backgroundcolor": "#E5ECF6",
            "gridcolor": "white",
            "gridwidth": 2,
            "linecolor": "white",
            "showbackground": true,
            "ticks": "",
            "zerolinecolor": "white"
           },
           "zaxis": {
            "backgroundcolor": "#E5ECF6",
            "gridcolor": "white",
            "gridwidth": 2,
            "linecolor": "white",
            "showbackground": true,
            "ticks": "",
            "zerolinecolor": "white"
           }
          },
          "shapedefaults": {
           "line": {
            "color": "#2a3f5f"
           }
          },
          "ternary": {
           "aaxis": {
            "gridcolor": "white",
            "linecolor": "white",
            "ticks": ""
           },
           "baxis": {
            "gridcolor": "white",
            "linecolor": "white",
            "ticks": ""
           },
           "bgcolor": "#E5ECF6",
           "caxis": {
            "gridcolor": "white",
            "linecolor": "white",
            "ticks": ""
           }
          },
          "title": {
           "x": 0.05
          },
          "xaxis": {
           "automargin": true,
           "gridcolor": "white",
           "linecolor": "white",
           "ticks": "",
           "title": {
            "standoff": 15
           },
           "zerolinecolor": "white",
           "zerolinewidth": 2
          },
          "yaxis": {
           "automargin": true,
           "gridcolor": "white",
           "linecolor": "white",
           "ticks": "",
           "title": {
            "standoff": 15
           },
           "zerolinecolor": "white",
           "zerolinewidth": 2
          }
         }
        },
        "title": {
         "font": {
          "color": "#4D5663"
         }
        },
        "xaxis": {
         "anchor": "y",
         "domain": [
          0,
          0.2125
         ],
         "gridcolor": "#E1E5ED",
         "showgrid": false,
         "tickfont": {
          "color": "#4D5663"
         },
         "title": {
          "font": {
           "color": "#4D5663"
          },
          "text": ""
         },
         "zerolinecolor": "#E1E5ED"
        },
        "xaxis10": {
         "anchor": "y10",
         "domain": [
          0.2625,
          0.475
         ],
         "gridcolor": "#E1E5ED",
         "showgrid": false,
         "tickfont": {
          "color": "#4D5663"
         },
         "title": {
          "font": {
           "color": "#4D5663"
          },
          "text": ""
         },
         "zerolinecolor": "#E1E5ED"
        },
        "xaxis11": {
         "anchor": "y11",
         "domain": [
          0.525,
          0.7375
         ],
         "gridcolor": "#E1E5ED",
         "showgrid": false,
         "tickfont": {
          "color": "#4D5663"
         },
         "title": {
          "font": {
           "color": "#4D5663"
          },
          "text": ""
         },
         "zerolinecolor": "#E1E5ED"
        },
        "xaxis12": {
         "anchor": "y12",
         "domain": [
          0.7875,
          1
         ],
         "gridcolor": "#E1E5ED",
         "showgrid": false,
         "tickfont": {
          "color": "#4D5663"
         },
         "title": {
          "font": {
           "color": "#4D5663"
          },
          "text": ""
         },
         "zerolinecolor": "#E1E5ED"
        },
        "xaxis13": {
         "anchor": "y13",
         "domain": [
          0,
          0.2125
         ],
         "gridcolor": "#E1E5ED",
         "showgrid": false,
         "tickfont": {
          "color": "#4D5663"
         },
         "title": {
          "font": {
           "color": "#4D5663"
          },
          "text": ""
         },
         "zerolinecolor": "#E1E5ED"
        },
        "xaxis14": {
         "anchor": "y14",
         "domain": [
          0.2625,
          0.475
         ],
         "gridcolor": "#E1E5ED",
         "showgrid": false,
         "tickfont": {
          "color": "#4D5663"
         },
         "title": {
          "font": {
           "color": "#4D5663"
          },
          "text": ""
         },
         "zerolinecolor": "#E1E5ED"
        },
        "xaxis15": {
         "anchor": "y15",
         "domain": [
          0.525,
          0.7375
         ],
         "gridcolor": "#E1E5ED",
         "showgrid": false,
         "tickfont": {
          "color": "#4D5663"
         },
         "title": {
          "font": {
           "color": "#4D5663"
          },
          "text": ""
         },
         "zerolinecolor": "#E1E5ED"
        },
        "xaxis16": {
         "anchor": "y16",
         "domain": [
          0.7875,
          1
         ],
         "gridcolor": "#E1E5ED",
         "showgrid": false,
         "tickfont": {
          "color": "#4D5663"
         },
         "title": {
          "font": {
           "color": "#4D5663"
          },
          "text": ""
         },
         "zerolinecolor": "#E1E5ED"
        },
        "xaxis2": {
         "anchor": "y2",
         "domain": [
          0.2625,
          0.475
         ],
         "gridcolor": "#E1E5ED",
         "showgrid": false,
         "tickfont": {
          "color": "#4D5663"
         },
         "title": {
          "font": {
           "color": "#4D5663"
          },
          "text": ""
         },
         "zerolinecolor": "#E1E5ED"
        },
        "xaxis3": {
         "anchor": "y3",
         "domain": [
          0.525,
          0.7375
         ],
         "gridcolor": "#E1E5ED",
         "showgrid": false,
         "tickfont": {
          "color": "#4D5663"
         },
         "title": {
          "font": {
           "color": "#4D5663"
          },
          "text": ""
         },
         "zerolinecolor": "#E1E5ED"
        },
        "xaxis4": {
         "anchor": "y4",
         "domain": [
          0.7875,
          1
         ],
         "gridcolor": "#E1E5ED",
         "showgrid": false,
         "tickfont": {
          "color": "#4D5663"
         },
         "title": {
          "font": {
           "color": "#4D5663"
          },
          "text": ""
         },
         "zerolinecolor": "#E1E5ED"
        },
        "xaxis5": {
         "anchor": "y5",
         "domain": [
          0,
          0.2125
         ],
         "gridcolor": "#E1E5ED",
         "showgrid": false,
         "tickfont": {
          "color": "#4D5663"
         },
         "title": {
          "font": {
           "color": "#4D5663"
          },
          "text": ""
         },
         "zerolinecolor": "#E1E5ED"
        },
        "xaxis6": {
         "anchor": "y6",
         "domain": [
          0.2625,
          0.475
         ],
         "gridcolor": "#E1E5ED",
         "showgrid": false,
         "tickfont": {
          "color": "#4D5663"
         },
         "title": {
          "font": {
           "color": "#4D5663"
          },
          "text": ""
         },
         "zerolinecolor": "#E1E5ED"
        },
        "xaxis7": {
         "anchor": "y7",
         "domain": [
          0.525,
          0.7375
         ],
         "gridcolor": "#E1E5ED",
         "showgrid": false,
         "tickfont": {
          "color": "#4D5663"
         },
         "title": {
          "font": {
           "color": "#4D5663"
          },
          "text": ""
         },
         "zerolinecolor": "#E1E5ED"
        },
        "xaxis8": {
         "anchor": "y8",
         "domain": [
          0.7875,
          1
         ],
         "gridcolor": "#E1E5ED",
         "showgrid": false,
         "tickfont": {
          "color": "#4D5663"
         },
         "title": {
          "font": {
           "color": "#4D5663"
          },
          "text": ""
         },
         "zerolinecolor": "#E1E5ED"
        },
        "xaxis9": {
         "anchor": "y9",
         "domain": [
          0,
          0.2125
         ],
         "gridcolor": "#E1E5ED",
         "showgrid": false,
         "tickfont": {
          "color": "#4D5663"
         },
         "title": {
          "font": {
           "color": "#4D5663"
          },
          "text": ""
         },
         "zerolinecolor": "#E1E5ED"
        },
        "yaxis": {
         "anchor": "x",
         "domain": [
          0.8025,
          1
         ],
         "gridcolor": "#E1E5ED",
         "showgrid": false,
         "tickfont": {
          "color": "#4D5663"
         },
         "title": {
          "font": {
           "color": "#4D5663"
          },
          "text": ""
         },
         "zerolinecolor": "#E1E5ED"
        },
        "yaxis10": {
         "anchor": "x10",
         "domain": [
          0.2675,
          0.465
         ],
         "gridcolor": "#E1E5ED",
         "showgrid": false,
         "tickfont": {
          "color": "#4D5663"
         },
         "title": {
          "font": {
           "color": "#4D5663"
          },
          "text": ""
         },
         "zerolinecolor": "#E1E5ED"
        },
        "yaxis11": {
         "anchor": "x11",
         "domain": [
          0.2675,
          0.465
         ],
         "gridcolor": "#E1E5ED",
         "showgrid": false,
         "tickfont": {
          "color": "#4D5663"
         },
         "title": {
          "font": {
           "color": "#4D5663"
          },
          "text": ""
         },
         "zerolinecolor": "#E1E5ED"
        },
        "yaxis12": {
         "anchor": "x12",
         "domain": [
          0.2675,
          0.465
         ],
         "gridcolor": "#E1E5ED",
         "showgrid": false,
         "tickfont": {
          "color": "#4D5663"
         },
         "title": {
          "font": {
           "color": "#4D5663"
          },
          "text": ""
         },
         "zerolinecolor": "#E1E5ED"
        },
        "yaxis13": {
         "anchor": "x13",
         "domain": [
          0,
          0.1975
         ],
         "gridcolor": "#E1E5ED",
         "showgrid": false,
         "tickfont": {
          "color": "#4D5663"
         },
         "title": {
          "font": {
           "color": "#4D5663"
          },
          "text": ""
         },
         "zerolinecolor": "#E1E5ED"
        },
        "yaxis14": {
         "anchor": "x14",
         "domain": [
          0,
          0.1975
         ],
         "gridcolor": "#E1E5ED",
         "showgrid": false,
         "tickfont": {
          "color": "#4D5663"
         },
         "title": {
          "font": {
           "color": "#4D5663"
          },
          "text": ""
         },
         "zerolinecolor": "#E1E5ED"
        },
        "yaxis15": {
         "anchor": "x15",
         "domain": [
          0,
          0.1975
         ],
         "gridcolor": "#E1E5ED",
         "showgrid": false,
         "tickfont": {
          "color": "#4D5663"
         },
         "title": {
          "font": {
           "color": "#4D5663"
          },
          "text": ""
         },
         "zerolinecolor": "#E1E5ED"
        },
        "yaxis16": {
         "anchor": "x16",
         "domain": [
          0,
          0.1975
         ],
         "gridcolor": "#E1E5ED",
         "showgrid": false,
         "tickfont": {
          "color": "#4D5663"
         },
         "title": {
          "font": {
           "color": "#4D5663"
          },
          "text": ""
         },
         "zerolinecolor": "#E1E5ED"
        },
        "yaxis2": {
         "anchor": "x2",
         "domain": [
          0.8025,
          1
         ],
         "gridcolor": "#E1E5ED",
         "showgrid": false,
         "tickfont": {
          "color": "#4D5663"
         },
         "title": {
          "font": {
           "color": "#4D5663"
          },
          "text": ""
         },
         "zerolinecolor": "#E1E5ED"
        },
        "yaxis3": {
         "anchor": "x3",
         "domain": [
          0.8025,
          1
         ],
         "gridcolor": "#E1E5ED",
         "showgrid": false,
         "tickfont": {
          "color": "#4D5663"
         },
         "title": {
          "font": {
           "color": "#4D5663"
          },
          "text": ""
         },
         "zerolinecolor": "#E1E5ED"
        },
        "yaxis4": {
         "anchor": "x4",
         "domain": [
          0.8025,
          1
         ],
         "gridcolor": "#E1E5ED",
         "showgrid": false,
         "tickfont": {
          "color": "#4D5663"
         },
         "title": {
          "font": {
           "color": "#4D5663"
          },
          "text": ""
         },
         "zerolinecolor": "#E1E5ED"
        },
        "yaxis5": {
         "anchor": "x5",
         "domain": [
          0.535,
          0.7325
         ],
         "gridcolor": "#E1E5ED",
         "showgrid": false,
         "tickfont": {
          "color": "#4D5663"
         },
         "title": {
          "font": {
           "color": "#4D5663"
          },
          "text": ""
         },
         "zerolinecolor": "#E1E5ED"
        },
        "yaxis6": {
         "anchor": "x6",
         "domain": [
          0.535,
          0.7325
         ],
         "gridcolor": "#E1E5ED",
         "showgrid": false,
         "tickfont": {
          "color": "#4D5663"
         },
         "title": {
          "font": {
           "color": "#4D5663"
          },
          "text": ""
         },
         "zerolinecolor": "#E1E5ED"
        },
        "yaxis7": {
         "anchor": "x7",
         "domain": [
          0.535,
          0.7325
         ],
         "gridcolor": "#E1E5ED",
         "showgrid": false,
         "tickfont": {
          "color": "#4D5663"
         },
         "title": {
          "font": {
           "color": "#4D5663"
          },
          "text": ""
         },
         "zerolinecolor": "#E1E5ED"
        },
        "yaxis8": {
         "anchor": "x8",
         "domain": [
          0.535,
          0.7325
         ],
         "gridcolor": "#E1E5ED",
         "showgrid": false,
         "tickfont": {
          "color": "#4D5663"
         },
         "title": {
          "font": {
           "color": "#4D5663"
          },
          "text": ""
         },
         "zerolinecolor": "#E1E5ED"
        },
        "yaxis9": {
         "anchor": "x9",
         "domain": [
          0.2675,
          0.465
         ],
         "gridcolor": "#E1E5ED",
         "showgrid": false,
         "tickfont": {
          "color": "#4D5663"
         },
         "title": {
          "font": {
           "color": "#4D5663"
          },
          "text": ""
         },
         "zerolinecolor": "#E1E5ED"
        }
       }
      },
      "text/html": [
       "<div>                            <div id=\"8bf4cfa7-24f4-47f7-a9ef-b12acd084d10\" class=\"plotly-graph-div\" style=\"height:525px; width:100%;\"></div>            <script type=\"text/javascript\">                require([\"plotly\"], function(Plotly) {                    window.PLOTLYENV=window.PLOTLYENV || {};\n",
       "                    window.PLOTLYENV.BASE_URL='https://plot.ly';                                    if (document.getElementById(\"8bf4cfa7-24f4-47f7-a9ef-b12acd084d10\")) {                    Plotly.newPlot(                        \"8bf4cfa7-24f4-47f7-a9ef-b12acd084d10\",                        [{\"histfunc\": \"count\", \"histnorm\": \"\", \"marker\": {\"color\": \"rgba(255, 153, 51, 1.0)\", \"line\": {\"color\": \"#4D5663\", \"width\": 1.3}}, \"name\": \"A\", \"nbinsx\": 10, \"opacity\": 0.8, \"orientation\": \"v\", \"type\": \"histogram\", \"x\": [0.2761339514733847, 1.188804121605242, 0.08497589522761069, -0.34533240320481096, -0.07782907635069093, -1.2498699046511899, -0.11342716786920551, 0.8992512727833145, 0.6869949962554535, 1.0872836110719306, 0.5624125643232705, -0.06872867674511322, -1.488294260402288, 1.1347605759565262, -0.04512589510977593, -1.1709300462069576, 2.5699296958065267, -2.6949537636334515, 0.9509967843271091, 0.9126363660840404, -0.893416021982162, -0.6709000690385981, -0.6764702311155343, 1.6545543982092468, -0.6613351181686137, 1.3463097312201942, 1.1953415174451654, -0.0023683532837439616, -0.7385556666158539, -0.09804609750860487, -0.24725493992732892, 0.3704998148593566, -0.5179378835723708, 1.1115432909865557, 0.6283639633904835, -0.0811902814258752, -0.7493943203141994, -1.154026941611956, -0.531290294132609, -0.646090508780619, -0.41745082465802874, -0.9572205692302606, 0.029535762132137554, 0.8132802676270556, -0.24785671695736364, 2.757816249804465, -0.016600337056652394, -0.03229479868311702, -0.2767738401048227, -1.8835736923431186, 0.8465033054900883, -0.35981629757736416, -1.884231824833337, 0.5429230784561598, 2.6022101434440357, -1.4484745143157174, 0.2578023462079427, 0.5370000856732656, 0.02404680743578104, -0.03177599917046245, 0.5806531394603373, -0.050719375105140706, 0.2571507486178252, 0.16053241926143327, 2.4780536465185965, -0.40963856353358163, 0.4982262133827531, -1.8370793820561426, 0.5737037513423762, -0.808098912570454, -0.3523370407889365, -1.5834479584704206, 0.009656275276085651, -0.5035375476668608, -1.0664730889309146, 1.6801569990369594, -0.9744459057915644, 1.9656646886689864, 0.6123677502516772, 1.117614219320944, 1.6793717146667708, 0.024819821963667815, -0.35518721094419947, -0.10180586651928844, 0.15232074131943715, 1.4313790324915008, 0.40367088549841706, 0.5637704529498062, -0.4723496462238286, -0.639548098210627, 0.1835297599153169, 1.4006969448250643, 2.60871880554445, 0.4937448850274035, 0.4518378065874822, 0.25308441145521465, 1.2589819790846235, -0.22390426447291434, 0.006012911300815213, -2.1920102474812744], \"xaxis\": \"x\", \"yaxis\": \"y\"}, {\"line\": {\"color\": \"rgba(128, 128, 128, 1.0)\", \"dash\": \"solid\", \"shape\": \"linear\", \"width\": 1.3}, \"marker\": {\"size\": 2, \"symbol\": \"circle\"}, \"mode\": \"markers\", \"name\": \"A\", \"text\": \"\", \"type\": \"scatter\", \"x\": [2.393955014008052, 0.7295241671997067, -0.7884956516766091, -1.0034301871109426, 0.16122649736514685, -0.9393748549724851, 0.15816754747061676, 1.8198241080705275, -1.1497226248365893, -0.16029408790965005, -2.012749253092932, 1.2172107889355217, 1.6750366580381233, 2.1393076997774543, -0.30493459794081273, 0.5117292493263356, 0.7036447179229162, -0.38336194489575576, -0.10677891756364695, -1.7481489414052218, 0.5714797537661231, -0.8092442598891338, -1.6832877374490327, -0.4644318992048635, 0.0051413486261414985, -2.609875970179155, -0.553634388525426, -0.7694491366072814, -0.18820718993716623, -1.1224961058796814, -0.03459477443144965, 1.2698794125597996, -0.5024030504728992, 1.0595030004708539, -0.6037368550922615, 0.9989329972969176, 1.6209756283836037, 0.3630825748502837, -0.3587803583227967, -0.7132325633464235, -0.7042268693897041, 1.4297438834109168, 0.9662660905840436, 0.6812386204734382, 1.9692983017462367, -0.3883475675177595, 1.360133403789544, -0.031428521472090735, 0.24752868479787052, 1.0403278254600228, 0.4529724837079801, 0.015396827100181832, -0.12513155683554494, -1.2755381919101085, -0.6903783402780991, -0.8321477150251463, 0.7100802833730272, 0.2038546182679955, 2.151245914410658, 1.6842236265592216, 0.4369081103144823, -0.03609018209906457, 1.150837618050103, -0.5537681601923262, 0.949650043718843, -0.13525432627398065, -2.1107866404480955, 1.635467526122635, -0.23740218435645088, 1.220538802477475, 0.9306165060679065, -1.2409954340112213, -0.4949613682148558, 1.5258146496265905, -1.9809563467247513, -0.7143373767905575, -0.2296009452499028, 1.2966094445443843, -0.2801452885198963, 0.24593009690591186, -0.10377771955254282, 0.4784055675167169, 0.8584728581561504, 1.6478146732022394, 0.5886139445888524, 0.7798036421004724, 1.2793583250411933, -0.9795913396912235, 0.4350182297991837, -1.296413802558348, 2.489012637471557, 1.5977712923223037, 0.1538480901531365, 0.21381925361730095, 1.3625846182814374, -0.7915574466445902, -0.5483019938305197, 3.629118184331783, -0.9625139154517232, 0.16091743116174276], \"xaxis\": \"x2\", \"y\": [0.2761339514733847, 1.188804121605242, 0.08497589522761069, -0.34533240320481096, -0.07782907635069093, -1.2498699046511899, -0.11342716786920551, 0.8992512727833145, 0.6869949962554535, 1.0872836110719306, 0.5624125643232705, -0.06872867674511322, -1.488294260402288, 1.1347605759565262, -0.04512589510977593, -1.1709300462069576, 2.5699296958065267, -2.6949537636334515, 0.9509967843271091, 0.9126363660840404, -0.893416021982162, -0.6709000690385981, -0.6764702311155343, 1.6545543982092468, -0.6613351181686137, 1.3463097312201942, 1.1953415174451654, -0.0023683532837439616, -0.7385556666158539, -0.09804609750860487, -0.24725493992732892, 0.3704998148593566, -0.5179378835723708, 1.1115432909865557, 0.6283639633904835, -0.0811902814258752, -0.7493943203141994, -1.154026941611956, -0.531290294132609, -0.646090508780619, -0.41745082465802874, -0.9572205692302606, 0.029535762132137554, 0.8132802676270556, -0.24785671695736364, 2.757816249804465, -0.016600337056652394, -0.03229479868311702, -0.2767738401048227, -1.8835736923431186, 0.8465033054900883, -0.35981629757736416, -1.884231824833337, 0.5429230784561598, 2.6022101434440357, -1.4484745143157174, 0.2578023462079427, 0.5370000856732656, 0.02404680743578104, -0.03177599917046245, 0.5806531394603373, -0.050719375105140706, 0.2571507486178252, 0.16053241926143327, 2.4780536465185965, -0.40963856353358163, 0.4982262133827531, -1.8370793820561426, 0.5737037513423762, -0.808098912570454, -0.3523370407889365, -1.5834479584704206, 0.009656275276085651, -0.5035375476668608, -1.0664730889309146, 1.6801569990369594, -0.9744459057915644, 1.9656646886689864, 0.6123677502516772, 1.117614219320944, 1.6793717146667708, 0.024819821963667815, -0.35518721094419947, -0.10180586651928844, 0.15232074131943715, 1.4313790324915008, 0.40367088549841706, 0.5637704529498062, -0.4723496462238286, -0.639548098210627, 0.1835297599153169, 1.4006969448250643, 2.60871880554445, 0.4937448850274035, 0.4518378065874822, 0.25308441145521465, 1.2589819790846235, -0.22390426447291434, 0.006012911300815213, -2.1920102474812744], \"yaxis\": \"y2\"}, {\"line\": {\"color\": \"rgba(128, 128, 128, 1.0)\", \"dash\": \"solid\", \"shape\": \"linear\", \"width\": 1.3}, \"marker\": {\"size\": 2, \"symbol\": \"circle\"}, \"mode\": \"markers\", \"name\": \"A\", \"text\": \"\", \"type\": \"scatter\", \"x\": [1.372052395993152, 1.7043867906505903, -0.005673427311608795, 0.3523319008881605, 0.976318912841944, -0.6762880535850897, 1.2373725872542423, -0.6110796875929951, -0.29488205191166666, -0.2968814623971072, -1.1443506116588782, -0.6325929857802397, -0.7352444098524169, 0.771177444459734, -0.33326450943721153, -0.36542117676413094, 0.5207035604771046, 0.21656757882599365, 1.676496594370226, 0.22628436337669927, 0.34491046555515753, -0.33042871812591135, -0.08422658443735433, -0.9466164769020331, 0.8114280389337645, 0.10534433414270532, -1.0078426979638047, -1.040582841564319, 1.1939763043151714, 1.2245610618888145, 0.23366189462276138, -1.3649812504359462, 0.9390928268109437, 0.05787351981098945, 1.1929731982250726, -2.06616860627508, 0.28509431018806874, 0.2323615517033693, 0.3516775764795282, 0.24508503864859668, 1.3849109395755559, -0.9760554396479139, 1.0813640430151417, 0.36741457619539464, 0.006475567329304382, 0.1558444173197155, -1.5235636238931491, 0.4075647502936297, -0.055964266838521966, 1.0074505240792073, 0.36607191463727107, -0.5936916313224394, -0.021707305496679177, 1.272854906943038, 0.8663163220565195, -0.8543650239910662, 0.2350936217889952, 0.348823341044296, -0.36395644242429165, -0.8285948978605961, 2.7410751875438804, 1.1301724518843879, -1.193692306253147, 0.9090619653462466, -0.17957656870996314, -0.8735711804577587, 0.2512892852339795, 0.8537797545557415, -2.6583601614559274, 0.39477204143391736, 0.42295611901615515, -0.2231966676407804, 0.5695790944346365, 0.4626908743852996, 0.5084796035822099, -0.49148203417151204, 0.2395072818497077, -0.10887199249459967, 1.2400966254118748, -0.6220998472288897, 2.6293580394523803, -0.17378728677563526, -0.32542567658471244, -0.06861705809786599, 0.40612320092576915, -0.4280967391266471, -0.2921034019229864, 0.25299252792599786, 1.2622408551542035, -1.5477962550558262, 0.8299720853052873, 0.7668010360268285, 0.6395574542503853, 1.083808017569944, 0.20626164245607248, -0.23688527763851755, 0.4782101700769962, 0.2815045819680345, 2.1046162593769124, -0.5244446464437239], \"xaxis\": \"x3\", \"y\": [0.2761339514733847, 1.188804121605242, 0.08497589522761069, -0.34533240320481096, -0.07782907635069093, -1.2498699046511899, -0.11342716786920551, 0.8992512727833145, 0.6869949962554535, 1.0872836110719306, 0.5624125643232705, -0.06872867674511322, -1.488294260402288, 1.1347605759565262, -0.04512589510977593, -1.1709300462069576, 2.5699296958065267, -2.6949537636334515, 0.9509967843271091, 0.9126363660840404, -0.893416021982162, -0.6709000690385981, -0.6764702311155343, 1.6545543982092468, -0.6613351181686137, 1.3463097312201942, 1.1953415174451654, -0.0023683532837439616, -0.7385556666158539, -0.09804609750860487, -0.24725493992732892, 0.3704998148593566, -0.5179378835723708, 1.1115432909865557, 0.6283639633904835, -0.0811902814258752, -0.7493943203141994, -1.154026941611956, -0.531290294132609, -0.646090508780619, -0.41745082465802874, -0.9572205692302606, 0.029535762132137554, 0.8132802676270556, -0.24785671695736364, 2.757816249804465, -0.016600337056652394, -0.03229479868311702, -0.2767738401048227, -1.8835736923431186, 0.8465033054900883, -0.35981629757736416, -1.884231824833337, 0.5429230784561598, 2.6022101434440357, -1.4484745143157174, 0.2578023462079427, 0.5370000856732656, 0.02404680743578104, -0.03177599917046245, 0.5806531394603373, -0.050719375105140706, 0.2571507486178252, 0.16053241926143327, 2.4780536465185965, -0.40963856353358163, 0.4982262133827531, -1.8370793820561426, 0.5737037513423762, -0.808098912570454, -0.3523370407889365, -1.5834479584704206, 0.009656275276085651, -0.5035375476668608, -1.0664730889309146, 1.6801569990369594, -0.9744459057915644, 1.9656646886689864, 0.6123677502516772, 1.117614219320944, 1.6793717146667708, 0.024819821963667815, -0.35518721094419947, -0.10180586651928844, 0.15232074131943715, 1.4313790324915008, 0.40367088549841706, 0.5637704529498062, -0.4723496462238286, -0.639548098210627, 0.1835297599153169, 1.4006969448250643, 2.60871880554445, 0.4937448850274035, 0.4518378065874822, 0.25308441145521465, 1.2589819790846235, -0.22390426447291434, 0.006012911300815213, -2.1920102474812744], \"yaxis\": \"y3\"}, {\"line\": {\"color\": \"rgba(128, 128, 128, 1.0)\", \"dash\": \"solid\", \"shape\": \"linear\", \"width\": 1.3}, \"marker\": {\"size\": 2, \"symbol\": \"circle\"}, \"mode\": \"markers\", \"name\": \"A\", \"text\": \"\", \"type\": \"scatter\", \"x\": [0.6426171020913116, 0.05947831050959164, 0.8057109776007441, 1.5182216465992566, 0.17683259271748428, -1.201703319160288, 0.08939571806521496, 2.0154563391314873, 1.7301251256429016, 0.49528261213488545, 0.0761665451289827, 1.6103034919331367, 1.6120448888241674, -0.2573136206604346, -0.9779054477931095, 0.09584648166310304, -0.07571022687017195, 0.14592291951912958, 0.5859863691277728, -0.9634514352867459, -1.6097533777922932, -1.3834694563514975, 1.3350657642225476, 2.5348040961290565, 0.07096153306759836, 0.6368949669764494, -2.491181625238631, -2.069948065264797, -0.39141325160767837, 0.8729443579466766, -0.15203240827413245, 1.593493694910104, 0.19147931889882305, -0.2570947529594395, -0.2362423478932293, -0.24761400944699485, 1.5498785562590034, -1.342736587129085, -0.6875756550917744, -0.8435542153832782, -0.013874970564091298, -0.6437810020122223, -0.08307285623526937, -0.2962296943116745, -0.5130982235488185, 0.3824096226964955, -0.5540921670015748, 1.0153688520081747, -0.7952904910998714, 2.5784952415824245, 0.8945149051861342, 0.2519932142685906, -1.0221722639024475, -1.5520675750466661, -1.200280816710757, -1.5283381205817728, 0.35850270542977336, 0.028661556376518574, -0.25417601662240924, -0.43123113419811976, -0.7992886449170896, 0.8390223361200038, 0.343733762605699, -0.6743338869442519, 0.05144922505834395, 0.2074977159159455, 0.9843826193439873, 1.4061675427565727, 0.11563603180803507, 0.4530024188769888, -0.47629266642328244, -0.16710643248919377, -0.0515307061316568, -0.6588656418257205, 1.5582301705782957, -0.6296407507349331, -0.5372426533819447, -0.874055648075707, -0.9115348231890187, 0.29738761097200167, 1.398817190288319, -0.03531964926848891, -1.269178704672509, -1.7086885351716186, 0.12803766640189806, 0.6625171606929373, 0.09803785359242453, -0.42955781291017003, 0.9588026633516734, 0.8801708158200088, -1.505560101488006, 0.0639479738951868, -0.6667387730971316, -0.7866002141704426, -0.07573694787116873, -0.8633462980959028, 0.37497474414887555, 0.3307646714610224, 0.1501616858635575, 0.2960707050508471], \"xaxis\": \"x4\", \"y\": [0.2761339514733847, 1.188804121605242, 0.08497589522761069, -0.34533240320481096, -0.07782907635069093, -1.2498699046511899, -0.11342716786920551, 0.8992512727833145, 0.6869949962554535, 1.0872836110719306, 0.5624125643232705, -0.06872867674511322, -1.488294260402288, 1.1347605759565262, -0.04512589510977593, -1.1709300462069576, 2.5699296958065267, -2.6949537636334515, 0.9509967843271091, 0.9126363660840404, -0.893416021982162, -0.6709000690385981, -0.6764702311155343, 1.6545543982092468, -0.6613351181686137, 1.3463097312201942, 1.1953415174451654, -0.0023683532837439616, -0.7385556666158539, -0.09804609750860487, -0.24725493992732892, 0.3704998148593566, -0.5179378835723708, 1.1115432909865557, 0.6283639633904835, -0.0811902814258752, -0.7493943203141994, -1.154026941611956, -0.531290294132609, -0.646090508780619, -0.41745082465802874, -0.9572205692302606, 0.029535762132137554, 0.8132802676270556, -0.24785671695736364, 2.757816249804465, -0.016600337056652394, -0.03229479868311702, -0.2767738401048227, -1.8835736923431186, 0.8465033054900883, -0.35981629757736416, -1.884231824833337, 0.5429230784561598, 2.6022101434440357, -1.4484745143157174, 0.2578023462079427, 0.5370000856732656, 0.02404680743578104, -0.03177599917046245, 0.5806531394603373, -0.050719375105140706, 0.2571507486178252, 0.16053241926143327, 2.4780536465185965, -0.40963856353358163, 0.4982262133827531, -1.8370793820561426, 0.5737037513423762, -0.808098912570454, -0.3523370407889365, -1.5834479584704206, 0.009656275276085651, -0.5035375476668608, -1.0664730889309146, 1.6801569990369594, -0.9744459057915644, 1.9656646886689864, 0.6123677502516772, 1.117614219320944, 1.6793717146667708, 0.024819821963667815, -0.35518721094419947, -0.10180586651928844, 0.15232074131943715, 1.4313790324915008, 0.40367088549841706, 0.5637704529498062, -0.4723496462238286, -0.639548098210627, 0.1835297599153169, 1.4006969448250643, 2.60871880554445, 0.4937448850274035, 0.4518378065874822, 0.25308441145521465, 1.2589819790846235, -0.22390426447291434, 0.006012911300815213, -2.1920102474812744], \"yaxis\": \"y4\"}, {\"line\": {\"color\": \"rgba(128, 128, 128, 1.0)\", \"dash\": \"solid\", \"shape\": \"linear\", \"width\": 1.3}, \"marker\": {\"size\": 2, \"symbol\": \"circle\"}, \"mode\": \"markers\", \"name\": \" B\", \"text\": \"\", \"type\": \"scatter\", \"x\": [0.2761339514733847, 1.188804121605242, 0.08497589522761069, -0.34533240320481096, -0.07782907635069093, -1.2498699046511899, -0.11342716786920551, 0.8992512727833145, 0.6869949962554535, 1.0872836110719306, 0.5624125643232705, -0.06872867674511322, -1.488294260402288, 1.1347605759565262, -0.04512589510977593, -1.1709300462069576, 2.5699296958065267, -2.6949537636334515, 0.9509967843271091, 0.9126363660840404, -0.893416021982162, -0.6709000690385981, -0.6764702311155343, 1.6545543982092468, -0.6613351181686137, 1.3463097312201942, 1.1953415174451654, -0.0023683532837439616, -0.7385556666158539, -0.09804609750860487, -0.24725493992732892, 0.3704998148593566, -0.5179378835723708, 1.1115432909865557, 0.6283639633904835, -0.0811902814258752, -0.7493943203141994, -1.154026941611956, -0.531290294132609, -0.646090508780619, -0.41745082465802874, -0.9572205692302606, 0.029535762132137554, 0.8132802676270556, -0.24785671695736364, 2.757816249804465, -0.016600337056652394, -0.03229479868311702, -0.2767738401048227, -1.8835736923431186, 0.8465033054900883, -0.35981629757736416, -1.884231824833337, 0.5429230784561598, 2.6022101434440357, -1.4484745143157174, 0.2578023462079427, 0.5370000856732656, 0.02404680743578104, -0.03177599917046245, 0.5806531394603373, -0.050719375105140706, 0.2571507486178252, 0.16053241926143327, 2.4780536465185965, -0.40963856353358163, 0.4982262133827531, -1.8370793820561426, 0.5737037513423762, -0.808098912570454, -0.3523370407889365, -1.5834479584704206, 0.009656275276085651, -0.5035375476668608, -1.0664730889309146, 1.6801569990369594, -0.9744459057915644, 1.9656646886689864, 0.6123677502516772, 1.117614219320944, 1.6793717146667708, 0.024819821963667815, -0.35518721094419947, -0.10180586651928844, 0.15232074131943715, 1.4313790324915008, 0.40367088549841706, 0.5637704529498062, -0.4723496462238286, -0.639548098210627, 0.1835297599153169, 1.4006969448250643, 2.60871880554445, 0.4937448850274035, 0.4518378065874822, 0.25308441145521465, 1.2589819790846235, -0.22390426447291434, 0.006012911300815213, -2.1920102474812744], \"xaxis\": \"x5\", \"y\": [2.393955014008052, 0.7295241671997067, -0.7884956516766091, -1.0034301871109426, 0.16122649736514685, -0.9393748549724851, 0.15816754747061676, 1.8198241080705275, -1.1497226248365893, -0.16029408790965005, -2.012749253092932, 1.2172107889355217, 1.6750366580381233, 2.1393076997774543, -0.30493459794081273, 0.5117292493263356, 0.7036447179229162, -0.38336194489575576, -0.10677891756364695, -1.7481489414052218, 0.5714797537661231, -0.8092442598891338, -1.6832877374490327, -0.4644318992048635, 0.0051413486261414985, -2.609875970179155, -0.553634388525426, -0.7694491366072814, -0.18820718993716623, -1.1224961058796814, -0.03459477443144965, 1.2698794125597996, -0.5024030504728992, 1.0595030004708539, -0.6037368550922615, 0.9989329972969176, 1.6209756283836037, 0.3630825748502837, -0.3587803583227967, -0.7132325633464235, -0.7042268693897041, 1.4297438834109168, 0.9662660905840436, 0.6812386204734382, 1.9692983017462367, -0.3883475675177595, 1.360133403789544, -0.031428521472090735, 0.24752868479787052, 1.0403278254600228, 0.4529724837079801, 0.015396827100181832, -0.12513155683554494, -1.2755381919101085, -0.6903783402780991, -0.8321477150251463, 0.7100802833730272, 0.2038546182679955, 2.151245914410658, 1.6842236265592216, 0.4369081103144823, -0.03609018209906457, 1.150837618050103, -0.5537681601923262, 0.949650043718843, -0.13525432627398065, -2.1107866404480955, 1.635467526122635, -0.23740218435645088, 1.220538802477475, 0.9306165060679065, -1.2409954340112213, -0.4949613682148558, 1.5258146496265905, -1.9809563467247513, -0.7143373767905575, -0.2296009452499028, 1.2966094445443843, -0.2801452885198963, 0.24593009690591186, -0.10377771955254282, 0.4784055675167169, 0.8584728581561504, 1.6478146732022394, 0.5886139445888524, 0.7798036421004724, 1.2793583250411933, -0.9795913396912235, 0.4350182297991837, -1.296413802558348, 2.489012637471557, 1.5977712923223037, 0.1538480901531365, 0.21381925361730095, 1.3625846182814374, -0.7915574466445902, -0.5483019938305197, 3.629118184331783, -0.9625139154517232, 0.16091743116174276], \"yaxis\": \"y5\"}, {\"histfunc\": \"count\", \"histnorm\": \"\", \"marker\": {\"color\": \"rgba(55, 128, 191, 1.0)\", \"line\": {\"color\": \"#4D5663\", \"width\": 1.3}}, \"name\": \" B\", \"nbinsx\": 10, \"opacity\": 0.8, \"orientation\": \"v\", \"type\": \"histogram\", \"x\": [2.393955014008052, 0.7295241671997067, -0.7884956516766091, -1.0034301871109426, 0.16122649736514685, -0.9393748549724851, 0.15816754747061676, 1.8198241080705275, -1.1497226248365893, -0.16029408790965005, -2.012749253092932, 1.2172107889355217, 1.6750366580381233, 2.1393076997774543, -0.30493459794081273, 0.5117292493263356, 0.7036447179229162, -0.38336194489575576, -0.10677891756364695, -1.7481489414052218, 0.5714797537661231, -0.8092442598891338, -1.6832877374490327, -0.4644318992048635, 0.0051413486261414985, -2.609875970179155, -0.553634388525426, -0.7694491366072814, -0.18820718993716623, -1.1224961058796814, -0.03459477443144965, 1.2698794125597996, -0.5024030504728992, 1.0595030004708539, -0.6037368550922615, 0.9989329972969176, 1.6209756283836037, 0.3630825748502837, -0.3587803583227967, -0.7132325633464235, -0.7042268693897041, 1.4297438834109168, 0.9662660905840436, 0.6812386204734382, 1.9692983017462367, -0.3883475675177595, 1.360133403789544, -0.031428521472090735, 0.24752868479787052, 1.0403278254600228, 0.4529724837079801, 0.015396827100181832, -0.12513155683554494, -1.2755381919101085, -0.6903783402780991, -0.8321477150251463, 0.7100802833730272, 0.2038546182679955, 2.151245914410658, 1.6842236265592216, 0.4369081103144823, -0.03609018209906457, 1.150837618050103, -0.5537681601923262, 0.949650043718843, -0.13525432627398065, -2.1107866404480955, 1.635467526122635, -0.23740218435645088, 1.220538802477475, 0.9306165060679065, -1.2409954340112213, -0.4949613682148558, 1.5258146496265905, -1.9809563467247513, -0.7143373767905575, -0.2296009452499028, 1.2966094445443843, -0.2801452885198963, 0.24593009690591186, -0.10377771955254282, 0.4784055675167169, 0.8584728581561504, 1.6478146732022394, 0.5886139445888524, 0.7798036421004724, 1.2793583250411933, -0.9795913396912235, 0.4350182297991837, -1.296413802558348, 2.489012637471557, 1.5977712923223037, 0.1538480901531365, 0.21381925361730095, 1.3625846182814374, -0.7915574466445902, -0.5483019938305197, 3.629118184331783, -0.9625139154517232, 0.16091743116174276], \"xaxis\": \"x6\", \"yaxis\": \"y6\"}, {\"line\": {\"color\": \"rgba(128, 128, 128, 1.0)\", \"dash\": \"solid\", \"shape\": \"linear\", \"width\": 1.3}, \"marker\": {\"size\": 2, \"symbol\": \"circle\"}, \"mode\": \"markers\", \"name\": \" B\", \"text\": \"\", \"type\": \"scatter\", \"x\": [1.372052395993152, 1.7043867906505903, -0.005673427311608795, 0.3523319008881605, 0.976318912841944, -0.6762880535850897, 1.2373725872542423, -0.6110796875929951, -0.29488205191166666, -0.2968814623971072, -1.1443506116588782, -0.6325929857802397, -0.7352444098524169, 0.771177444459734, -0.33326450943721153, -0.36542117676413094, 0.5207035604771046, 0.21656757882599365, 1.676496594370226, 0.22628436337669927, 0.34491046555515753, -0.33042871812591135, -0.08422658443735433, -0.9466164769020331, 0.8114280389337645, 0.10534433414270532, -1.0078426979638047, -1.040582841564319, 1.1939763043151714, 1.2245610618888145, 0.23366189462276138, -1.3649812504359462, 0.9390928268109437, 0.05787351981098945, 1.1929731982250726, -2.06616860627508, 0.28509431018806874, 0.2323615517033693, 0.3516775764795282, 0.24508503864859668, 1.3849109395755559, -0.9760554396479139, 1.0813640430151417, 0.36741457619539464, 0.006475567329304382, 0.1558444173197155, -1.5235636238931491, 0.4075647502936297, -0.055964266838521966, 1.0074505240792073, 0.36607191463727107, -0.5936916313224394, -0.021707305496679177, 1.272854906943038, 0.8663163220565195, -0.8543650239910662, 0.2350936217889952, 0.348823341044296, -0.36395644242429165, -0.8285948978605961, 2.7410751875438804, 1.1301724518843879, -1.193692306253147, 0.9090619653462466, -0.17957656870996314, -0.8735711804577587, 0.2512892852339795, 0.8537797545557415, -2.6583601614559274, 0.39477204143391736, 0.42295611901615515, -0.2231966676407804, 0.5695790944346365, 0.4626908743852996, 0.5084796035822099, -0.49148203417151204, 0.2395072818497077, -0.10887199249459967, 1.2400966254118748, -0.6220998472288897, 2.6293580394523803, -0.17378728677563526, -0.32542567658471244, -0.06861705809786599, 0.40612320092576915, -0.4280967391266471, -0.2921034019229864, 0.25299252792599786, 1.2622408551542035, -1.5477962550558262, 0.8299720853052873, 0.7668010360268285, 0.6395574542503853, 1.083808017569944, 0.20626164245607248, -0.23688527763851755, 0.4782101700769962, 0.2815045819680345, 2.1046162593769124, -0.5244446464437239], \"xaxis\": \"x7\", \"y\": [2.393955014008052, 0.7295241671997067, -0.7884956516766091, -1.0034301871109426, 0.16122649736514685, -0.9393748549724851, 0.15816754747061676, 1.8198241080705275, -1.1497226248365893, -0.16029408790965005, -2.012749253092932, 1.2172107889355217, 1.6750366580381233, 2.1393076997774543, -0.30493459794081273, 0.5117292493263356, 0.7036447179229162, -0.38336194489575576, -0.10677891756364695, -1.7481489414052218, 0.5714797537661231, -0.8092442598891338, -1.6832877374490327, -0.4644318992048635, 0.0051413486261414985, -2.609875970179155, -0.553634388525426, -0.7694491366072814, -0.18820718993716623, -1.1224961058796814, -0.03459477443144965, 1.2698794125597996, -0.5024030504728992, 1.0595030004708539, -0.6037368550922615, 0.9989329972969176, 1.6209756283836037, 0.3630825748502837, -0.3587803583227967, -0.7132325633464235, -0.7042268693897041, 1.4297438834109168, 0.9662660905840436, 0.6812386204734382, 1.9692983017462367, -0.3883475675177595, 1.360133403789544, -0.031428521472090735, 0.24752868479787052, 1.0403278254600228, 0.4529724837079801, 0.015396827100181832, -0.12513155683554494, -1.2755381919101085, -0.6903783402780991, -0.8321477150251463, 0.7100802833730272, 0.2038546182679955, 2.151245914410658, 1.6842236265592216, 0.4369081103144823, -0.03609018209906457, 1.150837618050103, -0.5537681601923262, 0.949650043718843, -0.13525432627398065, -2.1107866404480955, 1.635467526122635, -0.23740218435645088, 1.220538802477475, 0.9306165060679065, -1.2409954340112213, -0.4949613682148558, 1.5258146496265905, -1.9809563467247513, -0.7143373767905575, -0.2296009452499028, 1.2966094445443843, -0.2801452885198963, 0.24593009690591186, -0.10377771955254282, 0.4784055675167169, 0.8584728581561504, 1.6478146732022394, 0.5886139445888524, 0.7798036421004724, 1.2793583250411933, -0.9795913396912235, 0.4350182297991837, -1.296413802558348, 2.489012637471557, 1.5977712923223037, 0.1538480901531365, 0.21381925361730095, 1.3625846182814374, -0.7915574466445902, -0.5483019938305197, 3.629118184331783, -0.9625139154517232, 0.16091743116174276], \"yaxis\": \"y7\"}, {\"line\": {\"color\": \"rgba(128, 128, 128, 1.0)\", \"dash\": \"solid\", \"shape\": \"linear\", \"width\": 1.3}, \"marker\": {\"size\": 2, \"symbol\": \"circle\"}, \"mode\": \"markers\", \"name\": \" B\", \"text\": \"\", \"type\": \"scatter\", \"x\": [0.6426171020913116, 0.05947831050959164, 0.8057109776007441, 1.5182216465992566, 0.17683259271748428, -1.201703319160288, 0.08939571806521496, 2.0154563391314873, 1.7301251256429016, 0.49528261213488545, 0.0761665451289827, 1.6103034919331367, 1.6120448888241674, -0.2573136206604346, -0.9779054477931095, 0.09584648166310304, -0.07571022687017195, 0.14592291951912958, 0.5859863691277728, -0.9634514352867459, -1.6097533777922932, -1.3834694563514975, 1.3350657642225476, 2.5348040961290565, 0.07096153306759836, 0.6368949669764494, -2.491181625238631, -2.069948065264797, -0.39141325160767837, 0.8729443579466766, -0.15203240827413245, 1.593493694910104, 0.19147931889882305, -0.2570947529594395, -0.2362423478932293, -0.24761400944699485, 1.5498785562590034, -1.342736587129085, -0.6875756550917744, -0.8435542153832782, -0.013874970564091298, -0.6437810020122223, -0.08307285623526937, -0.2962296943116745, -0.5130982235488185, 0.3824096226964955, -0.5540921670015748, 1.0153688520081747, -0.7952904910998714, 2.5784952415824245, 0.8945149051861342, 0.2519932142685906, -1.0221722639024475, -1.5520675750466661, -1.200280816710757, -1.5283381205817728, 0.35850270542977336, 0.028661556376518574, -0.25417601662240924, -0.43123113419811976, -0.7992886449170896, 0.8390223361200038, 0.343733762605699, -0.6743338869442519, 0.05144922505834395, 0.2074977159159455, 0.9843826193439873, 1.4061675427565727, 0.11563603180803507, 0.4530024188769888, -0.47629266642328244, -0.16710643248919377, -0.0515307061316568, -0.6588656418257205, 1.5582301705782957, -0.6296407507349331, -0.5372426533819447, -0.874055648075707, -0.9115348231890187, 0.29738761097200167, 1.398817190288319, -0.03531964926848891, -1.269178704672509, -1.7086885351716186, 0.12803766640189806, 0.6625171606929373, 0.09803785359242453, -0.42955781291017003, 0.9588026633516734, 0.8801708158200088, -1.505560101488006, 0.0639479738951868, -0.6667387730971316, -0.7866002141704426, -0.07573694787116873, -0.8633462980959028, 0.37497474414887555, 0.3307646714610224, 0.1501616858635575, 0.2960707050508471], \"xaxis\": \"x8\", \"y\": [2.393955014008052, 0.7295241671997067, -0.7884956516766091, -1.0034301871109426, 0.16122649736514685, -0.9393748549724851, 0.15816754747061676, 1.8198241080705275, -1.1497226248365893, -0.16029408790965005, -2.012749253092932, 1.2172107889355217, 1.6750366580381233, 2.1393076997774543, -0.30493459794081273, 0.5117292493263356, 0.7036447179229162, -0.38336194489575576, -0.10677891756364695, -1.7481489414052218, 0.5714797537661231, -0.8092442598891338, -1.6832877374490327, -0.4644318992048635, 0.0051413486261414985, -2.609875970179155, -0.553634388525426, -0.7694491366072814, -0.18820718993716623, -1.1224961058796814, -0.03459477443144965, 1.2698794125597996, -0.5024030504728992, 1.0595030004708539, -0.6037368550922615, 0.9989329972969176, 1.6209756283836037, 0.3630825748502837, -0.3587803583227967, -0.7132325633464235, -0.7042268693897041, 1.4297438834109168, 0.9662660905840436, 0.6812386204734382, 1.9692983017462367, -0.3883475675177595, 1.360133403789544, -0.031428521472090735, 0.24752868479787052, 1.0403278254600228, 0.4529724837079801, 0.015396827100181832, -0.12513155683554494, -1.2755381919101085, -0.6903783402780991, -0.8321477150251463, 0.7100802833730272, 0.2038546182679955, 2.151245914410658, 1.6842236265592216, 0.4369081103144823, -0.03609018209906457, 1.150837618050103, -0.5537681601923262, 0.949650043718843, -0.13525432627398065, -2.1107866404480955, 1.635467526122635, -0.23740218435645088, 1.220538802477475, 0.9306165060679065, -1.2409954340112213, -0.4949613682148558, 1.5258146496265905, -1.9809563467247513, -0.7143373767905575, -0.2296009452499028, 1.2966094445443843, -0.2801452885198963, 0.24593009690591186, -0.10377771955254282, 0.4784055675167169, 0.8584728581561504, 1.6478146732022394, 0.5886139445888524, 0.7798036421004724, 1.2793583250411933, -0.9795913396912235, 0.4350182297991837, -1.296413802558348, 2.489012637471557, 1.5977712923223037, 0.1538480901531365, 0.21381925361730095, 1.3625846182814374, -0.7915574466445902, -0.5483019938305197, 3.629118184331783, -0.9625139154517232, 0.16091743116174276], \"yaxis\": \"y8\"}, {\"line\": {\"color\": \"rgba(128, 128, 128, 1.0)\", \"dash\": \"solid\", \"shape\": \"linear\", \"width\": 1.3}, \"marker\": {\"size\": 2, \"symbol\": \"circle\"}, \"mode\": \"markers\", \"name\": \" C\", \"text\": \"\", \"type\": \"scatter\", \"x\": [0.2761339514733847, 1.188804121605242, 0.08497589522761069, -0.34533240320481096, -0.07782907635069093, -1.2498699046511899, -0.11342716786920551, 0.8992512727833145, 0.6869949962554535, 1.0872836110719306, 0.5624125643232705, -0.06872867674511322, -1.488294260402288, 1.1347605759565262, -0.04512589510977593, -1.1709300462069576, 2.5699296958065267, -2.6949537636334515, 0.9509967843271091, 0.9126363660840404, -0.893416021982162, -0.6709000690385981, -0.6764702311155343, 1.6545543982092468, -0.6613351181686137, 1.3463097312201942, 1.1953415174451654, -0.0023683532837439616, -0.7385556666158539, -0.09804609750860487, -0.24725493992732892, 0.3704998148593566, -0.5179378835723708, 1.1115432909865557, 0.6283639633904835, -0.0811902814258752, -0.7493943203141994, -1.154026941611956, -0.531290294132609, -0.646090508780619, -0.41745082465802874, -0.9572205692302606, 0.029535762132137554, 0.8132802676270556, -0.24785671695736364, 2.757816249804465, -0.016600337056652394, -0.03229479868311702, -0.2767738401048227, -1.8835736923431186, 0.8465033054900883, -0.35981629757736416, -1.884231824833337, 0.5429230784561598, 2.6022101434440357, -1.4484745143157174, 0.2578023462079427, 0.5370000856732656, 0.02404680743578104, -0.03177599917046245, 0.5806531394603373, -0.050719375105140706, 0.2571507486178252, 0.16053241926143327, 2.4780536465185965, -0.40963856353358163, 0.4982262133827531, -1.8370793820561426, 0.5737037513423762, -0.808098912570454, -0.3523370407889365, -1.5834479584704206, 0.009656275276085651, -0.5035375476668608, -1.0664730889309146, 1.6801569990369594, -0.9744459057915644, 1.9656646886689864, 0.6123677502516772, 1.117614219320944, 1.6793717146667708, 0.024819821963667815, -0.35518721094419947, -0.10180586651928844, 0.15232074131943715, 1.4313790324915008, 0.40367088549841706, 0.5637704529498062, -0.4723496462238286, -0.639548098210627, 0.1835297599153169, 1.4006969448250643, 2.60871880554445, 0.4937448850274035, 0.4518378065874822, 0.25308441145521465, 1.2589819790846235, -0.22390426447291434, 0.006012911300815213, -2.1920102474812744], \"xaxis\": \"x9\", \"y\": [1.372052395993152, 1.7043867906505903, -0.005673427311608795, 0.3523319008881605, 0.976318912841944, -0.6762880535850897, 1.2373725872542423, -0.6110796875929951, -0.29488205191166666, -0.2968814623971072, -1.1443506116588782, -0.6325929857802397, -0.7352444098524169, 0.771177444459734, -0.33326450943721153, -0.36542117676413094, 0.5207035604771046, 0.21656757882599365, 1.676496594370226, 0.22628436337669927, 0.34491046555515753, -0.33042871812591135, -0.08422658443735433, -0.9466164769020331, 0.8114280389337645, 0.10534433414270532, -1.0078426979638047, -1.040582841564319, 1.1939763043151714, 1.2245610618888145, 0.23366189462276138, -1.3649812504359462, 0.9390928268109437, 0.05787351981098945, 1.1929731982250726, -2.06616860627508, 0.28509431018806874, 0.2323615517033693, 0.3516775764795282, 0.24508503864859668, 1.3849109395755559, -0.9760554396479139, 1.0813640430151417, 0.36741457619539464, 0.006475567329304382, 0.1558444173197155, -1.5235636238931491, 0.4075647502936297, -0.055964266838521966, 1.0074505240792073, 0.36607191463727107, -0.5936916313224394, -0.021707305496679177, 1.272854906943038, 0.8663163220565195, -0.8543650239910662, 0.2350936217889952, 0.348823341044296, -0.36395644242429165, -0.8285948978605961, 2.7410751875438804, 1.1301724518843879, -1.193692306253147, 0.9090619653462466, -0.17957656870996314, -0.8735711804577587, 0.2512892852339795, 0.8537797545557415, -2.6583601614559274, 0.39477204143391736, 0.42295611901615515, -0.2231966676407804, 0.5695790944346365, 0.4626908743852996, 0.5084796035822099, -0.49148203417151204, 0.2395072818497077, -0.10887199249459967, 1.2400966254118748, -0.6220998472288897, 2.6293580394523803, -0.17378728677563526, -0.32542567658471244, -0.06861705809786599, 0.40612320092576915, -0.4280967391266471, -0.2921034019229864, 0.25299252792599786, 1.2622408551542035, -1.5477962550558262, 0.8299720853052873, 0.7668010360268285, 0.6395574542503853, 1.083808017569944, 0.20626164245607248, -0.23688527763851755, 0.4782101700769962, 0.2815045819680345, 2.1046162593769124, -0.5244446464437239], \"yaxis\": \"y9\"}, {\"line\": {\"color\": \"rgba(128, 128, 128, 1.0)\", \"dash\": \"solid\", \"shape\": \"linear\", \"width\": 1.3}, \"marker\": {\"size\": 2, \"symbol\": \"circle\"}, \"mode\": \"markers\", \"name\": \" C\", \"text\": \"\", \"type\": \"scatter\", \"x\": [2.393955014008052, 0.7295241671997067, -0.7884956516766091, -1.0034301871109426, 0.16122649736514685, -0.9393748549724851, 0.15816754747061676, 1.8198241080705275, -1.1497226248365893, -0.16029408790965005, -2.012749253092932, 1.2172107889355217, 1.6750366580381233, 2.1393076997774543, -0.30493459794081273, 0.5117292493263356, 0.7036447179229162, -0.38336194489575576, -0.10677891756364695, -1.7481489414052218, 0.5714797537661231, -0.8092442598891338, -1.6832877374490327, -0.4644318992048635, 0.0051413486261414985, -2.609875970179155, -0.553634388525426, -0.7694491366072814, -0.18820718993716623, -1.1224961058796814, -0.03459477443144965, 1.2698794125597996, -0.5024030504728992, 1.0595030004708539, -0.6037368550922615, 0.9989329972969176, 1.6209756283836037, 0.3630825748502837, -0.3587803583227967, -0.7132325633464235, -0.7042268693897041, 1.4297438834109168, 0.9662660905840436, 0.6812386204734382, 1.9692983017462367, -0.3883475675177595, 1.360133403789544, -0.031428521472090735, 0.24752868479787052, 1.0403278254600228, 0.4529724837079801, 0.015396827100181832, -0.12513155683554494, -1.2755381919101085, -0.6903783402780991, -0.8321477150251463, 0.7100802833730272, 0.2038546182679955, 2.151245914410658, 1.6842236265592216, 0.4369081103144823, -0.03609018209906457, 1.150837618050103, -0.5537681601923262, 0.949650043718843, -0.13525432627398065, -2.1107866404480955, 1.635467526122635, -0.23740218435645088, 1.220538802477475, 0.9306165060679065, -1.2409954340112213, -0.4949613682148558, 1.5258146496265905, -1.9809563467247513, -0.7143373767905575, -0.2296009452499028, 1.2966094445443843, -0.2801452885198963, 0.24593009690591186, -0.10377771955254282, 0.4784055675167169, 0.8584728581561504, 1.6478146732022394, 0.5886139445888524, 0.7798036421004724, 1.2793583250411933, -0.9795913396912235, 0.4350182297991837, -1.296413802558348, 2.489012637471557, 1.5977712923223037, 0.1538480901531365, 0.21381925361730095, 1.3625846182814374, -0.7915574466445902, -0.5483019938305197, 3.629118184331783, -0.9625139154517232, 0.16091743116174276], \"xaxis\": \"x10\", \"y\": [1.372052395993152, 1.7043867906505903, -0.005673427311608795, 0.3523319008881605, 0.976318912841944, -0.6762880535850897, 1.2373725872542423, -0.6110796875929951, -0.29488205191166666, -0.2968814623971072, -1.1443506116588782, -0.6325929857802397, -0.7352444098524169, 0.771177444459734, -0.33326450943721153, -0.36542117676413094, 0.5207035604771046, 0.21656757882599365, 1.676496594370226, 0.22628436337669927, 0.34491046555515753, -0.33042871812591135, -0.08422658443735433, -0.9466164769020331, 0.8114280389337645, 0.10534433414270532, -1.0078426979638047, -1.040582841564319, 1.1939763043151714, 1.2245610618888145, 0.23366189462276138, -1.3649812504359462, 0.9390928268109437, 0.05787351981098945, 1.1929731982250726, -2.06616860627508, 0.28509431018806874, 0.2323615517033693, 0.3516775764795282, 0.24508503864859668, 1.3849109395755559, -0.9760554396479139, 1.0813640430151417, 0.36741457619539464, 0.006475567329304382, 0.1558444173197155, -1.5235636238931491, 0.4075647502936297, -0.055964266838521966, 1.0074505240792073, 0.36607191463727107, -0.5936916313224394, -0.021707305496679177, 1.272854906943038, 0.8663163220565195, -0.8543650239910662, 0.2350936217889952, 0.348823341044296, -0.36395644242429165, -0.8285948978605961, 2.7410751875438804, 1.1301724518843879, -1.193692306253147, 0.9090619653462466, -0.17957656870996314, -0.8735711804577587, 0.2512892852339795, 0.8537797545557415, -2.6583601614559274, 0.39477204143391736, 0.42295611901615515, -0.2231966676407804, 0.5695790944346365, 0.4626908743852996, 0.5084796035822099, -0.49148203417151204, 0.2395072818497077, -0.10887199249459967, 1.2400966254118748, -0.6220998472288897, 2.6293580394523803, -0.17378728677563526, -0.32542567658471244, -0.06861705809786599, 0.40612320092576915, -0.4280967391266471, -0.2921034019229864, 0.25299252792599786, 1.2622408551542035, -1.5477962550558262, 0.8299720853052873, 0.7668010360268285, 0.6395574542503853, 1.083808017569944, 0.20626164245607248, -0.23688527763851755, 0.4782101700769962, 0.2815045819680345, 2.1046162593769124, -0.5244446464437239], \"yaxis\": \"y10\"}, {\"histfunc\": \"count\", \"histnorm\": \"\", \"marker\": {\"color\": \"rgba(50, 171, 96, 1.0)\", \"line\": {\"color\": \"#4D5663\", \"width\": 1.3}}, \"name\": \" C\", \"nbinsx\": 10, \"opacity\": 0.8, \"orientation\": \"v\", \"type\": \"histogram\", \"x\": [1.372052395993152, 1.7043867906505903, -0.005673427311608795, 0.3523319008881605, 0.976318912841944, -0.6762880535850897, 1.2373725872542423, -0.6110796875929951, -0.29488205191166666, -0.2968814623971072, -1.1443506116588782, -0.6325929857802397, -0.7352444098524169, 0.771177444459734, -0.33326450943721153, -0.36542117676413094, 0.5207035604771046, 0.21656757882599365, 1.676496594370226, 0.22628436337669927, 0.34491046555515753, -0.33042871812591135, -0.08422658443735433, -0.9466164769020331, 0.8114280389337645, 0.10534433414270532, -1.0078426979638047, -1.040582841564319, 1.1939763043151714, 1.2245610618888145, 0.23366189462276138, -1.3649812504359462, 0.9390928268109437, 0.05787351981098945, 1.1929731982250726, -2.06616860627508, 0.28509431018806874, 0.2323615517033693, 0.3516775764795282, 0.24508503864859668, 1.3849109395755559, -0.9760554396479139, 1.0813640430151417, 0.36741457619539464, 0.006475567329304382, 0.1558444173197155, -1.5235636238931491, 0.4075647502936297, -0.055964266838521966, 1.0074505240792073, 0.36607191463727107, -0.5936916313224394, -0.021707305496679177, 1.272854906943038, 0.8663163220565195, -0.8543650239910662, 0.2350936217889952, 0.348823341044296, -0.36395644242429165, -0.8285948978605961, 2.7410751875438804, 1.1301724518843879, -1.193692306253147, 0.9090619653462466, -0.17957656870996314, -0.8735711804577587, 0.2512892852339795, 0.8537797545557415, -2.6583601614559274, 0.39477204143391736, 0.42295611901615515, -0.2231966676407804, 0.5695790944346365, 0.4626908743852996, 0.5084796035822099, -0.49148203417151204, 0.2395072818497077, -0.10887199249459967, 1.2400966254118748, -0.6220998472288897, 2.6293580394523803, -0.17378728677563526, -0.32542567658471244, -0.06861705809786599, 0.40612320092576915, -0.4280967391266471, -0.2921034019229864, 0.25299252792599786, 1.2622408551542035, -1.5477962550558262, 0.8299720853052873, 0.7668010360268285, 0.6395574542503853, 1.083808017569944, 0.20626164245607248, -0.23688527763851755, 0.4782101700769962, 0.2815045819680345, 2.1046162593769124, -0.5244446464437239], \"xaxis\": \"x11\", \"yaxis\": \"y11\"}, {\"line\": {\"color\": \"rgba(128, 128, 128, 1.0)\", \"dash\": \"solid\", \"shape\": \"linear\", \"width\": 1.3}, \"marker\": {\"size\": 2, \"symbol\": \"circle\"}, \"mode\": \"markers\", \"name\": \" C\", \"text\": \"\", \"type\": \"scatter\", \"x\": [0.6426171020913116, 0.05947831050959164, 0.8057109776007441, 1.5182216465992566, 0.17683259271748428, -1.201703319160288, 0.08939571806521496, 2.0154563391314873, 1.7301251256429016, 0.49528261213488545, 0.0761665451289827, 1.6103034919331367, 1.6120448888241674, -0.2573136206604346, -0.9779054477931095, 0.09584648166310304, -0.07571022687017195, 0.14592291951912958, 0.5859863691277728, -0.9634514352867459, -1.6097533777922932, -1.3834694563514975, 1.3350657642225476, 2.5348040961290565, 0.07096153306759836, 0.6368949669764494, -2.491181625238631, -2.069948065264797, -0.39141325160767837, 0.8729443579466766, -0.15203240827413245, 1.593493694910104, 0.19147931889882305, -0.2570947529594395, -0.2362423478932293, -0.24761400944699485, 1.5498785562590034, -1.342736587129085, -0.6875756550917744, -0.8435542153832782, -0.013874970564091298, -0.6437810020122223, -0.08307285623526937, -0.2962296943116745, -0.5130982235488185, 0.3824096226964955, -0.5540921670015748, 1.0153688520081747, -0.7952904910998714, 2.5784952415824245, 0.8945149051861342, 0.2519932142685906, -1.0221722639024475, -1.5520675750466661, -1.200280816710757, -1.5283381205817728, 0.35850270542977336, 0.028661556376518574, -0.25417601662240924, -0.43123113419811976, -0.7992886449170896, 0.8390223361200038, 0.343733762605699, -0.6743338869442519, 0.05144922505834395, 0.2074977159159455, 0.9843826193439873, 1.4061675427565727, 0.11563603180803507, 0.4530024188769888, -0.47629266642328244, -0.16710643248919377, -0.0515307061316568, -0.6588656418257205, 1.5582301705782957, -0.6296407507349331, -0.5372426533819447, -0.874055648075707, -0.9115348231890187, 0.29738761097200167, 1.398817190288319, -0.03531964926848891, -1.269178704672509, -1.7086885351716186, 0.12803766640189806, 0.6625171606929373, 0.09803785359242453, -0.42955781291017003, 0.9588026633516734, 0.8801708158200088, -1.505560101488006, 0.0639479738951868, -0.6667387730971316, -0.7866002141704426, -0.07573694787116873, -0.8633462980959028, 0.37497474414887555, 0.3307646714610224, 0.1501616858635575, 0.2960707050508471], \"xaxis\": \"x12\", \"y\": [1.372052395993152, 1.7043867906505903, -0.005673427311608795, 0.3523319008881605, 0.976318912841944, -0.6762880535850897, 1.2373725872542423, -0.6110796875929951, -0.29488205191166666, -0.2968814623971072, -1.1443506116588782, -0.6325929857802397, -0.7352444098524169, 0.771177444459734, -0.33326450943721153, -0.36542117676413094, 0.5207035604771046, 0.21656757882599365, 1.676496594370226, 0.22628436337669927, 0.34491046555515753, -0.33042871812591135, -0.08422658443735433, -0.9466164769020331, 0.8114280389337645, 0.10534433414270532, -1.0078426979638047, -1.040582841564319, 1.1939763043151714, 1.2245610618888145, 0.23366189462276138, -1.3649812504359462, 0.9390928268109437, 0.05787351981098945, 1.1929731982250726, -2.06616860627508, 0.28509431018806874, 0.2323615517033693, 0.3516775764795282, 0.24508503864859668, 1.3849109395755559, -0.9760554396479139, 1.0813640430151417, 0.36741457619539464, 0.006475567329304382, 0.1558444173197155, -1.5235636238931491, 0.4075647502936297, -0.055964266838521966, 1.0074505240792073, 0.36607191463727107, -0.5936916313224394, -0.021707305496679177, 1.272854906943038, 0.8663163220565195, -0.8543650239910662, 0.2350936217889952, 0.348823341044296, -0.36395644242429165, -0.8285948978605961, 2.7410751875438804, 1.1301724518843879, -1.193692306253147, 0.9090619653462466, -0.17957656870996314, -0.8735711804577587, 0.2512892852339795, 0.8537797545557415, -2.6583601614559274, 0.39477204143391736, 0.42295611901615515, -0.2231966676407804, 0.5695790944346365, 0.4626908743852996, 0.5084796035822099, -0.49148203417151204, 0.2395072818497077, -0.10887199249459967, 1.2400966254118748, -0.6220998472288897, 2.6293580394523803, -0.17378728677563526, -0.32542567658471244, -0.06861705809786599, 0.40612320092576915, -0.4280967391266471, -0.2921034019229864, 0.25299252792599786, 1.2622408551542035, -1.5477962550558262, 0.8299720853052873, 0.7668010360268285, 0.6395574542503853, 1.083808017569944, 0.20626164245607248, -0.23688527763851755, 0.4782101700769962, 0.2815045819680345, 2.1046162593769124, -0.5244446464437239], \"yaxis\": \"y12\"}, {\"line\": {\"color\": \"rgba(128, 128, 128, 1.0)\", \"dash\": \"solid\", \"shape\": \"linear\", \"width\": 1.3}, \"marker\": {\"size\": 2, \"symbol\": \"circle\"}, \"mode\": \"markers\", \"name\": \" D\", \"text\": \"\", \"type\": \"scatter\", \"x\": [0.2761339514733847, 1.188804121605242, 0.08497589522761069, -0.34533240320481096, -0.07782907635069093, -1.2498699046511899, -0.11342716786920551, 0.8992512727833145, 0.6869949962554535, 1.0872836110719306, 0.5624125643232705, -0.06872867674511322, -1.488294260402288, 1.1347605759565262, -0.04512589510977593, -1.1709300462069576, 2.5699296958065267, -2.6949537636334515, 0.9509967843271091, 0.9126363660840404, -0.893416021982162, -0.6709000690385981, -0.6764702311155343, 1.6545543982092468, -0.6613351181686137, 1.3463097312201942, 1.1953415174451654, -0.0023683532837439616, -0.7385556666158539, -0.09804609750860487, -0.24725493992732892, 0.3704998148593566, -0.5179378835723708, 1.1115432909865557, 0.6283639633904835, -0.0811902814258752, -0.7493943203141994, -1.154026941611956, -0.531290294132609, -0.646090508780619, -0.41745082465802874, -0.9572205692302606, 0.029535762132137554, 0.8132802676270556, -0.24785671695736364, 2.757816249804465, -0.016600337056652394, -0.03229479868311702, -0.2767738401048227, -1.8835736923431186, 0.8465033054900883, -0.35981629757736416, -1.884231824833337, 0.5429230784561598, 2.6022101434440357, -1.4484745143157174, 0.2578023462079427, 0.5370000856732656, 0.02404680743578104, -0.03177599917046245, 0.5806531394603373, -0.050719375105140706, 0.2571507486178252, 0.16053241926143327, 2.4780536465185965, -0.40963856353358163, 0.4982262133827531, -1.8370793820561426, 0.5737037513423762, -0.808098912570454, -0.3523370407889365, -1.5834479584704206, 0.009656275276085651, -0.5035375476668608, -1.0664730889309146, 1.6801569990369594, -0.9744459057915644, 1.9656646886689864, 0.6123677502516772, 1.117614219320944, 1.6793717146667708, 0.024819821963667815, -0.35518721094419947, -0.10180586651928844, 0.15232074131943715, 1.4313790324915008, 0.40367088549841706, 0.5637704529498062, -0.4723496462238286, -0.639548098210627, 0.1835297599153169, 1.4006969448250643, 2.60871880554445, 0.4937448850274035, 0.4518378065874822, 0.25308441145521465, 1.2589819790846235, -0.22390426447291434, 0.006012911300815213, -2.1920102474812744], \"xaxis\": \"x13\", \"y\": [0.6426171020913116, 0.05947831050959164, 0.8057109776007441, 1.5182216465992566, 0.17683259271748428, -1.201703319160288, 0.08939571806521496, 2.0154563391314873, 1.7301251256429016, 0.49528261213488545, 0.0761665451289827, 1.6103034919331367, 1.6120448888241674, -0.2573136206604346, -0.9779054477931095, 0.09584648166310304, -0.07571022687017195, 0.14592291951912958, 0.5859863691277728, -0.9634514352867459, -1.6097533777922932, -1.3834694563514975, 1.3350657642225476, 2.5348040961290565, 0.07096153306759836, 0.6368949669764494, -2.491181625238631, -2.069948065264797, -0.39141325160767837, 0.8729443579466766, -0.15203240827413245, 1.593493694910104, 0.19147931889882305, -0.2570947529594395, -0.2362423478932293, -0.24761400944699485, 1.5498785562590034, -1.342736587129085, -0.6875756550917744, -0.8435542153832782, -0.013874970564091298, -0.6437810020122223, -0.08307285623526937, -0.2962296943116745, -0.5130982235488185, 0.3824096226964955, -0.5540921670015748, 1.0153688520081747, -0.7952904910998714, 2.5784952415824245, 0.8945149051861342, 0.2519932142685906, -1.0221722639024475, -1.5520675750466661, -1.200280816710757, -1.5283381205817728, 0.35850270542977336, 0.028661556376518574, -0.25417601662240924, -0.43123113419811976, -0.7992886449170896, 0.8390223361200038, 0.343733762605699, -0.6743338869442519, 0.05144922505834395, 0.2074977159159455, 0.9843826193439873, 1.4061675427565727, 0.11563603180803507, 0.4530024188769888, -0.47629266642328244, -0.16710643248919377, -0.0515307061316568, -0.6588656418257205, 1.5582301705782957, -0.6296407507349331, -0.5372426533819447, -0.874055648075707, -0.9115348231890187, 0.29738761097200167, 1.398817190288319, -0.03531964926848891, -1.269178704672509, -1.7086885351716186, 0.12803766640189806, 0.6625171606929373, 0.09803785359242453, -0.42955781291017003, 0.9588026633516734, 0.8801708158200088, -1.505560101488006, 0.0639479738951868, -0.6667387730971316, -0.7866002141704426, -0.07573694787116873, -0.8633462980959028, 0.37497474414887555, 0.3307646714610224, 0.1501616858635575, 0.2960707050508471], \"yaxis\": \"y13\"}, {\"line\": {\"color\": \"rgba(128, 128, 128, 1.0)\", \"dash\": \"solid\", \"shape\": \"linear\", \"width\": 1.3}, \"marker\": {\"size\": 2, \"symbol\": \"circle\"}, \"mode\": \"markers\", \"name\": \" D\", \"text\": \"\", \"type\": \"scatter\", \"x\": [2.393955014008052, 0.7295241671997067, -0.7884956516766091, -1.0034301871109426, 0.16122649736514685, -0.9393748549724851, 0.15816754747061676, 1.8198241080705275, -1.1497226248365893, -0.16029408790965005, -2.012749253092932, 1.2172107889355217, 1.6750366580381233, 2.1393076997774543, -0.30493459794081273, 0.5117292493263356, 0.7036447179229162, -0.38336194489575576, -0.10677891756364695, -1.7481489414052218, 0.5714797537661231, -0.8092442598891338, -1.6832877374490327, -0.4644318992048635, 0.0051413486261414985, -2.609875970179155, -0.553634388525426, -0.7694491366072814, -0.18820718993716623, -1.1224961058796814, -0.03459477443144965, 1.2698794125597996, -0.5024030504728992, 1.0595030004708539, -0.6037368550922615, 0.9989329972969176, 1.6209756283836037, 0.3630825748502837, -0.3587803583227967, -0.7132325633464235, -0.7042268693897041, 1.4297438834109168, 0.9662660905840436, 0.6812386204734382, 1.9692983017462367, -0.3883475675177595, 1.360133403789544, -0.031428521472090735, 0.24752868479787052, 1.0403278254600228, 0.4529724837079801, 0.015396827100181832, -0.12513155683554494, -1.2755381919101085, -0.6903783402780991, -0.8321477150251463, 0.7100802833730272, 0.2038546182679955, 2.151245914410658, 1.6842236265592216, 0.4369081103144823, -0.03609018209906457, 1.150837618050103, -0.5537681601923262, 0.949650043718843, -0.13525432627398065, -2.1107866404480955, 1.635467526122635, -0.23740218435645088, 1.220538802477475, 0.9306165060679065, -1.2409954340112213, -0.4949613682148558, 1.5258146496265905, -1.9809563467247513, -0.7143373767905575, -0.2296009452499028, 1.2966094445443843, -0.2801452885198963, 0.24593009690591186, -0.10377771955254282, 0.4784055675167169, 0.8584728581561504, 1.6478146732022394, 0.5886139445888524, 0.7798036421004724, 1.2793583250411933, -0.9795913396912235, 0.4350182297991837, -1.296413802558348, 2.489012637471557, 1.5977712923223037, 0.1538480901531365, 0.21381925361730095, 1.3625846182814374, -0.7915574466445902, -0.5483019938305197, 3.629118184331783, -0.9625139154517232, 0.16091743116174276], \"xaxis\": \"x14\", \"y\": [0.6426171020913116, 0.05947831050959164, 0.8057109776007441, 1.5182216465992566, 0.17683259271748428, -1.201703319160288, 0.08939571806521496, 2.0154563391314873, 1.7301251256429016, 0.49528261213488545, 0.0761665451289827, 1.6103034919331367, 1.6120448888241674, -0.2573136206604346, -0.9779054477931095, 0.09584648166310304, -0.07571022687017195, 0.14592291951912958, 0.5859863691277728, -0.9634514352867459, -1.6097533777922932, -1.3834694563514975, 1.3350657642225476, 2.5348040961290565, 0.07096153306759836, 0.6368949669764494, -2.491181625238631, -2.069948065264797, -0.39141325160767837, 0.8729443579466766, -0.15203240827413245, 1.593493694910104, 0.19147931889882305, -0.2570947529594395, -0.2362423478932293, -0.24761400944699485, 1.5498785562590034, -1.342736587129085, -0.6875756550917744, -0.8435542153832782, -0.013874970564091298, -0.6437810020122223, -0.08307285623526937, -0.2962296943116745, -0.5130982235488185, 0.3824096226964955, -0.5540921670015748, 1.0153688520081747, -0.7952904910998714, 2.5784952415824245, 0.8945149051861342, 0.2519932142685906, -1.0221722639024475, -1.5520675750466661, -1.200280816710757, -1.5283381205817728, 0.35850270542977336, 0.028661556376518574, -0.25417601662240924, -0.43123113419811976, -0.7992886449170896, 0.8390223361200038, 0.343733762605699, -0.6743338869442519, 0.05144922505834395, 0.2074977159159455, 0.9843826193439873, 1.4061675427565727, 0.11563603180803507, 0.4530024188769888, -0.47629266642328244, -0.16710643248919377, -0.0515307061316568, -0.6588656418257205, 1.5582301705782957, -0.6296407507349331, -0.5372426533819447, -0.874055648075707, -0.9115348231890187, 0.29738761097200167, 1.398817190288319, -0.03531964926848891, -1.269178704672509, -1.7086885351716186, 0.12803766640189806, 0.6625171606929373, 0.09803785359242453, -0.42955781291017003, 0.9588026633516734, 0.8801708158200088, -1.505560101488006, 0.0639479738951868, -0.6667387730971316, -0.7866002141704426, -0.07573694787116873, -0.8633462980959028, 0.37497474414887555, 0.3307646714610224, 0.1501616858635575, 0.2960707050508471], \"yaxis\": \"y14\"}, {\"line\": {\"color\": \"rgba(128, 128, 128, 1.0)\", \"dash\": \"solid\", \"shape\": \"linear\", \"width\": 1.3}, \"marker\": {\"size\": 2, \"symbol\": \"circle\"}, \"mode\": \"markers\", \"name\": \" D\", \"text\": \"\", \"type\": \"scatter\", \"x\": [1.372052395993152, 1.7043867906505903, -0.005673427311608795, 0.3523319008881605, 0.976318912841944, -0.6762880535850897, 1.2373725872542423, -0.6110796875929951, -0.29488205191166666, -0.2968814623971072, -1.1443506116588782, -0.6325929857802397, -0.7352444098524169, 0.771177444459734, -0.33326450943721153, -0.36542117676413094, 0.5207035604771046, 0.21656757882599365, 1.676496594370226, 0.22628436337669927, 0.34491046555515753, -0.33042871812591135, -0.08422658443735433, -0.9466164769020331, 0.8114280389337645, 0.10534433414270532, -1.0078426979638047, -1.040582841564319, 1.1939763043151714, 1.2245610618888145, 0.23366189462276138, -1.3649812504359462, 0.9390928268109437, 0.05787351981098945, 1.1929731982250726, -2.06616860627508, 0.28509431018806874, 0.2323615517033693, 0.3516775764795282, 0.24508503864859668, 1.3849109395755559, -0.9760554396479139, 1.0813640430151417, 0.36741457619539464, 0.006475567329304382, 0.1558444173197155, -1.5235636238931491, 0.4075647502936297, -0.055964266838521966, 1.0074505240792073, 0.36607191463727107, -0.5936916313224394, -0.021707305496679177, 1.272854906943038, 0.8663163220565195, -0.8543650239910662, 0.2350936217889952, 0.348823341044296, -0.36395644242429165, -0.8285948978605961, 2.7410751875438804, 1.1301724518843879, -1.193692306253147, 0.9090619653462466, -0.17957656870996314, -0.8735711804577587, 0.2512892852339795, 0.8537797545557415, -2.6583601614559274, 0.39477204143391736, 0.42295611901615515, -0.2231966676407804, 0.5695790944346365, 0.4626908743852996, 0.5084796035822099, -0.49148203417151204, 0.2395072818497077, -0.10887199249459967, 1.2400966254118748, -0.6220998472288897, 2.6293580394523803, -0.17378728677563526, -0.32542567658471244, -0.06861705809786599, 0.40612320092576915, -0.4280967391266471, -0.2921034019229864, 0.25299252792599786, 1.2622408551542035, -1.5477962550558262, 0.8299720853052873, 0.7668010360268285, 0.6395574542503853, 1.083808017569944, 0.20626164245607248, -0.23688527763851755, 0.4782101700769962, 0.2815045819680345, 2.1046162593769124, -0.5244446464437239], \"xaxis\": \"x15\", \"y\": [0.6426171020913116, 0.05947831050959164, 0.8057109776007441, 1.5182216465992566, 0.17683259271748428, -1.201703319160288, 0.08939571806521496, 2.0154563391314873, 1.7301251256429016, 0.49528261213488545, 0.0761665451289827, 1.6103034919331367, 1.6120448888241674, -0.2573136206604346, -0.9779054477931095, 0.09584648166310304, -0.07571022687017195, 0.14592291951912958, 0.5859863691277728, -0.9634514352867459, -1.6097533777922932, -1.3834694563514975, 1.3350657642225476, 2.5348040961290565, 0.07096153306759836, 0.6368949669764494, -2.491181625238631, -2.069948065264797, -0.39141325160767837, 0.8729443579466766, -0.15203240827413245, 1.593493694910104, 0.19147931889882305, -0.2570947529594395, -0.2362423478932293, -0.24761400944699485, 1.5498785562590034, -1.342736587129085, -0.6875756550917744, -0.8435542153832782, -0.013874970564091298, -0.6437810020122223, -0.08307285623526937, -0.2962296943116745, -0.5130982235488185, 0.3824096226964955, -0.5540921670015748, 1.0153688520081747, -0.7952904910998714, 2.5784952415824245, 0.8945149051861342, 0.2519932142685906, -1.0221722639024475, -1.5520675750466661, -1.200280816710757, -1.5283381205817728, 0.35850270542977336, 0.028661556376518574, -0.25417601662240924, -0.43123113419811976, -0.7992886449170896, 0.8390223361200038, 0.343733762605699, -0.6743338869442519, 0.05144922505834395, 0.2074977159159455, 0.9843826193439873, 1.4061675427565727, 0.11563603180803507, 0.4530024188769888, -0.47629266642328244, -0.16710643248919377, -0.0515307061316568, -0.6588656418257205, 1.5582301705782957, -0.6296407507349331, -0.5372426533819447, -0.874055648075707, -0.9115348231890187, 0.29738761097200167, 1.398817190288319, -0.03531964926848891, -1.269178704672509, -1.7086885351716186, 0.12803766640189806, 0.6625171606929373, 0.09803785359242453, -0.42955781291017003, 0.9588026633516734, 0.8801708158200088, -1.505560101488006, 0.0639479738951868, -0.6667387730971316, -0.7866002141704426, -0.07573694787116873, -0.8633462980959028, 0.37497474414887555, 0.3307646714610224, 0.1501616858635575, 0.2960707050508471], \"yaxis\": \"y15\"}, {\"histfunc\": \"count\", \"histnorm\": \"\", \"marker\": {\"color\": \"rgba(128, 0, 128, 1.0)\", \"line\": {\"color\": \"#4D5663\", \"width\": 1.3}}, \"name\": \" D\", \"nbinsx\": 10, \"opacity\": 0.8, \"orientation\": \"v\", \"type\": \"histogram\", \"x\": [0.6426171020913116, 0.05947831050959164, 0.8057109776007441, 1.5182216465992566, 0.17683259271748428, -1.201703319160288, 0.08939571806521496, 2.0154563391314873, 1.7301251256429016, 0.49528261213488545, 0.0761665451289827, 1.6103034919331367, 1.6120448888241674, -0.2573136206604346, -0.9779054477931095, 0.09584648166310304, -0.07571022687017195, 0.14592291951912958, 0.5859863691277728, -0.9634514352867459, -1.6097533777922932, -1.3834694563514975, 1.3350657642225476, 2.5348040961290565, 0.07096153306759836, 0.6368949669764494, -2.491181625238631, -2.069948065264797, -0.39141325160767837, 0.8729443579466766, -0.15203240827413245, 1.593493694910104, 0.19147931889882305, -0.2570947529594395, -0.2362423478932293, -0.24761400944699485, 1.5498785562590034, -1.342736587129085, -0.6875756550917744, -0.8435542153832782, -0.013874970564091298, -0.6437810020122223, -0.08307285623526937, -0.2962296943116745, -0.5130982235488185, 0.3824096226964955, -0.5540921670015748, 1.0153688520081747, -0.7952904910998714, 2.5784952415824245, 0.8945149051861342, 0.2519932142685906, -1.0221722639024475, -1.5520675750466661, -1.200280816710757, -1.5283381205817728, 0.35850270542977336, 0.028661556376518574, -0.25417601662240924, -0.43123113419811976, -0.7992886449170896, 0.8390223361200038, 0.343733762605699, -0.6743338869442519, 0.05144922505834395, 0.2074977159159455, 0.9843826193439873, 1.4061675427565727, 0.11563603180803507, 0.4530024188769888, -0.47629266642328244, -0.16710643248919377, -0.0515307061316568, -0.6588656418257205, 1.5582301705782957, -0.6296407507349331, -0.5372426533819447, -0.874055648075707, -0.9115348231890187, 0.29738761097200167, 1.398817190288319, -0.03531964926848891, -1.269178704672509, -1.7086885351716186, 0.12803766640189806, 0.6625171606929373, 0.09803785359242453, -0.42955781291017003, 0.9588026633516734, 0.8801708158200088, -1.505560101488006, 0.0639479738951868, -0.6667387730971316, -0.7866002141704426, -0.07573694787116873, -0.8633462980959028, 0.37497474414887555, 0.3307646714610224, 0.1501616858635575, 0.2960707050508471], \"xaxis\": \"x16\", \"yaxis\": \"y16\"}],                        {\"bargap\": 0.02, \"legend\": {\"bgcolor\": \"#F5F6F9\", \"font\": {\"color\": \"#4D5663\"}}, \"paper_bgcolor\": \"#F5F6F9\", \"plot_bgcolor\": \"#F5F6F9\", \"showlegend\": false, \"template\": {\"data\": {\"bar\": [{\"error_x\": {\"color\": \"#2a3f5f\"}, \"error_y\": {\"color\": \"#2a3f5f\"}, \"marker\": {\"line\": {\"color\": \"#E5ECF6\", \"width\": 0.5}}, \"type\": \"bar\"}], \"barpolar\": [{\"marker\": {\"line\": {\"color\": \"#E5ECF6\", \"width\": 0.5}}, \"type\": \"barpolar\"}], \"carpet\": [{\"aaxis\": {\"endlinecolor\": \"#2a3f5f\", \"gridcolor\": \"white\", \"linecolor\": \"white\", \"minorgridcolor\": \"white\", \"startlinecolor\": \"#2a3f5f\"}, \"baxis\": {\"endlinecolor\": \"#2a3f5f\", \"gridcolor\": \"white\", \"linecolor\": \"white\", \"minorgridcolor\": \"white\", \"startlinecolor\": \"#2a3f5f\"}, \"type\": \"carpet\"}], \"choropleth\": [{\"colorbar\": {\"outlinewidth\": 0, \"ticks\": \"\"}, \"type\": \"choropleth\"}], \"contour\": [{\"colorbar\": {\"outlinewidth\": 0, \"ticks\": \"\"}, \"colorscale\": [[0.0, \"#0d0887\"], [0.1111111111111111, \"#46039f\"], [0.2222222222222222, \"#7201a8\"], [0.3333333333333333, \"#9c179e\"], [0.4444444444444444, \"#bd3786\"], [0.5555555555555556, \"#d8576b\"], [0.6666666666666666, \"#ed7953\"], [0.7777777777777778, \"#fb9f3a\"], [0.8888888888888888, \"#fdca26\"], [1.0, \"#f0f921\"]], \"type\": \"contour\"}], \"contourcarpet\": [{\"colorbar\": {\"outlinewidth\": 0, \"ticks\": \"\"}, \"type\": \"contourcarpet\"}], \"heatmap\": [{\"colorbar\": {\"outlinewidth\": 0, \"ticks\": \"\"}, \"colorscale\": [[0.0, \"#0d0887\"], [0.1111111111111111, \"#46039f\"], [0.2222222222222222, \"#7201a8\"], [0.3333333333333333, \"#9c179e\"], [0.4444444444444444, \"#bd3786\"], [0.5555555555555556, \"#d8576b\"], [0.6666666666666666, \"#ed7953\"], [0.7777777777777778, \"#fb9f3a\"], [0.8888888888888888, \"#fdca26\"], [1.0, \"#f0f921\"]], \"type\": \"heatmap\"}], \"heatmapgl\": [{\"colorbar\": {\"outlinewidth\": 0, \"ticks\": \"\"}, \"colorscale\": [[0.0, \"#0d0887\"], [0.1111111111111111, \"#46039f\"], [0.2222222222222222, \"#7201a8\"], [0.3333333333333333, \"#9c179e\"], [0.4444444444444444, \"#bd3786\"], [0.5555555555555556, \"#d8576b\"], [0.6666666666666666, \"#ed7953\"], [0.7777777777777778, \"#fb9f3a\"], [0.8888888888888888, \"#fdca26\"], [1.0, \"#f0f921\"]], \"type\": \"heatmapgl\"}], \"histogram\": [{\"marker\": {\"colorbar\": {\"outlinewidth\": 0, \"ticks\": \"\"}}, \"type\": \"histogram\"}], \"histogram2d\": [{\"colorbar\": {\"outlinewidth\": 0, \"ticks\": \"\"}, \"colorscale\": [[0.0, \"#0d0887\"], [0.1111111111111111, \"#46039f\"], [0.2222222222222222, \"#7201a8\"], [0.3333333333333333, \"#9c179e\"], [0.4444444444444444, \"#bd3786\"], [0.5555555555555556, \"#d8576b\"], [0.6666666666666666, \"#ed7953\"], [0.7777777777777778, \"#fb9f3a\"], [0.8888888888888888, \"#fdca26\"], [1.0, \"#f0f921\"]], \"type\": \"histogram2d\"}], \"histogram2dcontour\": [{\"colorbar\": {\"outlinewidth\": 0, \"ticks\": \"\"}, \"colorscale\": [[0.0, \"#0d0887\"], [0.1111111111111111, \"#46039f\"], [0.2222222222222222, \"#7201a8\"], [0.3333333333333333, \"#9c179e\"], [0.4444444444444444, \"#bd3786\"], [0.5555555555555556, \"#d8576b\"], [0.6666666666666666, \"#ed7953\"], [0.7777777777777778, \"#fb9f3a\"], [0.8888888888888888, \"#fdca26\"], [1.0, \"#f0f921\"]], \"type\": \"histogram2dcontour\"}], \"mesh3d\": [{\"colorbar\": {\"outlinewidth\": 0, \"ticks\": \"\"}, \"type\": \"mesh3d\"}], \"parcoords\": [{\"line\": {\"colorbar\": {\"outlinewidth\": 0, \"ticks\": \"\"}}, \"type\": \"parcoords\"}], \"pie\": [{\"automargin\": true, \"type\": \"pie\"}], \"scatter\": [{\"marker\": {\"colorbar\": {\"outlinewidth\": 0, \"ticks\": \"\"}}, \"type\": \"scatter\"}], \"scatter3d\": [{\"line\": {\"colorbar\": {\"outlinewidth\": 0, \"ticks\": \"\"}}, \"marker\": {\"colorbar\": {\"outlinewidth\": 0, \"ticks\": \"\"}}, \"type\": \"scatter3d\"}], \"scattercarpet\": [{\"marker\": {\"colorbar\": {\"outlinewidth\": 0, \"ticks\": \"\"}}, \"type\": \"scattercarpet\"}], \"scattergeo\": [{\"marker\": {\"colorbar\": {\"outlinewidth\": 0, \"ticks\": \"\"}}, \"type\": \"scattergeo\"}], \"scattergl\": [{\"marker\": {\"colorbar\": {\"outlinewidth\": 0, \"ticks\": \"\"}}, \"type\": \"scattergl\"}], \"scattermapbox\": [{\"marker\": {\"colorbar\": {\"outlinewidth\": 0, \"ticks\": \"\"}}, \"type\": \"scattermapbox\"}], \"scatterpolar\": [{\"marker\": {\"colorbar\": {\"outlinewidth\": 0, \"ticks\": \"\"}}, \"type\": \"scatterpolar\"}], \"scatterpolargl\": [{\"marker\": {\"colorbar\": {\"outlinewidth\": 0, \"ticks\": \"\"}}, \"type\": \"scatterpolargl\"}], \"scatterternary\": [{\"marker\": {\"colorbar\": {\"outlinewidth\": 0, \"ticks\": \"\"}}, \"type\": \"scatterternary\"}], \"surface\": [{\"colorbar\": {\"outlinewidth\": 0, \"ticks\": \"\"}, \"colorscale\": [[0.0, \"#0d0887\"], [0.1111111111111111, \"#46039f\"], [0.2222222222222222, \"#7201a8\"], [0.3333333333333333, \"#9c179e\"], [0.4444444444444444, \"#bd3786\"], [0.5555555555555556, \"#d8576b\"], [0.6666666666666666, \"#ed7953\"], [0.7777777777777778, \"#fb9f3a\"], [0.8888888888888888, \"#fdca26\"], [1.0, \"#f0f921\"]], \"type\": \"surface\"}], \"table\": [{\"cells\": {\"fill\": {\"color\": \"#EBF0F8\"}, \"line\": {\"color\": \"white\"}}, \"header\": {\"fill\": {\"color\": \"#C8D4E3\"}, \"line\": {\"color\": \"white\"}}, \"type\": \"table\"}]}, \"layout\": {\"annotationdefaults\": {\"arrowcolor\": \"#2a3f5f\", \"arrowhead\": 0, \"arrowwidth\": 1}, \"coloraxis\": {\"colorbar\": {\"outlinewidth\": 0, \"ticks\": \"\"}}, \"colorscale\": {\"diverging\": [[0, \"#8e0152\"], [0.1, \"#c51b7d\"], [0.2, \"#de77ae\"], [0.3, \"#f1b6da\"], [0.4, \"#fde0ef\"], [0.5, \"#f7f7f7\"], [0.6, \"#e6f5d0\"], [0.7, \"#b8e186\"], [0.8, \"#7fbc41\"], [0.9, \"#4d9221\"], [1, \"#276419\"]], \"sequential\": [[0.0, \"#0d0887\"], [0.1111111111111111, \"#46039f\"], [0.2222222222222222, \"#7201a8\"], [0.3333333333333333, \"#9c179e\"], [0.4444444444444444, \"#bd3786\"], [0.5555555555555556, \"#d8576b\"], [0.6666666666666666, \"#ed7953\"], [0.7777777777777778, \"#fb9f3a\"], [0.8888888888888888, \"#fdca26\"], [1.0, \"#f0f921\"]], \"sequentialminus\": [[0.0, \"#0d0887\"], [0.1111111111111111, \"#46039f\"], [0.2222222222222222, \"#7201a8\"], [0.3333333333333333, \"#9c179e\"], [0.4444444444444444, \"#bd3786\"], [0.5555555555555556, \"#d8576b\"], [0.6666666666666666, \"#ed7953\"], [0.7777777777777778, \"#fb9f3a\"], [0.8888888888888888, \"#fdca26\"], [1.0, \"#f0f921\"]]}, \"colorway\": [\"#636efa\", \"#EF553B\", \"#00cc96\", \"#ab63fa\", \"#FFA15A\", \"#19d3f3\", \"#FF6692\", \"#B6E880\", \"#FF97FF\", \"#FECB52\"], \"font\": {\"color\": \"#2a3f5f\"}, \"geo\": {\"bgcolor\": \"white\", \"lakecolor\": \"white\", \"landcolor\": \"#E5ECF6\", \"showlakes\": true, \"showland\": true, \"subunitcolor\": \"white\"}, \"hoverlabel\": {\"align\": \"left\"}, \"hovermode\": \"closest\", \"mapbox\": {\"style\": \"light\"}, \"paper_bgcolor\": \"white\", \"plot_bgcolor\": \"#E5ECF6\", \"polar\": {\"angularaxis\": {\"gridcolor\": \"white\", \"linecolor\": \"white\", \"ticks\": \"\"}, \"bgcolor\": \"#E5ECF6\", \"radialaxis\": {\"gridcolor\": \"white\", \"linecolor\": \"white\", \"ticks\": \"\"}}, \"scene\": {\"xaxis\": {\"backgroundcolor\": \"#E5ECF6\", \"gridcolor\": \"white\", \"gridwidth\": 2, \"linecolor\": \"white\", \"showbackground\": true, \"ticks\": \"\", \"zerolinecolor\": \"white\"}, \"yaxis\": {\"backgroundcolor\": \"#E5ECF6\", \"gridcolor\": \"white\", \"gridwidth\": 2, \"linecolor\": \"white\", \"showbackground\": true, \"ticks\": \"\", \"zerolinecolor\": \"white\"}, \"zaxis\": {\"backgroundcolor\": \"#E5ECF6\", \"gridcolor\": \"white\", \"gridwidth\": 2, \"linecolor\": \"white\", \"showbackground\": true, \"ticks\": \"\", \"zerolinecolor\": \"white\"}}, \"shapedefaults\": {\"line\": {\"color\": \"#2a3f5f\"}}, \"ternary\": {\"aaxis\": {\"gridcolor\": \"white\", \"linecolor\": \"white\", \"ticks\": \"\"}, \"baxis\": {\"gridcolor\": \"white\", \"linecolor\": \"white\", \"ticks\": \"\"}, \"bgcolor\": \"#E5ECF6\", \"caxis\": {\"gridcolor\": \"white\", \"linecolor\": \"white\", \"ticks\": \"\"}}, \"title\": {\"x\": 0.05}, \"xaxis\": {\"automargin\": true, \"gridcolor\": \"white\", \"linecolor\": \"white\", \"ticks\": \"\", \"title\": {\"standoff\": 15}, \"zerolinecolor\": \"white\", \"zerolinewidth\": 2}, \"yaxis\": {\"automargin\": true, \"gridcolor\": \"white\", \"linecolor\": \"white\", \"ticks\": \"\", \"title\": {\"standoff\": 15}, \"zerolinecolor\": \"white\", \"zerolinewidth\": 2}}}, \"title\": {\"font\": {\"color\": \"#4D5663\"}}, \"xaxis\": {\"anchor\": \"y\", \"domain\": [0.0, 0.2125], \"gridcolor\": \"#E1E5ED\", \"showgrid\": false, \"tickfont\": {\"color\": \"#4D5663\"}, \"title\": {\"font\": {\"color\": \"#4D5663\"}, \"text\": \"\"}, \"zerolinecolor\": \"#E1E5ED\"}, \"xaxis10\": {\"anchor\": \"y10\", \"domain\": [0.2625, 0.475], \"gridcolor\": \"#E1E5ED\", \"showgrid\": false, \"tickfont\": {\"color\": \"#4D5663\"}, \"title\": {\"font\": {\"color\": \"#4D5663\"}, \"text\": \"\"}, \"zerolinecolor\": \"#E1E5ED\"}, \"xaxis11\": {\"anchor\": \"y11\", \"domain\": [0.525, 0.7375], \"gridcolor\": \"#E1E5ED\", \"showgrid\": false, \"tickfont\": {\"color\": \"#4D5663\"}, \"title\": {\"font\": {\"color\": \"#4D5663\"}, \"text\": \"\"}, \"zerolinecolor\": \"#E1E5ED\"}, \"xaxis12\": {\"anchor\": \"y12\", \"domain\": [0.7875, 1.0], \"gridcolor\": \"#E1E5ED\", \"showgrid\": false, \"tickfont\": {\"color\": \"#4D5663\"}, \"title\": {\"font\": {\"color\": \"#4D5663\"}, \"text\": \"\"}, \"zerolinecolor\": \"#E1E5ED\"}, \"xaxis13\": {\"anchor\": \"y13\", \"domain\": [0.0, 0.2125], \"gridcolor\": \"#E1E5ED\", \"showgrid\": false, \"tickfont\": {\"color\": \"#4D5663\"}, \"title\": {\"font\": {\"color\": \"#4D5663\"}, \"text\": \"\"}, \"zerolinecolor\": \"#E1E5ED\"}, \"xaxis14\": {\"anchor\": \"y14\", \"domain\": [0.2625, 0.475], \"gridcolor\": \"#E1E5ED\", \"showgrid\": false, \"tickfont\": {\"color\": \"#4D5663\"}, \"title\": {\"font\": {\"color\": \"#4D5663\"}, \"text\": \"\"}, \"zerolinecolor\": \"#E1E5ED\"}, \"xaxis15\": {\"anchor\": \"y15\", \"domain\": [0.525, 0.7375], \"gridcolor\": \"#E1E5ED\", \"showgrid\": false, \"tickfont\": {\"color\": \"#4D5663\"}, \"title\": {\"font\": {\"color\": \"#4D5663\"}, \"text\": \"\"}, \"zerolinecolor\": \"#E1E5ED\"}, \"xaxis16\": {\"anchor\": \"y16\", \"domain\": [0.7875, 1.0], \"gridcolor\": \"#E1E5ED\", \"showgrid\": false, \"tickfont\": {\"color\": \"#4D5663\"}, \"title\": {\"font\": {\"color\": \"#4D5663\"}, \"text\": \"\"}, \"zerolinecolor\": \"#E1E5ED\"}, \"xaxis2\": {\"anchor\": \"y2\", \"domain\": [0.2625, 0.475], \"gridcolor\": \"#E1E5ED\", \"showgrid\": false, \"tickfont\": {\"color\": \"#4D5663\"}, \"title\": {\"font\": {\"color\": \"#4D5663\"}, \"text\": \"\"}, \"zerolinecolor\": \"#E1E5ED\"}, \"xaxis3\": {\"anchor\": \"y3\", \"domain\": [0.525, 0.7375], \"gridcolor\": \"#E1E5ED\", \"showgrid\": false, \"tickfont\": {\"color\": \"#4D5663\"}, \"title\": {\"font\": {\"color\": \"#4D5663\"}, \"text\": \"\"}, \"zerolinecolor\": \"#E1E5ED\"}, \"xaxis4\": {\"anchor\": \"y4\", \"domain\": [0.7875, 1.0], \"gridcolor\": \"#E1E5ED\", \"showgrid\": false, \"tickfont\": {\"color\": \"#4D5663\"}, \"title\": {\"font\": {\"color\": \"#4D5663\"}, \"text\": \"\"}, \"zerolinecolor\": \"#E1E5ED\"}, \"xaxis5\": {\"anchor\": \"y5\", \"domain\": [0.0, 0.2125], \"gridcolor\": \"#E1E5ED\", \"showgrid\": false, \"tickfont\": {\"color\": \"#4D5663\"}, \"title\": {\"font\": {\"color\": \"#4D5663\"}, \"text\": \"\"}, \"zerolinecolor\": \"#E1E5ED\"}, \"xaxis6\": {\"anchor\": \"y6\", \"domain\": [0.2625, 0.475], \"gridcolor\": \"#E1E5ED\", \"showgrid\": false, \"tickfont\": {\"color\": \"#4D5663\"}, \"title\": {\"font\": {\"color\": \"#4D5663\"}, \"text\": \"\"}, \"zerolinecolor\": \"#E1E5ED\"}, \"xaxis7\": {\"anchor\": \"y7\", \"domain\": [0.525, 0.7375], \"gridcolor\": \"#E1E5ED\", \"showgrid\": false, \"tickfont\": {\"color\": \"#4D5663\"}, \"title\": {\"font\": {\"color\": \"#4D5663\"}, \"text\": \"\"}, \"zerolinecolor\": \"#E1E5ED\"}, \"xaxis8\": {\"anchor\": \"y8\", \"domain\": [0.7875, 1.0], \"gridcolor\": \"#E1E5ED\", \"showgrid\": false, \"tickfont\": {\"color\": \"#4D5663\"}, \"title\": {\"font\": {\"color\": \"#4D5663\"}, \"text\": \"\"}, \"zerolinecolor\": \"#E1E5ED\"}, \"xaxis9\": {\"anchor\": \"y9\", \"domain\": [0.0, 0.2125], \"gridcolor\": \"#E1E5ED\", \"showgrid\": false, \"tickfont\": {\"color\": \"#4D5663\"}, \"title\": {\"font\": {\"color\": \"#4D5663\"}, \"text\": \"\"}, \"zerolinecolor\": \"#E1E5ED\"}, \"yaxis\": {\"anchor\": \"x\", \"domain\": [0.8025, 1.0], \"gridcolor\": \"#E1E5ED\", \"showgrid\": false, \"tickfont\": {\"color\": \"#4D5663\"}, \"title\": {\"font\": {\"color\": \"#4D5663\"}, \"text\": \"\"}, \"zerolinecolor\": \"#E1E5ED\"}, \"yaxis10\": {\"anchor\": \"x10\", \"domain\": [0.2675, 0.465], \"gridcolor\": \"#E1E5ED\", \"showgrid\": false, \"tickfont\": {\"color\": \"#4D5663\"}, \"title\": {\"font\": {\"color\": \"#4D5663\"}, \"text\": \"\"}, \"zerolinecolor\": \"#E1E5ED\"}, \"yaxis11\": {\"anchor\": \"x11\", \"domain\": [0.2675, 0.465], \"gridcolor\": \"#E1E5ED\", \"showgrid\": false, \"tickfont\": {\"color\": \"#4D5663\"}, \"title\": {\"font\": {\"color\": \"#4D5663\"}, \"text\": \"\"}, \"zerolinecolor\": \"#E1E5ED\"}, \"yaxis12\": {\"anchor\": \"x12\", \"domain\": [0.2675, 0.465], \"gridcolor\": \"#E1E5ED\", \"showgrid\": false, \"tickfont\": {\"color\": \"#4D5663\"}, \"title\": {\"font\": {\"color\": \"#4D5663\"}, \"text\": \"\"}, \"zerolinecolor\": \"#E1E5ED\"}, \"yaxis13\": {\"anchor\": \"x13\", \"domain\": [0.0, 0.1975], \"gridcolor\": \"#E1E5ED\", \"showgrid\": false, \"tickfont\": {\"color\": \"#4D5663\"}, \"title\": {\"font\": {\"color\": \"#4D5663\"}, \"text\": \"\"}, \"zerolinecolor\": \"#E1E5ED\"}, \"yaxis14\": {\"anchor\": \"x14\", \"domain\": [0.0, 0.1975], \"gridcolor\": \"#E1E5ED\", \"showgrid\": false, \"tickfont\": {\"color\": \"#4D5663\"}, \"title\": {\"font\": {\"color\": \"#4D5663\"}, \"text\": \"\"}, \"zerolinecolor\": \"#E1E5ED\"}, \"yaxis15\": {\"anchor\": \"x15\", \"domain\": [0.0, 0.1975], \"gridcolor\": \"#E1E5ED\", \"showgrid\": false, \"tickfont\": {\"color\": \"#4D5663\"}, \"title\": {\"font\": {\"color\": \"#4D5663\"}, \"text\": \"\"}, \"zerolinecolor\": \"#E1E5ED\"}, \"yaxis16\": {\"anchor\": \"x16\", \"domain\": [0.0, 0.1975], \"gridcolor\": \"#E1E5ED\", \"showgrid\": false, \"tickfont\": {\"color\": \"#4D5663\"}, \"title\": {\"font\": {\"color\": \"#4D5663\"}, \"text\": \"\"}, \"zerolinecolor\": \"#E1E5ED\"}, \"yaxis2\": {\"anchor\": \"x2\", \"domain\": [0.8025, 1.0], \"gridcolor\": \"#E1E5ED\", \"showgrid\": false, \"tickfont\": {\"color\": \"#4D5663\"}, \"title\": {\"font\": {\"color\": \"#4D5663\"}, \"text\": \"\"}, \"zerolinecolor\": \"#E1E5ED\"}, \"yaxis3\": {\"anchor\": \"x3\", \"domain\": [0.8025, 1.0], \"gridcolor\": \"#E1E5ED\", \"showgrid\": false, \"tickfont\": {\"color\": \"#4D5663\"}, \"title\": {\"font\": {\"color\": \"#4D5663\"}, \"text\": \"\"}, \"zerolinecolor\": \"#E1E5ED\"}, \"yaxis4\": {\"anchor\": \"x4\", \"domain\": [0.8025, 1.0], \"gridcolor\": \"#E1E5ED\", \"showgrid\": false, \"tickfont\": {\"color\": \"#4D5663\"}, \"title\": {\"font\": {\"color\": \"#4D5663\"}, \"text\": \"\"}, \"zerolinecolor\": \"#E1E5ED\"}, \"yaxis5\": {\"anchor\": \"x5\", \"domain\": [0.535, 0.7325], \"gridcolor\": \"#E1E5ED\", \"showgrid\": false, \"tickfont\": {\"color\": \"#4D5663\"}, \"title\": {\"font\": {\"color\": \"#4D5663\"}, \"text\": \"\"}, \"zerolinecolor\": \"#E1E5ED\"}, \"yaxis6\": {\"anchor\": \"x6\", \"domain\": [0.535, 0.7325], \"gridcolor\": \"#E1E5ED\", \"showgrid\": false, \"tickfont\": {\"color\": \"#4D5663\"}, \"title\": {\"font\": {\"color\": \"#4D5663\"}, \"text\": \"\"}, \"zerolinecolor\": \"#E1E5ED\"}, \"yaxis7\": {\"anchor\": \"x7\", \"domain\": [0.535, 0.7325], \"gridcolor\": \"#E1E5ED\", \"showgrid\": false, \"tickfont\": {\"color\": \"#4D5663\"}, \"title\": {\"font\": {\"color\": \"#4D5663\"}, \"text\": \"\"}, \"zerolinecolor\": \"#E1E5ED\"}, \"yaxis8\": {\"anchor\": \"x8\", \"domain\": [0.535, 0.7325], \"gridcolor\": \"#E1E5ED\", \"showgrid\": false, \"tickfont\": {\"color\": \"#4D5663\"}, \"title\": {\"font\": {\"color\": \"#4D5663\"}, \"text\": \"\"}, \"zerolinecolor\": \"#E1E5ED\"}, \"yaxis9\": {\"anchor\": \"x9\", \"domain\": [0.2675, 0.465], \"gridcolor\": \"#E1E5ED\", \"showgrid\": false, \"tickfont\": {\"color\": \"#4D5663\"}, \"title\": {\"font\": {\"color\": \"#4D5663\"}, \"text\": \"\"}, \"zerolinecolor\": \"#E1E5ED\"}},                        {\"showLink\": true, \"linkText\": \"Export to plot.ly\", \"plotlyServerURL\": \"https://plot.ly\", \"responsive\": true}                    ).then(function(){\n",
       "                            \n",
       "var gd = document.getElementById('8bf4cfa7-24f4-47f7-a9ef-b12acd084d10');\n",
       "var x = new MutationObserver(function (mutations, observer) {{\n",
       "        var display = window.getComputedStyle(gd).display;\n",
       "        if (!display || display === 'none') {{\n",
       "            console.log([gd, 'removed!']);\n",
       "            Plotly.purge(gd);\n",
       "            observer.disconnect();\n",
       "        }}\n",
       "}});\n",
       "\n",
       "// Listen for the removal of the full notebook cells\n",
       "var notebookContainer = gd.closest('#notebook-container');\n",
       "if (notebookContainer) {{\n",
       "    x.observe(notebookContainer, {childList: true});\n",
       "}}\n",
       "\n",
       "// Listen for the clearing of the current output cell\n",
       "var outputEl = gd.closest('.output');\n",
       "if (outputEl) {{\n",
       "    x.observe(outputEl, {childList: true});\n",
       "}}\n",
       "\n",
       "                        })                };                });            </script>        </div>"
      ]
     },
     "metadata": {},
     "output_type": "display_data"
    }
   ],
   "source": [
    "df.scatter_matrix()"
   ]
  },
  {
   "cell_type": "code",
   "execution_count": null,
   "metadata": {},
   "outputs": [],
   "source": []
  }
 ],
 "metadata": {
  "kernelspec": {
   "display_name": "Python 3",
   "language": "python",
   "name": "python3"
  },
  "language_info": {
   "codemirror_mode": {
    "name": "ipython",
    "version": 3
   },
   "file_extension": ".py",
   "mimetype": "text/x-python",
   "name": "python",
   "nbconvert_exporter": "python",
   "pygments_lexer": "ipython3",
   "version": "3.8.3"
  }
 },
 "nbformat": 4,
 "nbformat_minor": 1
}
