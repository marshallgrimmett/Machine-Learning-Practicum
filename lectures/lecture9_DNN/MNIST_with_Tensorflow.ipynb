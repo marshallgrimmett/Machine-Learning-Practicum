{
 "cells": [
  {
   "cell_type": "markdown",
   "metadata": {
    "colab_type": "text",
    "id": "_8M_4Cor4H2s"
   },
   "source": [
    "# MNIST Classification Using Neural Networks\n",
    "\n",
    "**This .ipynb file should be opened with Colab Notebook developed by Google: https://colab.research.google.com/**\n",
    "\n",
    "In addition, we need to install Python dependecies **tensorflow, keras** for deep learning using commands\n",
    "- pip install tensorflow\n",
    "- pip install keras\n"
   ]
  },
  {
   "cell_type": "markdown",
   "metadata": {
    "colab_type": "text",
    "id": "geM8VqIH3N2F"
   },
   "source": [
    "## Enabling and testing the GPU\n",
    "\n",
    "**GPUs can process data several orders of magnitude faster than a CPU due to massive parallelism, although GPUs are not as versatile as CPUs**\n",
    "\n",
    "First, you'll need to enable GPUs for the notebook:\n",
    "\n",
    "- Navigate to Edit→Notebook Settings\n",
    "- select GPU from the Hardware Accelerator drop-down\n",
    "\n",
    "Next, we'll confirm that we can connect to the GPU with tensorflow:"
   ]
  },
  {
   "cell_type": "code",
   "execution_count": 2,
   "metadata": {
    "colab": {
     "base_uri": "https://localhost:8080/",
     "height": 34
    },
    "colab_type": "code",
    "id": "0Rdr6gTC1ctW",
    "outputId": "a59f7db5-5b8c-484e-eb61-2c101563ac15"
   },
   "outputs": [
    {
     "ename": "ModuleNotFoundError",
     "evalue": "No module named 'tensorflow'",
     "output_type": "error",
     "traceback": [
      "\u001b[0;31m---------------------------------------------------------------------------\u001b[0m",
      "\u001b[0;31mModuleNotFoundError\u001b[0m                       Traceback (most recent call last)",
      "\u001b[0;32m<ipython-input-2-d1680108c58e>\u001b[0m in \u001b[0;36m<module>\u001b[0;34m\u001b[0m\n\u001b[0;32m----> 1\u001b[0;31m \u001b[0;32mimport\u001b[0m \u001b[0mtensorflow\u001b[0m \u001b[0;32mas\u001b[0m \u001b[0mtf\u001b[0m\u001b[0;34m\u001b[0m\u001b[0;34m\u001b[0m\u001b[0m\n\u001b[0m\u001b[1;32m      2\u001b[0m \u001b[0mdevice_name\u001b[0m \u001b[0;34m=\u001b[0m \u001b[0mtf\u001b[0m\u001b[0;34m.\u001b[0m\u001b[0mtest\u001b[0m\u001b[0;34m.\u001b[0m\u001b[0mgpu_device_name\u001b[0m\u001b[0;34m(\u001b[0m\u001b[0;34m)\u001b[0m\u001b[0;34m\u001b[0m\u001b[0;34m\u001b[0m\u001b[0m\n\u001b[1;32m      3\u001b[0m \u001b[0;32mif\u001b[0m \u001b[0mdevice_name\u001b[0m \u001b[0;34m!=\u001b[0m \u001b[0;34m'/device:GPU:0'\u001b[0m\u001b[0;34m:\u001b[0m\u001b[0;34m\u001b[0m\u001b[0;34m\u001b[0m\u001b[0m\n\u001b[1;32m      4\u001b[0m   \u001b[0;32mraise\u001b[0m \u001b[0mSystemError\u001b[0m\u001b[0;34m(\u001b[0m\u001b[0;34m'GPU device not found'\u001b[0m\u001b[0;34m)\u001b[0m\u001b[0;34m\u001b[0m\u001b[0;34m\u001b[0m\u001b[0m\n\u001b[1;32m      5\u001b[0m \u001b[0mprint\u001b[0m\u001b[0;34m(\u001b[0m\u001b[0;34m'Found GPU at: {}'\u001b[0m\u001b[0;34m.\u001b[0m\u001b[0mformat\u001b[0m\u001b[0;34m(\u001b[0m\u001b[0mdevice_name\u001b[0m\u001b[0;34m)\u001b[0m\u001b[0;34m)\u001b[0m\u001b[0;34m\u001b[0m\u001b[0;34m\u001b[0m\u001b[0m\n",
      "\u001b[0;31mModuleNotFoundError\u001b[0m: No module named 'tensorflow'"
     ]
    }
   ],
   "source": [
    "import tensorflow as tf\n",
    "device_name = tf.test.gpu_device_name()\n",
    "if device_name != '/device:GPU:0':\n",
    "  raise SystemError('GPU device not found')\n",
    "print('Found GPU at: {}'.format(device_name))"
   ]
  },
  {
   "cell_type": "markdown",
   "metadata": {
    "colab_type": "text",
    "id": "uTQlUqK87B9j"
   },
   "source": [
    "**Observe TensorFlow speedup on GPU relative to CPU**\n",
    "\n",
    "This example constructs a typical convolutional layer over a\n",
    "random image and manually places the resulting ops on either the CPU or the GPU to compare execution speed."
   ]
  },
  {
   "cell_type": "code",
   "execution_count": 3,
   "metadata": {
    "colab": {
     "base_uri": "https://localhost:8080/",
     "height": 170
    },
    "colab_type": "code",
    "id": "-8xvcQHY7RQ-",
    "outputId": "0f9fb2c2-39ca-4cc5-da18-e2f498e5add0"
   },
   "outputs": [
    {
     "ename": "ModuleNotFoundError",
     "evalue": "No module named 'tensorflow'",
     "output_type": "error",
     "traceback": [
      "\u001b[0;31m---------------------------------------------------------------------------\u001b[0m",
      "\u001b[0;31mModuleNotFoundError\u001b[0m                       Traceback (most recent call last)",
      "\u001b[0;32m<ipython-input-3-d94c410abdab>\u001b[0m in \u001b[0;36m<module>\u001b[0;34m\u001b[0m\n\u001b[0;32m----> 1\u001b[0;31m \u001b[0;32mimport\u001b[0m \u001b[0mtensorflow\u001b[0m \u001b[0;32mas\u001b[0m \u001b[0mtf\u001b[0m\u001b[0;34m\u001b[0m\u001b[0;34m\u001b[0m\u001b[0m\n\u001b[0m\u001b[1;32m      2\u001b[0m \u001b[0;32mimport\u001b[0m \u001b[0mtimeit\u001b[0m\u001b[0;34m\u001b[0m\u001b[0;34m\u001b[0m\u001b[0m\n\u001b[1;32m      3\u001b[0m \u001b[0;34m\u001b[0m\u001b[0m\n\u001b[1;32m      4\u001b[0m \u001b[0mdevice_name\u001b[0m \u001b[0;34m=\u001b[0m \u001b[0mtf\u001b[0m\u001b[0;34m.\u001b[0m\u001b[0mtest\u001b[0m\u001b[0;34m.\u001b[0m\u001b[0mgpu_device_name\u001b[0m\u001b[0;34m(\u001b[0m\u001b[0;34m)\u001b[0m\u001b[0;34m\u001b[0m\u001b[0;34m\u001b[0m\u001b[0m\n\u001b[1;32m      5\u001b[0m \u001b[0;32mif\u001b[0m \u001b[0mdevice_name\u001b[0m \u001b[0;34m!=\u001b[0m \u001b[0;34m'/device:GPU:0'\u001b[0m\u001b[0;34m:\u001b[0m\u001b[0;34m\u001b[0m\u001b[0;34m\u001b[0m\u001b[0m\n",
      "\u001b[0;31mModuleNotFoundError\u001b[0m: No module named 'tensorflow'"
     ]
    }
   ],
   "source": [
    "import tensorflow as tf\n",
    "import timeit\n",
    "\n",
    "device_name = tf.test.gpu_device_name()\n",
    "if device_name != '/device:GPU:0':\n",
    "  print(\n",
    "      '\\n\\nThis error most likely means that this notebook is not '\n",
    "      'configured to use a GPU.  Change this in Notebook Settings via the '\n",
    "      'command palette (cmd/ctrl-shift-P) or the Edit menu.\\n\\n')\n",
    "  raise SystemError('GPU device not found')\n",
    "\n",
    "def cpu():\n",
    "  with tf.device('/cpu:0'):\n",
    "    random_image_cpu = tf.random.normal((100, 100, 100, 3))\n",
    "    net_cpu = tf.keras.layers.Conv2D(32, 7)(random_image_cpu)\n",
    "    return tf.math.reduce_sum(net_cpu)\n",
    "\n",
    "def gpu():\n",
    "  with tf.device('/device:GPU:0'):\n",
    "    random_image_gpu = tf.random.normal((100, 100, 100, 3))\n",
    "    net_gpu = tf.keras.layers.Conv2D(32, 7)(random_image_gpu)\n",
    "    return tf.math.reduce_sum(net_gpu)\n",
    "  \n",
    "# We run each op once to warm up\n",
    "cpu()\n",
    "gpu()\n",
    "\n",
    "# Run the op several times.\n",
    "print('Time (s) to convolve 32x7x7x3 filter over random 100x100x100x3 images '\n",
    "      '(batch size x height x width x channel).')\n",
    "print('\\n CPU time (s):')\n",
    "cpu_time = timeit.timeit('cpu()', number=10, setup=\"from __main__ import cpu\")\n",
    "print(cpu_time)\n",
    "print('\\n GPU time (s):')\n",
    "gpu_time = timeit.timeit('gpu()', number=10, setup=\"from __main__ import gpu\")\n",
    "print(gpu_time)\n",
    "print('\\n GPU speedup over CPU: {}x'.format(int(cpu_time/gpu_time)))"
   ]
  },
  {
   "cell_type": "markdown",
   "metadata": {
    "colab_type": "text",
    "id": "jQOBaKW673rE"
   },
   "source": [
    "## Classify MNIST data using One-Hidden-layer Networks\n",
    "\n",
    "Load MNIST dataset from Keras and Preprocess"
   ]
  },
  {
   "cell_type": "code",
   "execution_count": 4,
   "metadata": {
    "colab": {},
    "colab_type": "code",
    "id": "r0FigdiN2I_n"
   },
   "outputs": [
    {
     "ename": "ModuleNotFoundError",
     "evalue": "No module named 'keras'",
     "output_type": "error",
     "traceback": [
      "\u001b[0;31m---------------------------------------------------------------------------\u001b[0m",
      "\u001b[0;31mModuleNotFoundError\u001b[0m                       Traceback (most recent call last)",
      "\u001b[0;32m<ipython-input-4-bdbb7f252ee4>\u001b[0m in \u001b[0;36m<module>\u001b[0;34m\u001b[0m\n\u001b[1;32m      1\u001b[0m \u001b[0;31m# Plot ad hoc mnist instances\u001b[0m\u001b[0;34m\u001b[0m\u001b[0;34m\u001b[0m\u001b[0;34m\u001b[0m\u001b[0m\n\u001b[0;32m----> 2\u001b[0;31m \u001b[0;32mfrom\u001b[0m \u001b[0mkeras\u001b[0m\u001b[0;34m.\u001b[0m\u001b[0mdatasets\u001b[0m \u001b[0;32mimport\u001b[0m \u001b[0mmnist\u001b[0m\u001b[0;34m\u001b[0m\u001b[0;34m\u001b[0m\u001b[0m\n\u001b[0m",
      "\u001b[0;31mModuleNotFoundError\u001b[0m: No module named 'keras'"
     ]
    }
   ],
   "source": [
    "# Plot ad hoc mnist instances\n",
    "from keras.datasets import mnist"
   ]
  },
  {
   "cell_type": "code",
   "execution_count": 5,
   "metadata": {
    "colab": {},
    "colab_type": "code",
    "id": "uG9yc0x62_5g"
   },
   "outputs": [
    {
     "ename": "NameError",
     "evalue": "name 'mnist' is not defined",
     "output_type": "error",
     "traceback": [
      "\u001b[0;31m---------------------------------------------------------------------------\u001b[0m",
      "\u001b[0;31mNameError\u001b[0m                                 Traceback (most recent call last)",
      "\u001b[0;32m<ipython-input-5-cf6b3fbf948d>\u001b[0m in \u001b[0;36m<module>\u001b[0;34m\u001b[0m\n\u001b[1;32m      1\u001b[0m \u001b[0;31m# load (downloaded if needed) the MNIST dataset\u001b[0m\u001b[0;34m\u001b[0m\u001b[0;34m\u001b[0m\u001b[0;34m\u001b[0m\u001b[0m\n\u001b[0;32m----> 2\u001b[0;31m \u001b[0;34m(\u001b[0m\u001b[0mX_train\u001b[0m\u001b[0;34m,\u001b[0m \u001b[0my_train\u001b[0m\u001b[0;34m)\u001b[0m\u001b[0;34m,\u001b[0m \u001b[0;34m(\u001b[0m\u001b[0mX_test\u001b[0m\u001b[0;34m,\u001b[0m \u001b[0my_test\u001b[0m\u001b[0;34m)\u001b[0m \u001b[0;34m=\u001b[0m \u001b[0mmnist\u001b[0m\u001b[0;34m.\u001b[0m\u001b[0mload_data\u001b[0m\u001b[0;34m(\u001b[0m\u001b[0;34m)\u001b[0m\u001b[0;34m\u001b[0m\u001b[0;34m\u001b[0m\u001b[0m\n\u001b[0m",
      "\u001b[0;31mNameError\u001b[0m: name 'mnist' is not defined"
     ]
    }
   ],
   "source": [
    "# load (downloaded if needed) the MNIST dataset\n",
    "(X_train, y_train), (X_test, y_test) = mnist.load_data()"
   ]
  },
  {
   "cell_type": "code",
   "execution_count": 6,
   "metadata": {
    "colab": {
     "base_uri": "https://localhost:8080/",
     "height": 68
    },
    "colab_type": "code",
    "id": "dM1WDqQPBz1E",
    "outputId": "77ebcd94-fa7f-4127-c436-82f6d2301e9b"
   },
   "outputs": [
    {
     "ename": "NameError",
     "evalue": "name 'X_train' is not defined",
     "output_type": "error",
     "traceback": [
      "\u001b[0;31m---------------------------------------------------------------------------\u001b[0m",
      "\u001b[0;31mNameError\u001b[0m                                 Traceback (most recent call last)",
      "\u001b[0;32m<ipython-input-6-425f77d5ceed>\u001b[0m in \u001b[0;36m<module>\u001b[0;34m\u001b[0m\n\u001b[0;32m----> 1\u001b[0;31m \u001b[0mprint\u001b[0m\u001b[0;34m(\u001b[0m\u001b[0mX_train\u001b[0m\u001b[0;34m.\u001b[0m\u001b[0mshape\u001b[0m\u001b[0;34m)\u001b[0m\u001b[0;34m,\u001b[0m \u001b[0mprint\u001b[0m\u001b[0;34m(\u001b[0m\u001b[0my_train\u001b[0m\u001b[0;34m.\u001b[0m\u001b[0mshape\u001b[0m\u001b[0;34m)\u001b[0m\u001b[0;34m\u001b[0m\u001b[0;34m\u001b[0m\u001b[0m\n\u001b[0m",
      "\u001b[0;31mNameError\u001b[0m: name 'X_train' is not defined"
     ]
    }
   ],
   "source": [
    "print(X_train.shape), print(y_train.shape)"
   ]
  },
  {
   "cell_type": "code",
   "execution_count": 7,
   "metadata": {
    "colab": {
     "base_uri": "https://localhost:8080/",
     "height": 68
    },
    "colab_type": "code",
    "id": "HuzoiVEoIIqM",
    "outputId": "3a8231f4-8651-4d83-db93-b2455eef5d07"
   },
   "outputs": [
    {
     "ename": "NameError",
     "evalue": "name 'X_test' is not defined",
     "output_type": "error",
     "traceback": [
      "\u001b[0;31m---------------------------------------------------------------------------\u001b[0m",
      "\u001b[0;31mNameError\u001b[0m                                 Traceback (most recent call last)",
      "\u001b[0;32m<ipython-input-7-d85f97cd21da>\u001b[0m in \u001b[0;36m<module>\u001b[0;34m\u001b[0m\n\u001b[0;32m----> 1\u001b[0;31m \u001b[0mprint\u001b[0m\u001b[0;34m(\u001b[0m\u001b[0mX_test\u001b[0m\u001b[0;34m.\u001b[0m\u001b[0mshape\u001b[0m\u001b[0;34m)\u001b[0m\u001b[0;34m,\u001b[0m \u001b[0mprint\u001b[0m\u001b[0;34m(\u001b[0m\u001b[0my_test\u001b[0m\u001b[0;34m.\u001b[0m\u001b[0mshape\u001b[0m\u001b[0;34m)\u001b[0m\u001b[0;34m\u001b[0m\u001b[0;34m\u001b[0m\u001b[0m\n\u001b[0m",
      "\u001b[0;31mNameError\u001b[0m: name 'X_test' is not defined"
     ]
    }
   ],
   "source": [
    "print(X_test.shape), print(y_test.shape)"
   ]
  },
  {
   "cell_type": "markdown",
   "metadata": {
    "colab_type": "text",
    "id": "NtCnUiAnTQHk"
   },
   "source": [
    "Plot 4 images as gray scale"
   ]
  },
  {
   "cell_type": "code",
   "execution_count": 8,
   "metadata": {
    "colab": {
     "base_uri": "https://localhost:8080/",
     "height": 268
    },
    "colab_type": "code",
    "id": "oiz67TOB3ABV",
    "outputId": "12f7ef67-d836-4d53-f485-1eb1bf1e68da"
   },
   "outputs": [
    {
     "ename": "NameError",
     "evalue": "name 'X_train' is not defined",
     "output_type": "error",
     "traceback": [
      "\u001b[0;31m---------------------------------------------------------------------------\u001b[0m",
      "\u001b[0;31mNameError\u001b[0m                                 Traceback (most recent call last)",
      "\u001b[0;32m<ipython-input-8-ab4aaae09076>\u001b[0m in \u001b[0;36m<module>\u001b[0;34m\u001b[0m\n\u001b[1;32m      1\u001b[0m \u001b[0;32mimport\u001b[0m \u001b[0mmatplotlib\u001b[0m\u001b[0;34m.\u001b[0m\u001b[0mpyplot\u001b[0m \u001b[0;32mas\u001b[0m \u001b[0mplt\u001b[0m\u001b[0;34m\u001b[0m\u001b[0;34m\u001b[0m\u001b[0m\n\u001b[1;32m      2\u001b[0m \u001b[0mplt\u001b[0m\u001b[0;34m.\u001b[0m\u001b[0msubplot\u001b[0m\u001b[0;34m(\u001b[0m\u001b[0;36m2\u001b[0m\u001b[0;34m,\u001b[0m\u001b[0;36m2\u001b[0m\u001b[0;34m,\u001b[0m\u001b[0;36m1\u001b[0m\u001b[0;34m)\u001b[0m\u001b[0;34m\u001b[0m\u001b[0;34m\u001b[0m\u001b[0m\n\u001b[0;32m----> 3\u001b[0;31m \u001b[0mplt\u001b[0m\u001b[0;34m.\u001b[0m\u001b[0mimshow\u001b[0m\u001b[0;34m(\u001b[0m\u001b[0mX_train\u001b[0m\u001b[0;34m[\u001b[0m\u001b[0;36m0\u001b[0m\u001b[0;34m]\u001b[0m\u001b[0;34m,\u001b[0m \u001b[0mcmap\u001b[0m\u001b[0;34m=\u001b[0m\u001b[0mplt\u001b[0m\u001b[0;34m.\u001b[0m\u001b[0mget_cmap\u001b[0m\u001b[0;34m(\u001b[0m\u001b[0;34m'gray'\u001b[0m\u001b[0;34m)\u001b[0m\u001b[0;34m)\u001b[0m\u001b[0;34m\u001b[0m\u001b[0;34m\u001b[0m\u001b[0m\n\u001b[0m\u001b[1;32m      4\u001b[0m \u001b[0mplt\u001b[0m\u001b[0;34m.\u001b[0m\u001b[0msubplot\u001b[0m\u001b[0;34m(\u001b[0m\u001b[0;36m2\u001b[0m\u001b[0;34m,\u001b[0m\u001b[0;36m2\u001b[0m\u001b[0;34m,\u001b[0m\u001b[0;36m2\u001b[0m\u001b[0;34m)\u001b[0m\u001b[0;34m\u001b[0m\u001b[0;34m\u001b[0m\u001b[0m\n\u001b[1;32m      5\u001b[0m \u001b[0mplt\u001b[0m\u001b[0;34m.\u001b[0m\u001b[0mimshow\u001b[0m\u001b[0;34m(\u001b[0m\u001b[0mX_train\u001b[0m\u001b[0;34m[\u001b[0m\u001b[0;36m1\u001b[0m\u001b[0;34m]\u001b[0m\u001b[0;34m,\u001b[0m \u001b[0mcmap\u001b[0m\u001b[0;34m=\u001b[0m\u001b[0mplt\u001b[0m\u001b[0;34m.\u001b[0m\u001b[0mget_cmap\u001b[0m\u001b[0;34m(\u001b[0m\u001b[0;34m'gray'\u001b[0m\u001b[0;34m)\u001b[0m\u001b[0;34m)\u001b[0m\u001b[0;34m\u001b[0m\u001b[0;34m\u001b[0m\u001b[0m\n",
      "\u001b[0;31mNameError\u001b[0m: name 'X_train' is not defined"
     ]
    },
    {
     "data": {
      "image/png": "[encoded data removed]",
      "text/plain": [
       "<Figure size 432x288 with 1 Axes>"
      ]
     },
     "metadata": {
      "needs_background": "light"
     },
     "output_type": "display_data"
    }
   ],
   "source": [
    "import matplotlib.pyplot as plt\n",
    "plt.subplot(2,2,1)\n",
    "plt.imshow(X_train[0], cmap=plt.get_cmap('gray'))\n",
    "plt.subplot(2,2,2)\n",
    "plt.imshow(X_train[1], cmap=plt.get_cmap('gray'))\n",
    "plt.subplot(2,2,3)\n",
    "plt.imshow(X_train[2], cmap=plt.get_cmap('gray'))\n",
    "plt.subplot(2,2,4)\n",
    "plt.imshow(X_train[3], cmap=plt.get_cmap('gray'))\n",
    "# show the plot\n",
    "plt.show()"
   ]
  },
  {
   "cell_type": "markdown",
   "metadata": {
    "colab_type": "text",
    "id": "AV99b76kFAEG"
   },
   "source": [
    "Flatten 28x28 images to a 784 vector for each image"
   ]
  },
  {
   "cell_type": "code",
   "execution_count": 0,
   "metadata": {
    "colab": {},
    "colab_type": "code",
    "id": "hKJXlCni31hm"
   },
   "outputs": [],
   "source": [
    "num_pixels = X_train.shape[1] * X_train.shape[2]\n",
    "X_train = X_train.reshape((X_train.shape[0], num_pixels)).astype('float32')\n",
    "X_test = X_test.reshape((X_test.shape[0], num_pixels)).astype('float32')"
   ]
  },
  {
   "cell_type": "markdown",
   "metadata": {
    "colab_type": "text",
    "id": "rjsKUQixE6In"
   },
   "source": [
    "Normalize inputs from 0-255 to 0-1"
   ]
  },
  {
   "cell_type": "code",
   "execution_count": 0,
   "metadata": {
    "colab": {},
    "colab_type": "code",
    "id": "iWYubs7G31Uc"
   },
   "outputs": [],
   "source": [
    "X_tr = X_train / 255\n",
    "X_te = X_test / 255"
   ]
  },
  {
   "cell_type": "markdown",
   "metadata": {
    "colab_type": "text",
    "id": "Tw9_K3xQFHDN"
   },
   "source": [
    "Encode one-hot labels which are 10-D vectors, e.g., \n",
    "- digit 0 -> label (1,0,0,...,0)\n",
    "- digit 1 -> label (0,1,0,...,0)\n",
    "- digit 2 -> label (0,0,1,...,0)\n",
    "- ...\n",
    "- digit 9 -> label (0,0,0,...,1)"
   ]
  },
  {
   "cell_type": "code",
   "execution_count": 0,
   "metadata": {
    "colab": {
     "base_uri": "https://localhost:8080/",
     "height": 34
    },
    "colab_type": "code",
    "id": "COH8ejau4qm8",
    "outputId": "84045993-ba3e-47de-e6e5-2fb1d92368c6"
   },
   "outputs": [
    {
     "name": "stdout",
     "output_type": "stream",
     "text": [
      "(60000, 10)\n"
     ]
    }
   ],
   "source": [
    "from keras.utils import np_utils\n",
    "y_tr = np_utils.to_categorical(y_train,10)\n",
    "y_te = np_utils.to_categorical(y_test,10)\n",
    "num_classes = y_te.shape[1]\n",
    "\n",
    "print(y_tr.shape)"
   ]
  },
  {
   "cell_type": "markdown",
   "metadata": {
    "colab_type": "text",
    "id": "Ko2G6ehl34xT"
   },
   "source": [
    "**Train One-Hidden-Layer Network**"
   ]
  },
  {
   "cell_type": "code",
   "execution_count": 0,
   "metadata": {
    "colab": {},
    "colab_type": "code",
    "id": "ToZgrGOn31pd"
   },
   "outputs": [],
   "source": [
    "from keras.models import Sequential\n",
    "from keras.layers import Dense"
   ]
  },
  {
   "cell_type": "markdown",
   "metadata": {
    "colab_type": "text",
    "id": "L45G6Jg18_3g"
   },
   "source": [
    "**Define One-Hidden-Layer Model**\n",
    "\n",
    "Create a new instance of a model object using sequential model API. Then add two Dense linear layers, one ReLU activation layer, and Softmax output layer to the architecture discussed earlier in slides. Finally, compile the model with the ‘categorical_crossentropy’ loss function and ‘adam’ optimization algorithm. When compiling the model, add metrics=[‘accuracy’] to calculate the accuracy of the model."
   ]
  },
  {
   "cell_type": "code",
   "execution_count": 0,
   "metadata": {
    "colab": {},
    "colab_type": "code",
    "id": "zZHo_tiR41t3"
   },
   "outputs": [],
   "source": [
    "def one_hidden_layer_model():\n",
    "  # create model\n",
    "  model = Sequential()\n",
    "  # Fully-connected Layer with ReLU activation\n",
    "  model.add(Dense(num_pixels, activation='relu'))\n",
    "  # Fully-connected Layer with Softmax output\n",
    "  model.add(Dense(num_classes, activation='softmax'))\n",
    "  # Compile model with corss entropy loss and Adam optimizer\n",
    "  model.compile(loss='categorical_crossentropy', optimizer='adam', metrics=['accuracy'])\n",
    "  return model"
   ]
  },
  {
   "cell_type": "markdown",
   "metadata": {
    "colab_type": "text",
    "id": "fYRIJguJGb5s"
   },
   "source": [
    "Build, train, and evaluate the model"
   ]
  },
  {
   "cell_type": "code",
   "execution_count": 0,
   "metadata": {
    "colab": {
     "base_uri": "https://localhost:8080/",
     "height": 578
    },
    "colab_type": "code",
    "id": "ZVOGXIzl46FC",
    "outputId": "efaac01f-4efe-4467-9038-c27cf60706b7"
   },
   "outputs": [
    {
     "name": "stdout",
     "output_type": "stream",
     "text": [
      "Train on 60000 samples, validate on 10000 samples\n",
      "Epoch 1/15\n",
      " - 1s - loss: 0.2810 - accuracy: 0.9195 - val_loss: 0.1356 - val_accuracy: 0.9592\n",
      "Epoch 2/15\n",
      " - 1s - loss: 0.1113 - accuracy: 0.9679 - val_loss: 0.0915 - val_accuracy: 0.9731\n",
      "Epoch 3/15\n",
      " - 1s - loss: 0.0725 - accuracy: 0.9790 - val_loss: 0.0757 - val_accuracy: 0.9769\n",
      "Epoch 4/15\n",
      " - 1s - loss: 0.0517 - accuracy: 0.9851 - val_loss: 0.0747 - val_accuracy: 0.9769\n",
      "Epoch 5/15\n",
      " - 1s - loss: 0.0359 - accuracy: 0.9900 - val_loss: 0.0674 - val_accuracy: 0.9804\n",
      "Epoch 6/15\n",
      " - 1s - loss: 0.0274 - accuracy: 0.9923 - val_loss: 0.0617 - val_accuracy: 0.9813\n",
      "Epoch 7/15\n",
      " - 1s - loss: 0.0200 - accuracy: 0.9954 - val_loss: 0.0610 - val_accuracy: 0.9811\n",
      "Epoch 8/15\n",
      " - 1s - loss: 0.0143 - accuracy: 0.9968 - val_loss: 0.0617 - val_accuracy: 0.9817\n",
      "Epoch 9/15\n",
      " - 1s - loss: 0.0116 - accuracy: 0.9976 - val_loss: 0.0575 - val_accuracy: 0.9818\n",
      "Epoch 10/15\n",
      " - 1s - loss: 0.0089 - accuracy: 0.9981 - val_loss: 0.0606 - val_accuracy: 0.9831\n",
      "Epoch 11/15\n",
      " - 1s - loss: 0.0067 - accuracy: 0.9987 - val_loss: 0.0615 - val_accuracy: 0.9822\n",
      "Epoch 12/15\n",
      " - 1s - loss: 0.0046 - accuracy: 0.9993 - val_loss: 0.0607 - val_accuracy: 0.9823\n",
      "Epoch 13/15\n",
      " - 1s - loss: 0.0032 - accuracy: 0.9997 - val_loss: 0.0594 - val_accuracy: 0.9834\n",
      "Epoch 14/15\n",
      " - 1s - loss: 0.0023 - accuracy: 0.9997 - val_loss: 0.0636 - val_accuracy: 0.9825\n",
      "Epoch 15/15\n",
      " - 1s - loss: 0.0082 - accuracy: 0.9975 - val_loss: 0.0735 - val_accuracy: 0.9792\n",
      "\n",
      " Testing/Validation Accuracy: 97.92%\n"
     ]
    }
   ],
   "source": [
    "# build the model\n",
    "model = one_hidden_layer_model()\n",
    "# Fit the model\n",
    "model.fit(X_tr, y_tr, validation_data=(X_te, y_te), epochs=15, batch_size=200, verbose=2)\n",
    "# Final evaluation of the model on test data\n",
    "scores = model.evaluate(X_te, y_te, verbose=0)\n",
    "print(\"\\n Testing/Validation Accuracy: %.2f%%\" % (scores[1]*100))"
   ]
  },
  {
   "cell_type": "markdown",
   "metadata": {
    "colab_type": "text",
    "id": "8GZ370z56MOC"
   },
   "source": [
    "## MNIST Classification with Convolutional Neural Network LeNet-5\n",
    "\n",
    "Reload the image and reshape images into 4-D array"
   ]
  },
  {
   "cell_type": "code",
   "execution_count": 0,
   "metadata": {
    "colab": {},
    "colab_type": "code",
    "id": "Oa4yWpu4Bx4D"
   },
   "outputs": [],
   "source": [
    "(X_train, y_train), (X_test, y_test) = mnist.load_data()\n",
    "# Set numeric type to float32 from uint8\n",
    "X_train = X_train.astype('float32')\n",
    "X_test = X_test.astype('float32')\n",
    "\n",
    "# Normalize value to [0, 1]\n",
    "X_train /= 255\n",
    "X_test /= 255\n",
    "\n",
    "# Transform lables to one-hot encoding\n",
    "y_tr = np_utils.to_categorical(y_train, 10)\n",
    "y_te = np_utils.to_categorical(y_test, 10)\n",
    "\n",
    "# Reshape the dataset into 4D array\n",
    "X_tr = X_train.reshape(X_train.shape[0], 28,28,1)\n",
    "X_te = X_test.reshape(X_test.shape[0], 28,28,1)"
   ]
  },
  {
   "cell_type": "markdown",
   "metadata": {
    "colab_type": "text",
    "id": "nKp-TbA8DEsY"
   },
   "source": [
    "\n",
    "Create a new instance of a model object using sequential model API. Then add layers to the neural network as per LeNet-5 architecture discussed earlier. Finally, compile the model with the ‘categorical_crossentropy’ loss function and SGD algorithm combined with Nesterov momentum. When compiling the model, add metrics=[‘accuracy’] to calculate the accuracy of the model.\n",
    "\n",
    "We made the following changes on the original LeNet-5 by LeCun et al.:\n",
    "\n",
    "- use the original data dimensions 28 X 28 pixels instead of 32 X 32 pixels, that is, no zero paddings to the images\n",
    "- use ReLU activation instead of tanh"
   ]
  },
  {
   "cell_type": "code",
   "execution_count": 0,
   "metadata": {
    "colab": {},
    "colab_type": "code",
    "id": "75ZzOuCl6U6T"
   },
   "outputs": [],
   "source": [
    "from keras.layers import Conv2D, MaxPool2D, Flatten\n",
    "from keras import optimizers\n",
    "\n",
    "def lenet5():\n",
    "  model = Sequential()\n",
    "  # C1 Convolutional Layer\n",
    "  model.add(Conv2D(filters = 6, kernel_size=(5, 5), strides=1, activation='relu', input_shape=(28,28,1)))\n",
    "  # S2 Pooling Layer\n",
    "  model.add(MaxPool2D(pool_size=(2, 2), strides=1))\n",
    "\n",
    "  # C3 Convolutional Layer\n",
    "  model.add(Conv2D(filters = 16, kernel_size=(5, 5), strides=1, activation='relu'))\n",
    "\n",
    "  # S4 Pooling Layer\n",
    "  model.add(MaxPool2D(pool_size=(2, 2), strides=2))\n",
    "\n",
    "  # C5 Fully Connected Convolutional Layer\n",
    "  model.add(Conv2D(filters = 120, kernel_size=(5, 5), strides=1, activation='relu'))\n",
    "  #Flatten the CNN output so that we can connect it with fully-connected layers\n",
    "  model.add(Flatten())\n",
    "  \n",
    "  # FC6 Fully Connected Layer\n",
    "  model.add(Dense(84, activation='relu'))\n",
    "\n",
    "  # Output Layer with softmax activation\n",
    "  model.add(Dense(10, activation='softmax'))\n",
    "\n",
    "  # Compile the model\n",
    "  # model.compile(loss='categorical_crossentropy', optimizer = optimizers.SGD(lr = 0.02, momentum=0.9, nesterov=True), metrics=['accuracy'])\n",
    "  # model.compile(loss='categorical_crossentropy', optimizer = optimizers.SGD(lr = 0.02, momentum=0.0), metrics=['accuracy'])\n",
    "\n",
    "  # Or, train using Adam algorithm  \n",
    "  model.compile(loss='categorical_crossentropy', optimizer='adam', metrics=['accuracy'])  \n",
    "  return model"
   ]
  },
  {
   "cell_type": "markdown",
   "metadata": {
    "colab_type": "text",
    "id": "AmA39vqADQXe"
   },
   "source": [
    "Training and model evaluation"
   ]
  },
  {
   "cell_type": "code",
   "execution_count": 0,
   "metadata": {
    "colab": {
     "base_uri": "https://localhost:8080/",
     "height": 748
    },
    "colab_type": "code",
    "id": "cumsgYh9A9u6",
    "outputId": "a709f1bf-fd8b-45cd-e6ea-ca25c7699aea"
   },
   "outputs": [
    {
     "name": "stdout",
     "output_type": "stream",
     "text": [
      "Train on 60000 samples, validate on 10000 samples\n",
      "Epoch 1/20\n",
      " - 2s - loss: 0.2363 - accuracy: 0.9301 - val_loss: 0.0558 - val_accuracy: 0.9813\n",
      "Epoch 2/20\n",
      " - 2s - loss: 0.0591 - accuracy: 0.9817 - val_loss: 0.0427 - val_accuracy: 0.9860\n",
      "Epoch 3/20\n",
      " - 2s - loss: 0.0424 - accuracy: 0.9875 - val_loss: 0.0303 - val_accuracy: 0.9893\n",
      "Epoch 4/20\n",
      " - 2s - loss: 0.0328 - accuracy: 0.9897 - val_loss: 0.0313 - val_accuracy: 0.9893\n",
      "Epoch 5/20\n",
      " - 2s - loss: 0.0263 - accuracy: 0.9914 - val_loss: 0.0319 - val_accuracy: 0.9896\n",
      "Epoch 6/20\n",
      " - 2s - loss: 0.0212 - accuracy: 0.9930 - val_loss: 0.0270 - val_accuracy: 0.9909\n",
      "Epoch 7/20\n",
      " - 2s - loss: 0.0194 - accuracy: 0.9937 - val_loss: 0.0246 - val_accuracy: 0.9925\n",
      "Epoch 8/20\n",
      " - 2s - loss: 0.0163 - accuracy: 0.9948 - val_loss: 0.0311 - val_accuracy: 0.9904\n",
      "Epoch 9/20\n",
      " - 2s - loss: 0.0123 - accuracy: 0.9961 - val_loss: 0.0309 - val_accuracy: 0.9912\n",
      "Epoch 10/20\n",
      " - 2s - loss: 0.0125 - accuracy: 0.9959 - val_loss: 0.0327 - val_accuracy: 0.9894\n",
      "Epoch 11/20\n",
      " - 2s - loss: 0.0100 - accuracy: 0.9969 - val_loss: 0.0288 - val_accuracy: 0.9919\n",
      "Epoch 12/20\n",
      " - 2s - loss: 0.0084 - accuracy: 0.9970 - val_loss: 0.0300 - val_accuracy: 0.9919\n",
      "Epoch 13/20\n",
      " - 2s - loss: 0.0082 - accuracy: 0.9975 - val_loss: 0.0318 - val_accuracy: 0.9916\n",
      "Epoch 14/20\n",
      " - 2s - loss: 0.0084 - accuracy: 0.9974 - val_loss: 0.0320 - val_accuracy: 0.9922\n",
      "Epoch 15/20\n",
      " - 2s - loss: 0.0055 - accuracy: 0.9982 - val_loss: 0.0379 - val_accuracy: 0.9907\n",
      "Epoch 16/20\n",
      " - 2s - loss: 0.0076 - accuracy: 0.9975 - val_loss: 0.0390 - val_accuracy: 0.9898\n",
      "Epoch 17/20\n",
      " - 2s - loss: 0.0062 - accuracy: 0.9980 - val_loss: 0.0335 - val_accuracy: 0.9921\n",
      "Epoch 18/20\n",
      " - 2s - loss: 0.0051 - accuracy: 0.9983 - val_loss: 0.0311 - val_accuracy: 0.9926\n",
      "Epoch 19/20\n",
      " - 2s - loss: 0.0041 - accuracy: 0.9987 - val_loss: 0.0378 - val_accuracy: 0.9917\n",
      "Epoch 20/20\n",
      " - 2s - loss: 0.0080 - accuracy: 0.9973 - val_loss: 0.0455 - val_accuracy: 0.9889\n",
      "\n",
      " Testing/Validation Accuracy: 98.89%\n"
     ]
    }
   ],
   "source": [
    "model = lenet5()\n",
    "hist = model.fit(X_tr, y_tr, epochs=20, batch_size=200, validation_data=(X_te, y_te), verbose=2)\n",
    "# Final evaluation of the model on test data\n",
    "scores = model.evaluate(X_te, y_te, verbose=0)\n",
    "print(\"\\n Testing/Validation Accuracy: %.2f%%\" % (scores[1]*100))"
   ]
  },
  {
   "cell_type": "markdown",
   "metadata": {
    "colab_type": "text",
    "id": "XIVZjYBBS0NK"
   },
   "source": [
    "**Visualize the Training Process**\n",
    "\n",
    "We will visualize the training process by plotting the training accuracy and loss after each epoch"
   ]
  },
  {
   "cell_type": "code",
   "execution_count": 0,
   "metadata": {
    "colab": {
     "base_uri": "https://localhost:8080/",
     "height": 312
    },
    "colab_type": "code",
    "id": "TNHIFkhZS-k7",
    "outputId": "f090005b-11ee-4335-f605-36c641a5c0b3"
   },
   "outputs": [
    {
     "data": {
      "text/plain": [
       "Text(0, 0.5, 'Accuracy')"
      ]
     },
     "execution_count": 46,
     "metadata": {
      "tags": []
     },
     "output_type": "execute_result"
    },
    {
     "data": {
      "image/png": "[encoded data removed]",
      "text/plain": [
       "<Figure size 432x288 with 1 Axes>"
      ]
     },
     "metadata": {
      "needs_background": "light",
      "tags": []
     },
     "output_type": "display_data"
    }
   ],
   "source": [
    "import matplotlib.pyplot as plt\n",
    "f, ax = plt.subplots()\n",
    "ax.plot([None] + hist.history['accuracy'], 'o-')\n",
    "ax.plot([None] + hist.history['val_accuracy'], 'x-')\n",
    "# Plot legend and use the best location automatically: loc = 0.\n",
    "ax.legend(['Train Acc', 'Validation Acc'], loc = 0)\n",
    "ax.set_title('Training/Validation acc per Epoch')\n",
    "ax.set_xlabel('Epoch')\n",
    "ax.set_ylabel('Accuracy')"
   ]
  },
  {
   "cell_type": "code",
   "execution_count": 0,
   "metadata": {
    "colab": {
     "base_uri": "https://localhost:8080/",
     "height": 312
    },
    "colab_type": "code",
    "id": "ZwbkoWDrUZG0",
    "outputId": "a6c416ea-c6f7-4099-8378-a47994095715"
   },
   "outputs": [
    {
     "data": {
      "text/plain": [
       "Text(0, 0.5, 'Loss')"
      ]
     },
     "execution_count": 48,
     "metadata": {
      "tags": []
     },
     "output_type": "execute_result"
    },
    {
     "data": {
      "image/png": "[encoded data removed]",
      "text/plain": [
       "<Figure size 432x288 with 1 Axes>"
      ]
     },
     "metadata": {
      "needs_background": "light",
      "tags": []
     },
     "output_type": "display_data"
    }
   ],
   "source": [
    "f, ax = plt.subplots()\n",
    "ax.plot([None] + hist.history['loss'], 'o-')\n",
    "ax.plot([None] + hist.history['val_loss'], 'x-')\n",
    "# Plot legend and use the best location automatically: loc = 0.\n",
    "ax.legend(['Train Loss', 'Validation Loss'], loc = 0)\n",
    "ax.set_title('Training/Validation Loss per Epoch')\n",
    "ax.set_xlabel('Epoch')\n",
    "ax.set_ylabel('Loss')"
   ]
  }
 ],
 "metadata": {
  "accelerator": "GPU",
  "colab": {
   "collapsed_sections": [],
   "name": "MNIST_with_Tensorflow.ipynb",
   "provenance": []
  },
  "kernelspec": {
   "display_name": "Python 3",
   "language": "python",
   "name": "python3"
  },
  "language_info": {
   "codemirror_mode": {
    "name": "ipython",
    "version": 3
   },
   "file_extension": ".py",
   "mimetype": "text/x-python",
   "name": "python",
   "nbconvert_exporter": "python",
   "pygments_lexer": "ipython3",
   "version": "3.8.3"
  }
 },
 "nbformat": 4,
 "nbformat_minor": 1
}
